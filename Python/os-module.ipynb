{
 "cells": [
  {
   "cell_type": "code",
   "execution_count": 1,
   "id": "9d506309",
   "metadata": {},
   "outputs": [],
   "source": [
    "import os"
   ]
  },
  {
   "cell_type": "code",
   "execution_count": null,
   "id": "d24d1dc3",
   "metadata": {},
   "outputs": [],
   "source": [
    "dir(os)"
   ]
  },
  {
   "cell_type": "code",
   "execution_count": 3,
   "id": "bab82524",
   "metadata": {},
   "outputs": [
    {
     "data": {
      "text/plain": [
       "'/mnt/c/Users/HP/Documents/git'"
      ]
     },
     "execution_count": 3,
     "metadata": {},
     "output_type": "execute_result"
    }
   ],
   "source": [
    "os.getcwd() # current working directory"
   ]
  },
  {
   "cell_type": "code",
   "execution_count": 4,
   "id": "a07502ed",
   "metadata": {},
   "outputs": [],
   "source": [
    "os.chdir('..') # change directory"
   ]
  },
  {
   "cell_type": "code",
   "execution_count": 5,
   "id": "658f4974",
   "metadata": {},
   "outputs": [
    {
     "data": {
      "text/plain": [
       "'/mnt/c/Users/HP/Documents'"
      ]
     },
     "execution_count": 5,
     "metadata": {},
     "output_type": "execute_result"
    }
   ],
   "source": [
    "os.getcwd()"
   ]
  },
  {
   "cell_type": "code",
   "execution_count": 6,
   "id": "dc7a6a99",
   "metadata": {
    "scrolled": true
   },
   "outputs": [
    {
     "data": {
      "text/plain": [
       "['desktop.ini',\n",
       " 'git',\n",
       " 'KingsoftData',\n",
       " 'Logisim',\n",
       " 'My Music',\n",
       " 'My Pictures',\n",
       " 'My Videos',\n",
       " 'NFS Most Wanted',\n",
       " 'notepad++',\n",
       " 'Telegram',\n",
       " 'WPS Cloud Files',\n",
       " 'Zoom']"
      ]
     },
     "execution_count": 6,
     "metadata": {},
     "output_type": "execute_result"
    }
   ],
   "source": [
    "os.listdir() # list files and folders in the current directory"
   ]
  },
  {
   "cell_type": "code",
   "execution_count": 7,
   "id": "d2bdbf6a",
   "metadata": {
    "scrolled": true
   },
   "outputs": [
    {
     "data": {
      "text/plain": [
       "['.ipynb_checkpoints',\n",
       " 'C++',\n",
       " 'ClassManagement-Azmal',\n",
       " 'learning-curve',\n",
       " 'oj-solves',\n",
       " 'OnlineJudgeProblemSolves',\n",
       " 'os-module.ipynb',\n",
       " 'rmShoeb',\n",
       " 'rmshoeb.github.io',\n",
       " 'sample-blog',\n",
       " 'start',\n",
       " 'undergraduate-courses']"
      ]
     },
     "execution_count": 7,
     "metadata": {},
     "output_type": "execute_result"
    }
   ],
   "source": [
    "os.listdir('/mnt/c/Users/HP/Documents/git') # list files and folders of the given directory"
   ]
  },
  {
   "cell_type": "code",
   "execution_count": null,
   "id": "ce4662ec",
   "metadata": {},
   "outputs": [],
   "source": [
    "# making directories\n",
    "os.mkdir('directory-name') # create a directory\n",
    "os.makedirs('directory-name/sub-dir-name') # creates all the directory levels\n",
    "# to create sub-dirs with mkdir, the upper levels have exist first.\n",
    "# but for makedirs, it will create the missing directory levels"
   ]
  },
  {
   "cell_type": "code",
   "execution_count": null,
   "id": "982e9061",
   "metadata": {},
   "outputs": [],
   "source": [
    "# deleting directories\n",
    "os.rmdir('dir-name') # removes lowest level directory\n",
    "os.removedirs('dir-name/sub-dir-name') # removes all the specified levels"
   ]
  },
  {
   "cell_type": "code",
   "execution_count": null,
   "id": "b0d16b3d",
   "metadata": {},
   "outputs": [],
   "source": [
    "# renaming files\n",
    "os.rename('original-file.extention', 'new-name.extention')"
   ]
  },
  {
   "cell_type": "code",
   "execution_count": 12,
   "id": "d5477a62",
   "metadata": {},
   "outputs": [
    {
     "data": {
      "text/plain": [
       "os.stat_result(st_mode=33279, st_ino=7881299347903460, st_dev=47, st_nlink=1, st_uid=1000, st_gid=1000, st_size=4899, st_atime=1649087192, st_mtime=1649087192, st_ctime=1649087192)"
      ]
     },
     "execution_count": 12,
     "metadata": {},
     "output_type": "execute_result"
    }
   ],
   "source": [
    "os.stat('os-module.ipynb')"
   ]
  },
  {
   "cell_type": "code",
   "execution_count": 22,
   "id": "6b6a8b07",
   "metadata": {
    "scrolled": false
   },
   "outputs": [
    {
     "name": "stdout",
     "output_type": "stream",
     "text": [
      "Current path: sample-blog\n",
      "Directories: ['flask_blog']\n",
      "Files: ['run.py'] \n",
      "\n",
      "Current path: sample-blog/flask_blog\n",
      "Directories: ['static', 'templates', '__pycache__']\n",
      "Files: ['forms.py', 'models.py', 'routes.py', 'site.db', '__init__.py'] \n",
      "\n",
      "Current path: sample-blog/flask_blog/static\n",
      "Directories: ['profile_pics']\n",
      "Files: ['main.css'] \n",
      "\n",
      "Current path: sample-blog/flask_blog/static/profile_pics\n",
      "Directories: []\n",
      "Files: ['6f33153e394087d5.png', 'default.png'] \n",
      "\n",
      "Current path: sample-blog/flask_blog/templates\n",
      "Directories: []\n",
      "Files: ['about.html', 'create_post.html', 'home.html', 'layout.html', 'login.html', 'profile.html', 'register.html'] \n",
      "\n",
      "Current path: sample-blog/flask_blog/__pycache__\n",
      "Directories: []\n",
      "Files: ['forms.cpython-36.pyc', 'models.cpython-36.pyc', 'routes.cpython-36.pyc', '__init__.cpython-36.pyc'] \n",
      "\n"
     ]
    }
   ],
   "source": [
    "for dirpath, dirname, filename in os.walk('sample-blog'):\n",
    "    print(\"Current path:\", dirpath)\n",
    "    print(\"Directories:\", dirname)\n",
    "    print(\"Files:\", filename, \"\\n\")"
   ]
  },
  {
   "cell_type": "code",
   "execution_count": 23,
   "id": "d7946f7e",
   "metadata": {
    "scrolled": true
   },
   "outputs": [
    {
     "data": {
      "text/plain": [
       "environ{\"'WSL_INTEROP\": \"/run/WSL/9_interop'\",\n",
       "        \"'WSL_DISTRO_NAME\": \"Ubuntu-20.04'\",\n",
       "        \"'WT_SESSION\": \"5a80b422-5201-4b26-ba95-9ba4c649b482'\",\n",
       "        \"'WT_PROFILE_ID\": \"{07b52e3e-de2c-5db4-bd2d-ba144ed6c273}'\",\n",
       "        \"'WSLENV\": \"WT_SESSION:BASH_ENV/u:WT_PROFILE_ID'\",\n",
       "        \"'PWD\": \"/mnt/c/Users/HP'\",\n",
       "        \"'TERM\": \"xterm-256color'\",\n",
       "        \"'HOSTTYPE\": \"x86_64'\",\n",
       "        'SHELL': '/bin/bash',\n",
       "        'SUDO_GID': '1000',\n",
       "        'WSL_DISTRO_NAME': 'Ubuntu-20.04',\n",
       "        'SUDO_COMMAND': '/usr/sbin/enter-systemd-namespace ',\n",
       "        'SUDO_USER': 'rmshoeb',\n",
       "        'PWD': '/mnt/c/Users/HP/Documents/git',\n",
       "        'LOGNAME': 'rmshoeb',\n",
       "        'XDG_SESSION_TYPE': 'tty',\n",
       "        'MOTD_SHOWN': 'pam',\n",
       "        'HOME': '/home/rmshoeb',\n",
       "        'LANG': 'C.UTF-8',\n",
       "        'WSL_INTEROP': '/run/WSL/9_interop',\n",
       "        'LS_COLORS': 'rs=0:di=01;34:ln=01;36:mh=00:pi=40;33:so=01;35:do=01;35:bd=40;33;01:cd=40;33;01:or=40;31;01:mi=00:su=37;41:sg=30;43:ca=30;41:tw=30;42:ow=34;42:st=37;44:ex=01;32:*.tar=01;31:*.tgz=01;31:*.arc=01;31:*.arj=01;31:*.taz=01;31:*.lha=01;31:*.lz4=01;31:*.lzh=01;31:*.lzma=01;31:*.tlz=01;31:*.txz=01;31:*.tzo=01;31:*.t7z=01;31:*.zip=01;31:*.z=01;31:*.dz=01;31:*.gz=01;31:*.lrz=01;31:*.lz=01;31:*.lzo=01;31:*.xz=01;31:*.zst=01;31:*.tzst=01;31:*.bz2=01;31:*.bz=01;31:*.tbz=01;31:*.tbz2=01;31:*.tz=01;31:*.deb=01;31:*.rpm=01;31:*.jar=01;31:*.war=01;31:*.ear=01;31:*.sar=01;31:*.rar=01;31:*.alz=01;31:*.ace=01;31:*.zoo=01;31:*.cpio=01;31:*.7z=01;31:*.rz=01;31:*.cab=01;31:*.wim=01;31:*.swm=01;31:*.dwm=01;31:*.esd=01;31:*.jpg=01;35:*.jpeg=01;35:*.mjpg=01;35:*.mjpeg=01;35:*.gif=01;35:*.bmp=01;35:*.pbm=01;35:*.pgm=01;35:*.ppm=01;35:*.tga=01;35:*.xbm=01;35:*.xpm=01;35:*.tif=01;35:*.tiff=01;35:*.png=01;35:*.svg=01;35:*.svgz=01;35:*.mng=01;35:*.pcx=01;35:*.mov=01;35:*.mpg=01;35:*.mpeg=01;35:*.m2v=01;35:*.mkv=01;35:*.webm=01;35:*.ogm=01;35:*.mp4=01;35:*.m4v=01;35:*.mp4v=01;35:*.vob=01;35:*.qt=01;35:*.nuv=01;35:*.wmv=01;35:*.asf=01;35:*.rm=01;35:*.rmvb=01;35:*.flc=01;35:*.avi=01;35:*.fli=01;35:*.flv=01;35:*.gl=01;35:*.dl=01;35:*.xcf=01;35:*.xwd=01;35:*.yuv=01;35:*.cgm=01;35:*.emf=01;35:*.ogv=01;35:*.ogx=01;35:*.aac=00;36:*.au=00;36:*.flac=00;36:*.m4a=00;36:*.mid=00;36:*.midi=00;36:*.mka=00;36:*.mp3=00;36:*.mpc=00;36:*.ogg=00;36:*.ra=00;36:*.wav=00;36:*.oga=00;36:*.opus=00;36:*.spx=00;36:*.xspf=00;36:',\n",
       "        'LESSCLOSE': '/usr/bin/lesspipe %s %s',\n",
       "        'XDG_SESSION_CLASS': 'user',\n",
       "        'TERM': 'xterm-color',\n",
       "        'LESSOPEN': '| /usr/bin/lesspipe %s',\n",
       "        'USER': 'rmshoeb',\n",
       "        'SHLVL': '1',\n",
       "        'XDG_SESSION_ID': 'c1',\n",
       "        'XDG_RUNTIME_DIR': '/run/user/1000',\n",
       "        'WSLENV': 'WT_SESSION:BASH_ENV/u:WT_PROFILE_ID',\n",
       "        'XDG_DATA_DIRS': '/usr/local/share:/usr/share:/var/lib/snapd/desktop',\n",
       "        'HUSHLOGIN': 'FALSE',\n",
       "        'PATH': '/home/rmshoeb/.local/bin:/usr/local/sbin:/usr/local/bin:/usr/sbin:/usr/bin:/sbin:/bin:/usr/games:/usr/local/games:/usr/lib/wsl/lib:/mnt/c/Program Files (x86)/Common Files/Oracle/Java/javapath:/mnt/c/WINDOWS/system32:/mnt/c/WINDOWS:/mnt/c/WINDOWS/System32/Wbem:/mnt/c/WINDOWS/System32/WindowsPowerShell/v1.0/:/mnt/c/WINDOWS/System32/OpenSSH/:/mnt/c/Users/HP/AppData/Local/Microsoft/WindowsApps:/mnt/c/Users/HP/AppData/Local/Programs/Microsoft VS Code/bin:/snap/bin',\n",
       "        'SUDO_UID': '1000',\n",
       "        'DBUS_SESSION_BUS_ADDRESS': 'unix:path=/run/user/1000/bus',\n",
       "        'MAIL': '/var/mail/rmshoeb',\n",
       "        'OLDPWD': '/mnt/c/Users/HP/Documents/git/learning-curve',\n",
       "        '_': '/home/rmshoeb/.local/bin/jupyter',\n",
       "        'PYDEVD_USE_FRAME_EVAL': 'NO',\n",
       "        'JPY_PARENT_PID': '1252',\n",
       "        'CLICOLOR': '1',\n",
       "        'PAGER': 'cat',\n",
       "        'GIT_PAGER': 'cat',\n",
       "        'MPLBACKEND': 'module://matplotlib_inline.backend_inline'}"
      ]
     },
     "execution_count": 23,
     "metadata": {},
     "output_type": "execute_result"
    }
   ],
   "source": [
    "# environment variables\n",
    "os.environ"
   ]
  },
  {
   "cell_type": "code",
   "execution_count": 24,
   "id": "5ec7f36b",
   "metadata": {},
   "outputs": [
    {
     "data": {
      "text/plain": [
       "'/home/rmshoeb'"
      ]
     },
     "execution_count": 24,
     "metadata": {},
     "output_type": "execute_result"
    }
   ],
   "source": [
    "os.environ.get('HOME')"
   ]
  },
  {
   "cell_type": "code",
   "execution_count": 25,
   "id": "af07b3a5",
   "metadata": {},
   "outputs": [
    {
     "data": {
      "text/plain": [
       "'/home/rmshoeb/test.txt'"
      ]
     },
     "execution_count": 25,
     "metadata": {},
     "output_type": "execute_result"
    }
   ],
   "source": [
    "os.path.join(os.environ.get('HOME'), 'test.txt')"
   ]
  },
  {
   "cell_type": "code",
   "execution_count": null,
   "id": "fdc6495e",
   "metadata": {},
   "outputs": [],
   "source": [
    "os.path.basename('/temp/test.txt') # gives the filename\n",
    "os.path.dirname('/temp/test.txt') # gives the directory name\n",
    "os.path.split('/temp/test.txt') # gives a tuple of form (dir-name, base-name)\n",
    "os.path.exists('/temp/test.txt') # returns a boolean value, whether the path exists or not\n",
    "# .isdir(...) # True, if the path is a directory\n",
    "# .isfile(...) # True, if the path is a file"
   ]
  },
  {
   "cell_type": "code",
   "execution_count": 27,
   "id": "65b73e0a",
   "metadata": {},
   "outputs": [
    {
     "data": {
      "text/plain": [
       "('/temp/test', '.txt')"
      ]
     },
     "execution_count": 27,
     "metadata": {},
     "output_type": "execute_result"
    }
   ],
   "source": [
    "os.path.splitext('/temp/test.txt') # splits the path and extension"
   ]
  },
  {
   "cell_type": "code",
   "execution_count": null,
   "id": "a61cc11b",
   "metadata": {},
   "outputs": [],
   "source": []
  }
 ],
 "metadata": {
  "kernelspec": {
   "display_name": "Python 3 (ipykernel)",
   "language": "python",
   "name": "python3"
  },
  "language_info": {
   "codemirror_mode": {
    "name": "ipython",
    "version": 3
   },
   "file_extension": ".py",
   "mimetype": "text/x-python",
   "name": "python",
   "nbconvert_exporter": "python",
   "pygments_lexer": "ipython3",
   "version": "3.8.10"
  }
 },
 "nbformat": 4,
 "nbformat_minor": 5
}
