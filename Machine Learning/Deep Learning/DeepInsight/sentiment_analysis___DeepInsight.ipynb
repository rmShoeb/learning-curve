{
  "nbformat": 4,
  "nbformat_minor": 0,
  "metadata": {
    "colab": {
      "name": "sentiment-analysis_-_DeepInsight.ipynb",
      "provenance": []
    },
    "kernelspec": {
      "name": "python3",
      "display_name": "Python 3"
    },
    "language_info": {
      "name": "python"
    }
  },
  "cells": [
    {
      "cell_type": "markdown",
      "metadata": {
        "id": "7lyYvb2uFs4h"
      },
      "source": [
        "# Sentiment Analysis with IMDB Movie Review using DeepInsight"
      ]
    },
    {
      "cell_type": "code",
      "metadata": {
        "colab": {
          "base_uri": "https://localhost:8080/"
        },
        "id": "79ykcVHxINuo",
        "outputId": "7241d21b-6343-46ab-ac8c-4e1d4200328a"
      },
      "source": [
        "!pip install git+git://github.com/alok-ai-lab/DeepInsight.git#egg=DeepInsight"
      ],
      "execution_count": 1,
      "outputs": [
        {
          "output_type": "stream",
          "text": [
            "Requirement already satisfied: DeepInsight from git+git://github.com/alok-ai-lab/DeepInsight.git#egg=DeepInsight in /usr/local/lib/python3.7/dist-packages (0.1.0)\n",
            "Requirement already satisfied: scikit-learn>=0.22 in /usr/local/lib/python3.7/dist-packages (from DeepInsight) (0.22.2.post1)\n",
            "Requirement already satisfied: pandas in /usr/local/lib/python3.7/dist-packages (from DeepInsight) (1.1.5)\n",
            "Requirement already satisfied: joblib>=0.11 in /usr/local/lib/python3.7/dist-packages (from scikit-learn>=0.22->DeepInsight) (1.0.1)\n",
            "Requirement already satisfied: numpy>=1.11.0 in /usr/local/lib/python3.7/dist-packages (from scikit-learn>=0.22->DeepInsight) (1.19.5)\n",
            "Requirement already satisfied: scipy>=0.17.0 in /usr/local/lib/python3.7/dist-packages (from scikit-learn>=0.22->DeepInsight) (1.4.1)\n",
            "Requirement already satisfied: pytz>=2017.2 in /usr/local/lib/python3.7/dist-packages (from pandas->DeepInsight) (2018.9)\n",
            "Requirement already satisfied: python-dateutil>=2.7.3 in /usr/local/lib/python3.7/dist-packages (from pandas->DeepInsight) (2.8.1)\n",
            "Requirement already satisfied: six>=1.5 in /usr/local/lib/python3.7/dist-packages (from python-dateutil>=2.7.3->pandas->DeepInsight) (1.15.0)\n"
          ],
          "name": "stdout"
        }
      ]
    },
    {
      "cell_type": "code",
      "metadata": {
        "id": "_7vwIehWEpb6"
      },
      "source": [
        "import tensorflow as tf\n",
        "from keras.datasets import imdb\n",
        "from keras.preprocessing import sequence\n",
        "import os\n",
        "import numpy as np"
      ],
      "execution_count": 1,
      "outputs": []
    },
    {
      "cell_type": "code",
      "metadata": {
        "id": "8pbFPSWLITDH"
      },
      "source": [
        "from pyDeepInsight import ImageTransformer, LogScaler\n",
        "from sklearn.model_selection import train_test_split\n",
        "import pandas as pd\n",
        "from matplotlib import pyplot as plt\n",
        "import seaborn as sns"
      ],
      "execution_count": 2,
      "outputs": []
    },
    {
      "cell_type": "code",
      "metadata": {
        "id": "kFz4kCzdIdtg"
      },
      "source": [
        "from tensorflow.keras import datasets, layers, models"
      ],
      "execution_count": 3,
      "outputs": []
    },
    {
      "cell_type": "code",
      "metadata": {
        "id": "gssEYD51HFpF"
      },
      "source": [
        "VOCAB_SIZE = 88584\n",
        "MAXLEN = 250\n",
        "BATCH_SIZE = 64"
      ],
      "execution_count": 4,
      "outputs": []
    },
    {
      "cell_type": "code",
      "metadata": {
        "colab": {
          "base_uri": "https://localhost:8080/"
        },
        "id": "gkLo6Tg6HKnC",
        "outputId": "05967906-cb88-4b4b-bcb2-47e90b54a8d4"
      },
      "source": [
        "(train_data, train_label), (test_data, test_label) = imdb.load_data(num_words=VOCAB_SIZE)"
      ],
      "execution_count": 5,
      "outputs": [
        {
          "output_type": "stream",
          "text": [
            "<string>:6: VisibleDeprecationWarning: Creating an ndarray from ragged nested sequences (which is a list-or-tuple of lists-or-tuples-or ndarrays with different lengths or shapes) is deprecated. If you meant to do this, you must specify 'dtype=object' when creating the ndarray\n",
            "/usr/local/lib/python3.7/dist-packages/tensorflow/python/keras/datasets/imdb.py:159: VisibleDeprecationWarning: Creating an ndarray from ragged nested sequences (which is a list-or-tuple of lists-or-tuples-or ndarrays with different lengths or shapes) is deprecated. If you meant to do this, you must specify 'dtype=object' when creating the ndarray\n",
            "  x_train, y_train = np.array(xs[:idx]), np.array(labels[:idx])\n",
            "/usr/local/lib/python3.7/dist-packages/tensorflow/python/keras/datasets/imdb.py:160: VisibleDeprecationWarning: Creating an ndarray from ragged nested sequences (which is a list-or-tuple of lists-or-tuples-or ndarrays with different lengths or shapes) is deprecated. If you meant to do this, you must specify 'dtype=object' when creating the ndarray\n",
            "  x_test, y_test = np.array(xs[idx:]), np.array(labels[idx:])\n"
          ],
          "name": "stderr"
        }
      ]
    },
    {
      "cell_type": "code",
      "metadata": {
        "colab": {
          "base_uri": "https://localhost:8080/"
        },
        "id": "zd0fink5J6AT",
        "outputId": "59e34d69-1e57-40bf-80af-bb260feae06b"
      },
      "source": [
        "len(test_data)"
      ],
      "execution_count": 7,
      "outputs": [
        {
          "output_type": "execute_result",
          "data": {
            "text/plain": [
              "25000"
            ]
          },
          "metadata": {
            "tags": []
          },
          "execution_count": 7
        }
      ]
    },
    {
      "cell_type": "code",
      "metadata": {
        "id": "B4iWYb3BKOXX"
      },
      "source": [
        "train_data = train_data[:10000]\n",
        "train_label = train_label[:10000]\n",
        "test_data = test_data[:10000]\n",
        "test_label = test_label[:10000]"
      ],
      "execution_count": 8,
      "outputs": []
    },
    {
      "cell_type": "code",
      "metadata": {
        "id": "iQ04ScqbHvtF"
      },
      "source": [
        "train_data = sequence.pad_sequences(train_data, MAXLEN)\n",
        "test_data = sequence.pad_sequences(test_data, MAXLEN)"
      ],
      "execution_count": 9,
      "outputs": []
    },
    {
      "cell_type": "code",
      "metadata": {
        "id": "4yNgG3QFIArB"
      },
      "source": [
        "ln = LogScaler()\n",
        "X_train_norm = ln.fit_transform(train_data)\n",
        "X_test_norm = ln.transform(test_data)"
      ],
      "execution_count": 10,
      "outputs": []
    },
    {
      "cell_type": "code",
      "metadata": {
        "id": "Mek5tD6vInQ0"
      },
      "source": [
        "it = ImageTransformer(feature_extractor='tsne', \n",
        "                      pixels=50, random_state=1701, \n",
        "                      n_jobs=-1)"
      ],
      "execution_count": 29,
      "outputs": []
    },
    {
      "cell_type": "code",
      "metadata": {
        "colab": {
          "base_uri": "https://localhost:8080/",
          "height": 339
        },
        "id": "eI1Pi5VWIq0h",
        "outputId": "4c352e52-984d-4818-fe11-ae0476620101"
      },
      "source": [
        "plt.figure(figsize=(5, 5))\n",
        "it.fit(X_train_norm, plot=True)"
      ],
      "execution_count": 30,
      "outputs": [
        {
          "output_type": "display_data",
          "data": {
            "image/png": "[encoded data removed]",
            "text/plain": [
              "<Figure size 360x360 with 1 Axes>"
            ]
          },
          "metadata": {
            "tags": [],
            "needs_background": "light"
          }
        },
        {
          "output_type": "execute_result",
          "data": {
            "text/plain": [
              "<pyDeepInsight.image_transformer.ImageTransformer at 0x7f076c0daf10>"
            ]
          },
          "metadata": {
            "tags": []
          },
          "execution_count": 30
        }
      ]
    },
    {
      "cell_type": "code",
      "metadata": {
        "colab": {
          "base_uri": "https://localhost:8080/",
          "height": 432
        },
        "id": "0A9RtqA4IuFe",
        "outputId": "078eec21-166a-44c8-bfcc-57438327041a"
      },
      "source": [
        "fdm = it.feature_density_matrix()\n",
        "fdm[fdm == 0] = np.nan\n",
        "\n",
        "plt.figure(figsize=(10, 7))\n",
        "\n",
        "ax = sns.heatmap(fdm, cmap=\"viridis\", linewidths=0.01, \n",
        "                 linecolor=\"lightgrey\", square=True)\n",
        "for _, spine in ax.spines.items():\n",
        "    spine.set_visible(True)"
      ],
      "execution_count": 31,
      "outputs": [
        {
          "output_type": "display_data",
          "data": {
            "image/png": "[encoded data removed]",
            "text/plain": [
              "<Figure size 720x504 with 2 Axes>"
            ]
          },
          "metadata": {
            "tags": [],
            "needs_background": "light"
          }
        }
      ]
    },
    {
      "cell_type": "code",
      "metadata": {
        "id": "4-gW9C13Iy5c"
      },
      "source": [
        "mat_train = it.fit_transform(X_train_norm)"
      ],
      "execution_count": 32,
      "outputs": []
    },
    {
      "cell_type": "code",
      "metadata": {
        "id": "PynpEJTGJBex"
      },
      "source": [
        "mat_test = it.transform(X_test_norm)"
      ],
      "execution_count": 33,
      "outputs": []
    },
    {
      "cell_type": "code",
      "metadata": {
        "colab": {
          "base_uri": "https://localhost:8080/",
          "height": 426
        },
        "id": "bzLcaegFJETf",
        "outputId": "2844603b-f839-455e-9563-1d99c51c495b"
      },
      "source": [
        "fig, ax = plt.subplots(1, 4, figsize=(25, 7))\n",
        "for i in range(0,4):\n",
        "    ax[i].imshow(mat_train[i])\n",
        "    ax[i].title.set_text(\"Train[{}] - class '{}'\".format(i, train_label[i]))\n",
        "plt.tight_layout()"
      ],
      "execution_count": 34,
      "outputs": [
        {
          "output_type": "display_data",
          "data": {
            "image/png": "[encoded data removed]",
            "text/plain": [
              "<Figure size 1800x504 with 4 Axes>"
            ]
          },
          "metadata": {
            "tags": [],
            "needs_background": "light"
          }
        }
      ]
    },
    {
      "cell_type": "code",
      "metadata": {
        "colab": {
          "base_uri": "https://localhost:8080/",
          "height": 426
        },
        "id": "vj27E4biKpUI",
        "outputId": "a9854e61-4432-4f8e-b6d3-f20859ad5071"
      },
      "source": [
        "fig, ax = plt.subplots(1, 4, figsize=(25, 7))\n",
        "for i in range(0,4):\n",
        "    ax[i].imshow(mat_test[i])\n",
        "    ax[i].title.set_text(\"Test[{}] - class '{}'\".format(i, test_label[i]))\n",
        "plt.tight_layout()"
      ],
      "execution_count": 35,
      "outputs": [
        {
          "output_type": "display_data",
          "data": {
            "image/png": "[encoded data removed]",
            "text/plain": [
              "<Figure size 1800x504 with 4 Axes>"
            ]
          },
          "metadata": {
            "tags": [],
            "needs_background": "light"
          }
        }
      ]
    },
    {
      "cell_type": "code",
      "metadata": {
        "colab": {
          "base_uri": "https://localhost:8080/"
        },
        "id": "S-EVT0MzK5OU",
        "outputId": "c1a6183d-a4aa-49ad-c5cd-dde84ff384b0"
      },
      "source": [
        "mat_train[0].shape"
      ],
      "execution_count": 19,
      "outputs": [
        {
          "output_type": "execute_result",
          "data": {
            "text/plain": [
              "(100, 100, 3)"
            ]
          },
          "metadata": {
            "tags": []
          },
          "execution_count": 19
        }
      ]
    },
    {
      "cell_type": "code",
      "metadata": {
        "colab": {
          "base_uri": "https://localhost:8080/"
        },
        "id": "HRs1MZdeLA7r",
        "outputId": "895e5aad-61bb-4a67-e2d1-eab366d4109f"
      },
      "source": [
        "model = models.Sequential()\n",
        "model.add(layers.Conv2D(32, (3,3), activation='relu', input_shape=mat_train[0].shape))\n",
        "model.add(layers.MaxPooling2D((2,2)))\n",
        "model.add(layers.Conv2D(64, (3,3), activation='relu'))\n",
        "model.add(layers.MaxPooling2D((2,2)))\n",
        "model.add(layers.Conv2D(128, (3,3), activation='relu'))\n",
        "model.add(layers.MaxPooling2D((2,2)))\n",
        "model.add(layers.Flatten())\n",
        "model.add(layers.Dense(32, activation='relu'))\n",
        "model.add(layers.Dense(2, activation='softmax'))\n",
        "model.summary()"
      ],
      "execution_count": 39,
      "outputs": [
        {
          "output_type": "stream",
          "text": [
            "Model: \"sequential_5\"\n",
            "_________________________________________________________________\n",
            "Layer (type)                 Output Shape              Param #   \n",
            "=================================================================\n",
            "conv2d_15 (Conv2D)           (None, 48, 48, 32)        896       \n",
            "_________________________________________________________________\n",
            "max_pooling2d_11 (MaxPooling (None, 24, 24, 32)        0         \n",
            "_________________________________________________________________\n",
            "conv2d_16 (Conv2D)           (None, 22, 22, 64)        18496     \n",
            "_________________________________________________________________\n",
            "max_pooling2d_12 (MaxPooling (None, 11, 11, 64)        0         \n",
            "_________________________________________________________________\n",
            "conv2d_17 (Conv2D)           (None, 9, 9, 128)         73856     \n",
            "_________________________________________________________________\n",
            "max_pooling2d_13 (MaxPooling (None, 4, 4, 128)         0         \n",
            "_________________________________________________________________\n",
            "flatten_5 (Flatten)          (None, 2048)              0         \n",
            "_________________________________________________________________\n",
            "dense_10 (Dense)             (None, 32)                65568     \n",
            "_________________________________________________________________\n",
            "dense_11 (Dense)             (None, 2)                 66        \n",
            "=================================================================\n",
            "Total params: 158,882\n",
            "Trainable params: 158,882\n",
            "Non-trainable params: 0\n",
            "_________________________________________________________________\n"
          ],
          "name": "stdout"
        }
      ]
    },
    {
      "cell_type": "code",
      "metadata": {
        "id": "Ngw-k-RKLHcS"
      },
      "source": [
        "model.compile(optimizer='adam',\n",
        "              loss=tf.keras.losses.SparseCategoricalCrossentropy(from_logits=True),\n",
        "              metrics=['accuracy'])"
      ],
      "execution_count": 40,
      "outputs": []
    },
    {
      "cell_type": "code",
      "metadata": {
        "colab": {
          "base_uri": "https://localhost:8080/"
        },
        "id": "wXOG8PSCLRa1",
        "outputId": "68c9ace3-9d38-46e8-ccfb-9c7558ddcef4"
      },
      "source": [
        "model.fit(\n",
        "    x=mat_train,\n",
        "    y=train_label,\n",
        "    batch_size=256,\n",
        "    epochs=5,\n",
        ")"
      ],
      "execution_count": 41,
      "outputs": [
        {
          "output_type": "stream",
          "text": [
            "Epoch 1/5\n",
            "40/40 [==============================] - 30s 749ms/step - loss: 0.6940 - accuracy: 0.5132\n",
            "Epoch 2/5\n",
            "40/40 [==============================] - 30s 748ms/step - loss: 0.6925 - accuracy: 0.5074\n",
            "Epoch 3/5\n",
            "40/40 [==============================] - 33s 816ms/step - loss: 0.6915 - accuracy: 0.5278\n",
            "Epoch 4/5\n",
            "40/40 [==============================] - 30s 756ms/step - loss: 0.6903 - accuracy: 0.5323\n",
            "Epoch 5/5\n",
            "40/40 [==============================] - 30s 758ms/step - loss: 0.6901 - accuracy: 0.5279\n"
          ],
          "name": "stdout"
        },
        {
          "output_type": "execute_result",
          "data": {
            "text/plain": [
              "<tensorflow.python.keras.callbacks.History at 0x7f0775e9c490>"
            ]
          },
          "metadata": {
            "tags": []
          },
          "execution_count": 41
        }
      ]
    },
    {
      "cell_type": "code",
      "metadata": {
        "colab": {
          "base_uri": "https://localhost:8080/"
        },
        "id": "3CI-DHn4LaC5",
        "outputId": "137d3c53-31bf-414c-e6f0-23f5e3cbfc04"
      },
      "source": [
        "model.evaluate(mat_test, test_label)"
      ],
      "execution_count": 42,
      "outputs": [
        {
          "output_type": "stream",
          "text": [
            "313/313 [==============================] - 10s 31ms/step - loss: 0.6937 - accuracy: 0.5174\n"
          ],
          "name": "stdout"
        },
        {
          "output_type": "execute_result",
          "data": {
            "text/plain": [
              "[0.6936925053596497, 0.5174000263214111]"
            ]
          },
          "metadata": {
            "tags": []
          },
          "execution_count": 42
        }
      ]
    },
    {
      "cell_type": "code",
      "metadata": {
        "id": "yrX9HRXAOf0O"
      },
      "source": [
        ""
      ],
      "execution_count": null,
      "outputs": []
    }
  ]
}