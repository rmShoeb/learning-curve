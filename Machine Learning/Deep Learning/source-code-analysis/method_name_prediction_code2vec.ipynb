{
  "nbformat": 4,
  "nbformat_minor": 0,
  "metadata": {
    "colab": {
      "name": "method_name_prediction_code2vec.ipynb",
      "provenance": [],
      "collapsed_sections": []
    },
    "kernelspec": {
      "display_name": "Python 3",
      "name": "python3"
    },
    "language_info": {
      "name": "python"
    },
    "accelerator": "GPU"
  },
  "cells": [
    {
      "cell_type": "markdown",
      "metadata": {
        "id": "bWS31ZQ7wHHN"
      },
      "source": [
        "# Java Method Name prediction using Code2Vec"
      ]
    },
    {
      "cell_type": "markdown",
      "metadata": {
        "id": "4vGK3XgOwP8c"
      },
      "source": [
        "I will be using the original author's implementation, which was trained with a dataset of size 32GB (containing 14M data). Training with this massive dataset is extremely time consuming. So, I will be using their pre-trained model for prediction. They have a trainable model for further training. But again, training such a huge model will be time consuming."
      ]
    },
    {
      "cell_type": "markdown",
      "metadata": {
        "id": "ug0xghWeT35M"
      },
      "source": [
        "I have already downloaded and unzipped the required data and models (pre-trained and trainable) into my google drive. Check https://github.com/tech-srl/code2vec for detailed information on how to get their resources."
      ]
    },
    {
      "cell_type": "markdown",
      "metadata": {
        "id": "tzbile2IVS5T"
      },
      "source": [
        "**Note:** There is a mistake in the instructions.\n",
        "\n",
        "While extracting the trainable model, the command they provided with is \n",
        "```\n",
        "tar -xvzf java14m_model_trainable.tar\n",
        "```\n",
        "Instead, it should be like this:\n",
        "```\n",
        "tar -xvzf java14m_model_trainable.tar.gz\n",
        "```"
      ]
    },
    {
      "cell_type": "markdown",
      "metadata": {
        "id": "aMgxt75UxFxc"
      },
      "source": [
        "## Setting up drive"
      ]
    },
    {
      "cell_type": "code",
      "metadata": {
        "colab": {
          "base_uri": "https://localhost:8080/"
        },
        "id": "zTgVKw60yI0P",
        "outputId": "9964ccb8-9fd3-4a6a-b7df-8db29e0aab8a"
      },
      "source": [
        "from google.colab import drive\n",
        "drive.mount('/content/drive')"
      ],
      "execution_count": 1,
      "outputs": [
        {
          "output_type": "stream",
          "text": [
            "Drive already mounted at /content/drive; to attempt to forcibly remount, call drive.mount(\"/content/drive\", force_remount=True).\n"
          ],
          "name": "stdout"
        }
      ]
    },
    {
      "cell_type": "code",
      "metadata": {
        "colab": {
          "base_uri": "https://localhost:8080/"
        },
        "id": "H_z0yCOTNh1C",
        "outputId": "c4ec7c95-8e48-4092-d119-83bcea97fcc9"
      },
      "source": [
        "%cd 'drive/Shareddrives/With Myself/huge-datasets-for-colab/code2vec'"
      ],
      "execution_count": 2,
      "outputs": [
        {
          "output_type": "stream",
          "text": [
            "/content/drive/Shareddrives/With Myself/huge-datasets-for-colab/code2vec\n"
          ],
          "name": "stdout"
        }
      ]
    },
    {
      "cell_type": "markdown",
      "metadata": {
        "id": "mPnQOxIXzADs"
      },
      "source": [
        "## Checking Requirements"
      ]
    },
    {
      "cell_type": "code",
      "metadata": {
        "id": "nradYdZxXbnD"
      },
      "source": [
        "import tensorflow as tf"
      ],
      "execution_count": 3,
      "outputs": []
    },
    {
      "cell_type": "code",
      "metadata": {
        "colab": {
          "base_uri": "https://localhost:8080/"
        },
        "id": "ZE_45VgUzEDi",
        "outputId": "aa372ee8-862a-4217-f577-bbc1d6564777"
      },
      "source": [
        "!python3 --version"
      ],
      "execution_count": 4,
      "outputs": [
        {
          "output_type": "stream",
          "text": [
            "Python 3.7.10\n"
          ],
          "name": "stdout"
        }
      ]
    },
    {
      "cell_type": "code",
      "metadata": {
        "id": "hf1kuL6rzIu-",
        "colab": {
          "base_uri": "https://localhost:8080/",
          "height": 36
        },
        "outputId": "e05bd7a6-0159-478f-c343-6d527290317e"
      },
      "source": [
        "tf.__version__"
      ],
      "execution_count": 5,
      "outputs": [
        {
          "output_type": "execute_result",
          "data": {
            "application/vnd.google.colaboratory.intrinsic+json": {
              "type": "string"
            },
            "text/plain": [
              "'2.4.1'"
            ]
          },
          "metadata": {
            "tags": []
          },
          "execution_count": 5
        }
      ]
    },
    {
      "cell_type": "code",
      "metadata": {
        "colab": {
          "base_uri": "https://localhost:8080/"
        },
        "id": "KwRFk1IIzoxt",
        "outputId": "80f35f78-009b-46fc-e65a-ac85fe407188"
      },
      "source": [
        "!nvcc --version"
      ],
      "execution_count": 6,
      "outputs": [
        {
          "output_type": "stream",
          "text": [
            "nvcc: NVIDIA (R) Cuda compiler driver\n",
            "Copyright (c) 2005-2020 NVIDIA Corporation\n",
            "Built on Wed_Jul_22_19:09:09_PDT_2020\n",
            "Cuda compilation tools, release 11.0, V11.0.221\n",
            "Build cuda_11.0_bu.TC445_37.28845127_0\n"
          ],
          "name": "stdout"
        }
      ]
    },
    {
      "cell_type": "markdown",
      "metadata": {
        "id": "t2EFJFbLXtMf"
      },
      "source": [
        "## Prediction using pre-trained model"
      ]
    },
    {
      "cell_type": "markdown",
      "metadata": {
        "id": "RGADhvuzZDg_"
      },
      "source": [
        "### Prediction on the whole test dataset"
      ]
    },
    {
      "cell_type": "code",
      "metadata": {
        "colab": {
          "base_uri": "https://localhost:8080/"
        },
        "id": "Ywv_Eff9XqCS",
        "outputId": "7064f4fc-736b-472b-e630-681d088c61bf"
      },
      "source": [
        "!python3 code2vec.py --load models/java14_model/saved_model_iter8.release --test data/java14m/java14m.test.c2v"
      ],
      "execution_count": 7,
      "outputs": [
        {
          "output_type": "stream",
          "text": [
            "2021-04-28 17:12:58.927807: I tensorflow/stream_executor/platform/default/dso_loader.cc:49] Successfully opened dynamic library libcudart.so.11.0\n",
            "2021-04-28 17:13:00.654471: I tensorflow/compiler/jit/xla_cpu_device.cc:41] Not creating XLA devices, tf_xla_enable_xla_devices not set\n",
            "2021-04-28 17:13:00.655243: I tensorflow/stream_executor/platform/default/dso_loader.cc:49] Successfully opened dynamic library libcuda.so.1\n",
            "2021-04-28 17:13:00.687463: I tensorflow/stream_executor/cuda/cuda_gpu_executor.cc:941] successful NUMA node read from SysFS had negative value (-1), but there must be at least one NUMA node, so returning NUMA node zero\n",
            "2021-04-28 17:13:00.688073: I tensorflow/core/common_runtime/gpu/gpu_device.cc:1720] Found device 0 with properties: \n",
            "pciBusID: 0000:00:04.0 name: Tesla T4 computeCapability: 7.5\n",
            "coreClock: 1.59GHz coreCount: 40 deviceMemorySize: 14.75GiB deviceMemoryBandwidth: 298.08GiB/s\n",
            "2021-04-28 17:13:00.688110: I tensorflow/stream_executor/platform/default/dso_loader.cc:49] Successfully opened dynamic library libcudart.so.11.0\n",
            "2021-04-28 17:13:00.690943: I tensorflow/stream_executor/platform/default/dso_loader.cc:49] Successfully opened dynamic library libcublas.so.11\n",
            "2021-04-28 17:13:00.691011: I tensorflow/stream_executor/platform/default/dso_loader.cc:49] Successfully opened dynamic library libcublasLt.so.11\n",
            "2021-04-28 17:13:00.692776: I tensorflow/stream_executor/platform/default/dso_loader.cc:49] Successfully opened dynamic library libcufft.so.10\n",
            "2021-04-28 17:13:00.693103: I tensorflow/stream_executor/platform/default/dso_loader.cc:49] Successfully opened dynamic library libcurand.so.10\n",
            "2021-04-28 17:13:00.694741: I tensorflow/stream_executor/platform/default/dso_loader.cc:49] Successfully opened dynamic library libcusolver.so.10\n",
            "2021-04-28 17:13:00.695502: I tensorflow/stream_executor/platform/default/dso_loader.cc:49] Successfully opened dynamic library libcusparse.so.11\n",
            "2021-04-28 17:13:00.695682: I tensorflow/stream_executor/platform/default/dso_loader.cc:49] Successfully opened dynamic library libcudnn.so.8\n",
            "2021-04-28 17:13:00.695778: I tensorflow/stream_executor/cuda/cuda_gpu_executor.cc:941] successful NUMA node read from SysFS had negative value (-1), but there must be at least one NUMA node, so returning NUMA node zero\n",
            "2021-04-28 17:13:00.696392: I tensorflow/stream_executor/cuda/cuda_gpu_executor.cc:941] successful NUMA node read from SysFS had negative value (-1), but there must be at least one NUMA node, so returning NUMA node zero\n",
            "2021-04-28 17:13:00.696931: I tensorflow/core/common_runtime/gpu/gpu_device.cc:1862] Adding visible gpu devices: 0\n",
            "2021-04-28 17:13:00.697384: I tensorflow/compiler/jit/xla_gpu_device.cc:99] Not creating XLA devices, tf_xla_enable_xla_devices not set\n",
            "2021-04-28 17:13:00.697492: I tensorflow/stream_executor/cuda/cuda_gpu_executor.cc:941] successful NUMA node read from SysFS had negative value (-1), but there must be at least one NUMA node, so returning NUMA node zero\n",
            "2021-04-28 17:13:00.698039: I tensorflow/core/common_runtime/gpu/gpu_device.cc:1720] Found device 0 with properties: \n",
            "pciBusID: 0000:00:04.0 name: Tesla T4 computeCapability: 7.5\n",
            "coreClock: 1.59GHz coreCount: 40 deviceMemorySize: 14.75GiB deviceMemoryBandwidth: 298.08GiB/s\n",
            "2021-04-28 17:13:00.698074: I tensorflow/stream_executor/platform/default/dso_loader.cc:49] Successfully opened dynamic library libcudart.so.11.0\n",
            "2021-04-28 17:13:00.698106: I tensorflow/stream_executor/platform/default/dso_loader.cc:49] Successfully opened dynamic library libcublas.so.11\n",
            "2021-04-28 17:13:00.698126: I tensorflow/stream_executor/platform/default/dso_loader.cc:49] Successfully opened dynamic library libcublasLt.so.11\n",
            "2021-04-28 17:13:00.698143: I tensorflow/stream_executor/platform/default/dso_loader.cc:49] Successfully opened dynamic library libcufft.so.10\n",
            "2021-04-28 17:13:00.698162: I tensorflow/stream_executor/platform/default/dso_loader.cc:49] Successfully opened dynamic library libcurand.so.10\n",
            "2021-04-28 17:13:00.698181: I tensorflow/stream_executor/platform/default/dso_loader.cc:49] Successfully opened dynamic library libcusolver.so.10\n",
            "2021-04-28 17:13:00.698199: I tensorflow/stream_executor/platform/default/dso_loader.cc:49] Successfully opened dynamic library libcusparse.so.11\n",
            "2021-04-28 17:13:00.698218: I tensorflow/stream_executor/platform/default/dso_loader.cc:49] Successfully opened dynamic library libcudnn.so.8\n",
            "2021-04-28 17:13:00.698280: I tensorflow/stream_executor/cuda/cuda_gpu_executor.cc:941] successful NUMA node read from SysFS had negative value (-1), but there must be at least one NUMA node, so returning NUMA node zero\n",
            "2021-04-28 17:13:00.698871: I tensorflow/stream_executor/cuda/cuda_gpu_executor.cc:941] successful NUMA node read from SysFS had negative value (-1), but there must be at least one NUMA node, so returning NUMA node zero\n",
            "2021-04-28 17:13:00.699411: I tensorflow/core/common_runtime/gpu/gpu_device.cc:1862] Adding visible gpu devices: 0\n",
            "2021-04-28 17:13:00.699461: I tensorflow/stream_executor/platform/default/dso_loader.cc:49] Successfully opened dynamic library libcudart.so.11.0\n",
            "2021-04-28 17:13:01.214022: I tensorflow/core/common_runtime/gpu/gpu_device.cc:1261] Device interconnect StreamExecutor with strength 1 edge matrix:\n",
            "2021-04-28 17:13:01.214078: I tensorflow/core/common_runtime/gpu/gpu_device.cc:1267]      0 \n",
            "2021-04-28 17:13:01.214094: I tensorflow/core/common_runtime/gpu/gpu_device.cc:1280] 0:   N \n",
            "2021-04-28 17:13:01.214295: I tensorflow/stream_executor/cuda/cuda_gpu_executor.cc:941] successful NUMA node read from SysFS had negative value (-1), but there must be at least one NUMA node, so returning NUMA node zero\n",
            "2021-04-28 17:13:01.214922: I tensorflow/stream_executor/cuda/cuda_gpu_executor.cc:941] successful NUMA node read from SysFS had negative value (-1), but there must be at least one NUMA node, so returning NUMA node zero\n",
            "2021-04-28 17:13:01.215491: I tensorflow/stream_executor/cuda/cuda_gpu_executor.cc:941] successful NUMA node read from SysFS had negative value (-1), but there must be at least one NUMA node, so returning NUMA node zero\n",
            "2021-04-28 17:13:01.215980: W tensorflow/core/common_runtime/gpu/gpu_bfc_allocator.cc:39] Overriding allow_growth setting because the TF_FORCE_GPU_ALLOW_GROWTH environment variable is set. Original config value was 0.\n",
            "2021-04-28 17:13:01.216027: I tensorflow/core/common_runtime/gpu/gpu_device.cc:1406] Created TensorFlow device (/job:localhost/replica:0/task:0/device:GPU:0 with 13994 MB memory) -> physical GPU (device: 0, name: Tesla T4, pci bus id: 0000:00:04.0, compute capability: 7.5)\n",
            "2021-04-28 17:13:01,217 INFO     \n",
            "2021-04-28 17:13:01,217 INFO     \n",
            "2021-04-28 17:13:01,217 INFO     ---------------------------------------------------------------------\n",
            "2021-04-28 17:13:01,217 INFO     ---------------------------------------------------------------------\n",
            "2021-04-28 17:13:01,217 INFO     ---------------------- Creating code2vec model ----------------------\n",
            "2021-04-28 17:13:01,217 INFO     ---------------------------------------------------------------------\n",
            "2021-04-28 17:13:01,217 INFO     ---------------------------------------------------------------------\n",
            "2021-04-28 17:13:01,217 INFO     Checking number of examples ...\n",
            "2021-04-28 17:13:01,219 INFO         Number of test examples: 368445\n",
            "2021-04-28 17:13:01,219 INFO     ---------------------------------------------------------------------\n",
            "2021-04-28 17:13:01,219 INFO     ----------------- Configuration - Hyper Parameters ------------------\n",
            "2021-04-28 17:13:01,219 INFO     CODE_VECTOR_SIZE                          384\n",
            "2021-04-28 17:13:01,219 INFO     CSV_BUFFER_SIZE                           104857600\n",
            "2021-04-28 17:13:01,220 INFO     DEFAULT_EMBEDDINGS_SIZE                   128\n",
            "2021-04-28 17:13:01,220 INFO     DL_FRAMEWORK                              tensorflow\n",
            "2021-04-28 17:13:01,220 INFO     DROPOUT_KEEP_RATE                         0.75\n",
            "2021-04-28 17:13:01,220 INFO     EXPORT_CODE_VECTORS                       False\n",
            "2021-04-28 17:13:01,220 INFO     LOGS_PATH                                 None\n",
            "2021-04-28 17:13:01,220 INFO     MAX_CONTEXTS                              200\n",
            "2021-04-28 17:13:01,220 INFO     MAX_PATH_VOCAB_SIZE                       911417\n",
            "2021-04-28 17:13:01,220 INFO     MAX_TARGET_VOCAB_SIZE                     261245\n",
            "2021-04-28 17:13:01,220 INFO     MAX_TOKEN_VOCAB_SIZE                      1301136\n",
            "2021-04-28 17:13:01,220 INFO     MAX_TO_KEEP                               10\n",
            "2021-04-28 17:13:01,220 INFO     MODEL_LOAD_PATH                           models/java14_model/saved_model_iter8.release\n",
            "2021-04-28 17:13:01,220 INFO     MODEL_SAVE_PATH                           None\n",
            "2021-04-28 17:13:01,220 INFO     NUM_BATCHES_TO_LOG_PROGRESS               100\n",
            "2021-04-28 17:13:01,220 INFO     NUM_TEST_EXAMPLES                         368445\n",
            "2021-04-28 17:13:01,220 INFO     NUM_TRAIN_BATCHES_TO_EVALUATE             1800\n",
            "2021-04-28 17:13:01,220 INFO     NUM_TRAIN_EPOCHS                          20\n",
            "2021-04-28 17:13:01,220 INFO     NUM_TRAIN_EXAMPLES                        0\n",
            "2021-04-28 17:13:01,220 INFO     PATH_EMBEDDINGS_SIZE                      128\n",
            "2021-04-28 17:13:01,220 INFO     PREDICT                                   False\n",
            "2021-04-28 17:13:01,220 INFO     READER_NUM_PARALLEL_BATCHES               6\n",
            "2021-04-28 17:13:01,220 INFO     RELEASE                                   False\n",
            "2021-04-28 17:13:01,220 INFO     SAVE_EVERY_EPOCHS                         1\n",
            "2021-04-28 17:13:01,220 INFO     SAVE_T2V                                  None\n",
            "2021-04-28 17:13:01,221 INFO     SAVE_W2V                                  None\n",
            "2021-04-28 17:13:01,221 INFO     SEPARATE_OOV_AND_PAD                      False\n",
            "2021-04-28 17:13:01,221 INFO     SHUFFLE_BUFFER_SIZE                       10000\n",
            "2021-04-28 17:13:01,221 INFO     TARGET_EMBEDDINGS_SIZE                    384\n",
            "2021-04-28 17:13:01,221 INFO     TEST_BATCH_SIZE                           1024\n",
            "2021-04-28 17:13:01,221 INFO     TEST_DATA_PATH                            data/java14m/java14m.test.c2v\n",
            "2021-04-28 17:13:01,221 INFO     TOKEN_EMBEDDINGS_SIZE                     128\n",
            "2021-04-28 17:13:01,221 INFO     TOP_K_WORDS_CONSIDERED_DURING_PREDICTION  10\n",
            "2021-04-28 17:13:01,221 INFO     TRAIN_BATCH_SIZE                          1024\n",
            "2021-04-28 17:13:01,221 INFO     TRAIN_DATA_PATH_PREFIX                    None\n",
            "2021-04-28 17:13:01,221 INFO     USE_TENSORBOARD                           False\n",
            "2021-04-28 17:13:01,221 INFO     VERBOSE_MODE                              1\n",
            "2021-04-28 17:13:01,221 INFO     _Config__logger                           <Logger code2vec (INFO)>\n",
            "2021-04-28 17:13:01,221 INFO     context_vector_size                       384\n",
            "2021-04-28 17:13:01,221 INFO     entire_model_load_path                    models/java14_model/saved_model_iter8.release__entire-model\n",
            "2021-04-28 17:13:01,221 INFO     entire_model_save_path                    None\n",
            "2021-04-28 17:13:01,221 INFO     is_loading                                True\n",
            "2021-04-28 17:13:01,221 INFO     is_saving                                 False\n",
            "2021-04-28 17:13:01,221 INFO     is_testing                                True\n",
            "2021-04-28 17:13:01,221 INFO     is_training                               False\n",
            "2021-04-28 17:13:01,221 INFO     model_load_dir                            models/java14_model\n",
            "2021-04-28 17:13:01,221 INFO     model_weights_load_path                   models/java14_model/saved_model_iter8.release__only-weights\n",
            "2021-04-28 17:13:01,221 INFO     model_weights_save_path                   None\n",
            "2021-04-28 17:13:01,221 INFO     test_steps                                360\n",
            "2021-04-28 17:13:01,222 INFO     train_data_path                           None\n",
            "2021-04-28 17:13:01,222 INFO     train_steps_per_epoch                     0\n",
            "2021-04-28 17:13:01,222 INFO     word_freq_dict_path                       None\n",
            "2021-04-28 17:13:01,222 INFO     ---------------------------------------------------------------------\n",
            "2021-04-28 17:13:01,222 INFO     Loading model vocabularies from: `models/java14_model/dictionaries.bin` ... \n",
            "2021-04-28 17:13:03,149 INFO     Done loading model vocabularies.\n",
            "2021-04-28 17:13:03,790 INFO     Done creating code2vec model\n",
            "2021-04-28 17:13:12.216605: I tensorflow/compiler/mlir/mlir_graph_optimization_pass.cc:196] None of the MLIR optimization passes are enabled (registered 0 passes)\n",
            "2021-04-28 17:13:12.332100: I tensorflow/core/platform/profile_utils/cpu_utils.cc:112] CPU Frequency: 2199995000 Hz\n",
            "2021-04-28 17:13:21,064 INFO     Initalized variables\n",
            "2021-04-28 17:13:21,064 INFO     Loading model weights from: models/java14_model/saved_model_iter8.release\n",
            "2021-04-28 17:13:23,454 INFO     Done loading model weights\n",
            "2021-04-28 17:13:23.677374: I tensorflow/compiler/mlir/mlir_graph_optimization_pass.cc:116] None of the MLIR optimization passes are enabled (registered 2)\n",
            "2021-04-28 17:13:23,721 INFO     Starting evaluation\n",
            "2021-04-28 17:13:23.855520: I tensorflow/stream_executor/platform/default/dso_loader.cc:49] Successfully opened dynamic library libcublas.so.11\n",
            "2021-04-28 17:13:24.326609: I tensorflow/stream_executor/platform/default/dso_loader.cc:49] Successfully opened dynamic library libcublasLt.so.11\n",
            "2021-04-28 17:14:12,588 INFO     Evaluated 102400 examples...\n",
            "2021-04-28 17:14:12,589 INFO     Prediction throughput: 2084 samples/sec\n",
            "2021-04-28 17:14:55,873 INFO     Evaluated 204800 examples...\n",
            "2021-04-28 17:14:55,874 INFO     Prediction throughput: 2216 samples/sec\n",
            "2021-04-28 17:15:43,865 INFO     Evaluated 307200 examples...\n",
            "2021-04-28 17:15:43,866 INFO     Prediction throughput: 2188 samples/sec\n",
            "2021-04-28 17:16:09,355 INFO     Done evaluating, epoch reached\n",
            "2021-04-28 17:16:09,358 INFO     Evaluation time: 0H:3M:5S\n",
            "2021-04-28 17:16:09,359 INFO     top10_acc: [0.50086444 0.54063157 0.5556596  0.56424161 0.56990053 0.57424853\n",
            " 0.57761945 0.58042313 0.58295811 0.58502626], precision: 0.6582174600509684, recall: 0.5314902438062055, F1: 0.5881043842714981\n"
          ],
          "name": "stdout"
        }
      ]
    },
    {
      "cell_type": "code",
      "metadata": {
        "id": "eCB-HzFlIIUj",
        "colab": {
          "base_uri": "https://localhost:8080/"
        },
        "outputId": "b57250ca-3fe3-49bf-8bd1-3b45e062f2b7"
      },
      "source": [
        "!ls"
      ],
      "execution_count": 8,
      "outputs": [
        {
          "output_type": "stream",
          "text": [
            "build_extractor.sh\t\t    keras_topk_word_predictions_layer.py\n",
            "code2vec.py\t\t\t    keras_word_prediction_layer.py\n",
            "common.py\t\t\t    keras_words_subtoken_metrics.py\n",
            "config.py\t\t\t    LICENSE\n",
            "CSharpExtractor\t\t\t    log.txt\n",
            "data\t\t\t\t    model_base.py\n",
            "extractor.py\t\t\t    models\n",
            "images\t\t\t\t    path_context_reader.py\n",
            "__init__.py\t\t\t    preprocess_csharp.sh\n",
            "Input.java\t\t\t    preprocess.py\n",
            "interactive_predict.py\t\t    preprocess.sh\n",
            "java14m_data.tar.gz\t\t    __pycache__\n",
            "java14m_model.tar.gz\t\t    README.md\n",
            "java14m_model_trainable.tar.gz\t    requirements.txt\n",
            "JavaExtractor\t\t\t    tensorflow_model.py\n",
            "keras_attention_layer.py\t    train.sh\n",
            "keras_checkpoint_saver_callback.py  vocabularies.py\n",
            "keras_model.py\n"
          ],
          "name": "stdout"
        }
      ]
    },
    {
      "cell_type": "markdown",
      "metadata": {
        "id": "Ua-F4QlQZRvo"
      },
      "source": [
        "Running the command above has created a file named 'log.txt', which is written with each test example name and the model's prediction. There are 0.3M data, so the log file is very big.\n",
        "\n",
        "See the outputs [here](https://drive.google.com/file/d/1QosEoEgx-zaor0qltI1rSXVXo2iJQB59/view?usp=sharing).\n",
        "\n",
        "There are many cases where the model does not have any prediction."
      ]
    },
    {
      "cell_type": "markdown",
      "metadata": {
        "id": "pwK5nQP1Z67B"
      },
      "source": [
        "### Prediction on input data"
      ]
    },
    {
      "cell_type": "code",
      "metadata": {
        "colab": {
          "base_uri": "https://localhost:8080/"
        },
        "id": "6SCdThBUY_Jt",
        "outputId": "e9e52952-0c03-44c0-f5cd-239cb7234054"
      },
      "source": [
        "!python3 code2vec.py --load models/java14_model/saved_model_iter8.release --predict"
      ],
      "execution_count": 10,
      "outputs": [
        {
          "output_type": "stream",
          "text": [
            "2021-04-28 17:16:11.269278: I tensorflow/stream_executor/platform/default/dso_loader.cc:49] Successfully opened dynamic library libcudart.so.11.0\n",
            "2021-04-28 17:16:13.042920: I tensorflow/compiler/jit/xla_cpu_device.cc:41] Not creating XLA devices, tf_xla_enable_xla_devices not set\n",
            "2021-04-28 17:16:13.045426: I tensorflow/stream_executor/platform/default/dso_loader.cc:49] Successfully opened dynamic library libcuda.so.1\n",
            "2021-04-28 17:16:13.074513: I tensorflow/stream_executor/cuda/cuda_gpu_executor.cc:941] successful NUMA node read from SysFS had negative value (-1), but there must be at least one NUMA node, so returning NUMA node zero\n",
            "2021-04-28 17:16:13.075119: I tensorflow/core/common_runtime/gpu/gpu_device.cc:1720] Found device 0 with properties: \n",
            "pciBusID: 0000:00:04.0 name: Tesla T4 computeCapability: 7.5\n",
            "coreClock: 1.59GHz coreCount: 40 deviceMemorySize: 14.75GiB deviceMemoryBandwidth: 298.08GiB/s\n",
            "2021-04-28 17:16:13.075153: I tensorflow/stream_executor/platform/default/dso_loader.cc:49] Successfully opened dynamic library libcudart.so.11.0\n",
            "2021-04-28 17:16:13.078290: I tensorflow/stream_executor/platform/default/dso_loader.cc:49] Successfully opened dynamic library libcublas.so.11\n",
            "2021-04-28 17:16:13.078378: I tensorflow/stream_executor/platform/default/dso_loader.cc:49] Successfully opened dynamic library libcublasLt.so.11\n",
            "2021-04-28 17:16:13.080214: I tensorflow/stream_executor/platform/default/dso_loader.cc:49] Successfully opened dynamic library libcufft.so.10\n",
            "2021-04-28 17:16:13.080815: I tensorflow/stream_executor/platform/default/dso_loader.cc:49] Successfully opened dynamic library libcurand.so.10\n",
            "2021-04-28 17:16:13.084519: I tensorflow/stream_executor/platform/default/dso_loader.cc:49] Successfully opened dynamic library libcusolver.so.10\n",
            "2021-04-28 17:16:13.085305: I tensorflow/stream_executor/platform/default/dso_loader.cc:49] Successfully opened dynamic library libcusparse.so.11\n",
            "2021-04-28 17:16:13.085573: I tensorflow/stream_executor/platform/default/dso_loader.cc:49] Successfully opened dynamic library libcudnn.so.8\n",
            "2021-04-28 17:16:13.085672: I tensorflow/stream_executor/cuda/cuda_gpu_executor.cc:941] successful NUMA node read from SysFS had negative value (-1), but there must be at least one NUMA node, so returning NUMA node zero\n",
            "2021-04-28 17:16:13.086227: I tensorflow/stream_executor/cuda/cuda_gpu_executor.cc:941] successful NUMA node read from SysFS had negative value (-1), but there must be at least one NUMA node, so returning NUMA node zero\n",
            "2021-04-28 17:16:13.086750: I tensorflow/core/common_runtime/gpu/gpu_device.cc:1862] Adding visible gpu devices: 0\n",
            "2021-04-28 17:16:13.087199: I tensorflow/compiler/jit/xla_gpu_device.cc:99] Not creating XLA devices, tf_xla_enable_xla_devices not set\n",
            "2021-04-28 17:16:13.087300: I tensorflow/stream_executor/cuda/cuda_gpu_executor.cc:941] successful NUMA node read from SysFS had negative value (-1), but there must be at least one NUMA node, so returning NUMA node zero\n",
            "2021-04-28 17:16:13.087827: I tensorflow/core/common_runtime/gpu/gpu_device.cc:1720] Found device 0 with properties: \n",
            "pciBusID: 0000:00:04.0 name: Tesla T4 computeCapability: 7.5\n",
            "coreClock: 1.59GHz coreCount: 40 deviceMemorySize: 14.75GiB deviceMemoryBandwidth: 298.08GiB/s\n",
            "2021-04-28 17:16:13.087856: I tensorflow/stream_executor/platform/default/dso_loader.cc:49] Successfully opened dynamic library libcudart.so.11.0\n",
            "2021-04-28 17:16:13.087888: I tensorflow/stream_executor/platform/default/dso_loader.cc:49] Successfully opened dynamic library libcublas.so.11\n",
            "2021-04-28 17:16:13.087909: I tensorflow/stream_executor/platform/default/dso_loader.cc:49] Successfully opened dynamic library libcublasLt.so.11\n",
            "2021-04-28 17:16:13.087927: I tensorflow/stream_executor/platform/default/dso_loader.cc:49] Successfully opened dynamic library libcufft.so.10\n",
            "2021-04-28 17:16:13.087947: I tensorflow/stream_executor/platform/default/dso_loader.cc:49] Successfully opened dynamic library libcurand.so.10\n",
            "2021-04-28 17:16:13.087966: I tensorflow/stream_executor/platform/default/dso_loader.cc:49] Successfully opened dynamic library libcusolver.so.10\n",
            "2021-04-28 17:16:13.087986: I tensorflow/stream_executor/platform/default/dso_loader.cc:49] Successfully opened dynamic library libcusparse.so.11\n",
            "2021-04-28 17:16:13.088006: I tensorflow/stream_executor/platform/default/dso_loader.cc:49] Successfully opened dynamic library libcudnn.so.8\n",
            "2021-04-28 17:16:13.088065: I tensorflow/stream_executor/cuda/cuda_gpu_executor.cc:941] successful NUMA node read from SysFS had negative value (-1), but there must be at least one NUMA node, so returning NUMA node zero\n",
            "2021-04-28 17:16:13.088617: I tensorflow/stream_executor/cuda/cuda_gpu_executor.cc:941] successful NUMA node read from SysFS had negative value (-1), but there must be at least one NUMA node, so returning NUMA node zero\n",
            "2021-04-28 17:16:13.089101: I tensorflow/core/common_runtime/gpu/gpu_device.cc:1862] Adding visible gpu devices: 0\n",
            "2021-04-28 17:16:13.089146: I tensorflow/stream_executor/platform/default/dso_loader.cc:49] Successfully opened dynamic library libcudart.so.11.0\n",
            "2021-04-28 17:16:13.584369: I tensorflow/core/common_runtime/gpu/gpu_device.cc:1261] Device interconnect StreamExecutor with strength 1 edge matrix:\n",
            "2021-04-28 17:16:13.584424: I tensorflow/core/common_runtime/gpu/gpu_device.cc:1267]      0 \n",
            "2021-04-28 17:16:13.584437: I tensorflow/core/common_runtime/gpu/gpu_device.cc:1280] 0:   N \n",
            "2021-04-28 17:16:13.584626: I tensorflow/stream_executor/cuda/cuda_gpu_executor.cc:941] successful NUMA node read from SysFS had negative value (-1), but there must be at least one NUMA node, so returning NUMA node zero\n",
            "2021-04-28 17:16:13.585225: I tensorflow/stream_executor/cuda/cuda_gpu_executor.cc:941] successful NUMA node read from SysFS had negative value (-1), but there must be at least one NUMA node, so returning NUMA node zero\n",
            "2021-04-28 17:16:13.585831: I tensorflow/stream_executor/cuda/cuda_gpu_executor.cc:941] successful NUMA node read from SysFS had negative value (-1), but there must be at least one NUMA node, so returning NUMA node zero\n",
            "2021-04-28 17:16:13.586327: W tensorflow/core/common_runtime/gpu/gpu_bfc_allocator.cc:39] Overriding allow_growth setting because the TF_FORCE_GPU_ALLOW_GROWTH environment variable is set. Original config value was 0.\n",
            "2021-04-28 17:16:13.586389: I tensorflow/core/common_runtime/gpu/gpu_device.cc:1406] Created TensorFlow device (/job:localhost/replica:0/task:0/device:GPU:0 with 13994 MB memory) -> physical GPU (device: 0, name: Tesla T4, pci bus id: 0000:00:04.0, compute capability: 7.5)\n",
            "2021-04-28 17:16:13,587 INFO     \n",
            "2021-04-28 17:16:13,587 INFO     \n",
            "2021-04-28 17:16:13,587 INFO     ---------------------------------------------------------------------\n",
            "2021-04-28 17:16:13,587 INFO     ---------------------------------------------------------------------\n",
            "2021-04-28 17:16:13,587 INFO     ---------------------- Creating code2vec model ----------------------\n",
            "2021-04-28 17:16:13,587 INFO     ---------------------------------------------------------------------\n",
            "2021-04-28 17:16:13,587 INFO     ---------------------------------------------------------------------\n",
            "2021-04-28 17:16:13,587 INFO     Checking number of examples ...\n",
            "2021-04-28 17:16:13,587 INFO     ---------------------------------------------------------------------\n",
            "2021-04-28 17:16:13,587 INFO     ----------------- Configuration - Hyper Parameters ------------------\n",
            "2021-04-28 17:16:13,588 INFO     CODE_VECTOR_SIZE                          384\n",
            "2021-04-28 17:16:13,588 INFO     CSV_BUFFER_SIZE                           104857600\n",
            "2021-04-28 17:16:13,588 INFO     DEFAULT_EMBEDDINGS_SIZE                   128\n",
            "2021-04-28 17:16:13,588 INFO     DL_FRAMEWORK                              tensorflow\n",
            "2021-04-28 17:16:13,588 INFO     DROPOUT_KEEP_RATE                         0.75\n",
            "2021-04-28 17:16:13,588 INFO     EXPORT_CODE_VECTORS                       False\n",
            "2021-04-28 17:16:13,588 INFO     LOGS_PATH                                 None\n",
            "2021-04-28 17:16:13,588 INFO     MAX_CONTEXTS                              200\n",
            "2021-04-28 17:16:13,588 INFO     MAX_PATH_VOCAB_SIZE                       911417\n",
            "2021-04-28 17:16:13,588 INFO     MAX_TARGET_VOCAB_SIZE                     261245\n",
            "2021-04-28 17:16:13,588 INFO     MAX_TOKEN_VOCAB_SIZE                      1301136\n",
            "2021-04-28 17:16:13,588 INFO     MAX_TO_KEEP                               10\n",
            "2021-04-28 17:16:13,588 INFO     MODEL_LOAD_PATH                           models/java14_model/saved_model_iter8.release\n",
            "2021-04-28 17:16:13,588 INFO     MODEL_SAVE_PATH                           None\n",
            "2021-04-28 17:16:13,588 INFO     NUM_BATCHES_TO_LOG_PROGRESS               100\n",
            "2021-04-28 17:16:13,588 INFO     NUM_TEST_EXAMPLES                         0\n",
            "2021-04-28 17:16:13,588 INFO     NUM_TRAIN_BATCHES_TO_EVALUATE             1800\n",
            "2021-04-28 17:16:13,588 INFO     NUM_TRAIN_EPOCHS                          20\n",
            "2021-04-28 17:16:13,588 INFO     NUM_TRAIN_EXAMPLES                        0\n",
            "2021-04-28 17:16:13,588 INFO     PATH_EMBEDDINGS_SIZE                      128\n",
            "2021-04-28 17:16:13,588 INFO     PREDICT                                   True\n",
            "2021-04-28 17:16:13,588 INFO     READER_NUM_PARALLEL_BATCHES               6\n",
            "2021-04-28 17:16:13,588 INFO     RELEASE                                   False\n",
            "2021-04-28 17:16:13,589 INFO     SAVE_EVERY_EPOCHS                         1\n",
            "2021-04-28 17:16:13,589 INFO     SAVE_T2V                                  None\n",
            "2021-04-28 17:16:13,589 INFO     SAVE_W2V                                  None\n",
            "2021-04-28 17:16:13,589 INFO     SEPARATE_OOV_AND_PAD                      False\n",
            "2021-04-28 17:16:13,589 INFO     SHUFFLE_BUFFER_SIZE                       10000\n",
            "2021-04-28 17:16:13,589 INFO     TARGET_EMBEDDINGS_SIZE                    384\n",
            "2021-04-28 17:16:13,589 INFO     TEST_BATCH_SIZE                           1024\n",
            "2021-04-28 17:16:13,589 INFO     TEST_DATA_PATH                            \n",
            "2021-04-28 17:16:13,589 INFO     TOKEN_EMBEDDINGS_SIZE                     128\n",
            "2021-04-28 17:16:13,589 INFO     TOP_K_WORDS_CONSIDERED_DURING_PREDICTION  10\n",
            "2021-04-28 17:16:13,589 INFO     TRAIN_BATCH_SIZE                          1024\n",
            "2021-04-28 17:16:13,589 INFO     TRAIN_DATA_PATH_PREFIX                    None\n",
            "2021-04-28 17:16:13,589 INFO     USE_TENSORBOARD                           False\n",
            "2021-04-28 17:16:13,589 INFO     VERBOSE_MODE                              1\n",
            "2021-04-28 17:16:13,589 INFO     _Config__logger                           <Logger code2vec (INFO)>\n",
            "2021-04-28 17:16:13,589 INFO     context_vector_size                       384\n",
            "2021-04-28 17:16:13,589 INFO     entire_model_load_path                    models/java14_model/saved_model_iter8.release__entire-model\n",
            "2021-04-28 17:16:13,589 INFO     entire_model_save_path                    None\n",
            "2021-04-28 17:16:13,589 INFO     is_loading                                True\n",
            "2021-04-28 17:16:13,589 INFO     is_saving                                 False\n",
            "2021-04-28 17:16:13,589 INFO     is_testing                                False\n",
            "2021-04-28 17:16:13,589 INFO     is_training                               False\n",
            "2021-04-28 17:16:13,589 INFO     model_load_dir                            models/java14_model\n",
            "2021-04-28 17:16:13,589 INFO     model_weights_load_path                   models/java14_model/saved_model_iter8.release__only-weights\n",
            "2021-04-28 17:16:13,590 INFO     model_weights_save_path                   None\n",
            "2021-04-28 17:16:13,590 INFO     test_steps                                0\n",
            "2021-04-28 17:16:13,590 INFO     train_data_path                           None\n",
            "2021-04-28 17:16:13,590 INFO     train_steps_per_epoch                     0\n",
            "2021-04-28 17:16:13,590 INFO     word_freq_dict_path                       None\n",
            "2021-04-28 17:16:13,590 INFO     ---------------------------------------------------------------------\n",
            "2021-04-28 17:16:13,590 INFO     Loading model vocabularies from: `models/java14_model/dictionaries.bin` ... \n",
            "2021-04-28 17:16:15,506 INFO     Done loading model vocabularies.\n",
            "2021-04-28 17:16:16,175 INFO     Done creating code2vec model\n",
            "2021-04-28 17:16:24.447007: I tensorflow/compiler/mlir/mlir_graph_optimization_pass.cc:196] None of the MLIR optimization passes are enabled (registered 0 passes)\n",
            "2021-04-28 17:16:24.560813: I tensorflow/core/platform/profile_utils/cpu_utils.cc:112] CPU Frequency: 2199995000 Hz\n",
            "2021-04-28 17:16:33,272 INFO     Initalized variables\n",
            "2021-04-28 17:16:33,281 INFO     Loading model weights from: models/java14_model/saved_model_iter8.release\n",
            "2021-04-28 17:16:36,016 INFO     Done loading model weights\n",
            "Starting interactive prediction...\n",
            "Modify the file: \"Input.java\" and press any key when ready, or \"q\" / \"quit\" / \"exit\" to exit\n",
            "int f(int n) {     if (n == 0) {         return 1;      } else {         return n * f(n-1);     } }\n",
            "2021-04-28 17:17:12.025082: I tensorflow/stream_executor/platform/default/dso_loader.cc:49] Successfully opened dynamic library libcublas.so.11\n",
            "2021-04-28 17:17:12.539770: I tensorflow/stream_executor/platform/default/dso_loader.cc:49] Successfully opened dynamic library libcublasLt.so.11\n",
            "2021-04-28 17:17:12.542115: I tensorflow/compiler/mlir/mlir_graph_optimization_pass.cc:116] None of the MLIR optimization passes are enabled (registered 2)\n",
            "Original name:\tf\n",
            "\t(0.472303) predicted: ['m']\n",
            "\t(0.174315) predicted: ['fact']\n",
            "\t(0.101179) predicted: ['factorial']\n",
            "\t(0.095780) predicted: ['faculty']\n",
            "\t(0.067391) predicted: ['get', 'n']\n",
            "\t(0.038753) predicted: ['get', 'result', 'score']\n",
            "\t(0.013598) predicted: ['is', 'power', 'of']\n",
            "\t(0.013113) predicted: ['digit', 'count']\n",
            "\t(0.012808) predicted: ['comb']\n",
            "\t(0.010760) predicted: ['get', 'in']\n",
            "Attention:\n",
            "0.258571\tcontext: n,(NameExpr0)^(BinaryExpr:times)_(MethodCallExpr1)_(BinaryExpr:minus)_(NameExpr0),n\n",
            "0.159237\tcontext: 1,(IntegerLiteralExpr1)^(BinaryExpr:minus1)^(MethodCallExpr)_(NameExpr2),f\n",
            "0.102514\tcontext: int,(PrimitiveType0)^(MethodDeclaration)_(NameExpr1),METHOD_NAME\n",
            "0.082340\tcontext: 0,(IntegerLiteralExpr1)^(BinaryExpr:equals)^(IfStmt)_(BlockStmt)_(ReturnStmt)_(IntegerLiteralExpr0),1\n",
            "0.060176\tcontext: METHOD_NAME,(NameExpr1)^(MethodDeclaration)_(BlockStmt)_(IfStmt)_(BlockStmt)_(ReturnStmt)_(BinaryExpr:times)_(NameExpr0),n\n",
            "0.059877\tcontext: int,(PrimitiveType1)^(Parameter)^(MethodDeclaration)_(BlockStmt)_(IfStmt)_(BlockStmt)_(ReturnStmt)_(IntegerLiteralExpr0),1\n",
            "0.042954\tcontext: int,(PrimitiveType0)^(MethodDeclaration)_(Parameter)_(VariableDeclaratorId0),n\n",
            "0.041031\tcontext: n,(VariableDeclaratorId0)^(Parameter)^(MethodDeclaration)_(BlockStmt)_(IfStmt)_(BlockStmt)_(ReturnStmt)_(BinaryExpr:times)_(NameExpr0),n\n",
            "0.033209\tcontext: int,(PrimitiveType0)^(MethodDeclaration)_(Parameter)_(PrimitiveType1),int\n",
            "0.029109\tcontext: n,(VariableDeclaratorId0)^(Parameter)_(PrimitiveType1),int\n",
            "Modify the file: \"Input.java\" and press any key when ready, or \"q\" / \"quit\" / \"exit\" to exit\n",
            "int b(int arr[], int l, int r, int x){ \tif (r >= l) { \t\tint mid = l + (r - l) / 2; \t\tif (arr[mid] == x) \t\t\treturn mid; \t\tif (arr[mid] > x) \t\t\treturn b(arr, l, mid - 1, x); \t\treturn b(arr, mid + 1, r, x); \t} \treturn -1; }\n",
            "Original name:\tf\n",
            "\t(0.472303) predicted: ['m']\n",
            "\t(0.174315) predicted: ['fact']\n",
            "\t(0.101179) predicted: ['factorial']\n",
            "\t(0.095780) predicted: ['faculty']\n",
            "\t(0.067391) predicted: ['get', 'n']\n",
            "\t(0.038753) predicted: ['get', 'result', 'score']\n",
            "\t(0.013598) predicted: ['is', 'power', 'of']\n",
            "\t(0.013113) predicted: ['digit', 'count']\n",
            "\t(0.012808) predicted: ['comb']\n",
            "\t(0.010760) predicted: ['get', 'in']\n",
            "Attention:\n",
            "0.258571\tcontext: n,(NameExpr0)^(BinaryExpr:times)_(MethodCallExpr1)_(BinaryExpr:minus)_(NameExpr0),n\n",
            "0.159237\tcontext: 1,(IntegerLiteralExpr1)^(BinaryExpr:minus1)^(MethodCallExpr)_(NameExpr2),f\n",
            "0.102514\tcontext: int,(PrimitiveType0)^(MethodDeclaration)_(NameExpr1),METHOD_NAME\n",
            "0.082340\tcontext: 0,(IntegerLiteralExpr1)^(BinaryExpr:equals)^(IfStmt)_(BlockStmt)_(ReturnStmt)_(IntegerLiteralExpr0),1\n",
            "0.060176\tcontext: METHOD_NAME,(NameExpr1)^(MethodDeclaration)_(BlockStmt)_(IfStmt)_(BlockStmt)_(ReturnStmt)_(BinaryExpr:times)_(NameExpr0),n\n",
            "0.059877\tcontext: int,(PrimitiveType1)^(Parameter)^(MethodDeclaration)_(BlockStmt)_(IfStmt)_(BlockStmt)_(ReturnStmt)_(IntegerLiteralExpr0),1\n",
            "0.042954\tcontext: int,(PrimitiveType0)^(MethodDeclaration)_(Parameter)_(VariableDeclaratorId0),n\n",
            "0.041031\tcontext: n,(VariableDeclaratorId0)^(Parameter)^(MethodDeclaration)_(BlockStmt)_(IfStmt)_(BlockStmt)_(ReturnStmt)_(BinaryExpr:times)_(NameExpr0),n\n",
            "0.033209\tcontext: int,(PrimitiveType0)^(MethodDeclaration)_(Parameter)_(PrimitiveType1),int\n",
            "0.029109\tcontext: n,(VariableDeclaratorId0)^(Parameter)_(PrimitiveType1),int\n",
            "Modify the file: \"Input.java\" and press any key when ready, or \"q\" / \"quit\" / \"exit\" to exit\n",
            "exit\n",
            "Exiting...\n"
          ],
          "name": "stdout"
        }
      ]
    },
    {
      "cell_type": "markdown",
      "metadata": {
        "id": "BurhVXSViMNw"
      },
      "source": [
        "After a couple of trial and error run, it seems the model is predicting only a default result for input functions. My guess, this is due to the *Jupyter Notebook* interface, but I can be wrong. Need to run the model offline in future, since my current configuration is not good enough to run such models."
      ]
    },
    {
      "cell_type": "markdown",
      "metadata": {
        "id": "c08VSP4rmkHd"
      },
      "source": [
        "### Checking the embeddings created by the model"
      ]
    },
    {
      "cell_type": "code",
      "metadata": {
        "id": "a4nyZ8nskS7T"
      },
      "source": [
        "from gensim.models import KeyedVectors as word2vec\n",
        "vectors_text_path = 'models/java14_model/targets.txt' # or: `models/java14_model/tokens.txt'\n",
        "model = word2vec.load_word2vec_format(vectors_text_path, binary=False)"
      ],
      "execution_count": null,
      "outputs": []
    },
    {
      "cell_type": "code",
      "metadata": {
        "colab": {
          "base_uri": "https://localhost:8080/"
        },
        "id": "gzxTh5Jhk-Cc",
        "outputId": "a90a0fa5-4ce6-4521-d601-0f7b3461e9e6"
      },
      "source": [
        "model.most_similar(positive=['equals', 'to|lower']) # or: 'tolower', if using the downloaded embeddings"
      ],
      "execution_count": 16,
      "outputs": [
        {
          "output_type": "execute_result",
          "data": {
            "text/plain": [
              "[('equals|ignore|case', 0.42434296011924744),\n",
              " ('to|lower|case', 0.3609984219074249),\n",
              " ('to|upper', 0.35575786232948303),\n",
              " ('camel|case', 0.35217034816741943),\n",
              " ('equals|normalized', 0.3509151041507721),\n",
              " ('standard|equals', 0.33294883370399475),\n",
              " ('equal|match', 0.3233056664466858),\n",
              " ('is|upper|case', 0.31760913133621216),\n",
              " ('get|color|array', 0.31566670536994934),\n",
              " ('test|equals|equivalent', 0.3095047175884247)]"
            ]
          },
          "metadata": {
            "tags": []
          },
          "execution_count": 16
        }
      ]
    },
    {
      "cell_type": "code",
      "metadata": {
        "colab": {
          "base_uri": "https://localhost:8080/"
        },
        "id": "VOhNoBWUlhPJ",
        "outputId": "36cecfe7-6ab4-42c5-82cb-22ba3c20f537"
      },
      "source": [
        "model.most_similar(positive=['download', 'send'], negative=['receive'])"
      ],
      "execution_count": 17,
      "outputs": [
        {
          "output_type": "execute_result",
          "data": {
            "text/plain": [
              "[('send|message', 0.2544481158256531),\n",
              " ('wait|for|completion', 0.22676804661750793),\n",
              " ('checkout', 0.22608843445777893),\n",
              " ('display', 0.22561199963092804),\n",
              " ('create|surface', 0.221379816532135),\n",
              " ('request|url', 0.22023360431194305),\n",
              " ('play', 0.21058186888694763),\n",
              " ('subscribe', 0.2058645784854889),\n",
              " ('replace', 0.20528222620487213),\n",
              " ('href', 0.2050342857837677)]"
            ]
          },
          "metadata": {
            "tags": []
          },
          "execution_count": 17
        }
      ]
    },
    {
      "cell_type": "code",
      "metadata": {
        "id": "eD2XxkrKllpb"
      },
      "source": [
        "vectors_text_path = 'models/java14_model/tokens.txt'\n",
        "model = word2vec.load_word2vec_format(vectors_text_path, binary=False)"
      ],
      "execution_count": 18,
      "outputs": []
    },
    {
      "cell_type": "code",
      "metadata": {
        "colab": {
          "base_uri": "https://localhost:8080/"
        },
        "id": "DlMuRfEAly2x",
        "outputId": "e0dc8a4b-761a-4f88-95de-d727e3ae8c9f"
      },
      "source": [
        "model.most_similar(positive=['equals', 'tolower']) # or: 'tolower', if using the downloaded embeddings"
      ],
      "execution_count": 20,
      "outputs": [
        {
          "output_type": "execute_result",
          "data": {
            "text/plain": [
              "[('equalsignorecase', 0.528664231300354),\n",
              " ('startvertexendpos', 0.4887391924858093),\n",
              " ('myequals', 0.48323819041252136),\n",
              " ('invariantlocalecollator', 0.4712514579296112),\n",
              " ('currentlocalecollator', 0.46890103816986084),\n",
              " ('bequals', 0.4582321345806122),\n",
              " ('emptymapsshouldbeequal', 0.45157575607299805),\n",
              " ('instanceswithdifferentdefaultvaluesarenotequal', 0.4490710198879242),\n",
              " ('assertrejects', 0.44240081310272217),\n",
              " ('slicekindconfiguration', 0.4329659342765808)]"
            ]
          },
          "metadata": {
            "tags": []
          },
          "execution_count": 20
        }
      ]
    },
    {
      "cell_type": "code",
      "metadata": {
        "colab": {
          "base_uri": "https://localhost:8080/"
        },
        "id": "lrDklRLnl2Ep",
        "outputId": "336b67b2-bd25-45fc-cddd-5b7e4b3d6e04"
      },
      "source": [
        "model.most_similar(positive=['download', 'send'], negative=['receive'])"
      ],
      "execution_count": 21,
      "outputs": [
        {
          "output_type": "execute_result",
          "data": {
            "text/plain": [
              "[('filepicturemanager', 0.4243929088115692),\n",
              " ('resumeonretry', 0.40389949083328247),\n",
              " ('deviceofflinedownload', 0.40292447805404663),\n",
              " ('downloadableartifacts', 0.39464467763900757),\n",
              " ('minstallbuttonguard', 0.3908683657646179),\n",
              " ('repeatcontext', 0.38964638113975525),\n",
              " ('holotrack', 0.3889748752117157),\n",
              " ('modelclipchanged', 0.3857502341270447),\n",
              " ('budwhitelapdcom', 0.38103920221328735),\n",
              " ('fixeddownloadlimitforapiroutine', 0.37883850932121277)]"
            ]
          },
          "metadata": {
            "tags": []
          },
          "execution_count": 21
        }
      ]
    },
    {
      "cell_type": "code",
      "metadata": {
        "id": "QxAW1qbGl4Am"
      },
      "source": [
        ""
      ],
      "execution_count": null,
      "outputs": []
    }
  ]
}