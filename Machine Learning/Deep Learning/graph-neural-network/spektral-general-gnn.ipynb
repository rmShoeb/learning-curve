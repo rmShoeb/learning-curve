{
 "cells": [
  {
   "cell_type": "code",
   "execution_count": 1,
   "id": "cd9cd117",
   "metadata": {
    "_cell_guid": "b1076dfc-b9ad-4769-8c92-a6c4dae69d19",
    "_kg_hide-output": true,
    "_uuid": "8f2839f25d086af736a60e9eeb907d3b93b6e0e5",
    "execution": {
     "iopub.execute_input": "2021-07-24T16:33:44.350306Z",
     "iopub.status.busy": "2021-07-24T16:33:44.348772Z",
     "iopub.status.idle": "2021-07-24T16:34:57.698694Z",
     "shell.execute_reply": "2021-07-24T16:34:57.698117Z",
     "shell.execute_reply.started": "2021-07-24T16:03:32.915676Z"
    },
    "papermill": {
     "duration": 73.364516,
     "end_time": "2021-07-24T16:34:57.698843",
     "exception": false,
     "start_time": "2021-07-24T16:33:44.334327",
     "status": "completed"
    },
    "tags": []
   },
   "outputs": [
    {
     "name": "stdout",
     "output_type": "stream",
     "text": [
      "Collecting spektral\r\n",
      "  Downloading spektral-1.0.7-py3-none-any.whl (122 kB)\r\n",
      "\u001b[K     |████████████████████████████████| 122 kB 390 kB/s \r\n",
      "\u001b[?25hRequirement already satisfied: scikit-learn in /opt/conda/lib/python3.7/site-packages (from spektral) (0.23.2)\r\n",
      "Requirement already satisfied: networkx in /opt/conda/lib/python3.7/site-packages (from spektral) (2.5)\r\n",
      "Collecting tensorflow>=2.1.0\r\n",
      "  Downloading tensorflow-2.5.0-cp37-cp37m-manylinux2010_x86_64.whl (454.3 MB)\r\n",
      "\u001b[K     |████████████████████████████████| 454.3 MB 8.8 kB/s \r\n",
      "\u001b[?25hRequirement already satisfied: tqdm in /opt/conda/lib/python3.7/site-packages (from spektral) (4.61.1)\r\n",
      "Requirement already satisfied: numpy<1.20 in /opt/conda/lib/python3.7/site-packages (from spektral) (1.19.5)\r\n",
      "Requirement already satisfied: lxml in /opt/conda/lib/python3.7/site-packages (from spektral) (4.6.3)\r\n",
      "Requirement already satisfied: pandas in /opt/conda/lib/python3.7/site-packages (from spektral) (1.2.4)\r\n",
      "Requirement already satisfied: joblib in /opt/conda/lib/python3.7/site-packages (from spektral) (1.0.1)\r\n",
      "Requirement already satisfied: requests in /opt/conda/lib/python3.7/site-packages (from spektral) (2.25.1)\r\n",
      "Requirement already satisfied: scipy in /opt/conda/lib/python3.7/site-packages (from spektral) (1.6.3)\r\n",
      "Requirement already satisfied: astunparse~=1.6.3 in /opt/conda/lib/python3.7/site-packages (from tensorflow>=2.1.0->spektral) (1.6.3)\r\n",
      "Requirement already satisfied: protobuf>=3.9.2 in /opt/conda/lib/python3.7/site-packages (from tensorflow>=2.1.0->spektral) (3.17.3)\r\n",
      "Collecting gast==0.4.0\r\n",
      "  Downloading gast-0.4.0-py3-none-any.whl (9.8 kB)\r\n",
      "Collecting grpcio~=1.34.0\r\n",
      "  Downloading grpcio-1.34.1-cp37-cp37m-manylinux2014_x86_64.whl (4.0 MB)\r\n",
      "\u001b[K     |████████████████████████████████| 4.0 MB 17.8 MB/s \r\n",
      "\u001b[?25hRequirement already satisfied: termcolor~=1.1.0 in /opt/conda/lib/python3.7/site-packages (from tensorflow>=2.1.0->spektral) (1.1.0)\r\n",
      "Requirement already satisfied: flatbuffers~=1.12.0 in /opt/conda/lib/python3.7/site-packages (from tensorflow>=2.1.0->spektral) (1.12)\r\n",
      "Requirement already satisfied: keras-preprocessing~=1.1.2 in /opt/conda/lib/python3.7/site-packages (from tensorflow>=2.1.0->spektral) (1.1.2)\r\n",
      "Requirement already satisfied: google-pasta~=0.2 in /opt/conda/lib/python3.7/site-packages (from tensorflow>=2.1.0->spektral) (0.2.0)\r\n",
      "Requirement already satisfied: absl-py~=0.10 in /opt/conda/lib/python3.7/site-packages (from tensorflow>=2.1.0->spektral) (0.12.0)\r\n",
      "Collecting keras-nightly~=2.5.0.dev\r\n",
      "  Downloading keras_nightly-2.5.0.dev2021032900-py2.py3-none-any.whl (1.2 MB)\r\n",
      "\u001b[K     |████████████████████████████████| 1.2 MB 31.5 MB/s \r\n",
      "\u001b[?25hRequirement already satisfied: six~=1.15.0 in /opt/conda/lib/python3.7/site-packages (from tensorflow>=2.1.0->spektral) (1.15.0)\r\n",
      "Requirement already satisfied: opt-einsum~=3.3.0 in /opt/conda/lib/python3.7/site-packages (from tensorflow>=2.1.0->spektral) (3.3.0)\r\n",
      "Requirement already satisfied: wheel~=0.35 in /opt/conda/lib/python3.7/site-packages (from tensorflow>=2.1.0->spektral) (0.36.2)\r\n",
      "Collecting tensorboard~=2.5\r\n",
      "  Downloading tensorboard-2.5.0-py3-none-any.whl (6.0 MB)\r\n",
      "\u001b[K     |████████████████████████████████| 6.0 MB 26.5 MB/s \r\n",
      "\u001b[?25hRequirement already satisfied: typing-extensions~=3.7.4 in /opt/conda/lib/python3.7/site-packages (from tensorflow>=2.1.0->spektral) (3.7.4.3)\r\n",
      "Requirement already satisfied: wrapt~=1.12.1 in /opt/conda/lib/python3.7/site-packages (from tensorflow>=2.1.0->spektral) (1.12.1)\r\n",
      "Collecting h5py~=3.1.0\r\n",
      "  Downloading h5py-3.1.0-cp37-cp37m-manylinux1_x86_64.whl (4.0 MB)\r\n",
      "\u001b[K     |████████████████████████████████| 4.0 MB 31.5 MB/s \r\n",
      "\u001b[?25hCollecting tensorflow-estimator<2.6.0,>=2.5.0rc0\r\n",
      "  Downloading tensorflow_estimator-2.5.0-py2.py3-none-any.whl (462 kB)\r\n",
      "\u001b[K     |████████████████████████████████| 462 kB 31.3 MB/s \r\n",
      "\u001b[?25hCollecting cached-property\r\n",
      "  Downloading cached_property-1.5.2-py2.py3-none-any.whl (7.6 kB)\r\n",
      "Requirement already satisfied: tensorboard-plugin-wit>=1.6.0 in /opt/conda/lib/python3.7/site-packages (from tensorboard~=2.5->tensorflow>=2.1.0->spektral) (1.8.0)\r\n",
      "Requirement already satisfied: tensorboard-data-server<0.7.0,>=0.6.0 in /opt/conda/lib/python3.7/site-packages (from tensorboard~=2.5->tensorflow>=2.1.0->spektral) (0.6.1)\r\n",
      "Requirement already satisfied: werkzeug>=0.11.15 in /opt/conda/lib/python3.7/site-packages (from tensorboard~=2.5->tensorflow>=2.1.0->spektral) (2.0.1)\r\n",
      "Requirement already satisfied: markdown>=2.6.8 in /opt/conda/lib/python3.7/site-packages (from tensorboard~=2.5->tensorflow>=2.1.0->spektral) (3.3.4)\r\n",
      "Requirement already satisfied: google-auth-oauthlib<0.5,>=0.4.1 in /opt/conda/lib/python3.7/site-packages (from tensorboard~=2.5->tensorflow>=2.1.0->spektral) (0.4.4)\r\n",
      "Requirement already satisfied: google-auth<2,>=1.6.3 in /opt/conda/lib/python3.7/site-packages (from tensorboard~=2.5->tensorflow>=2.1.0->spektral) (1.30.2)\r\n",
      "Requirement already satisfied: setuptools>=41.0.0 in /opt/conda/lib/python3.7/site-packages (from tensorboard~=2.5->tensorflow>=2.1.0->spektral) (49.6.0.post20210108)\r\n",
      "Requirement already satisfied: pyasn1-modules>=0.2.1 in /opt/conda/lib/python3.7/site-packages (from google-auth<2,>=1.6.3->tensorboard~=2.5->tensorflow>=2.1.0->spektral) (0.2.7)\r\n",
      "Requirement already satisfied: rsa<5,>=3.1.4 in /opt/conda/lib/python3.7/site-packages (from google-auth<2,>=1.6.3->tensorboard~=2.5->tensorflow>=2.1.0->spektral) (4.7.2)\r\n",
      "Requirement already satisfied: cachetools<5.0,>=2.0.0 in /opt/conda/lib/python3.7/site-packages (from google-auth<2,>=1.6.3->tensorboard~=2.5->tensorflow>=2.1.0->spektral) (4.2.2)\r\n",
      "Requirement already satisfied: requests-oauthlib>=0.7.0 in /opt/conda/lib/python3.7/site-packages (from google-auth-oauthlib<0.5,>=0.4.1->tensorboard~=2.5->tensorflow>=2.1.0->spektral) (1.3.0)\r\n",
      "Requirement already satisfied: importlib-metadata in /opt/conda/lib/python3.7/site-packages (from markdown>=2.6.8->tensorboard~=2.5->tensorflow>=2.1.0->spektral) (3.4.0)\r\n",
      "Requirement already satisfied: pyasn1<0.5.0,>=0.4.6 in /opt/conda/lib/python3.7/site-packages (from pyasn1-modules>=0.2.1->google-auth<2,>=1.6.3->tensorboard~=2.5->tensorflow>=2.1.0->spektral) (0.4.8)\r\n",
      "Requirement already satisfied: urllib3<1.27,>=1.21.1 in /opt/conda/lib/python3.7/site-packages (from requests->spektral) (1.26.5)\r\n",
      "Requirement already satisfied: idna<3,>=2.5 in /opt/conda/lib/python3.7/site-packages (from requests->spektral) (2.10)\r\n",
      "Requirement already satisfied: certifi>=2017.4.17 in /opt/conda/lib/python3.7/site-packages (from requests->spektral) (2021.5.30)\r\n",
      "Requirement already satisfied: chardet<5,>=3.0.2 in /opt/conda/lib/python3.7/site-packages (from requests->spektral) (4.0.0)\r\n",
      "Requirement already satisfied: oauthlib>=3.0.0 in /opt/conda/lib/python3.7/site-packages (from requests-oauthlib>=0.7.0->google-auth-oauthlib<0.5,>=0.4.1->tensorboard~=2.5->tensorflow>=2.1.0->spektral) (3.1.1)\r\n",
      "Requirement already satisfied: zipp>=0.5 in /opt/conda/lib/python3.7/site-packages (from importlib-metadata->markdown>=2.6.8->tensorboard~=2.5->tensorflow>=2.1.0->spektral) (3.4.1)\r\n",
      "Requirement already satisfied: decorator>=4.3.0 in /opt/conda/lib/python3.7/site-packages (from networkx->spektral) (5.0.9)\r\n",
      "Requirement already satisfied: python-dateutil>=2.7.3 in /opt/conda/lib/python3.7/site-packages (from pandas->spektral) (2.8.1)\r\n",
      "Requirement already satisfied: pytz>=2017.3 in /opt/conda/lib/python3.7/site-packages (from pandas->spektral) (2021.1)\r\n",
      "Requirement already satisfied: threadpoolctl>=2.0.0 in /opt/conda/lib/python3.7/site-packages (from scikit-learn->spektral) (2.1.0)\r\n",
      "Installing collected packages: grpcio, cached-property, tensorflow-estimator, tensorboard, keras-nightly, h5py, gast, tensorflow, spektral\r\n",
      "  Attempting uninstall: grpcio\r\n",
      "    Found existing installation: grpcio 1.32.0\r\n",
      "    Uninstalling grpcio-1.32.0:\r\n",
      "      Successfully uninstalled grpcio-1.32.0\r\n",
      "  Attempting uninstall: tensorflow-estimator\r\n",
      "    Found existing installation: tensorflow-estimator 2.4.0\r\n",
      "    Uninstalling tensorflow-estimator-2.4.0:\r\n",
      "      Successfully uninstalled tensorflow-estimator-2.4.0\r\n",
      "  Attempting uninstall: tensorboard\r\n",
      "    Found existing installation: tensorboard 2.4.1\r\n",
      "    Uninstalling tensorboard-2.4.1:\r\n",
      "      Successfully uninstalled tensorboard-2.4.1\r\n",
      "  Attempting uninstall: h5py\r\n",
      "    Found existing installation: h5py 2.10.0\r\n",
      "    Uninstalling h5py-2.10.0:\r\n",
      "      Successfully uninstalled h5py-2.10.0\r\n",
      "  Attempting uninstall: gast\r\n",
      "    Found existing installation: gast 0.3.3\r\n",
      "    Uninstalling gast-0.3.3:\r\n",
      "      Successfully uninstalled gast-0.3.3\r\n",
      "\u001b[31mERROR: pip's dependency resolver does not currently take into account all the packages that are installed. This behaviour is the source of the following dependency conflicts.\r\n",
      "tensorflow-gpu 2.4.1 requires gast==0.3.3, but you have gast 0.4.0 which is incompatible.\r\n",
      "tensorflow-gpu 2.4.1 requires grpcio~=1.32.0, but you have grpcio 1.34.1 which is incompatible.\r\n",
      "tensorflow-gpu 2.4.1 requires h5py~=2.10.0, but you have h5py 3.1.0 which is incompatible.\r\n",
      "tensorflow-gpu 2.4.1 requires tensorflow-estimator<2.5.0,>=2.4.0, but you have tensorflow-estimator 2.5.0 which is incompatible.\r\n",
      "pytorch-lightning 1.3.8 requires tensorboard!=2.5.0,>=2.2.0, but you have tensorboard 2.5.0 which is incompatible.\u001b[0m\r\n",
      "Successfully installed cached-property-1.5.2 gast-0.4.0 grpcio-1.34.1 h5py-3.1.0 keras-nightly-2.5.0.dev2021032900 spektral-1.0.7 tensorboard-2.5.0 tensorflow-2.5.0 tensorflow-estimator-2.5.0\r\n",
      "\u001b[33mWARNING: Running pip as root will break packages and permissions. You should install packages reliably by using venv: https://pip.pypa.io/warnings/venv\u001b[0m\r\n"
     ]
    }
   ],
   "source": [
    "!pip install spektral"
   ]
  },
  {
   "cell_type": "code",
   "execution_count": 2,
   "id": "6fd8e22d",
   "metadata": {
    "execution": {
     "iopub.execute_input": "2021-07-24T16:34:58.258096Z",
     "iopub.status.busy": "2021-07-24T16:34:58.257267Z",
     "iopub.status.idle": "2021-07-24T16:35:01.190020Z",
     "shell.execute_reply": "2021-07-24T16:35:01.188903Z",
     "shell.execute_reply.started": "2021-07-24T16:04:18.713477Z"
    },
    "papermill": {
     "duration": 3.214121,
     "end_time": "2021-07-24T16:35:01.190157",
     "exception": false,
     "start_time": "2021-07-24T16:34:57.976036",
     "status": "completed"
    },
    "tags": []
   },
   "outputs": [],
   "source": [
    "import numpy as np\n",
    "import tensorflow as tf\n",
    "from tensorflow.keras.losses import CategoricalCrossentropy\n",
    "from tensorflow.keras.metrics import categorical_accuracy\n",
    "from tensorflow.keras.optimizers import Adam\n",
    "\n",
    "from spektral.data import DisjointLoader\n",
    "from spektral.datasets import TUDataset\n",
    "from spektral.models import GeneralGNN"
   ]
  },
  {
   "cell_type": "code",
   "execution_count": 3,
   "id": "14516fa1",
   "metadata": {
    "execution": {
     "iopub.execute_input": "2021-07-24T16:35:01.885022Z",
     "iopub.status.busy": "2021-07-24T16:35:01.884244Z",
     "iopub.status.idle": "2021-07-24T16:35:01.888123Z",
     "shell.execute_reply": "2021-07-24T16:35:01.888513Z",
     "shell.execute_reply.started": "2021-07-24T16:04:22.030593Z"
    },
    "papermill": {
     "duration": 0.426367,
     "end_time": "2021-07-24T16:35:01.888663",
     "exception": false,
     "start_time": "2021-07-24T16:35:01.462296",
     "status": "completed"
    },
    "tags": []
   },
   "outputs": [],
   "source": [
    "physical_devices = tf.config.list_physical_devices(\"GPU\")\n",
    "if len(physical_devices) > 0:\n",
    "    tf.config.experimental.set_memory_growth(physical_devices[0], True)"
   ]
  },
  {
   "cell_type": "code",
   "execution_count": 4,
   "id": "697a029e",
   "metadata": {
    "execution": {
     "iopub.execute_input": "2021-07-24T16:35:02.441503Z",
     "iopub.status.busy": "2021-07-24T16:35:02.440741Z",
     "iopub.status.idle": "2021-07-24T16:35:02.444963Z",
     "shell.execute_reply": "2021-07-24T16:35:02.444473Z",
     "shell.execute_reply.started": "2021-07-24T16:05:22.435715Z"
    },
    "papermill": {
     "duration": 0.282957,
     "end_time": "2021-07-24T16:35:02.445081",
     "exception": false,
     "start_time": "2021-07-24T16:35:02.162124",
     "status": "completed"
    },
    "tags": []
   },
   "outputs": [],
   "source": [
    "################################################################################\n",
    "# Config\n",
    "################################################################################\n",
    "batch_size = 32\n",
    "learning_rate = 0.01\n",
    "epochs = 40"
   ]
  },
  {
   "cell_type": "code",
   "execution_count": 5,
   "id": "85e72a8f",
   "metadata": {
    "execution": {
     "iopub.execute_input": "2021-07-24T16:35:03.011760Z",
     "iopub.status.busy": "2021-07-24T16:35:03.011062Z",
     "iopub.status.idle": "2021-07-24T16:35:08.962511Z",
     "shell.execute_reply": "2021-07-24T16:35:08.963135Z",
     "shell.execute_reply.started": "2021-07-24T16:05:38.415095Z"
    },
    "papermill": {
     "duration": 6.235021,
     "end_time": "2021-07-24T16:35:08.963361",
     "exception": false,
     "start_time": "2021-07-24T16:35:02.728340",
     "status": "completed"
    },
    "tags": []
   },
   "outputs": [
    {
     "name": "stdout",
     "output_type": "stream",
     "text": [
      "Downloading PROTEINS dataset.\n"
     ]
    },
    {
     "name": "stderr",
     "output_type": "stream",
     "text": [
      "100%|█████████████████████████████████████████| 447k/447k [00:01<00:00, 331kB/s]\n"
     ]
    },
    {
     "name": "stdout",
     "output_type": "stream",
     "text": [
      "Successfully loaded PROTEINS.\n"
     ]
    }
   ],
   "source": [
    "################################################################################\n",
    "# Load data\n",
    "################################################################################\n",
    "data = TUDataset(\"PROTEINS\")\n",
    "\n",
    "# Train/test split\n",
    "np.random.shuffle(data)\n",
    "split = int(0.8 * len(data))\n",
    "data_tr, data_te = data[:split], data[split:]\n",
    "\n",
    "# Data loaders\n",
    "loader_tr = DisjointLoader(data_tr, batch_size=batch_size, epochs=epochs)\n",
    "loader_te = DisjointLoader(data_te, batch_size=batch_size)"
   ]
  },
  {
   "cell_type": "code",
   "execution_count": 6,
   "id": "8271e639",
   "metadata": {
    "execution": {
     "iopub.execute_input": "2021-07-24T16:35:09.526585Z",
     "iopub.status.busy": "2021-07-24T16:35:09.525836Z",
     "iopub.status.idle": "2021-07-24T16:35:09.529092Z",
     "shell.execute_reply": "2021-07-24T16:35:09.529498Z",
     "shell.execute_reply.started": "2021-07-24T16:09:36.097089Z"
    },
    "papermill": {
     "duration": 0.287433,
     "end_time": "2021-07-24T16:35:09.529629",
     "exception": false,
     "start_time": "2021-07-24T16:35:09.242196",
     "status": "completed"
    },
    "tags": []
   },
   "outputs": [
    {
     "data": {
      "text/plain": [
       "Graph(n_nodes=62, n_node_features=4, n_edge_features=None, n_labels=2)"
      ]
     },
     "execution_count": 6,
     "metadata": {},
     "output_type": "execute_result"
    }
   ],
   "source": [
    "data[0]"
   ]
  },
  {
   "cell_type": "code",
   "execution_count": 7,
   "id": "8879b622",
   "metadata": {
    "execution": {
     "iopub.execute_input": "2021-07-24T16:35:10.088376Z",
     "iopub.status.busy": "2021-07-24T16:35:10.087474Z",
     "iopub.status.idle": "2021-07-24T16:35:10.130782Z",
     "shell.execute_reply": "2021-07-24T16:35:10.131187Z",
     "shell.execute_reply.started": "2021-07-24T16:27:48.661105Z"
    },
    "papermill": {
     "duration": 0.327204,
     "end_time": "2021-07-24T16:35:10.131335",
     "exception": false,
     "start_time": "2021-07-24T16:35:09.804131",
     "status": "completed"
    },
    "tags": []
   },
   "outputs": [],
   "source": [
    "################################################################################\n",
    "# Build model\n",
    "################################################################################\n",
    "model = GeneralGNN(data.n_labels, activation=\"softmax\")\n",
    "optimizer = Adam(learning_rate)\n",
    "loss_fn = CategoricalCrossentropy()"
   ]
  },
  {
   "cell_type": "code",
   "execution_count": 8,
   "id": "901f1ff1",
   "metadata": {
    "_kg_hide-output": true,
    "execution": {
     "iopub.execute_input": "2021-07-24T16:35:10.700203Z",
     "iopub.status.busy": "2021-07-24T16:35:10.698985Z",
     "iopub.status.idle": "2021-07-24T16:38:02.624379Z",
     "shell.execute_reply": "2021-07-24T16:38:02.623877Z",
     "shell.execute_reply.started": "2021-07-24T16:28:53.420330Z"
    },
    "papermill": {
     "duration": 172.219105,
     "end_time": "2021-07-24T16:38:02.624516",
     "exception": false,
     "start_time": "2021-07-24T16:35:10.405411",
     "status": "completed"
    },
    "tags": []
   },
   "outputs": [
    {
     "name": "stdout",
     "output_type": "stream",
     "text": [
      "Ep. 1 - Loss: 0.663 - Acc: 0.603 - Test loss: 4.251 - Test acc: 0.439\n",
      "Ep. 2 - Loss: 0.546 - Acc: 0.736 - Test loss: 4.416 - Test acc: 0.408\n",
      "Ep. 3 - Loss: 0.521 - Acc: 0.746 - Test loss: 1.912 - Test acc: 0.408\n",
      "Ep. 4 - Loss: 0.528 - Acc: 0.737 - Test loss: 0.728 - Test acc: 0.583\n",
      "Ep. 5 - Loss: 0.521 - Acc: 0.739 - Test loss: 1.281 - Test acc: 0.448\n",
      "Ep. 6 - Loss: 0.514 - Acc: 0.745 - Test loss: 0.660 - Test acc: 0.623\n",
      "Ep. 7 - Loss: 0.511 - Acc: 0.753 - Test loss: 0.604 - Test acc: 0.722\n",
      "Ep. 8 - Loss: 0.504 - Acc: 0.759 - Test loss: 0.508 - Test acc: 0.798\n",
      "Ep. 9 - Loss: 0.501 - Acc: 0.761 - Test loss: 0.592 - Test acc: 0.731\n",
      "Ep. 10 - Loss: 0.502 - Acc: 0.763 - Test loss: 0.662 - Test acc: 0.673\n",
      "Ep. 11 - Loss: 0.510 - Acc: 0.749 - Test loss: 0.528 - Test acc: 0.744\n",
      "Ep. 12 - Loss: 0.486 - Acc: 0.772 - Test loss: 0.898 - Test acc: 0.596\n",
      "Ep. 13 - Loss: 0.502 - Acc: 0.775 - Test loss: 0.587 - Test acc: 0.749\n",
      "Ep. 14 - Loss: 0.497 - Acc: 0.766 - Test loss: 1.032 - Test acc: 0.516\n",
      "Ep. 15 - Loss: 0.470 - Acc: 0.789 - Test loss: 0.839 - Test acc: 0.614\n",
      "Ep. 16 - Loss: 0.468 - Acc: 0.784 - Test loss: 0.754 - Test acc: 0.574\n",
      "Ep. 17 - Loss: 0.457 - Acc: 0.798 - Test loss: 1.258 - Test acc: 0.587\n",
      "Ep. 18 - Loss: 0.475 - Acc: 0.779 - Test loss: 0.564 - Test acc: 0.735\n",
      "Ep. 19 - Loss: 0.475 - Acc: 0.776 - Test loss: 0.493 - Test acc: 0.803\n",
      "Ep. 20 - Loss: 0.476 - Acc: 0.785 - Test loss: 0.562 - Test acc: 0.767\n",
      "Ep. 21 - Loss: 0.455 - Acc: 0.788 - Test loss: 0.593 - Test acc: 0.709\n",
      "Ep. 22 - Loss: 0.466 - Acc: 0.783 - Test loss: 0.496 - Test acc: 0.771\n",
      "Ep. 23 - Loss: 0.475 - Acc: 0.781 - Test loss: 0.526 - Test acc: 0.785\n",
      "Ep. 24 - Loss: 0.459 - Acc: 0.793 - Test loss: 0.538 - Test acc: 0.762\n",
      "Ep. 25 - Loss: 0.449 - Acc: 0.784 - Test loss: 0.531 - Test acc: 0.753\n",
      "Ep. 26 - Loss: 0.445 - Acc: 0.790 - Test loss: 0.542 - Test acc: 0.740\n",
      "Ep. 27 - Loss: 0.439 - Acc: 0.800 - Test loss: 0.830 - Test acc: 0.516\n",
      "Ep. 28 - Loss: 0.461 - Acc: 0.783 - Test loss: 0.826 - Test acc: 0.462\n",
      "Ep. 29 - Loss: 0.432 - Acc: 0.810 - Test loss: 0.954 - Test acc: 0.525\n",
      "Ep. 30 - Loss: 0.412 - Acc: 0.808 - Test loss: 0.681 - Test acc: 0.587\n",
      "Ep. 31 - Loss: 0.436 - Acc: 0.797 - Test loss: 0.498 - Test acc: 0.758\n",
      "Ep. 32 - Loss: 0.430 - Acc: 0.813 - Test loss: 0.773 - Test acc: 0.601\n",
      "Ep. 33 - Loss: 0.402 - Acc: 0.815 - Test loss: 1.332 - Test acc: 0.525\n",
      "Ep. 34 - Loss: 0.426 - Acc: 0.810 - Test loss: 1.368 - Test acc: 0.435\n",
      "Ep. 35 - Loss: 0.431 - Acc: 0.799 - Test loss: 0.761 - Test acc: 0.538\n",
      "Ep. 36 - Loss: 0.380 - Acc: 0.832 - Test loss: 0.669 - Test acc: 0.650\n",
      "Ep. 37 - Loss: 0.387 - Acc: 0.827 - Test loss: 0.672 - Test acc: 0.726\n",
      "Ep. 38 - Loss: 0.416 - Acc: 0.804 - Test loss: 0.801 - Test acc: 0.587\n",
      "Ep. 39 - Loss: 0.403 - Acc: 0.814 - Test loss: 2.935 - Test acc: 0.413\n",
      "Ep. 40 - Loss: 0.405 - Acc: 0.801 - Test loss: 0.583 - Test acc: 0.713\n"
     ]
    }
   ],
   "source": [
    "################################################################################\n",
    "# Fit model\n",
    "################################################################################\n",
    "@tf.function(input_signature=loader_tr.tf_signature(), experimental_relax_shapes=True)\n",
    "def train_step(inputs, target):\n",
    "    with tf.GradientTape() as tape:\n",
    "        predictions = model(inputs, training=True)\n",
    "        loss = loss_fn(target, predictions) + sum(model.losses)\n",
    "    gradients = tape.gradient(loss, model.trainable_variables)\n",
    "    optimizer.apply_gradients(zip(gradients, model.trainable_variables))\n",
    "    acc = tf.reduce_mean(categorical_accuracy(target, predictions))\n",
    "    return loss, acc\n",
    "\n",
    "\n",
    "def evaluate(loader):\n",
    "    output = []\n",
    "    step = 0\n",
    "    while step < loader.steps_per_epoch:\n",
    "        step += 1\n",
    "        inputs, target = loader.__next__()\n",
    "        pred = model(inputs, training=False)\n",
    "        outs = (\n",
    "            loss_fn(target, pred),\n",
    "            tf.reduce_mean(categorical_accuracy(target, pred)),\n",
    "            len(target),  # Keep track of batch size\n",
    "        )\n",
    "        output.append(outs)\n",
    "        if step == loader.steps_per_epoch:\n",
    "            output = np.array(output)\n",
    "            return np.average(output[:, :-1], 0, weights=output[:, -1])\n",
    "\n",
    "\n",
    "epoch = step = 0\n",
    "results = []\n",
    "for batch in loader_tr:\n",
    "    step += 1\n",
    "    loss, acc = train_step(*batch)\n",
    "    results.append((loss, acc))\n",
    "    if step == loader_tr.steps_per_epoch:\n",
    "        step = 0\n",
    "        epoch += 1\n",
    "        results_te = evaluate(loader_te)\n",
    "        print(\n",
    "            \"Ep. {} - Loss: {:.3f} - Acc: {:.3f} - Test loss: {:.3f} - Test acc: {:.3f}\".format(\n",
    "                epoch, *np.mean(results, 0), *results_te\n",
    "            )\n",
    "        )\n",
    "        results = []"
   ]
  },
  {
   "cell_type": "code",
   "execution_count": 9,
   "id": "3fb542c2",
   "metadata": {
    "execution": {
     "iopub.execute_input": "2021-07-24T16:38:03.226842Z",
     "iopub.status.busy": "2021-07-24T16:38:03.225980Z",
     "iopub.status.idle": "2021-07-24T16:38:03.651656Z",
     "shell.execute_reply": "2021-07-24T16:38:03.650462Z",
     "shell.execute_reply.started": "2021-07-24T16:32:39.403448Z"
    },
    "papermill": {
     "duration": 0.721567,
     "end_time": "2021-07-24T16:38:03.651865",
     "exception": false,
     "start_time": "2021-07-24T16:38:02.930298",
     "status": "completed"
    },
    "tags": []
   },
   "outputs": [
    {
     "name": "stdout",
     "output_type": "stream",
     "text": [
      "Final results - Loss: 0.583 - Acc: 0.713\n"
     ]
    }
   ],
   "source": [
    "################################################################################\n",
    "# Evaluate model\n",
    "################################################################################\n",
    "results_te = evaluate(loader_te)\n",
    "print(\"Final results - Loss: {:.3f} - Acc: {:.3f}\".format(*results_te))"
   ]
  },
  {
   "cell_type": "code",
   "execution_count": null,
   "id": "3ea6da20",
   "metadata": {
    "papermill": {
     "duration": 0.313709,
     "end_time": "2021-07-24T16:38:04.307165",
     "exception": false,
     "start_time": "2021-07-24T16:38:03.993456",
     "status": "completed"
    },
    "tags": []
   },
   "outputs": [],
   "source": []
  }
 ],
 "metadata": {
  "kernelspec": {
   "display_name": "Python 3",
   "language": "python",
   "name": "python3"
  },
  "language_info": {
   "codemirror_mode": {
    "name": "ipython",
    "version": 3
   },
   "file_extension": ".py",
   "mimetype": "text/x-python",
   "name": "python",
   "nbconvert_exporter": "python",
   "pygments_lexer": "ipython3",
   "version": "3.7.10"
  },
  "papermill": {
   "default_parameters": {},
   "duration": 268.823917,
   "end_time": "2021-07-24T16:38:06.104018",
   "environment_variables": {},
   "exception": null,
   "input_path": "__notebook__.ipynb",
   "output_path": "__notebook__.ipynb",
   "parameters": {},
   "start_time": "2021-07-24T16:33:37.280101",
   "version": "2.3.3"
  }
 },
 "nbformat": 4,
 "nbformat_minor": 5
}
