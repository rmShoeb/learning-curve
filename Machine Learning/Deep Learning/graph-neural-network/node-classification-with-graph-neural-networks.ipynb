{
 "cells": [
  {
   "cell_type": "markdown",
   "id": "e1be9149",
   "metadata": {
    "papermill": {
     "duration": 0.039026,
     "end_time": "2021-07-23T17:41:56.131498",
     "exception": false,
     "start_time": "2021-07-23T17:41:56.092472",
     "status": "completed"
    },
    "tags": []
   },
   "source": [
    "<a href=\"https://keras.io/examples/graph/gnn_citations\"><h1>Node Classification with Graph Neural Networks - Keras</h1></a>"
   ]
  },
  {
   "cell_type": "markdown",
   "id": "f1f504e9",
   "metadata": {
    "papermill": {
     "duration": 0.034563,
     "end_time": "2021-07-23T17:41:56.201385",
     "exception": false,
     "start_time": "2021-07-23T17:41:56.166822",
     "status": "completed"
    },
    "tags": []
   },
   "source": [
    "# Imports"
   ]
  },
  {
   "cell_type": "code",
   "execution_count": 1,
   "id": "3e63d0c5",
   "metadata": {
    "_cell_guid": "b1076dfc-b9ad-4769-8c92-a6c4dae69d19",
    "_uuid": "8f2839f25d086af736a60e9eeb907d3b93b6e0e5",
    "execution": {
     "iopub.execute_input": "2021-07-23T17:41:56.284969Z",
     "iopub.status.busy": "2021-07-23T17:41:56.284293Z",
     "iopub.status.idle": "2021-07-23T17:42:02.945914Z",
     "shell.execute_reply": "2021-07-23T17:42:02.945214Z",
     "shell.execute_reply.started": "2021-07-23T16:22:05.210082Z"
    },
    "papermill": {
     "duration": 6.709512,
     "end_time": "2021-07-23T17:42:02.946110",
     "exception": false,
     "start_time": "2021-07-23T17:41:56.236598",
     "status": "completed"
    },
    "tags": []
   },
   "outputs": [],
   "source": [
    "import os\n",
    "import pandas as pd\n",
    "import numpy as np\n",
    "import networkx as nx\n",
    "import matplotlib.pyplot as plt\n",
    "import tensorflow as tf\n",
    "from tensorflow import keras\n",
    "from tensorflow.keras import layers"
   ]
  },
  {
   "cell_type": "markdown",
   "id": "a46ac4d9",
   "metadata": {
    "papermill": {
     "duration": 0.034208,
     "end_time": "2021-07-23T17:42:03.015274",
     "exception": false,
     "start_time": "2021-07-23T17:42:02.981066",
     "status": "completed"
    },
    "tags": []
   },
   "source": [
    "# Prepare the Dataset"
   ]
  },
  {
   "cell_type": "markdown",
   "id": "16b132ea",
   "metadata": {
    "papermill": {
     "duration": 0.034074,
     "end_time": "2021-07-23T17:42:03.083918",
     "exception": false,
     "start_time": "2021-07-23T17:42:03.049844",
     "status": "completed"
    },
    "tags": []
   },
   "source": [
    "## Download the Dataset"
   ]
  },
  {
   "cell_type": "markdown",
   "id": "21dae041",
   "metadata": {
    "papermill": {
     "duration": 0.034139,
     "end_time": "2021-07-23T17:42:03.153468",
     "exception": false,
     "start_time": "2021-07-23T17:42:03.119329",
     "status": "completed"
    },
    "tags": []
   },
   "source": [
    "<a href=\"https://relational.fit.cvut.cz/dataset/CORA\">CORA Dataset</a>"
   ]
  },
  {
   "cell_type": "code",
   "execution_count": 2,
   "id": "0f3a0531",
   "metadata": {
    "execution": {
     "iopub.execute_input": "2021-07-23T17:42:03.227720Z",
     "iopub.status.busy": "2021-07-23T17:42:03.227060Z",
     "iopub.status.idle": "2021-07-23T17:42:04.579269Z",
     "shell.execute_reply": "2021-07-23T17:42:04.579773Z",
     "shell.execute_reply.started": "2021-07-23T16:25:50.365034Z"
    },
    "papermill": {
     "duration": 1.392099,
     "end_time": "2021-07-23T17:42:04.579963",
     "exception": false,
     "start_time": "2021-07-23T17:42:03.187864",
     "status": "completed"
    },
    "tags": []
   },
   "outputs": [
    {
     "name": "stdout",
     "output_type": "stream",
     "text": [
      "Downloading data from https://linqs-data.soe.ucsc.edu/public/lbc/cora.tgz\n",
      "172032/168052 [==============================] - 0s 2us/step\n"
     ]
    }
   ],
   "source": [
    "zip_file = keras.utils.get_file(\n",
    "    fname=\"cora.tgz\",\n",
    "    origin=\"https://linqs-data.soe.ucsc.edu/public/lbc/cora.tgz\",\n",
    "    extract=True,\n",
    ")\n",
    "data_dir = os.path.join(os.path.dirname(zip_file), \"cora\")"
   ]
  },
  {
   "cell_type": "markdown",
   "id": "7d6f597b",
   "metadata": {
    "papermill": {
     "duration": 0.037176,
     "end_time": "2021-07-23T17:42:04.654168",
     "exception": false,
     "start_time": "2021-07-23T17:42:04.616992",
     "status": "completed"
    },
    "tags": []
   },
   "source": [
    "## Process and Visualize the Dataset"
   ]
  },
  {
   "cell_type": "code",
   "execution_count": 3,
   "id": "a7816656",
   "metadata": {
    "execution": {
     "iopub.execute_input": "2021-07-23T17:42:04.730280Z",
     "iopub.status.busy": "2021-07-23T17:42:04.729294Z",
     "iopub.status.idle": "2021-07-23T17:42:04.745438Z",
     "shell.execute_reply": "2021-07-23T17:42:04.744307Z",
     "shell.execute_reply.started": "2021-07-23T16:26:26.046691Z"
    },
    "papermill": {
     "duration": 0.055417,
     "end_time": "2021-07-23T17:42:04.745655",
     "exception": false,
     "start_time": "2021-07-23T17:42:04.690238",
     "status": "completed"
    },
    "tags": []
   },
   "outputs": [
    {
     "name": "stdout",
     "output_type": "stream",
     "text": [
      "Citations shape: (5429, 2)\n"
     ]
    }
   ],
   "source": [
    "citations = pd.read_csv(\n",
    "    os.path.join(data_dir, \"cora.cites\"),\n",
    "    sep=\"\\t\",\n",
    "    header=None,\n",
    "    names=[\"target\", \"source\"],\n",
    ")\n",
    "print(\"Citations shape:\", citations.shape)"
   ]
  },
  {
   "cell_type": "code",
   "execution_count": 4,
   "id": "cc20deee",
   "metadata": {
    "execution": {
     "iopub.execute_input": "2021-07-23T17:42:04.831569Z",
     "iopub.status.busy": "2021-07-23T17:42:04.830638Z",
     "iopub.status.idle": "2021-07-23T17:42:04.851552Z",
     "shell.execute_reply": "2021-07-23T17:42:04.852090Z",
     "shell.execute_reply.started": "2021-07-23T16:26:38.745556Z"
    },
    "papermill": {
     "duration": 0.069393,
     "end_time": "2021-07-23T17:42:04.852268",
     "exception": false,
     "start_time": "2021-07-23T17:42:04.782875",
     "status": "completed"
    },
    "tags": []
   },
   "outputs": [
    {
     "data": {
      "text/html": [
       "<div>\n",
       "<style scoped>\n",
       "    .dataframe tbody tr th:only-of-type {\n",
       "        vertical-align: middle;\n",
       "    }\n",
       "\n",
       "    .dataframe tbody tr th {\n",
       "        vertical-align: top;\n",
       "    }\n",
       "\n",
       "    .dataframe thead th {\n",
       "        text-align: right;\n",
       "    }\n",
       "</style>\n",
       "<table border=\"1\" class=\"dataframe\">\n",
       "  <thead>\n",
       "    <tr style=\"text-align: right;\">\n",
       "      <th></th>\n",
       "      <th>target</th>\n",
       "      <th>source</th>\n",
       "    </tr>\n",
       "  </thead>\n",
       "  <tbody>\n",
       "    <tr>\n",
       "      <th>0</th>\n",
       "      <td>35</td>\n",
       "      <td>1033</td>\n",
       "    </tr>\n",
       "    <tr>\n",
       "      <th>1</th>\n",
       "      <td>35</td>\n",
       "      <td>103482</td>\n",
       "    </tr>\n",
       "    <tr>\n",
       "      <th>2</th>\n",
       "      <td>35</td>\n",
       "      <td>103515</td>\n",
       "    </tr>\n",
       "    <tr>\n",
       "      <th>3</th>\n",
       "      <td>35</td>\n",
       "      <td>1050679</td>\n",
       "    </tr>\n",
       "    <tr>\n",
       "      <th>4</th>\n",
       "      <td>35</td>\n",
       "      <td>1103960</td>\n",
       "    </tr>\n",
       "  </tbody>\n",
       "</table>\n",
       "</div>"
      ],
      "text/plain": [
       "   target   source\n",
       "0      35     1033\n",
       "1      35   103482\n",
       "2      35   103515\n",
       "3      35  1050679\n",
       "4      35  1103960"
      ]
     },
     "execution_count": 4,
     "metadata": {},
     "output_type": "execute_result"
    }
   ],
   "source": [
    "citations.head()"
   ]
  },
  {
   "cell_type": "code",
   "execution_count": 5,
   "id": "cabae73b",
   "metadata": {
    "execution": {
     "iopub.execute_input": "2021-07-23T17:42:04.934263Z",
     "iopub.status.busy": "2021-07-23T17:42:04.933093Z",
     "iopub.status.idle": "2021-07-23T17:42:05.406802Z",
     "shell.execute_reply": "2021-07-23T17:42:05.407507Z",
     "shell.execute_reply.started": "2021-07-23T16:27:36.165511Z"
    },
    "papermill": {
     "duration": 0.518577,
     "end_time": "2021-07-23T17:42:05.407765",
     "exception": false,
     "start_time": "2021-07-23T17:42:04.889188",
     "status": "completed"
    },
    "tags": []
   },
   "outputs": [
    {
     "name": "stdout",
     "output_type": "stream",
     "text": [
      "Papers shape: (2708, 1435)\n"
     ]
    }
   ],
   "source": [
    "column_names = [\"paper_id\"] + [f\"term_{idx}\" for idx in range(1433)] + [\"subject\"]\n",
    "papers = pd.read_csv(\n",
    "    os.path.join(data_dir, \"cora.content\"), sep=\"\\t\", header=None, names=column_names,\n",
    ")\n",
    "print(\"Papers shape:\", papers.shape)"
   ]
  },
  {
   "cell_type": "code",
   "execution_count": 6,
   "id": "e484bc40",
   "metadata": {
    "execution": {
     "iopub.execute_input": "2021-07-23T17:42:05.485567Z",
     "iopub.status.busy": "2021-07-23T17:42:05.484902Z",
     "iopub.status.idle": "2021-07-23T17:42:05.502261Z",
     "shell.execute_reply": "2021-07-23T17:42:05.502774Z",
     "shell.execute_reply.started": "2021-07-23T16:28:26.605568Z"
    },
    "papermill": {
     "duration": 0.057577,
     "end_time": "2021-07-23T17:42:05.502948",
     "exception": false,
     "start_time": "2021-07-23T17:42:05.445371",
     "status": "completed"
    },
    "tags": []
   },
   "outputs": [
    {
     "data": {
      "text/html": [
       "<div>\n",
       "<style scoped>\n",
       "    .dataframe tbody tr th:only-of-type {\n",
       "        vertical-align: middle;\n",
       "    }\n",
       "\n",
       "    .dataframe tbody tr th {\n",
       "        vertical-align: top;\n",
       "    }\n",
       "\n",
       "    .dataframe thead th {\n",
       "        text-align: right;\n",
       "    }\n",
       "</style>\n",
       "<table border=\"1\" class=\"dataframe\">\n",
       "  <thead>\n",
       "    <tr style=\"text-align: right;\">\n",
       "      <th></th>\n",
       "      <th>0</th>\n",
       "      <th>1</th>\n",
       "      <th>2</th>\n",
       "      <th>3</th>\n",
       "      <th>4</th>\n",
       "    </tr>\n",
       "  </thead>\n",
       "  <tbody>\n",
       "    <tr>\n",
       "      <th>paper_id</th>\n",
       "      <td>31336</td>\n",
       "      <td>1061127</td>\n",
       "      <td>1106406</td>\n",
       "      <td>13195</td>\n",
       "      <td>37879</td>\n",
       "    </tr>\n",
       "    <tr>\n",
       "      <th>term_0</th>\n",
       "      <td>0</td>\n",
       "      <td>0</td>\n",
       "      <td>0</td>\n",
       "      <td>0</td>\n",
       "      <td>0</td>\n",
       "    </tr>\n",
       "    <tr>\n",
       "      <th>term_1</th>\n",
       "      <td>0</td>\n",
       "      <td>0</td>\n",
       "      <td>0</td>\n",
       "      <td>0</td>\n",
       "      <td>0</td>\n",
       "    </tr>\n",
       "    <tr>\n",
       "      <th>term_2</th>\n",
       "      <td>0</td>\n",
       "      <td>0</td>\n",
       "      <td>0</td>\n",
       "      <td>0</td>\n",
       "      <td>0</td>\n",
       "    </tr>\n",
       "    <tr>\n",
       "      <th>term_3</th>\n",
       "      <td>0</td>\n",
       "      <td>0</td>\n",
       "      <td>0</td>\n",
       "      <td>0</td>\n",
       "      <td>0</td>\n",
       "    </tr>\n",
       "    <tr>\n",
       "      <th>...</th>\n",
       "      <td>...</td>\n",
       "      <td>...</td>\n",
       "      <td>...</td>\n",
       "      <td>...</td>\n",
       "      <td>...</td>\n",
       "    </tr>\n",
       "    <tr>\n",
       "      <th>term_1429</th>\n",
       "      <td>0</td>\n",
       "      <td>0</td>\n",
       "      <td>0</td>\n",
       "      <td>0</td>\n",
       "      <td>0</td>\n",
       "    </tr>\n",
       "    <tr>\n",
       "      <th>term_1430</th>\n",
       "      <td>0</td>\n",
       "      <td>0</td>\n",
       "      <td>0</td>\n",
       "      <td>0</td>\n",
       "      <td>0</td>\n",
       "    </tr>\n",
       "    <tr>\n",
       "      <th>term_1431</th>\n",
       "      <td>0</td>\n",
       "      <td>0</td>\n",
       "      <td>0</td>\n",
       "      <td>0</td>\n",
       "      <td>0</td>\n",
       "    </tr>\n",
       "    <tr>\n",
       "      <th>term_1432</th>\n",
       "      <td>0</td>\n",
       "      <td>0</td>\n",
       "      <td>0</td>\n",
       "      <td>0</td>\n",
       "      <td>0</td>\n",
       "    </tr>\n",
       "    <tr>\n",
       "      <th>subject</th>\n",
       "      <td>Neural_Networks</td>\n",
       "      <td>Rule_Learning</td>\n",
       "      <td>Reinforcement_Learning</td>\n",
       "      <td>Reinforcement_Learning</td>\n",
       "      <td>Probabilistic_Methods</td>\n",
       "    </tr>\n",
       "  </tbody>\n",
       "</table>\n",
       "<p>1435 rows × 5 columns</p>\n",
       "</div>"
      ],
      "text/plain": [
       "                         0              1                       2  \\\n",
       "paper_id             31336        1061127                 1106406   \n",
       "term_0                   0              0                       0   \n",
       "term_1                   0              0                       0   \n",
       "term_2                   0              0                       0   \n",
       "term_3                   0              0                       0   \n",
       "...                    ...            ...                     ...   \n",
       "term_1429                0              0                       0   \n",
       "term_1430                0              0                       0   \n",
       "term_1431                0              0                       0   \n",
       "term_1432                0              0                       0   \n",
       "subject    Neural_Networks  Rule_Learning  Reinforcement_Learning   \n",
       "\n",
       "                                3                      4  \n",
       "paper_id                    13195                  37879  \n",
       "term_0                          0                      0  \n",
       "term_1                          0                      0  \n",
       "term_2                          0                      0  \n",
       "term_3                          0                      0  \n",
       "...                           ...                    ...  \n",
       "term_1429                       0                      0  \n",
       "term_1430                       0                      0  \n",
       "term_1431                       0                      0  \n",
       "term_1432                       0                      0  \n",
       "subject    Reinforcement_Learning  Probabilistic_Methods  \n",
       "\n",
       "[1435 rows x 5 columns]"
      ]
     },
     "execution_count": 6,
     "metadata": {},
     "output_type": "execute_result"
    }
   ],
   "source": [
    "papers.head().T"
   ]
  },
  {
   "cell_type": "code",
   "execution_count": 7,
   "id": "8aec0bbf",
   "metadata": {
    "execution": {
     "iopub.execute_input": "2021-07-23T17:42:05.581676Z",
     "iopub.status.busy": "2021-07-23T17:42:05.580982Z",
     "iopub.status.idle": "2021-07-23T17:42:05.593465Z",
     "shell.execute_reply": "2021-07-23T17:42:05.592846Z",
     "shell.execute_reply.started": "2021-07-23T16:30:40.005285Z"
    },
    "papermill": {
     "duration": 0.05275,
     "end_time": "2021-07-23T17:42:05.593627",
     "exception": false,
     "start_time": "2021-07-23T17:42:05.540877",
     "status": "completed"
    },
    "tags": []
   },
   "outputs": [
    {
     "data": {
      "text/plain": [
       "Neural_Networks           818\n",
       "Probabilistic_Methods     426\n",
       "Genetic_Algorithms        418\n",
       "Theory                    351\n",
       "Case_Based                298\n",
       "Reinforcement_Learning    217\n",
       "Rule_Learning             180\n",
       "Name: subject, dtype: int64"
      ]
     },
     "execution_count": 7,
     "metadata": {},
     "output_type": "execute_result"
    }
   ],
   "source": [
    "papers.subject.value_counts()"
   ]
  },
  {
   "cell_type": "code",
   "execution_count": 8,
   "id": "1467270e",
   "metadata": {
    "execution": {
     "iopub.execute_input": "2021-07-23T17:42:05.673987Z",
     "iopub.status.busy": "2021-07-23T17:42:05.673335Z",
     "iopub.status.idle": "2021-07-23T17:42:05.706427Z",
     "shell.execute_reply": "2021-07-23T17:42:05.705785Z",
     "shell.execute_reply.started": "2021-07-23T16:32:45.934585Z"
    },
    "papermill": {
     "duration": 0.074774,
     "end_time": "2021-07-23T17:42:05.706585",
     "exception": false,
     "start_time": "2021-07-23T17:42:05.631811",
     "status": "completed"
    },
    "tags": []
   },
   "outputs": [],
   "source": [
    "class_values = sorted(papers[\"subject\"].unique())\n",
    "class_idx = {name: id for id, name in enumerate(class_values)}\n",
    "paper_idx = {name: idx for idx, name in enumerate(sorted(papers[\"paper_id\"].unique()))}\n",
    "\n",
    "papers[\"paper_id\"] = papers[\"paper_id\"].apply(lambda name: paper_idx[name])\n",
    "citations[\"source\"] = citations[\"source\"].apply(lambda name: paper_idx[name])\n",
    "citations[\"target\"] = citations[\"target\"].apply(lambda name: paper_idx[name])\n",
    "papers[\"subject\"] = papers[\"subject\"].apply(lambda value: class_idx[value])"
   ]
  },
  {
   "cell_type": "code",
   "execution_count": 9,
   "id": "78905c29",
   "metadata": {
    "execution": {
     "iopub.execute_input": "2021-07-23T17:42:05.799457Z",
     "iopub.status.busy": "2021-07-23T17:42:05.791295Z",
     "iopub.status.idle": "2021-07-23T17:42:22.131197Z",
     "shell.execute_reply": "2021-07-23T17:42:22.131732Z",
     "shell.execute_reply.started": "2021-07-23T16:36:20.808705Z"
    },
    "papermill": {
     "duration": 16.387443,
     "end_time": "2021-07-23T17:42:22.131911",
     "exception": false,
     "start_time": "2021-07-23T17:42:05.744468",
     "status": "completed"
    },
    "tags": []
   },
   "outputs": [
    {
     "data": {
      "image/png": "[encoded data removed]",
      "text/plain": [
       "<Figure size 720x720 with 1 Axes>"
      ]
     },
     "metadata": {},
     "output_type": "display_data"
    }
   ],
   "source": [
    "plt.figure(figsize=(10, 10))\n",
    "colors = papers[\"subject\"].tolist()\n",
    "cora_graph = nx.from_pandas_edgelist(citations.sample(n=1500))\n",
    "subjects = list(papers[papers[\"paper_id\"].isin(list(cora_graph.nodes))][\"subject\"])\n",
    "nx.draw_spring(cora_graph, node_size=15, node_color=subjects)"
   ]
  },
  {
   "cell_type": "markdown",
   "id": "c694d44e",
   "metadata": {
    "papermill": {
     "duration": 0.043889,
     "end_time": "2021-07-23T17:42:22.220364",
     "exception": false,
     "start_time": "2021-07-23T17:42:22.176475",
     "status": "completed"
    },
    "tags": []
   },
   "source": [
    "## Split the Data into Stratified Train and Test Set"
   ]
  },
  {
   "cell_type": "code",
   "execution_count": 10,
   "id": "606de662",
   "metadata": {
    "execution": {
     "iopub.execute_input": "2021-07-23T17:42:22.357150Z",
     "iopub.status.busy": "2021-07-23T17:42:22.355689Z",
     "iopub.status.idle": "2021-07-23T17:42:22.400006Z",
     "shell.execute_reply": "2021-07-23T17:42:22.400705Z",
     "shell.execute_reply.started": "2021-07-23T16:38:14.287117Z"
    },
    "papermill": {
     "duration": 0.136184,
     "end_time": "2021-07-23T17:42:22.400943",
     "exception": false,
     "start_time": "2021-07-23T17:42:22.264759",
     "status": "completed"
    },
    "tags": []
   },
   "outputs": [
    {
     "name": "stdout",
     "output_type": "stream",
     "text": [
      "Train data shape: (1337, 1435)\n",
      "Test data shape: (1371, 1435)\n"
     ]
    }
   ],
   "source": [
    "train_data, test_data = [], []\n",
    "\n",
    "for _, group_data in papers.groupby(\"subject\"):\n",
    "    # Select around 50% of the dataset for training.\n",
    "    random_selection = np.random.rand(len(group_data.index)) <= 0.5\n",
    "    train_data.append(group_data[random_selection])\n",
    "    test_data.append(group_data[~random_selection])\n",
    "\n",
    "train_data = pd.concat(train_data).sample(frac=1)\n",
    "test_data = pd.concat(test_data).sample(frac=1)\n",
    "\n",
    "print(\"Train data shape:\", train_data.shape)\n",
    "print(\"Test data shape:\", test_data.shape)"
   ]
  },
  {
   "cell_type": "markdown",
   "id": "1a9a1e70",
   "metadata": {
    "papermill": {
     "duration": 0.044497,
     "end_time": "2021-07-23T17:42:22.490684",
     "exception": false,
     "start_time": "2021-07-23T17:42:22.446187",
     "status": "completed"
    },
    "tags": []
   },
   "source": [
    "# Implement Train and Evaluate Experiment"
   ]
  },
  {
   "cell_type": "code",
   "execution_count": 11,
   "id": "97624543",
   "metadata": {
    "execution": {
     "iopub.execute_input": "2021-07-23T17:42:22.588745Z",
     "iopub.status.busy": "2021-07-23T17:42:22.587760Z",
     "iopub.status.idle": "2021-07-23T17:42:22.591180Z",
     "shell.execute_reply": "2021-07-23T17:42:22.590689Z",
     "shell.execute_reply.started": "2021-07-23T16:39:44.545803Z"
    },
    "papermill": {
     "duration": 0.054181,
     "end_time": "2021-07-23T17:42:22.591320",
     "exception": false,
     "start_time": "2021-07-23T17:42:22.537139",
     "status": "completed"
    },
    "tags": []
   },
   "outputs": [],
   "source": [
    "hidden_units = [32, 32]\n",
    "learning_rate = 0.01\n",
    "dropout_rate = 0.5\n",
    "num_epochs = 300\n",
    "batch_size = 256"
   ]
  },
  {
   "cell_type": "code",
   "execution_count": 12,
   "id": "64b85c8c",
   "metadata": {
    "execution": {
     "iopub.execute_input": "2021-07-23T17:42:22.688900Z",
     "iopub.status.busy": "2021-07-23T17:42:22.687911Z",
     "iopub.status.idle": "2021-07-23T17:42:22.691113Z",
     "shell.execute_reply": "2021-07-23T17:42:22.690626Z",
     "shell.execute_reply.started": "2021-07-23T16:44:04.347830Z"
    },
    "papermill": {
     "duration": 0.054969,
     "end_time": "2021-07-23T17:42:22.691254",
     "exception": false,
     "start_time": "2021-07-23T17:42:22.636285",
     "status": "completed"
    },
    "tags": []
   },
   "outputs": [],
   "source": [
    "def run_experiment(model, x_train, y_train):\n",
    "    # Compile the model.\n",
    "    model.compile(\n",
    "        optimizer=keras.optimizers.Adam(learning_rate),\n",
    "        loss=keras.losses.SparseCategoricalCrossentropy(from_logits=True),\n",
    "        metrics=[keras.metrics.SparseCategoricalAccuracy(name=\"acc\")],\n",
    "    )\n",
    "    # Create an early stopping callback.\n",
    "    early_stopping = keras.callbacks.EarlyStopping(\n",
    "        monitor=\"val_acc\", patience=50, restore_best_weights=True\n",
    "    )\n",
    "    # Fit the model.\n",
    "    history = model.fit(\n",
    "        x=x_train,\n",
    "        y=y_train,\n",
    "        epochs=num_epochs,\n",
    "        batch_size=batch_size,\n",
    "        validation_split=0.15,\n",
    "        callbacks=[early_stopping],\n",
    "    )\n",
    "\n",
    "    return history"
   ]
  },
  {
   "cell_type": "code",
   "execution_count": 13,
   "id": "2f3006ce",
   "metadata": {
    "execution": {
     "iopub.execute_input": "2021-07-23T17:42:22.790093Z",
     "iopub.status.busy": "2021-07-23T17:42:22.789085Z",
     "iopub.status.idle": "2021-07-23T17:42:22.792240Z",
     "shell.execute_reply": "2021-07-23T17:42:22.791628Z",
     "shell.execute_reply.started": "2021-07-23T16:44:08.445090Z"
    },
    "papermill": {
     "duration": 0.056356,
     "end_time": "2021-07-23T17:42:22.792377",
     "exception": false,
     "start_time": "2021-07-23T17:42:22.736021",
     "status": "completed"
    },
    "tags": []
   },
   "outputs": [],
   "source": [
    "def display_learning_curves(history):\n",
    "    fig, (ax1, ax2) = plt.subplots(1, 2, figsize=(15, 5))\n",
    "\n",
    "    ax1.plot(history.history[\"loss\"])\n",
    "    ax1.plot(history.history[\"val_loss\"])\n",
    "    ax1.legend([\"train\", \"test\"], loc=\"upper right\")\n",
    "    ax1.set_xlabel(\"Epochs\")\n",
    "    ax1.set_ylabel(\"Loss\")\n",
    "\n",
    "    ax2.plot(history.history[\"acc\"])\n",
    "    ax2.plot(history.history[\"val_acc\"])\n",
    "    ax2.legend([\"train\", \"test\"], loc=\"upper right\")\n",
    "    ax2.set_xlabel(\"Epochs\")\n",
    "    ax2.set_ylabel(\"Accuracy\")\n",
    "    plt.show()"
   ]
  },
  {
   "cell_type": "markdown",
   "id": "d8d7e87d",
   "metadata": {
    "papermill": {
     "duration": 0.044354,
     "end_time": "2021-07-23T17:42:22.882194",
     "exception": false,
     "start_time": "2021-07-23T17:42:22.837840",
     "status": "completed"
    },
    "tags": []
   },
   "source": [
    "# Implement Feed Forward Network"
   ]
  },
  {
   "cell_type": "code",
   "execution_count": 14,
   "id": "287ac278",
   "metadata": {
    "execution": {
     "iopub.execute_input": "2021-07-23T17:42:22.979482Z",
     "iopub.status.busy": "2021-07-23T17:42:22.978824Z",
     "iopub.status.idle": "2021-07-23T17:42:22.981228Z",
     "shell.execute_reply": "2021-07-23T17:42:22.980626Z",
     "shell.execute_reply.started": "2021-07-23T16:45:24.028395Z"
    },
    "papermill": {
     "duration": 0.053508,
     "end_time": "2021-07-23T17:42:22.981364",
     "exception": false,
     "start_time": "2021-07-23T17:42:22.927856",
     "status": "completed"
    },
    "tags": []
   },
   "outputs": [],
   "source": [
    "def create_ffn(hidden_units, dropout_rate, name=None):\n",
    "    fnn_layers = []\n",
    "\n",
    "    for units in hidden_units:\n",
    "        fnn_layers.append(layers.BatchNormalization())\n",
    "        fnn_layers.append(layers.Dropout(dropout_rate))\n",
    "        fnn_layers.append(layers.Dense(units, activation=tf.nn.gelu))\n",
    "\n",
    "    return keras.Sequential(fnn_layers, name=name)"
   ]
  },
  {
   "cell_type": "markdown",
   "id": "e2afedd4",
   "metadata": {
    "papermill": {
     "duration": 0.044637,
     "end_time": "2021-07-23T17:42:23.071300",
     "exception": false,
     "start_time": "2021-07-23T17:42:23.026663",
     "status": "completed"
    },
    "tags": []
   },
   "source": [
    "# Baseline NN Model\n"
   ]
  },
  {
   "cell_type": "markdown",
   "id": "70481780",
   "metadata": {
    "papermill": {
     "duration": 0.044743,
     "end_time": "2021-07-23T17:42:23.162122",
     "exception": false,
     "start_time": "2021-07-23T17:42:23.117379",
     "status": "completed"
    },
    "tags": []
   },
   "source": [
    "## Prepare the data for the Baseline Model"
   ]
  },
  {
   "cell_type": "code",
   "execution_count": 15,
   "id": "9a982178",
   "metadata": {
    "execution": {
     "iopub.execute_input": "2021-07-23T17:42:23.265272Z",
     "iopub.status.busy": "2021-07-23T17:42:23.259795Z",
     "iopub.status.idle": "2021-07-23T17:42:23.273536Z",
     "shell.execute_reply": "2021-07-23T17:42:23.272994Z",
     "shell.execute_reply.started": "2021-07-23T16:46:36.305777Z"
    },
    "papermill": {
     "duration": 0.066436,
     "end_time": "2021-07-23T17:42:23.273688",
     "exception": false,
     "start_time": "2021-07-23T17:42:23.207252",
     "status": "completed"
    },
    "tags": []
   },
   "outputs": [],
   "source": [
    "feature_names = set(papers.columns) - {\"paper_id\", \"subject\"}\n",
    "num_features = len(feature_names)\n",
    "num_classes = len(class_idx)\n",
    "\n",
    "# Create train and test features as a numpy array.\n",
    "x_train = train_data[feature_names].to_numpy()\n",
    "x_test = test_data[feature_names].to_numpy()\n",
    "# Create train and test targets as a numpy array.\n",
    "y_train = train_data[\"subject\"]\n",
    "y_test = test_data[\"subject\"]"
   ]
  },
  {
   "cell_type": "markdown",
   "id": "e28fab52",
   "metadata": {
    "papermill": {
     "duration": 0.044812,
     "end_time": "2021-07-23T17:42:23.363461",
     "exception": false,
     "start_time": "2021-07-23T17:42:23.318649",
     "status": "completed"
    },
    "tags": []
   },
   "source": [
    "## Implement the Baseline Model"
   ]
  },
  {
   "cell_type": "code",
   "execution_count": 16,
   "id": "7a338c62",
   "metadata": {
    "execution": {
     "iopub.execute_input": "2021-07-23T17:42:23.461747Z",
     "iopub.status.busy": "2021-07-23T17:42:23.461002Z",
     "iopub.status.idle": "2021-07-23T17:42:23.982651Z",
     "shell.execute_reply": "2021-07-23T17:42:23.981574Z",
     "shell.execute_reply.started": "2021-07-23T16:49:33.227401Z"
    },
    "papermill": {
     "duration": 0.574256,
     "end_time": "2021-07-23T17:42:23.982803",
     "exception": false,
     "start_time": "2021-07-23T17:42:23.408547",
     "status": "completed"
    },
    "tags": []
   },
   "outputs": [
    {
     "name": "stdout",
     "output_type": "stream",
     "text": [
      "Model: \"baseline\"\n",
      "__________________________________________________________________________________________________\n",
      "Layer (type)                    Output Shape         Param #     Connected to                     \n",
      "==================================================================================================\n",
      "input_features (InputLayer)     [(None, 1433)]       0                                            \n",
      "__________________________________________________________________________________________________\n",
      "ffn_block1 (Sequential)         (None, 32)           52804       input_features[0][0]             \n",
      "__________________________________________________________________________________________________\n",
      "ffn_block2 (Sequential)         (None, 32)           2368        ffn_block1[0][0]                 \n",
      "__________________________________________________________________________________________________\n",
      "skip_connection2 (Add)          (None, 32)           0           ffn_block1[0][0]                 \n",
      "                                                                 ffn_block2[0][0]                 \n",
      "__________________________________________________________________________________________________\n",
      "ffn_block3 (Sequential)         (None, 32)           2368        skip_connection2[0][0]           \n",
      "__________________________________________________________________________________________________\n",
      "skip_connection3 (Add)          (None, 32)           0           skip_connection2[0][0]           \n",
      "                                                                 ffn_block3[0][0]                 \n",
      "__________________________________________________________________________________________________\n",
      "ffn_block4 (Sequential)         (None, 32)           2368        skip_connection3[0][0]           \n",
      "__________________________________________________________________________________________________\n",
      "skip_connection4 (Add)          (None, 32)           0           skip_connection3[0][0]           \n",
      "                                                                 ffn_block4[0][0]                 \n",
      "__________________________________________________________________________________________________\n",
      "ffn_block5 (Sequential)         (None, 32)           2368        skip_connection4[0][0]           \n",
      "__________________________________________________________________________________________________\n",
      "skip_connection5 (Add)          (None, 32)           0           skip_connection4[0][0]           \n",
      "                                                                 ffn_block5[0][0]                 \n",
      "__________________________________________________________________________________________________\n",
      "logits (Dense)                  (None, 7)            231         skip_connection5[0][0]           \n",
      "==================================================================================================\n",
      "Total params: 62,507\n",
      "Trainable params: 59,065\n",
      "Non-trainable params: 3,442\n",
      "__________________________________________________________________________________________________\n"
     ]
    }
   ],
   "source": [
    "def create_baseline_model(hidden_units, num_classes, dropout_rate=0.2):\n",
    "    inputs = layers.Input(shape=(num_features,), name=\"input_features\")\n",
    "    x = create_ffn(hidden_units, dropout_rate, name=f\"ffn_block1\")(inputs)\n",
    "    for block_idx in range(4):\n",
    "        # Create an FFN block.\n",
    "        x1 = create_ffn(hidden_units, dropout_rate, name=f\"ffn_block{block_idx + 2}\")(x)\n",
    "        # Add skip connection.\n",
    "        x = layers.Add(name=f\"skip_connection{block_idx + 2}\")([x, x1])\n",
    "    # Compute logits.\n",
    "    logits = layers.Dense(num_classes, name=\"logits\")(x)\n",
    "    # Create the model.\n",
    "    return keras.Model(inputs=inputs, outputs=logits, name=\"baseline\")\n",
    "\n",
    "\n",
    "baseline_model = create_baseline_model(hidden_units, num_classes, dropout_rate)\n",
    "baseline_model.summary()"
   ]
  },
  {
   "cell_type": "markdown",
   "id": "9f6396c6",
   "metadata": {
    "papermill": {
     "duration": 0.045518,
     "end_time": "2021-07-23T17:42:24.073649",
     "exception": false,
     "start_time": "2021-07-23T17:42:24.028131",
     "status": "completed"
    },
    "tags": []
   },
   "source": [
    "## Train the Baseline Classifier"
   ]
  },
  {
   "cell_type": "code",
   "execution_count": 17,
   "id": "702601fe",
   "metadata": {
    "execution": {
     "iopub.execute_input": "2021-07-23T17:42:24.168248Z",
     "iopub.status.busy": "2021-07-23T17:42:24.167567Z",
     "iopub.status.idle": "2021-07-23T17:42:48.444716Z",
     "shell.execute_reply": "2021-07-23T17:42:48.444027Z",
     "shell.execute_reply.started": "2021-07-23T16:50:06.064346Z"
    },
    "papermill": {
     "duration": 24.325792,
     "end_time": "2021-07-23T17:42:48.444868",
     "exception": false,
     "start_time": "2021-07-23T17:42:24.119076",
     "status": "completed"
    },
    "tags": []
   },
   "outputs": [
    {
     "name": "stdout",
     "output_type": "stream",
     "text": [
      "Epoch 1/300\n",
      "5/5 [==============================] - 5s 250ms/step - loss: 3.6462 - acc: 0.1928 - val_loss: 1.9685 - val_acc: 0.1144\n",
      "Epoch 2/300\n",
      "5/5 [==============================] - 0s 36ms/step - loss: 2.6066 - acc: 0.1940 - val_loss: 1.9357 - val_acc: 0.1144\n",
      "Epoch 3/300\n",
      "5/5 [==============================] - 0s 35ms/step - loss: 2.2676 - acc: 0.2261 - val_loss: 1.8970 - val_acc: 0.2289\n",
      "Epoch 4/300\n",
      "5/5 [==============================] - 0s 35ms/step - loss: 2.0934 - acc: 0.2739 - val_loss: 1.8742 - val_acc: 0.3682\n",
      "Epoch 5/300\n",
      "5/5 [==============================] - 0s 35ms/step - loss: 1.9481 - acc: 0.2913 - val_loss: 1.8643 - val_acc: 0.3582\n",
      "Epoch 6/300\n",
      "5/5 [==============================] - 0s 39ms/step - loss: 1.8583 - acc: 0.3202 - val_loss: 1.8578 - val_acc: 0.4378\n",
      "Epoch 7/300\n",
      "5/5 [==============================] - 0s 37ms/step - loss: 1.7716 - acc: 0.3503 - val_loss: 1.8358 - val_acc: 0.3980\n",
      "Epoch 8/300\n",
      "5/5 [==============================] - 0s 36ms/step - loss: 1.7331 - acc: 0.3515 - val_loss: 1.7965 - val_acc: 0.4179\n",
      "Epoch 9/300\n",
      "5/5 [==============================] - 0s 36ms/step - loss: 1.5987 - acc: 0.4024 - val_loss: 1.7470 - val_acc: 0.3831\n",
      "Epoch 10/300\n",
      "5/5 [==============================] - 0s 35ms/step - loss: 1.5887 - acc: 0.4095 - val_loss: 1.6985 - val_acc: 0.3731\n",
      "Epoch 11/300\n",
      "5/5 [==============================] - 0s 35ms/step - loss: 1.4853 - acc: 0.4524 - val_loss: 1.6383 - val_acc: 0.3930\n",
      "Epoch 12/300\n",
      "5/5 [==============================] - 0s 35ms/step - loss: 1.4163 - acc: 0.4951 - val_loss: 1.5755 - val_acc: 0.4229\n",
      "Epoch 13/300\n",
      "5/5 [==============================] - 0s 35ms/step - loss: 1.3505 - acc: 0.5088 - val_loss: 1.5083 - val_acc: 0.4527\n",
      "Epoch 14/300\n",
      "5/5 [==============================] - 0s 36ms/step - loss: 1.2607 - acc: 0.5479 - val_loss: 1.4564 - val_acc: 0.4527\n",
      "Epoch 15/300\n",
      "5/5 [==============================] - 0s 34ms/step - loss: 1.2342 - acc: 0.5498 - val_loss: 1.4470 - val_acc: 0.4030\n",
      "Epoch 16/300\n",
      "5/5 [==============================] - 0s 34ms/step - loss: 1.1727 - acc: 0.5841 - val_loss: 1.4611 - val_acc: 0.3930\n",
      "Epoch 17/300\n",
      "5/5 [==============================] - 0s 35ms/step - loss: 1.0581 - acc: 0.6322 - val_loss: 1.4148 - val_acc: 0.4179\n",
      "Epoch 18/300\n",
      "5/5 [==============================] - 0s 34ms/step - loss: 1.0475 - acc: 0.6424 - val_loss: 1.3606 - val_acc: 0.4627\n",
      "Epoch 19/300\n",
      "5/5 [==============================] - 0s 34ms/step - loss: 1.0212 - acc: 0.6324 - val_loss: 1.3168 - val_acc: 0.4876\n",
      "Epoch 20/300\n",
      "5/5 [==============================] - 0s 35ms/step - loss: 0.9302 - acc: 0.6697 - val_loss: 1.3144 - val_acc: 0.4677\n",
      "Epoch 21/300\n",
      "5/5 [==============================] - 0s 35ms/step - loss: 0.9321 - acc: 0.6752 - val_loss: 1.2589 - val_acc: 0.5025\n",
      "Epoch 22/300\n",
      "5/5 [==============================] - 0s 35ms/step - loss: 0.8625 - acc: 0.6844 - val_loss: 1.2840 - val_acc: 0.4726\n",
      "Epoch 23/300\n",
      "5/5 [==============================] - 0s 35ms/step - loss: 0.8010 - acc: 0.7228 - val_loss: 1.2713 - val_acc: 0.4826\n",
      "Epoch 24/300\n",
      "5/5 [==============================] - 0s 36ms/step - loss: 0.7946 - acc: 0.7273 - val_loss: 1.2667 - val_acc: 0.4975\n",
      "Epoch 25/300\n",
      "5/5 [==============================] - 0s 35ms/step - loss: 0.7842 - acc: 0.7246 - val_loss: 1.3200 - val_acc: 0.4826\n",
      "Epoch 26/300\n",
      "5/5 [==============================] - 0s 36ms/step - loss: 0.7693 - acc: 0.7219 - val_loss: 1.2839 - val_acc: 0.4925\n",
      "Epoch 27/300\n",
      "5/5 [==============================] - 0s 34ms/step - loss: 0.7732 - acc: 0.7324 - val_loss: 1.2437 - val_acc: 0.5224\n",
      "Epoch 28/300\n",
      "5/5 [==============================] - 0s 35ms/step - loss: 0.7308 - acc: 0.7443 - val_loss: 1.3374 - val_acc: 0.4677\n",
      "Epoch 29/300\n",
      "5/5 [==============================] - 0s 36ms/step - loss: 0.7441 - acc: 0.7497 - val_loss: 1.4086 - val_acc: 0.4378\n",
      "Epoch 30/300\n",
      "5/5 [==============================] - 0s 35ms/step - loss: 0.6746 - acc: 0.7766 - val_loss: 1.3394 - val_acc: 0.4428\n",
      "Epoch 31/300\n",
      "5/5 [==============================] - 0s 35ms/step - loss: 0.6427 - acc: 0.7796 - val_loss: 1.3339 - val_acc: 0.4527\n",
      "Epoch 32/300\n",
      "5/5 [==============================] - 0s 35ms/step - loss: 0.6679 - acc: 0.7689 - val_loss: 1.3516 - val_acc: 0.4577\n",
      "Epoch 33/300\n",
      "5/5 [==============================] - 0s 35ms/step - loss: 0.6194 - acc: 0.7843 - val_loss: 1.2971 - val_acc: 0.4527\n",
      "Epoch 34/300\n",
      "5/5 [==============================] - 0s 36ms/step - loss: 0.6620 - acc: 0.7596 - val_loss: 1.3623 - val_acc: 0.4428\n",
      "Epoch 35/300\n",
      "5/5 [==============================] - 0s 33ms/step - loss: 0.5932 - acc: 0.7993 - val_loss: 1.2651 - val_acc: 0.4925\n",
      "Epoch 36/300\n",
      "5/5 [==============================] - 0s 34ms/step - loss: 0.6510 - acc: 0.7803 - val_loss: 1.2662 - val_acc: 0.4975\n",
      "Epoch 37/300\n",
      "5/5 [==============================] - 0s 34ms/step - loss: 0.5662 - acc: 0.8082 - val_loss: 1.2312 - val_acc: 0.5174\n",
      "Epoch 38/300\n",
      "5/5 [==============================] - 0s 34ms/step - loss: 0.5844 - acc: 0.7987 - val_loss: 1.0614 - val_acc: 0.6020\n",
      "Epoch 39/300\n",
      "5/5 [==============================] - 0s 35ms/step - loss: 0.5231 - acc: 0.8154 - val_loss: 1.0054 - val_acc: 0.6517\n",
      "Epoch 40/300\n",
      "5/5 [==============================] - 0s 35ms/step - loss: 0.5843 - acc: 0.8075 - val_loss: 1.0083 - val_acc: 0.6468\n",
      "Epoch 41/300\n",
      "5/5 [==============================] - 0s 36ms/step - loss: 0.5732 - acc: 0.8167 - val_loss: 1.0464 - val_acc: 0.6219\n",
      "Epoch 42/300\n",
      "5/5 [==============================] - 0s 35ms/step - loss: 0.5407 - acc: 0.8003 - val_loss: 0.9820 - val_acc: 0.6567\n",
      "Epoch 43/300\n",
      "5/5 [==============================] - 0s 36ms/step - loss: 0.5074 - acc: 0.8219 - val_loss: 0.9833 - val_acc: 0.6567\n",
      "Epoch 44/300\n",
      "5/5 [==============================] - 0s 36ms/step - loss: 0.5565 - acc: 0.8115 - val_loss: 0.9771 - val_acc: 0.6667\n",
      "Epoch 45/300\n",
      "5/5 [==============================] - 0s 36ms/step - loss: 0.4671 - acc: 0.8373 - val_loss: 0.9362 - val_acc: 0.6766\n",
      "Epoch 46/300\n",
      "5/5 [==============================] - 0s 35ms/step - loss: 0.4929 - acc: 0.8284 - val_loss: 1.0057 - val_acc: 0.6617\n",
      "Epoch 47/300\n",
      "5/5 [==============================] - 0s 35ms/step - loss: 0.5560 - acc: 0.8080 - val_loss: 1.1460 - val_acc: 0.5871\n",
      "Epoch 48/300\n",
      "5/5 [==============================] - 0s 34ms/step - loss: 0.5093 - acc: 0.8398 - val_loss: 1.0737 - val_acc: 0.6119\n",
      "Epoch 49/300\n",
      "5/5 [==============================] - 0s 35ms/step - loss: 0.4907 - acc: 0.8396 - val_loss: 1.0165 - val_acc: 0.6468\n",
      "Epoch 50/300\n",
      "5/5 [==============================] - 0s 36ms/step - loss: 0.4703 - acc: 0.8387 - val_loss: 1.1227 - val_acc: 0.6020\n",
      "Epoch 51/300\n",
      "5/5 [==============================] - 0s 35ms/step - loss: 0.4830 - acc: 0.8333 - val_loss: 1.2069 - val_acc: 0.5821\n",
      "Epoch 52/300\n",
      "5/5 [==============================] - 0s 35ms/step - loss: 0.4128 - acc: 0.8676 - val_loss: 1.0832 - val_acc: 0.6119\n",
      "Epoch 53/300\n",
      "5/5 [==============================] - 0s 35ms/step - loss: 0.4524 - acc: 0.8508 - val_loss: 0.9558 - val_acc: 0.6816\n",
      "Epoch 54/300\n",
      "5/5 [==============================] - 0s 35ms/step - loss: 0.4731 - acc: 0.8393 - val_loss: 1.0498 - val_acc: 0.6269\n",
      "Epoch 55/300\n",
      "5/5 [==============================] - 0s 36ms/step - loss: 0.4618 - acc: 0.8356 - val_loss: 1.1292 - val_acc: 0.6269\n",
      "Epoch 56/300\n",
      "5/5 [==============================] - 0s 35ms/step - loss: 0.4144 - acc: 0.8558 - val_loss: 1.0715 - val_acc: 0.6567\n",
      "Epoch 57/300\n",
      "5/5 [==============================] - 0s 36ms/step - loss: 0.4586 - acc: 0.8452 - val_loss: 1.0230 - val_acc: 0.6617\n",
      "Epoch 58/300\n",
      "5/5 [==============================] - 0s 35ms/step - loss: 0.4060 - acc: 0.8685 - val_loss: 1.0555 - val_acc: 0.6418\n",
      "Epoch 59/300\n",
      "5/5 [==============================] - 0s 34ms/step - loss: 0.4792 - acc: 0.8343 - val_loss: 1.0478 - val_acc: 0.6517\n",
      "Epoch 60/300\n",
      "5/5 [==============================] - 0s 35ms/step - loss: 0.4484 - acc: 0.8521 - val_loss: 1.0369 - val_acc: 0.6517\n",
      "Epoch 61/300\n",
      "5/5 [==============================] - 0s 37ms/step - loss: 0.4333 - acc: 0.8526 - val_loss: 0.9956 - val_acc: 0.6766\n",
      "Epoch 62/300\n",
      "5/5 [==============================] - 0s 39ms/step - loss: 0.4238 - acc: 0.8527 - val_loss: 1.0169 - val_acc: 0.6667\n",
      "Epoch 63/300\n",
      "5/5 [==============================] - 0s 41ms/step - loss: 0.4162 - acc: 0.8598 - val_loss: 0.9963 - val_acc: 0.6866\n",
      "Epoch 64/300\n",
      "5/5 [==============================] - 0s 36ms/step - loss: 0.4366 - acc: 0.8462 - val_loss: 0.9488 - val_acc: 0.7015\n",
      "Epoch 65/300\n",
      "5/5 [==============================] - 0s 36ms/step - loss: 0.4626 - acc: 0.8381 - val_loss: 0.9538 - val_acc: 0.7015\n",
      "Epoch 66/300\n",
      "5/5 [==============================] - 0s 37ms/step - loss: 0.4559 - acc: 0.8476 - val_loss: 1.0279 - val_acc: 0.6617\n",
      "Epoch 67/300\n",
      "5/5 [==============================] - 0s 34ms/step - loss: 0.4068 - acc: 0.8692 - val_loss: 1.0076 - val_acc: 0.6766\n",
      "Epoch 68/300\n",
      "5/5 [==============================] - 0s 35ms/step - loss: 0.4880 - acc: 0.8258 - val_loss: 0.9692 - val_acc: 0.7065\n",
      "Epoch 69/300\n",
      "5/5 [==============================] - 0s 34ms/step - loss: 0.4150 - acc: 0.8540 - val_loss: 0.9799 - val_acc: 0.7065\n",
      "Epoch 70/300\n",
      "5/5 [==============================] - 0s 35ms/step - loss: 0.4263 - acc: 0.8476 - val_loss: 0.9700 - val_acc: 0.7264\n",
      "Epoch 71/300\n",
      "5/5 [==============================] - 0s 35ms/step - loss: 0.3902 - acc: 0.8511 - val_loss: 0.9533 - val_acc: 0.7114\n",
      "Epoch 72/300\n",
      "5/5 [==============================] - 0s 35ms/step - loss: 0.3811 - acc: 0.8612 - val_loss: 1.0109 - val_acc: 0.7015\n",
      "Epoch 73/300\n",
      "5/5 [==============================] - 0s 34ms/step - loss: 0.3989 - acc: 0.8660 - val_loss: 1.1189 - val_acc: 0.6617\n",
      "Epoch 74/300\n",
      "5/5 [==============================] - 0s 39ms/step - loss: 0.4004 - acc: 0.8656 - val_loss: 1.0243 - val_acc: 0.7065\n",
      "Epoch 75/300\n",
      "5/5 [==============================] - 0s 39ms/step - loss: 0.3797 - acc: 0.8757 - val_loss: 0.9373 - val_acc: 0.7164\n",
      "Epoch 76/300\n",
      "5/5 [==============================] - 0s 34ms/step - loss: 0.4084 - acc: 0.8504 - val_loss: 0.9441 - val_acc: 0.7065\n",
      "Epoch 77/300\n",
      "5/5 [==============================] - 0s 36ms/step - loss: 0.4504 - acc: 0.8436 - val_loss: 0.9778 - val_acc: 0.7214\n",
      "Epoch 78/300\n",
      "5/5 [==============================] - 0s 34ms/step - loss: 0.4055 - acc: 0.8480 - val_loss: 1.0116 - val_acc: 0.7164\n",
      "Epoch 79/300\n",
      "5/5 [==============================] - 0s 34ms/step - loss: 0.3950 - acc: 0.8625 - val_loss: 1.0108 - val_acc: 0.7114\n",
      "Epoch 80/300\n",
      "5/5 [==============================] - 0s 34ms/step - loss: 0.4399 - acc: 0.8337 - val_loss: 1.0086 - val_acc: 0.6965\n",
      "Epoch 81/300\n",
      "5/5 [==============================] - 0s 33ms/step - loss: 0.4207 - acc: 0.8589 - val_loss: 0.9961 - val_acc: 0.7114\n",
      "Epoch 82/300\n",
      "5/5 [==============================] - 0s 34ms/step - loss: 0.4230 - acc: 0.8530 - val_loss: 1.0096 - val_acc: 0.7164\n",
      "Epoch 83/300\n",
      "5/5 [==============================] - 0s 33ms/step - loss: 0.3656 - acc: 0.8693 - val_loss: 1.0031 - val_acc: 0.7114\n",
      "Epoch 84/300\n",
      "5/5 [==============================] - 0s 34ms/step - loss: 0.4010 - acc: 0.8619 - val_loss: 0.9979 - val_acc: 0.7015\n",
      "Epoch 85/300\n",
      "5/5 [==============================] - 0s 35ms/step - loss: 0.4045 - acc: 0.8536 - val_loss: 1.0013 - val_acc: 0.7015\n",
      "Epoch 86/300\n",
      "5/5 [==============================] - 0s 35ms/step - loss: 0.4004 - acc: 0.8603 - val_loss: 1.0095 - val_acc: 0.6965\n",
      "Epoch 87/300\n",
      "5/5 [==============================] - 0s 34ms/step - loss: 0.3997 - acc: 0.8622 - val_loss: 1.0340 - val_acc: 0.7015\n",
      "Epoch 88/300\n",
      "5/5 [==============================] - 0s 35ms/step - loss: 0.3882 - acc: 0.8810 - val_loss: 1.0931 - val_acc: 0.6816\n",
      "Epoch 89/300\n",
      "5/5 [==============================] - 0s 34ms/step - loss: 0.4130 - acc: 0.8351 - val_loss: 1.0903 - val_acc: 0.6866\n",
      "Epoch 90/300\n",
      "5/5 [==============================] - 0s 35ms/step - loss: 0.3978 - acc: 0.8629 - val_loss: 1.0494 - val_acc: 0.7015\n",
      "Epoch 91/300\n",
      "5/5 [==============================] - 0s 35ms/step - loss: 0.3872 - acc: 0.8691 - val_loss: 1.0978 - val_acc: 0.6716\n",
      "Epoch 92/300\n",
      "5/5 [==============================] - 0s 35ms/step - loss: 0.4360 - acc: 0.8569 - val_loss: 1.0962 - val_acc: 0.6915\n",
      "Epoch 93/300\n",
      "5/5 [==============================] - 0s 36ms/step - loss: 0.4250 - acc: 0.8618 - val_loss: 1.0548 - val_acc: 0.7015\n",
      "Epoch 94/300\n",
      "5/5 [==============================] - 0s 36ms/step - loss: 0.4011 - acc: 0.8726 - val_loss: 1.0320 - val_acc: 0.7015\n",
      "Epoch 95/300\n",
      "5/5 [==============================] - 0s 36ms/step - loss: 0.3267 - acc: 0.8914 - val_loss: 1.0386 - val_acc: 0.7015\n",
      "Epoch 96/300\n",
      "5/5 [==============================] - 0s 36ms/step - loss: 0.3716 - acc: 0.8763 - val_loss: 1.0774 - val_acc: 0.7015\n",
      "Epoch 97/300\n",
      "5/5 [==============================] - 0s 36ms/step - loss: 0.3717 - acc: 0.8751 - val_loss: 1.1444 - val_acc: 0.6915\n",
      "Epoch 98/300\n",
      "5/5 [==============================] - 0s 35ms/step - loss: 0.3650 - acc: 0.8707 - val_loss: 1.1646 - val_acc: 0.6866\n",
      "Epoch 99/300\n",
      "5/5 [==============================] - 0s 36ms/step - loss: 0.3537 - acc: 0.8748 - val_loss: 1.1197 - val_acc: 0.7015\n",
      "Epoch 100/300\n",
      "5/5 [==============================] - 0s 35ms/step - loss: 0.3916 - acc: 0.8683 - val_loss: 1.1068 - val_acc: 0.7015\n",
      "Epoch 101/300\n",
      "5/5 [==============================] - 0s 36ms/step - loss: 0.3513 - acc: 0.8822 - val_loss: 1.1385 - val_acc: 0.6915\n",
      "Epoch 102/300\n",
      "5/5 [==============================] - 0s 35ms/step - loss: 0.3791 - acc: 0.8731 - val_loss: 1.1443 - val_acc: 0.6915\n",
      "Epoch 103/300\n",
      "5/5 [==============================] - 0s 34ms/step - loss: 0.3749 - acc: 0.8721 - val_loss: 1.1474 - val_acc: 0.7015\n",
      "Epoch 104/300\n",
      "5/5 [==============================] - 0s 35ms/step - loss: 0.3912 - acc: 0.8663 - val_loss: 1.1563 - val_acc: 0.6965\n",
      "Epoch 105/300\n",
      "5/5 [==============================] - 0s 35ms/step - loss: 0.4161 - acc: 0.8597 - val_loss: 1.1502 - val_acc: 0.6866\n",
      "Epoch 106/300\n",
      "5/5 [==============================] - 0s 35ms/step - loss: 0.3299 - acc: 0.8823 - val_loss: 1.1554 - val_acc: 0.6915\n",
      "Epoch 107/300\n",
      "5/5 [==============================] - 0s 34ms/step - loss: 0.3871 - acc: 0.8667 - val_loss: 1.1566 - val_acc: 0.6766\n",
      "Epoch 108/300\n",
      "5/5 [==============================] - 0s 34ms/step - loss: 0.4217 - acc: 0.8572 - val_loss: 1.1593 - val_acc: 0.6866\n",
      "Epoch 109/300\n",
      "5/5 [==============================] - 0s 35ms/step - loss: 0.4038 - acc: 0.8513 - val_loss: 1.1676 - val_acc: 0.6816\n",
      "Epoch 110/300\n",
      "5/5 [==============================] - 0s 36ms/step - loss: 0.3709 - acc: 0.8787 - val_loss: 1.1701 - val_acc: 0.6766\n",
      "Epoch 111/300\n",
      "5/5 [==============================] - 0s 34ms/step - loss: 0.3543 - acc: 0.8698 - val_loss: 1.1863 - val_acc: 0.6816\n",
      "Epoch 112/300\n",
      "5/5 [==============================] - 0s 35ms/step - loss: 0.3436 - acc: 0.8793 - val_loss: 1.1786 - val_acc: 0.6816\n",
      "Epoch 113/300\n",
      "5/5 [==============================] - 0s 35ms/step - loss: 0.4000 - acc: 0.8692 - val_loss: 1.1646 - val_acc: 0.7065\n",
      "Epoch 114/300\n",
      "5/5 [==============================] - 0s 35ms/step - loss: 0.3881 - acc: 0.8720 - val_loss: 1.1801 - val_acc: 0.6766\n",
      "Epoch 115/300\n",
      "5/5 [==============================] - 0s 35ms/step - loss: 0.3459 - acc: 0.8688 - val_loss: 1.1904 - val_acc: 0.6716\n",
      "Epoch 116/300\n",
      "5/5 [==============================] - 0s 35ms/step - loss: 0.4071 - acc: 0.8599 - val_loss: 1.1945 - val_acc: 0.6617\n",
      "Epoch 117/300\n",
      "5/5 [==============================] - 0s 35ms/step - loss: 0.3457 - acc: 0.8764 - val_loss: 1.1916 - val_acc: 0.6965\n",
      "Epoch 118/300\n",
      "5/5 [==============================] - 0s 36ms/step - loss: 0.3451 - acc: 0.8855 - val_loss: 1.2111 - val_acc: 0.7015\n",
      "Epoch 119/300\n",
      "5/5 [==============================] - 0s 35ms/step - loss: 0.3634 - acc: 0.8766 - val_loss: 1.2390 - val_acc: 0.6866\n",
      "Epoch 120/300\n",
      "5/5 [==============================] - 0s 35ms/step - loss: 0.3398 - acc: 0.8756 - val_loss: 1.2452 - val_acc: 0.6766\n"
     ]
    }
   ],
   "source": [
    "history = run_experiment(baseline_model, x_train, y_train)"
   ]
  },
  {
   "cell_type": "code",
   "execution_count": 18,
   "id": "b03edfa3",
   "metadata": {
    "execution": {
     "iopub.execute_input": "2021-07-23T17:42:48.765677Z",
     "iopub.status.busy": "2021-07-23T17:42:48.764660Z",
     "iopub.status.idle": "2021-07-23T17:42:49.085745Z",
     "shell.execute_reply": "2021-07-23T17:42:49.085186Z",
     "shell.execute_reply.started": "2021-07-23T16:51:18.406184Z"
    },
    "papermill": {
     "duration": 0.483204,
     "end_time": "2021-07-23T17:42:49.085887",
     "exception": false,
     "start_time": "2021-07-23T17:42:48.602683",
     "status": "completed"
    },
    "tags": []
   },
   "outputs": [
    {
     "data": {
      "image/png": "[encoded data removed]",
      "text/plain": [
       "<Figure size 1080x360 with 2 Axes>"
      ]
     },
     "metadata": {
      "needs_background": "light"
     },
     "output_type": "display_data"
    }
   ],
   "source": [
    "display_learning_curves(history)"
   ]
  },
  {
   "cell_type": "markdown",
   "id": "f8075978",
   "metadata": {
    "papermill": {
     "duration": 0.157473,
     "end_time": "2021-07-23T17:42:49.400991",
     "exception": false,
     "start_time": "2021-07-23T17:42:49.243518",
     "status": "completed"
    },
    "tags": []
   },
   "source": [
    "## Examine the Baseline Model Predictions"
   ]
  },
  {
   "cell_type": "code",
   "execution_count": 19,
   "id": "7f081018",
   "metadata": {
    "execution": {
     "iopub.execute_input": "2021-07-23T17:42:49.723013Z",
     "iopub.status.busy": "2021-07-23T17:42:49.721908Z",
     "iopub.status.idle": "2021-07-23T17:42:49.843644Z",
     "shell.execute_reply": "2021-07-23T17:42:49.844407Z",
     "shell.execute_reply.started": "2021-07-23T16:51:48.706149Z"
    },
    "papermill": {
     "duration": 0.285534,
     "end_time": "2021-07-23T17:42:49.844656",
     "exception": false,
     "start_time": "2021-07-23T17:42:49.559122",
     "status": "completed"
    },
    "tags": []
   },
   "outputs": [
    {
     "name": "stdout",
     "output_type": "stream",
     "text": [
      "Test accuracy: 69.07%\n"
     ]
    }
   ],
   "source": [
    "_, test_accuracy = baseline_model.evaluate(x=x_test, y=y_test, verbose=0)\n",
    "print(f\"Test accuracy: {round(test_accuracy * 100, 2)}%\")"
   ]
  },
  {
   "cell_type": "code",
   "execution_count": 20,
   "id": "9400e9eb",
   "metadata": {
    "execution": {
     "iopub.execute_input": "2021-07-23T17:42:50.170279Z",
     "iopub.status.busy": "2021-07-23T17:42:50.169092Z",
     "iopub.status.idle": "2021-07-23T17:42:50.171311Z",
     "shell.execute_reply": "2021-07-23T17:42:50.171775Z",
     "shell.execute_reply.started": "2021-07-23T16:52:30.206083Z"
    },
    "papermill": {
     "duration": 0.168168,
     "end_time": "2021-07-23T17:42:50.171955",
     "exception": false,
     "start_time": "2021-07-23T17:42:50.003787",
     "status": "completed"
    },
    "tags": []
   },
   "outputs": [],
   "source": [
    "def generate_random_instances(num_instances):\n",
    "    token_probability = x_train.mean(axis=0)\n",
    "    instances = []\n",
    "    for _ in range(num_instances):\n",
    "        probabilities = np.random.uniform(size=len(token_probability))\n",
    "        instance = (probabilities <= token_probability).astype(int)\n",
    "        instances.append(instance)\n",
    "\n",
    "    return np.array(instances)\n",
    "\n",
    "\n",
    "def display_class_probabilities(probabilities):\n",
    "    for instance_idx, probs in enumerate(probabilities):\n",
    "        print(f\"Instance {instance_idx + 1}:\")\n",
    "        for class_idx, prob in enumerate(probs):\n",
    "            print(f\"- {class_values[class_idx]}: {round(prob * 100, 2)}%\")"
   ]
  },
  {
   "cell_type": "code",
   "execution_count": 21,
   "id": "503507ba",
   "metadata": {
    "execution": {
     "iopub.execute_input": "2021-07-23T17:42:50.491772Z",
     "iopub.status.busy": "2021-07-23T17:42:50.490722Z",
     "iopub.status.idle": "2021-07-23T17:42:50.892333Z",
     "shell.execute_reply": "2021-07-23T17:42:50.892872Z",
     "shell.execute_reply.started": "2021-07-23T16:56:43.315204Z"
    },
    "papermill": {
     "duration": 0.563327,
     "end_time": "2021-07-23T17:42:50.893048",
     "exception": false,
     "start_time": "2021-07-23T17:42:50.329721",
     "status": "completed"
    },
    "tags": []
   },
   "outputs": [
    {
     "name": "stdout",
     "output_type": "stream",
     "text": [
      "Instance 1:\n",
      "- Case_Based: 0.78%\n",
      "- Genetic_Algorithms: 3.66%\n",
      "- Neural_Networks: 87.71%\n",
      "- Probabilistic_Methods: 0.79%\n",
      "- Reinforcement_Learning: 6.42%\n",
      "- Rule_Learning: 0.17%\n",
      "- Theory: 0.45%\n",
      "Instance 2:\n",
      "- Case_Based: 0.68%\n",
      "- Genetic_Algorithms: 90.03%\n",
      "- Neural_Networks: 2.61%\n",
      "- Probabilistic_Methods: 0.24%\n",
      "- Reinforcement_Learning: 2.65%\n",
      "- Rule_Learning: 2.86%\n",
      "- Theory: 0.94%\n",
      "Instance 3:\n",
      "- Case_Based: 0.55%\n",
      "- Genetic_Algorithms: 1.02%\n",
      "- Neural_Networks: 85.79%\n",
      "- Probabilistic_Methods: 0.44%\n",
      "- Reinforcement_Learning: 5.55%\n",
      "- Rule_Learning: 5.17%\n",
      "- Theory: 1.49%\n",
      "Instance 4:\n",
      "- Case_Based: 0.73%\n",
      "- Genetic_Algorithms: 60.08%\n",
      "- Neural_Networks: 32.39%\n",
      "- Probabilistic_Methods: 0.76%\n",
      "- Reinforcement_Learning: 3.39%\n",
      "- Rule_Learning: 2.04%\n",
      "- Theory: 0.6%\n",
      "Instance 5:\n",
      "- Case_Based: 1.33%\n",
      "- Genetic_Algorithms: 0.47%\n",
      "- Neural_Networks: 88.67%\n",
      "- Probabilistic_Methods: 8.74%\n",
      "- Reinforcement_Learning: 0.11%\n",
      "- Rule_Learning: 0.19%\n",
      "- Theory: 0.5%\n",
      "Instance 6:\n",
      "- Case_Based: 0.61%\n",
      "- Genetic_Algorithms: 90.42%\n",
      "- Neural_Networks: 3.75%\n",
      "- Probabilistic_Methods: 0.21%\n",
      "- Reinforcement_Learning: 3.13%\n",
      "- Rule_Learning: 1.29%\n",
      "- Theory: 0.59%\n",
      "Instance 7:\n",
      "- Case_Based: 2.1%\n",
      "- Genetic_Algorithms: 0.61%\n",
      "- Neural_Networks: 8.93%\n",
      "- Probabilistic_Methods: 6.3%\n",
      "- Reinforcement_Learning: 2.63%\n",
      "- Rule_Learning: 73.38%\n",
      "- Theory: 6.05%\n"
     ]
    }
   ],
   "source": [
    "new_instances = generate_random_instances(num_classes)\n",
    "logits = baseline_model.predict(new_instances)\n",
    "probabilities = keras.activations.softmax(tf.convert_to_tensor(logits)).numpy()\n",
    "display_class_probabilities(probabilities)"
   ]
  },
  {
   "cell_type": "markdown",
   "id": "eb22a5fa",
   "metadata": {
    "papermill": {
     "duration": 0.164715,
     "end_time": "2021-07-23T17:42:51.216556",
     "exception": false,
     "start_time": "2021-07-23T17:42:51.051841",
     "status": "completed"
    },
    "tags": []
   },
   "source": [
    "# Prepare the Graph Neural Network Model"
   ]
  },
  {
   "cell_type": "markdown",
   "id": "57a0f83c",
   "metadata": {
    "papermill": {
     "duration": 0.15855,
     "end_time": "2021-07-23T17:42:51.532724",
     "exception": false,
     "start_time": "2021-07-23T17:42:51.374174",
     "status": "completed"
    },
    "tags": []
   },
   "source": [
    "## Prepare the data for the graph model"
   ]
  },
  {
   "cell_type": "code",
   "execution_count": 22,
   "id": "cb8d6acb",
   "metadata": {
    "execution": {
     "iopub.execute_input": "2021-07-23T17:42:51.857316Z",
     "iopub.status.busy": "2021-07-23T17:42:51.856134Z",
     "iopub.status.idle": "2021-07-23T17:42:51.941208Z",
     "shell.execute_reply": "2021-07-23T17:42:51.940483Z",
     "shell.execute_reply.started": "2021-07-23T17:31:16.192181Z"
    },
    "papermill": {
     "duration": 0.250828,
     "end_time": "2021-07-23T17:42:51.941399",
     "exception": false,
     "start_time": "2021-07-23T17:42:51.690571",
     "status": "completed"
    },
    "tags": []
   },
   "outputs": [
    {
     "name": "stdout",
     "output_type": "stream",
     "text": [
      "Edges shape: (2, 5429)\n",
      "Nodes shape: (2708, 1433)\n"
     ]
    }
   ],
   "source": [
    "# Create an edges array (sparse adjacency matrix) of shape [2, num_edges].\n",
    "edges = citations[[\"source\", \"target\"]].to_numpy().T\n",
    "# Create an edge weights array of ones.\n",
    "edge_weights = tf.ones(shape=edges.shape[1])\n",
    "# Create a node features array of shape [num_nodes, num_features].\n",
    "node_features = tf.cast(\n",
    "    papers.sort_values(\"paper_id\")[feature_names].to_numpy(), dtype=tf.dtypes.float32\n",
    ")\n",
    "# Create graph info tuple with node_features, edges, and edge_weights.\n",
    "graph_info = (node_features, edges, edge_weights)\n",
    "\n",
    "print(\"Edges shape:\", edges.shape)\n",
    "print(\"Nodes shape:\", node_features.shape)"
   ]
  },
  {
   "cell_type": "markdown",
   "id": "e75cc8ee",
   "metadata": {
    "papermill": {
     "duration": 0.16927,
     "end_time": "2021-07-23T17:42:52.288926",
     "exception": false,
     "start_time": "2021-07-23T17:42:52.119656",
     "status": "completed"
    },
    "tags": []
   },
   "source": [
    "## Implement a graph convolution layer"
   ]
  },
  {
   "cell_type": "code",
   "execution_count": 23,
   "id": "9f9628d4",
   "metadata": {
    "execution": {
     "iopub.execute_input": "2021-07-23T17:42:52.619183Z",
     "iopub.status.busy": "2021-07-23T17:42:52.618408Z",
     "iopub.status.idle": "2021-07-23T17:42:52.635267Z",
     "shell.execute_reply": "2021-07-23T17:42:52.634694Z",
     "shell.execute_reply.started": "2021-07-23T17:34:20.319223Z"
    },
    "papermill": {
     "duration": 0.186409,
     "end_time": "2021-07-23T17:42:52.635408",
     "exception": false,
     "start_time": "2021-07-23T17:42:52.448999",
     "status": "completed"
    },
    "tags": []
   },
   "outputs": [],
   "source": [
    "class GraphConvLayer(layers.Layer):\n",
    "    def __init__(\n",
    "        self,\n",
    "        hidden_units,\n",
    "        dropout_rate=0.2,\n",
    "        aggregation_type=\"mean\",\n",
    "        combination_type=\"concat\",\n",
    "        normalize=False,\n",
    "        *args,\n",
    "        **kwargs,\n",
    "    ):\n",
    "        super(GraphConvLayer, self).__init__(*args, **kwargs)\n",
    "\n",
    "        self.aggregation_type = aggregation_type\n",
    "        self.combination_type = combination_type\n",
    "        self.normalize = normalize\n",
    "\n",
    "        self.ffn_prepare = create_ffn(hidden_units, dropout_rate)\n",
    "        if self.combination_type == \"gated\":\n",
    "            self.update_fn = layers.GRU(\n",
    "                units=hidden_units,\n",
    "                activation=\"tanh\",\n",
    "                recurrent_activation=\"sigmoid\",\n",
    "                dropout=dropout_rate,\n",
    "                return_state=True,\n",
    "                recurrent_dropout=dropout_rate,\n",
    "            )\n",
    "        else:\n",
    "            self.update_fn = create_ffn(hidden_units, dropout_rate)\n",
    "\n",
    "    def prepare(self, node_repesentations, weights=None):\n",
    "        # node_repesentations shape is [num_edges, embedding_dim].\n",
    "        messages = self.ffn_prepare(node_repesentations)\n",
    "        if weights is not None:\n",
    "            messages = messages * tf.expand_dims(weights, -1)\n",
    "        return messages\n",
    "\n",
    "    def aggregate(self, node_indices, neighbour_messages):\n",
    "        # node_indices shape is [num_edges].\n",
    "        # neighbour_messages shape: [num_edges, representation_dim].\n",
    "        num_nodes = tf.math.reduce_max(node_indices) + 1\n",
    "        if self.aggregation_type == \"sum\":\n",
    "            aggregated_message = tf.math.unsorted_segment_sum(\n",
    "                neighbour_messages, node_indices, num_segments=num_nodes\n",
    "            )\n",
    "        elif self.aggregation_type == \"mean\":\n",
    "            aggregated_message = tf.math.unsorted_segment_mean(\n",
    "                neighbour_messages, node_indices, num_segments=num_nodes\n",
    "            )\n",
    "        elif self.aggregation_type == \"max\":\n",
    "            aggregated_message = tf.math.unsorted_segment_max(\n",
    "                neighbour_messages, node_indices, num_segments=num_nodes\n",
    "            )\n",
    "        else:\n",
    "            raise ValueError(f\"Invalid aggregation type: {self.aggregation_type}.\")\n",
    "\n",
    "        return aggregated_message\n",
    "\n",
    "    def update(self, node_repesentations, aggregated_messages):\n",
    "        # node_repesentations shape is [num_nodes, representation_dim].\n",
    "        # aggregated_messages shape is [num_nodes, representation_dim].\n",
    "        if self.combination_type == \"gru\":\n",
    "            # Create a sequence of two elements for the GRU layer.\n",
    "            h = tf.stack([node_repesentations, aggregated_messages], axis=1)\n",
    "        elif self.combination_type == \"concat\":\n",
    "            # Concatenate the node_repesentations and aggregated_messages.\n",
    "            h = tf.concat([node_repesentations, aggregated_messages], axis=1)\n",
    "        elif self.combination_type == \"add\":\n",
    "            # Add node_repesentations and aggregated_messages.\n",
    "            h = node_repesentations + aggregated_messages\n",
    "        else:\n",
    "            raise ValueError(f\"Invalid combination type: {self.combination_type}.\")\n",
    "\n",
    "        # Apply the processing function.\n",
    "        node_embeddings = self.update_fn(h)\n",
    "        if self.combination_type == \"gru\":\n",
    "            node_embeddings = tf.unstack(node_embeddings, axis=1)[-1]\n",
    "\n",
    "        if self.normalize:\n",
    "            node_embeddings = tf.nn.l2_normalize(node_embeddings, axis=-1)\n",
    "        return node_embeddings\n",
    "\n",
    "    def call(self, inputs):\n",
    "        \"\"\"Process the inputs to produce the node_embeddings.\n",
    "\n",
    "        inputs: a tuple of three elements: node_repesentations, edges, edge_weights.\n",
    "        Returns: node_embeddings of shape [num_nodes, representation_dim].\n",
    "        \"\"\"\n",
    "\n",
    "        node_repesentations, edges, edge_weights = inputs\n",
    "        # Get node_indices (source) and neighbour_indices (target) from edges.\n",
    "        node_indices, neighbour_indices = edges[0], edges[1]\n",
    "        # neighbour_repesentations shape is [num_edges, representation_dim].\n",
    "        neighbour_repesentations = tf.gather(node_repesentations, neighbour_indices)\n",
    "\n",
    "        # Prepare the messages of the neighbours.\n",
    "        neighbour_messages = self.prepare(neighbour_repesentations, edge_weights)\n",
    "        # Aggregate the neighbour messages.\n",
    "        aggregated_messages = self.aggregate(node_indices, neighbour_messages)\n",
    "        # Update the node embedding with the neighbour messages.\n",
    "        return self.update(node_repesentations, aggregated_messages)"
   ]
  },
  {
   "cell_type": "markdown",
   "id": "d9194c85",
   "metadata": {
    "papermill": {
     "duration": 0.158472,
     "end_time": "2021-07-23T17:42:52.953286",
     "exception": false,
     "start_time": "2021-07-23T17:42:52.794814",
     "status": "completed"
    },
    "tags": []
   },
   "source": [
    "## Implement a graph neural network node classifier"
   ]
  },
  {
   "cell_type": "code",
   "execution_count": 24,
   "id": "487ed445",
   "metadata": {
    "execution": {
     "iopub.execute_input": "2021-07-23T17:42:53.284982Z",
     "iopub.status.busy": "2021-07-23T17:42:53.284180Z",
     "iopub.status.idle": "2021-07-23T17:42:53.287535Z",
     "shell.execute_reply": "2021-07-23T17:42:53.286996Z",
     "shell.execute_reply.started": "2021-07-23T17:36:30.029493Z"
    },
    "papermill": {
     "duration": 0.175789,
     "end_time": "2021-07-23T17:42:53.287707",
     "exception": false,
     "start_time": "2021-07-23T17:42:53.111918",
     "status": "completed"
    },
    "tags": []
   },
   "outputs": [],
   "source": [
    "class GNNNodeClassifier(tf.keras.Model):\n",
    "    def __init__(\n",
    "        self,\n",
    "        graph_info,\n",
    "        num_classes,\n",
    "        hidden_units,\n",
    "        aggregation_type=\"sum\",\n",
    "        combination_type=\"concat\",\n",
    "        dropout_rate=0.2,\n",
    "        normalize=True,\n",
    "        *args,\n",
    "        **kwargs,\n",
    "    ):\n",
    "        super(GNNNodeClassifier, self).__init__(*args, **kwargs)\n",
    "\n",
    "        # Unpack graph_info to three elements: node_features, edges, and edge_weight.\n",
    "        node_features, edges, edge_weights = graph_info\n",
    "        self.node_features = node_features\n",
    "        self.edges = edges\n",
    "        self.edge_weights = edge_weights\n",
    "        # Set edge_weights to ones if not provided.\n",
    "        if self.edge_weights is None:\n",
    "            self.edge_weights = tf.ones(shape=edges.shape[1])\n",
    "        # Scale edge_weights to sum to 1.\n",
    "        self.edge_weights = self.edge_weights / tf.math.reduce_sum(self.edge_weights)\n",
    "\n",
    "        # Create a process layer.\n",
    "        self.preprocess = create_ffn(hidden_units, dropout_rate, name=\"preprocess\")\n",
    "        # Create the first GraphConv layer.\n",
    "        self.conv1 = GraphConvLayer(\n",
    "            hidden_units,\n",
    "            dropout_rate,\n",
    "            aggregation_type,\n",
    "            combination_type,\n",
    "            normalize,\n",
    "            name=\"graph_conv1\",\n",
    "        )\n",
    "        # Create the second GraphConv layer.\n",
    "        self.conv2 = GraphConvLayer(\n",
    "            hidden_units,\n",
    "            dropout_rate,\n",
    "            aggregation_type,\n",
    "            combination_type,\n",
    "            normalize,\n",
    "            name=\"graph_conv2\",\n",
    "        )\n",
    "        # Create a postprocess layer.\n",
    "        self.postprocess = create_ffn(hidden_units, dropout_rate, name=\"postprocess\")\n",
    "        # Create a compute logits layer.\n",
    "        self.compute_logits = layers.Dense(units=num_classes, name=\"logits\")\n",
    "\n",
    "    def call(self, input_node_indices):\n",
    "        # Preprocess the node_features to produce node representations.\n",
    "        x = self.preprocess(self.node_features)\n",
    "        # Apply the first graph conv layer.\n",
    "        x1 = self.conv1((x, self.edges, self.edge_weights))\n",
    "        # Skip connection.\n",
    "        x = x1 + x\n",
    "        # Apply the second graph conv layer.\n",
    "        x2 = self.conv2((x, self.edges, self.edge_weights))\n",
    "        # Skip connection.\n",
    "        x = x2 + x\n",
    "        # Postprocess node embedding.\n",
    "        x = self.postprocess(x)\n",
    "        # Fetch node embeddings for the input node_indices.\n",
    "        node_embeddings = tf.squeeze(tf.gather(x, input_node_indices))\n",
    "        # Compute logits\n",
    "        return self.compute_logits(node_embeddings)"
   ]
  },
  {
   "cell_type": "code",
   "execution_count": 25,
   "id": "d3d40a3d",
   "metadata": {
    "execution": {
     "iopub.execute_input": "2021-07-23T17:42:53.616261Z",
     "iopub.status.busy": "2021-07-23T17:42:53.615235Z",
     "iopub.status.idle": "2021-07-23T17:42:54.034192Z",
     "shell.execute_reply": "2021-07-23T17:42:54.033629Z",
     "shell.execute_reply.started": "2021-07-23T17:37:03.065632Z"
    },
    "papermill": {
     "duration": 0.586222,
     "end_time": "2021-07-23T17:42:54.034332",
     "exception": false,
     "start_time": "2021-07-23T17:42:53.448110",
     "status": "completed"
    },
    "tags": []
   },
   "outputs": [
    {
     "name": "stdout",
     "output_type": "stream",
     "text": [
      "GNN output shape: tf.Tensor(\n",
      "[[-0.01542746  0.06646842 -0.0573109   0.08038767  0.09149252  0.00254375\n",
      "  -0.15546505]\n",
      " [ 0.12735224  0.08102922 -0.09737669  0.06887698  0.12811796  0.00295074\n",
      "   0.11188994]\n",
      " [-0.0322943   0.03213499  0.10823779  0.10062766  0.05542033 -0.00329458\n",
      "   0.41780055]], shape=(3, 7), dtype=float32)\n",
      "Model: \"gnn_model\"\n",
      "_________________________________________________________________\n",
      "Layer (type)                 Output Shape              Param #   \n",
      "=================================================================\n",
      "preprocess (Sequential)      (2708, 32)                52804     \n",
      "_________________________________________________________________\n",
      "graph_conv1 (GraphConvLayer) multiple                  5888      \n",
      "_________________________________________________________________\n",
      "graph_conv2 (GraphConvLayer) multiple                  5888      \n",
      "_________________________________________________________________\n",
      "postprocess (Sequential)     (2708, 32)                2368      \n",
      "_________________________________________________________________\n",
      "logits (Dense)               multiple                  231       \n",
      "=================================================================\n",
      "Total params: 67,179\n",
      "Trainable params: 63,481\n",
      "Non-trainable params: 3,698\n",
      "_________________________________________________________________\n"
     ]
    }
   ],
   "source": [
    "gnn_model = GNNNodeClassifier(\n",
    "    graph_info=graph_info,\n",
    "    num_classes=num_classes,\n",
    "    hidden_units=hidden_units,\n",
    "    dropout_rate=dropout_rate,\n",
    "    name=\"gnn_model\",\n",
    ")\n",
    "\n",
    "print(\"GNN output shape:\", gnn_model([1, 10, 100]))\n",
    "\n",
    "gnn_model.summary()"
   ]
  },
  {
   "cell_type": "markdown",
   "id": "50dc931a",
   "metadata": {
    "papermill": {
     "duration": 0.160124,
     "end_time": "2021-07-23T17:42:54.355932",
     "exception": false,
     "start_time": "2021-07-23T17:42:54.195808",
     "status": "completed"
    },
    "tags": []
   },
   "source": [
    "## Train the GNN model"
   ]
  },
  {
   "cell_type": "code",
   "execution_count": 26,
   "id": "0caa2433",
   "metadata": {
    "execution": {
     "iopub.execute_input": "2021-07-23T17:42:54.687744Z",
     "iopub.status.busy": "2021-07-23T17:42:54.686649Z",
     "iopub.status.idle": "2021-07-23T17:45:31.455377Z",
     "shell.execute_reply": "2021-07-23T17:45:31.456000Z",
     "shell.execute_reply.started": "2021-07-23T17:37:58.264947Z"
    },
    "papermill": {
     "duration": 156.941135,
     "end_time": "2021-07-23T17:45:31.456182",
     "exception": false,
     "start_time": "2021-07-23T17:42:54.515047",
     "status": "completed"
    },
    "tags": []
   },
   "outputs": [
    {
     "name": "stdout",
     "output_type": "stream",
     "text": [
      "Epoch 1/300\n",
      "5/5 [==============================] - 6s 265ms/step - loss: 2.3401 - acc: 0.1556 - val_loss: 1.9155 - val_acc: 0.2886\n",
      "Epoch 2/300\n",
      "5/5 [==============================] - 1s 118ms/step - loss: 2.0219 - acc: 0.2475 - val_loss: 1.9093 - val_acc: 0.2836\n",
      "Epoch 3/300\n",
      "5/5 [==============================] - 1s 117ms/step - loss: 1.9436 - acc: 0.2713 - val_loss: 1.9054 - val_acc: 0.2836\n",
      "Epoch 4/300\n",
      "5/5 [==============================] - 1s 116ms/step - loss: 1.8904 - acc: 0.2920 - val_loss: 1.9002 - val_acc: 0.2836\n",
      "Epoch 5/300\n",
      "5/5 [==============================] - 1s 114ms/step - loss: 1.8687 - acc: 0.2922 - val_loss: 1.8963 - val_acc: 0.2836\n",
      "Epoch 6/300\n",
      "5/5 [==============================] - 1s 121ms/step - loss: 1.8526 - acc: 0.2868 - val_loss: 1.8921 - val_acc: 0.2836\n",
      "Epoch 7/300\n",
      "5/5 [==============================] - 1s 115ms/step - loss: 1.8214 - acc: 0.3352 - val_loss: 1.8850 - val_acc: 0.2836\n",
      "Epoch 8/300\n",
      "5/5 [==============================] - 1s 120ms/step - loss: 1.7985 - acc: 0.3297 - val_loss: 1.8790 - val_acc: 0.2836\n",
      "Epoch 9/300\n",
      "5/5 [==============================] - 1s 116ms/step - loss: 1.8308 - acc: 0.2941 - val_loss: 1.8773 - val_acc: 0.2836\n",
      "Epoch 10/300\n",
      "5/5 [==============================] - 1s 117ms/step - loss: 1.8067 - acc: 0.3198 - val_loss: 1.8751 - val_acc: 0.3284\n",
      "Epoch 11/300\n",
      "5/5 [==============================] - 1s 117ms/step - loss: 1.7802 - acc: 0.3109 - val_loss: 1.8716 - val_acc: 0.3632\n",
      "Epoch 12/300\n",
      "5/5 [==============================] - 1s 117ms/step - loss: 1.7650 - acc: 0.3370 - val_loss: 1.8620 - val_acc: 0.3582\n",
      "Epoch 13/300\n",
      "5/5 [==============================] - 1s 119ms/step - loss: 1.7428 - acc: 0.3223 - val_loss: 1.8428 - val_acc: 0.3383\n",
      "Epoch 14/300\n",
      "5/5 [==============================] - 1s 114ms/step - loss: 1.7269 - acc: 0.3542 - val_loss: 1.8120 - val_acc: 0.3532\n",
      "Epoch 15/300\n",
      "5/5 [==============================] - 1s 115ms/step - loss: 1.6666 - acc: 0.3656 - val_loss: 1.7622 - val_acc: 0.3781\n",
      "Epoch 16/300\n",
      "5/5 [==============================] - 1s 115ms/step - loss: 1.6216 - acc: 0.4205 - val_loss: 1.6916 - val_acc: 0.4030\n",
      "Epoch 17/300\n",
      "5/5 [==============================] - 1s 116ms/step - loss: 1.5976 - acc: 0.4109 - val_loss: 1.6407 - val_acc: 0.3930\n",
      "Epoch 18/300\n",
      "5/5 [==============================] - 1s 115ms/step - loss: 1.5672 - acc: 0.4349 - val_loss: 1.5730 - val_acc: 0.4179\n",
      "Epoch 19/300\n",
      "5/5 [==============================] - 1s 114ms/step - loss: 1.5490 - acc: 0.4404 - val_loss: 1.5565 - val_acc: 0.4080\n",
      "Epoch 20/300\n",
      "5/5 [==============================] - 1s 114ms/step - loss: 1.5016 - acc: 0.4414 - val_loss: 1.5447 - val_acc: 0.3881\n",
      "Epoch 21/300\n",
      "5/5 [==============================] - 1s 115ms/step - loss: 1.3947 - acc: 0.4920 - val_loss: 1.5170 - val_acc: 0.3881\n",
      "Epoch 22/300\n",
      "5/5 [==============================] - 1s 117ms/step - loss: 1.3476 - acc: 0.4938 - val_loss: 1.5687 - val_acc: 0.4229\n",
      "Epoch 23/300\n",
      "5/5 [==============================] - 1s 122ms/step - loss: 1.3347 - acc: 0.5225 - val_loss: 1.6378 - val_acc: 0.4279\n",
      "Epoch 24/300\n",
      "5/5 [==============================] - 1s 142ms/step - loss: 1.3094 - acc: 0.5117 - val_loss: 1.7022 - val_acc: 0.4478\n",
      "Epoch 25/300\n",
      "5/5 [==============================] - 1s 123ms/step - loss: 1.2840 - acc: 0.5330 - val_loss: 1.6800 - val_acc: 0.4279\n",
      "Epoch 26/300\n",
      "5/5 [==============================] - 1s 121ms/step - loss: 1.2282 - acc: 0.5523 - val_loss: 1.6453 - val_acc: 0.4627\n",
      "Epoch 27/300\n",
      "5/5 [==============================] - 1s 117ms/step - loss: 1.1791 - acc: 0.5575 - val_loss: 1.7221 - val_acc: 0.4478\n",
      "Epoch 28/300\n",
      "5/5 [==============================] - 1s 115ms/step - loss: 1.1394 - acc: 0.5681 - val_loss: 1.7200 - val_acc: 0.4577\n",
      "Epoch 29/300\n",
      "5/5 [==============================] - 1s 114ms/step - loss: 1.1331 - acc: 0.5824 - val_loss: 1.5938 - val_acc: 0.4975\n",
      "Epoch 30/300\n",
      "5/5 [==============================] - 1s 115ms/step - loss: 1.1407 - acc: 0.5711 - val_loss: 1.4142 - val_acc: 0.5323\n",
      "Epoch 31/300\n",
      "5/5 [==============================] - 1s 114ms/step - loss: 1.1236 - acc: 0.5883 - val_loss: 1.4304 - val_acc: 0.5323\n",
      "Epoch 32/300\n",
      "5/5 [==============================] - 1s 115ms/step - loss: 1.1047 - acc: 0.5780 - val_loss: 1.4478 - val_acc: 0.5423\n",
      "Epoch 33/300\n",
      "5/5 [==============================] - 1s 114ms/step - loss: 0.9683 - acc: 0.6572 - val_loss: 1.3043 - val_acc: 0.5771\n",
      "Epoch 34/300\n",
      "5/5 [==============================] - 1s 116ms/step - loss: 0.9853 - acc: 0.6411 - val_loss: 1.1411 - val_acc: 0.6119\n",
      "Epoch 35/300\n",
      "5/5 [==============================] - 1s 115ms/step - loss: 0.9411 - acc: 0.6638 - val_loss: 1.1050 - val_acc: 0.6169\n",
      "Epoch 36/300\n",
      "5/5 [==============================] - 1s 115ms/step - loss: 0.9631 - acc: 0.6462 - val_loss: 1.0792 - val_acc: 0.6418\n",
      "Epoch 37/300\n",
      "5/5 [==============================] - 1s 115ms/step - loss: 0.9207 - acc: 0.6866 - val_loss: 1.0495 - val_acc: 0.6567\n",
      "Epoch 38/300\n",
      "5/5 [==============================] - 1s 115ms/step - loss: 0.8881 - acc: 0.6999 - val_loss: 1.2774 - val_acc: 0.6269\n",
      "Epoch 39/300\n",
      "5/5 [==============================] - 1s 114ms/step - loss: 0.8506 - acc: 0.6935 - val_loss: 1.4538 - val_acc: 0.5871\n",
      "Epoch 40/300\n",
      "5/5 [==============================] - 1s 114ms/step - loss: 0.8318 - acc: 0.7054 - val_loss: 1.3970 - val_acc: 0.5871\n",
      "Epoch 41/300\n",
      "5/5 [==============================] - 1s 114ms/step - loss: 0.8699 - acc: 0.6900 - val_loss: 1.2768 - val_acc: 0.6020\n",
      "Epoch 42/300\n",
      "5/5 [==============================] - 1s 113ms/step - loss: 0.8611 - acc: 0.7030 - val_loss: 1.2391 - val_acc: 0.5771\n",
      "Epoch 43/300\n",
      "5/5 [==============================] - 1s 115ms/step - loss: 0.8220 - acc: 0.7088 - val_loss: 1.1223 - val_acc: 0.6169\n",
      "Epoch 44/300\n",
      "5/5 [==============================] - 1s 113ms/step - loss: 0.8203 - acc: 0.7225 - val_loss: 1.1529 - val_acc: 0.6219\n",
      "Epoch 45/300\n",
      "5/5 [==============================] - 1s 145ms/step - loss: 0.7683 - acc: 0.7354 - val_loss: 1.3555 - val_acc: 0.5572\n",
      "Epoch 46/300\n",
      "5/5 [==============================] - 1s 117ms/step - loss: 0.8006 - acc: 0.7183 - val_loss: 1.3117 - val_acc: 0.6020\n",
      "Epoch 47/300\n",
      "5/5 [==============================] - 1s 115ms/step - loss: 0.7723 - acc: 0.7418 - val_loss: 1.0956 - val_acc: 0.6766\n",
      "Epoch 48/300\n",
      "5/5 [==============================] - 1s 113ms/step - loss: 0.7642 - acc: 0.7245 - val_loss: 0.9474 - val_acc: 0.7214\n",
      "Epoch 49/300\n",
      "5/5 [==============================] - 1s 113ms/step - loss: 0.7617 - acc: 0.7603 - val_loss: 0.8669 - val_acc: 0.7363\n",
      "Epoch 50/300\n",
      "5/5 [==============================] - 1s 115ms/step - loss: 0.7493 - acc: 0.7398 - val_loss: 0.8703 - val_acc: 0.7164\n",
      "Epoch 51/300\n",
      "5/5 [==============================] - 1s 116ms/step - loss: 0.6524 - acc: 0.7809 - val_loss: 0.8783 - val_acc: 0.7164\n",
      "Epoch 52/300\n",
      "5/5 [==============================] - 1s 115ms/step - loss: 0.7024 - acc: 0.7491 - val_loss: 0.9369 - val_acc: 0.6965\n",
      "Epoch 53/300\n",
      "5/5 [==============================] - 1s 113ms/step - loss: 0.6638 - acc: 0.7630 - val_loss: 0.9727 - val_acc: 0.6915\n",
      "Epoch 54/300\n",
      "5/5 [==============================] - 1s 114ms/step - loss: 0.7353 - acc: 0.7430 - val_loss: 1.0164 - val_acc: 0.6816\n",
      "Epoch 55/300\n",
      "5/5 [==============================] - 1s 117ms/step - loss: 0.6879 - acc: 0.7805 - val_loss: 1.0876 - val_acc: 0.6567\n",
      "Epoch 56/300\n",
      "5/5 [==============================] - 1s 115ms/step - loss: 0.6954 - acc: 0.7787 - val_loss: 1.1577 - val_acc: 0.6269\n",
      "Epoch 57/300\n",
      "5/5 [==============================] - 1s 117ms/step - loss: 0.6477 - acc: 0.7904 - val_loss: 1.0990 - val_acc: 0.6368\n",
      "Epoch 58/300\n",
      "5/5 [==============================] - 1s 113ms/step - loss: 0.6543 - acc: 0.8007 - val_loss: 0.9857 - val_acc: 0.6716\n",
      "Epoch 59/300\n",
      "5/5 [==============================] - 1s 115ms/step - loss: 0.6510 - acc: 0.7796 - val_loss: 0.9107 - val_acc: 0.6866\n",
      "Epoch 60/300\n",
      "5/5 [==============================] - 1s 114ms/step - loss: 0.6599 - acc: 0.7847 - val_loss: 0.9299 - val_acc: 0.6915\n",
      "Epoch 61/300\n",
      "5/5 [==============================] - 1s 116ms/step - loss: 0.6427 - acc: 0.7789 - val_loss: 0.9609 - val_acc: 0.7114\n",
      "Epoch 62/300\n",
      "5/5 [==============================] - 1s 114ms/step - loss: 0.6588 - acc: 0.7769 - val_loss: 1.0032 - val_acc: 0.6716\n",
      "Epoch 63/300\n",
      "5/5 [==============================] - 1s 117ms/step - loss: 0.5622 - acc: 0.8075 - val_loss: 1.0352 - val_acc: 0.6866\n",
      "Epoch 64/300\n",
      "5/5 [==============================] - 1s 115ms/step - loss: 0.5845 - acc: 0.7893 - val_loss: 1.1167 - val_acc: 0.6716\n",
      "Epoch 65/300\n",
      "5/5 [==============================] - 1s 125ms/step - loss: 0.6309 - acc: 0.7935 - val_loss: 1.1524 - val_acc: 0.6617\n",
      "Epoch 66/300\n",
      "5/5 [==============================] - 1s 116ms/step - loss: 0.5910 - acc: 0.8037 - val_loss: 1.1110 - val_acc: 0.6766\n",
      "Epoch 67/300\n",
      "5/5 [==============================] - 1s 116ms/step - loss: 0.5439 - acc: 0.8105 - val_loss: 1.1022 - val_acc: 0.6716\n",
      "Epoch 68/300\n",
      "5/5 [==============================] - 1s 115ms/step - loss: 0.6198 - acc: 0.7885 - val_loss: 1.0411 - val_acc: 0.7065\n",
      "Epoch 69/300\n",
      "5/5 [==============================] - 1s 114ms/step - loss: 0.5387 - acc: 0.8250 - val_loss: 0.9562 - val_acc: 0.7065\n",
      "Epoch 70/300\n",
      "5/5 [==============================] - 1s 116ms/step - loss: 0.5779 - acc: 0.8032 - val_loss: 0.9477 - val_acc: 0.7114\n",
      "Epoch 71/300\n",
      "5/5 [==============================] - 1s 113ms/step - loss: 0.5673 - acc: 0.8062 - val_loss: 0.9969 - val_acc: 0.7214\n",
      "Epoch 72/300\n",
      "5/5 [==============================] - 1s 116ms/step - loss: 0.5543 - acc: 0.8078 - val_loss: 1.1381 - val_acc: 0.6517\n",
      "Epoch 73/300\n",
      "5/5 [==============================] - 1s 115ms/step - loss: 0.6039 - acc: 0.7914 - val_loss: 1.1433 - val_acc: 0.6517\n",
      "Epoch 74/300\n",
      "5/5 [==============================] - 1s 115ms/step - loss: 0.5182 - acc: 0.8310 - val_loss: 1.0722 - val_acc: 0.6517\n",
      "Epoch 75/300\n",
      "5/5 [==============================] - 1s 113ms/step - loss: 0.5718 - acc: 0.8150 - val_loss: 0.9957 - val_acc: 0.6915\n",
      "Epoch 76/300\n",
      "5/5 [==============================] - 1s 115ms/step - loss: 0.5415 - acc: 0.8239 - val_loss: 0.9180 - val_acc: 0.7114\n",
      "Epoch 77/300\n",
      "5/5 [==============================] - 1s 116ms/step - loss: 0.5482 - acc: 0.8358 - val_loss: 0.9192 - val_acc: 0.7264\n",
      "Epoch 78/300\n",
      "5/5 [==============================] - 1s 115ms/step - loss: 0.4862 - acc: 0.8502 - val_loss: 0.8900 - val_acc: 0.7463\n",
      "Epoch 79/300\n",
      "5/5 [==============================] - 1s 114ms/step - loss: 0.5029 - acc: 0.8331 - val_loss: 0.8848 - val_acc: 0.7313\n",
      "Epoch 80/300\n",
      "5/5 [==============================] - 1s 114ms/step - loss: 0.5087 - acc: 0.8290 - val_loss: 0.9278 - val_acc: 0.7313\n",
      "Epoch 81/300\n",
      "5/5 [==============================] - 1s 121ms/step - loss: 0.4855 - acc: 0.8402 - val_loss: 1.0400 - val_acc: 0.7065\n",
      "Epoch 82/300\n",
      "5/5 [==============================] - 1s 143ms/step - loss: 0.5021 - acc: 0.8315 - val_loss: 1.1036 - val_acc: 0.6816\n",
      "Epoch 83/300\n",
      "5/5 [==============================] - 1s 124ms/step - loss: 0.5312 - acc: 0.8266 - val_loss: 1.0176 - val_acc: 0.7164\n",
      "Epoch 84/300\n",
      "5/5 [==============================] - 1s 122ms/step - loss: 0.5312 - acc: 0.8210 - val_loss: 0.9495 - val_acc: 0.7363\n",
      "Epoch 85/300\n",
      "5/5 [==============================] - 1s 116ms/step - loss: 0.4791 - acc: 0.8308 - val_loss: 0.9689 - val_acc: 0.7264\n",
      "Epoch 86/300\n",
      "5/5 [==============================] - 1s 115ms/step - loss: 0.4831 - acc: 0.8345 - val_loss: 0.9454 - val_acc: 0.7363\n",
      "Epoch 87/300\n",
      "5/5 [==============================] - 1s 113ms/step - loss: 0.4568 - acc: 0.8504 - val_loss: 0.9698 - val_acc: 0.7313\n",
      "Epoch 88/300\n",
      "5/5 [==============================] - 1s 115ms/step - loss: 0.5280 - acc: 0.8292 - val_loss: 0.8453 - val_acc: 0.7413\n",
      "Epoch 89/300\n",
      "5/5 [==============================] - 1s 114ms/step - loss: 0.5228 - acc: 0.8374 - val_loss: 0.7934 - val_acc: 0.7612\n",
      "Epoch 90/300\n",
      "5/5 [==============================] - 1s 114ms/step - loss: 0.4619 - acc: 0.8503 - val_loss: 0.7626 - val_acc: 0.7562\n",
      "Epoch 91/300\n",
      "5/5 [==============================] - 1s 115ms/step - loss: 0.4479 - acc: 0.8513 - val_loss: 0.8130 - val_acc: 0.7463\n",
      "Epoch 92/300\n",
      "5/5 [==============================] - 1s 116ms/step - loss: 0.4840 - acc: 0.8501 - val_loss: 0.8525 - val_acc: 0.7164\n",
      "Epoch 93/300\n",
      "5/5 [==============================] - 1s 115ms/step - loss: 0.4778 - acc: 0.8484 - val_loss: 0.8375 - val_acc: 0.7463\n",
      "Epoch 94/300\n",
      "5/5 [==============================] - 1s 113ms/step - loss: 0.5299 - acc: 0.8304 - val_loss: 0.7943 - val_acc: 0.7512\n",
      "Epoch 95/300\n",
      "5/5 [==============================] - 1s 114ms/step - loss: 0.4655 - acc: 0.8587 - val_loss: 0.7589 - val_acc: 0.7463\n",
      "Epoch 96/300\n",
      "5/5 [==============================] - 1s 116ms/step - loss: 0.4393 - acc: 0.8557 - val_loss: 0.7997 - val_acc: 0.7612\n",
      "Epoch 97/300\n",
      "5/5 [==============================] - 1s 113ms/step - loss: 0.4407 - acc: 0.8616 - val_loss: 0.8468 - val_acc: 0.7562\n",
      "Epoch 98/300\n",
      "5/5 [==============================] - 1s 116ms/step - loss: 0.4349 - acc: 0.8604 - val_loss: 0.8782 - val_acc: 0.7612\n",
      "Epoch 99/300\n",
      "5/5 [==============================] - 1s 127ms/step - loss: 0.4727 - acc: 0.8506 - val_loss: 0.8050 - val_acc: 0.7512\n",
      "Epoch 100/300\n",
      "5/5 [==============================] - 1s 125ms/step - loss: 0.4724 - acc: 0.8529 - val_loss: 0.8685 - val_acc: 0.7214\n",
      "Epoch 101/300\n",
      "5/5 [==============================] - 1s 119ms/step - loss: 0.4416 - acc: 0.8648 - val_loss: 0.8565 - val_acc: 0.7214\n",
      "Epoch 102/300\n",
      "5/5 [==============================] - 1s 115ms/step - loss: 0.4787 - acc: 0.8421 - val_loss: 0.7757 - val_acc: 0.7662\n",
      "Epoch 103/300\n",
      "5/5 [==============================] - 1s 114ms/step - loss: 0.4777 - acc: 0.8342 - val_loss: 0.7811 - val_acc: 0.7711\n",
      "Epoch 104/300\n",
      "5/5 [==============================] - 1s 126ms/step - loss: 0.4242 - acc: 0.8651 - val_loss: 0.8588 - val_acc: 0.7363\n",
      "Epoch 105/300\n",
      "5/5 [==============================] - 1s 116ms/step - loss: 0.4360 - acc: 0.8595 - val_loss: 0.8976 - val_acc: 0.7363\n",
      "Epoch 106/300\n",
      "5/5 [==============================] - 1s 116ms/step - loss: 0.4322 - acc: 0.8638 - val_loss: 0.9277 - val_acc: 0.7413\n",
      "Epoch 107/300\n",
      "5/5 [==============================] - 1s 117ms/step - loss: 0.4764 - acc: 0.8410 - val_loss: 0.8188 - val_acc: 0.7612\n",
      "Epoch 108/300\n",
      "5/5 [==============================] - 1s 117ms/step - loss: 0.4430 - acc: 0.8527 - val_loss: 0.7418 - val_acc: 0.7612\n",
      "Epoch 109/300\n",
      "5/5 [==============================] - 1s 116ms/step - loss: 0.4507 - acc: 0.8543 - val_loss: 0.7053 - val_acc: 0.7910\n",
      "Epoch 110/300\n",
      "5/5 [==============================] - 1s 115ms/step - loss: 0.4439 - acc: 0.8500 - val_loss: 0.7284 - val_acc: 0.7711\n",
      "Epoch 111/300\n",
      "5/5 [==============================] - 1s 118ms/step - loss: 0.4639 - acc: 0.8510 - val_loss: 0.7937 - val_acc: 0.7711\n",
      "Epoch 112/300\n",
      "5/5 [==============================] - 1s 114ms/step - loss: 0.4364 - acc: 0.8624 - val_loss: 0.8232 - val_acc: 0.7761\n",
      "Epoch 113/300\n",
      "5/5 [==============================] - 1s 115ms/step - loss: 0.4431 - acc: 0.8571 - val_loss: 0.7340 - val_acc: 0.7662\n",
      "Epoch 114/300\n",
      "5/5 [==============================] - 1s 115ms/step - loss: 0.4323 - acc: 0.8482 - val_loss: 0.7356 - val_acc: 0.7711\n",
      "Epoch 115/300\n",
      "5/5 [==============================] - 1s 116ms/step - loss: 0.4596 - acc: 0.8440 - val_loss: 0.7524 - val_acc: 0.7811\n",
      "Epoch 116/300\n",
      "5/5 [==============================] - 1s 116ms/step - loss: 0.4294 - acc: 0.8560 - val_loss: 0.7473 - val_acc: 0.7512\n",
      "Epoch 117/300\n",
      "5/5 [==============================] - 1s 114ms/step - loss: 0.4955 - acc: 0.8382 - val_loss: 0.7249 - val_acc: 0.7711\n",
      "Epoch 118/300\n",
      "5/5 [==============================] - 1s 112ms/step - loss: 0.4386 - acc: 0.8681 - val_loss: 0.7652 - val_acc: 0.7811\n",
      "Epoch 119/300\n",
      "5/5 [==============================] - 1s 118ms/step - loss: 0.4326 - acc: 0.8620 - val_loss: 0.7930 - val_acc: 0.7711\n",
      "Epoch 120/300\n",
      "5/5 [==============================] - 1s 118ms/step - loss: 0.3829 - acc: 0.8739 - val_loss: 0.8539 - val_acc: 0.7612\n",
      "Epoch 121/300\n",
      "5/5 [==============================] - 1s 117ms/step - loss: 0.4283 - acc: 0.8486 - val_loss: 0.8699 - val_acc: 0.7662\n",
      "Epoch 122/300\n",
      "5/5 [==============================] - 1s 118ms/step - loss: 0.4021 - acc: 0.8760 - val_loss: 0.8516 - val_acc: 0.7662\n",
      "Epoch 123/300\n",
      "5/5 [==============================] - 1s 115ms/step - loss: 0.4082 - acc: 0.8684 - val_loss: 0.8395 - val_acc: 0.7662\n",
      "Epoch 124/300\n",
      "5/5 [==============================] - 1s 118ms/step - loss: 0.4440 - acc: 0.8606 - val_loss: 0.8195 - val_acc: 0.7711\n",
      "Epoch 125/300\n",
      "5/5 [==============================] - 1s 115ms/step - loss: 0.3991 - acc: 0.8810 - val_loss: 0.7739 - val_acc: 0.7612\n",
      "Epoch 126/300\n",
      "5/5 [==============================] - 1s 114ms/step - loss: 0.3845 - acc: 0.8758 - val_loss: 0.7334 - val_acc: 0.7761\n",
      "Epoch 127/300\n",
      "5/5 [==============================] - 1s 115ms/step - loss: 0.3984 - acc: 0.8774 - val_loss: 0.7757 - val_acc: 0.7861\n",
      "Epoch 128/300\n",
      "5/5 [==============================] - 1s 115ms/step - loss: 0.4137 - acc: 0.8618 - val_loss: 0.7645 - val_acc: 0.7811\n",
      "Epoch 129/300\n",
      "5/5 [==============================] - 1s 118ms/step - loss: 0.4225 - acc: 0.8703 - val_loss: 0.7499 - val_acc: 0.7910\n",
      "Epoch 130/300\n",
      "5/5 [==============================] - 1s 118ms/step - loss: 0.4102 - acc: 0.8802 - val_loss: 0.7123 - val_acc: 0.7910\n",
      "Epoch 131/300\n",
      "5/5 [==============================] - 1s 115ms/step - loss: 0.4004 - acc: 0.8711 - val_loss: 0.7151 - val_acc: 0.7761\n",
      "Epoch 132/300\n",
      "5/5 [==============================] - 1s 114ms/step - loss: 0.3976 - acc: 0.8826 - val_loss: 0.7491 - val_acc: 0.7960\n",
      "Epoch 133/300\n",
      "5/5 [==============================] - 1s 114ms/step - loss: 0.4212 - acc: 0.8618 - val_loss: 0.7525 - val_acc: 0.7861\n",
      "Epoch 134/300\n",
      "5/5 [==============================] - 1s 117ms/step - loss: 0.3696 - acc: 0.8788 - val_loss: 0.7728 - val_acc: 0.7662\n",
      "Epoch 135/300\n",
      "5/5 [==============================] - 1s 117ms/step - loss: 0.4252 - acc: 0.8655 - val_loss: 0.7796 - val_acc: 0.7761\n",
      "Epoch 136/300\n",
      "5/5 [==============================] - 1s 116ms/step - loss: 0.4531 - acc: 0.8455 - val_loss: 0.7792 - val_acc: 0.7960\n",
      "Epoch 137/300\n",
      "5/5 [==============================] - 1s 115ms/step - loss: 0.3844 - acc: 0.8807 - val_loss: 0.8109 - val_acc: 0.7861\n",
      "Epoch 138/300\n",
      "5/5 [==============================] - 1s 114ms/step - loss: 0.3423 - acc: 0.8978 - val_loss: 0.7993 - val_acc: 0.8060\n",
      "Epoch 139/300\n",
      "5/5 [==============================] - 1s 114ms/step - loss: 0.3130 - acc: 0.8984 - val_loss: 0.8301 - val_acc: 0.7761\n",
      "Epoch 140/300\n",
      "5/5 [==============================] - 1s 115ms/step - loss: 0.3418 - acc: 0.8845 - val_loss: 0.8182 - val_acc: 0.7861\n",
      "Epoch 141/300\n",
      "5/5 [==============================] - 1s 117ms/step - loss: 0.3279 - acc: 0.9070 - val_loss: 0.8049 - val_acc: 0.7960\n",
      "Epoch 142/300\n",
      "5/5 [==============================] - 1s 115ms/step - loss: 0.4094 - acc: 0.8687 - val_loss: 0.7698 - val_acc: 0.8060\n",
      "Epoch 143/300\n",
      "5/5 [==============================] - 1s 152ms/step - loss: 0.3811 - acc: 0.8829 - val_loss: 0.7372 - val_acc: 0.7861\n",
      "Epoch 144/300\n",
      "5/5 [==============================] - 1s 124ms/step - loss: 0.3751 - acc: 0.8787 - val_loss: 0.7526 - val_acc: 0.7910\n",
      "Epoch 145/300\n",
      "5/5 [==============================] - 1s 115ms/step - loss: 0.4173 - acc: 0.8674 - val_loss: 0.7543 - val_acc: 0.7811\n",
      "Epoch 146/300\n",
      "5/5 [==============================] - 1s 117ms/step - loss: 0.3606 - acc: 0.8842 - val_loss: 0.7362 - val_acc: 0.7861\n",
      "Epoch 147/300\n",
      "5/5 [==============================] - 1s 115ms/step - loss: 0.3734 - acc: 0.8841 - val_loss: 0.7195 - val_acc: 0.7861\n",
      "Epoch 148/300\n",
      "5/5 [==============================] - 1s 114ms/step - loss: 0.3548 - acc: 0.8818 - val_loss: 0.7364 - val_acc: 0.7761\n",
      "Epoch 149/300\n",
      "5/5 [==============================] - 1s 113ms/step - loss: 0.4337 - acc: 0.8604 - val_loss: 0.7499 - val_acc: 0.7711\n",
      "Epoch 150/300\n",
      "5/5 [==============================] - 1s 115ms/step - loss: 0.3668 - acc: 0.8785 - val_loss: 0.7095 - val_acc: 0.7861\n",
      "Epoch 151/300\n",
      "5/5 [==============================] - 1s 116ms/step - loss: 0.3557 - acc: 0.8817 - val_loss: 0.6716 - val_acc: 0.8060\n",
      "Epoch 152/300\n",
      "5/5 [==============================] - 1s 119ms/step - loss: 0.3836 - acc: 0.8879 - val_loss: 0.6923 - val_acc: 0.7960\n",
      "Epoch 153/300\n",
      "5/5 [==============================] - 1s 121ms/step - loss: 0.4288 - acc: 0.8619 - val_loss: 0.6845 - val_acc: 0.7960\n",
      "Epoch 154/300\n",
      "5/5 [==============================] - 1s 134ms/step - loss: 0.3662 - acc: 0.8828 - val_loss: 0.6850 - val_acc: 0.8060\n",
      "Epoch 155/300\n",
      "5/5 [==============================] - 1s 115ms/step - loss: 0.3363 - acc: 0.8945 - val_loss: 0.7250 - val_acc: 0.8060\n",
      "Epoch 156/300\n",
      "5/5 [==============================] - 1s 116ms/step - loss: 0.3664 - acc: 0.8904 - val_loss: 0.7482 - val_acc: 0.8109\n",
      "Epoch 157/300\n",
      "5/5 [==============================] - 1s 117ms/step - loss: 0.3191 - acc: 0.8908 - val_loss: 0.7925 - val_acc: 0.7960\n",
      "Epoch 158/300\n",
      "5/5 [==============================] - 1s 116ms/step - loss: 0.3403 - acc: 0.8891 - val_loss: 0.7938 - val_acc: 0.7861\n",
      "Epoch 159/300\n",
      "5/5 [==============================] - 1s 115ms/step - loss: 0.3795 - acc: 0.8872 - val_loss: 0.8033 - val_acc: 0.7711\n",
      "Epoch 160/300\n",
      "5/5 [==============================] - 1s 115ms/step - loss: 0.3619 - acc: 0.8877 - val_loss: 0.8023 - val_acc: 0.7612\n",
      "Epoch 161/300\n",
      "5/5 [==============================] - 1s 116ms/step - loss: 0.3996 - acc: 0.8704 - val_loss: 0.7271 - val_acc: 0.7662\n",
      "Epoch 162/300\n",
      "5/5 [==============================] - 1s 123ms/step - loss: 0.3701 - acc: 0.8861 - val_loss: 0.6988 - val_acc: 0.7861\n",
      "Epoch 163/300\n",
      "5/5 [==============================] - 1s 116ms/step - loss: 0.3446 - acc: 0.8874 - val_loss: 0.7012 - val_acc: 0.7960\n",
      "Epoch 164/300\n",
      "5/5 [==============================] - 1s 114ms/step - loss: 0.3349 - acc: 0.8948 - val_loss: 0.7307 - val_acc: 0.7910\n",
      "Epoch 165/300\n",
      "5/5 [==============================] - 1s 115ms/step - loss: 0.3291 - acc: 0.9023 - val_loss: 0.7224 - val_acc: 0.7761\n",
      "Epoch 166/300\n",
      "5/5 [==============================] - 1s 116ms/step - loss: 0.3398 - acc: 0.8844 - val_loss: 0.7206 - val_acc: 0.7711\n",
      "Epoch 167/300\n",
      "5/5 [==============================] - 1s 116ms/step - loss: 0.3643 - acc: 0.8856 - val_loss: 0.7016 - val_acc: 0.7811\n",
      "Epoch 168/300\n",
      "5/5 [==============================] - 1s 113ms/step - loss: 0.3565 - acc: 0.8847 - val_loss: 0.7009 - val_acc: 0.7960\n",
      "Epoch 169/300\n",
      "5/5 [==============================] - 1s 113ms/step - loss: 0.3579 - acc: 0.8908 - val_loss: 0.7316 - val_acc: 0.8010\n",
      "Epoch 170/300\n",
      "5/5 [==============================] - 1s 116ms/step - loss: 0.3695 - acc: 0.8771 - val_loss: 0.7229 - val_acc: 0.8060\n",
      "Epoch 171/300\n",
      "5/5 [==============================] - 1s 117ms/step - loss: 0.3380 - acc: 0.8922 - val_loss: 0.7236 - val_acc: 0.8109\n",
      "Epoch 172/300\n",
      "5/5 [==============================] - 1s 115ms/step - loss: 0.3697 - acc: 0.9021 - val_loss: 0.7527 - val_acc: 0.7910\n",
      "Epoch 173/300\n",
      "5/5 [==============================] - 1s 115ms/step - loss: 0.3568 - acc: 0.9000 - val_loss: 0.7626 - val_acc: 0.7811\n",
      "Epoch 174/300\n",
      "5/5 [==============================] - 1s 116ms/step - loss: 0.3351 - acc: 0.8979 - val_loss: 0.7322 - val_acc: 0.8060\n",
      "Epoch 175/300\n",
      "5/5 [==============================] - 1s 116ms/step - loss: 0.3366 - acc: 0.8855 - val_loss: 0.7175 - val_acc: 0.8109\n",
      "Epoch 176/300\n",
      "5/5 [==============================] - 1s 115ms/step - loss: 0.3741 - acc: 0.8818 - val_loss: 0.7515 - val_acc: 0.8159\n",
      "Epoch 177/300\n",
      "5/5 [==============================] - 1s 115ms/step - loss: 0.3814 - acc: 0.8827 - val_loss: 0.7854 - val_acc: 0.7960\n",
      "Epoch 178/300\n",
      "5/5 [==============================] - 1s 115ms/step - loss: 0.3240 - acc: 0.8966 - val_loss: 0.8217 - val_acc: 0.7861\n",
      "Epoch 179/300\n",
      "5/5 [==============================] - 1s 120ms/step - loss: 0.3883 - acc: 0.8752 - val_loss: 0.8127 - val_acc: 0.8010\n",
      "Epoch 180/300\n",
      "5/5 [==============================] - 1s 116ms/step - loss: 0.4010 - acc: 0.8816 - val_loss: 0.8196 - val_acc: 0.7761\n",
      "Epoch 181/300\n",
      "5/5 [==============================] - 1s 116ms/step - loss: 0.3435 - acc: 0.8905 - val_loss: 0.7410 - val_acc: 0.7711\n",
      "Epoch 182/300\n",
      "5/5 [==============================] - 1s 125ms/step - loss: 0.3493 - acc: 0.8993 - val_loss: 0.7117 - val_acc: 0.7761\n",
      "Epoch 183/300\n",
      "5/5 [==============================] - 1s 115ms/step - loss: 0.3703 - acc: 0.8893 - val_loss: 0.7501 - val_acc: 0.7811\n",
      "Epoch 184/300\n",
      "5/5 [==============================] - 1s 114ms/step - loss: 0.2941 - acc: 0.9203 - val_loss: 0.7361 - val_acc: 0.7960\n",
      "Epoch 185/300\n",
      "5/5 [==============================] - 1s 115ms/step - loss: 0.3489 - acc: 0.8913 - val_loss: 0.7344 - val_acc: 0.7960\n",
      "Epoch 186/300\n",
      "5/5 [==============================] - 1s 115ms/step - loss: 0.3434 - acc: 0.8874 - val_loss: 0.7303 - val_acc: 0.7910\n",
      "Epoch 187/300\n",
      "5/5 [==============================] - 1s 119ms/step - loss: 0.3490 - acc: 0.8956 - val_loss: 0.7469 - val_acc: 0.7960\n",
      "Epoch 188/300\n",
      "5/5 [==============================] - 1s 116ms/step - loss: 0.3587 - acc: 0.8933 - val_loss: 0.7393 - val_acc: 0.7910\n",
      "Epoch 189/300\n",
      "5/5 [==============================] - 1s 115ms/step - loss: 0.3285 - acc: 0.8967 - val_loss: 0.7085 - val_acc: 0.7960\n",
      "Epoch 190/300\n",
      "5/5 [==============================] - 1s 114ms/step - loss: 0.3276 - acc: 0.9006 - val_loss: 0.7085 - val_acc: 0.8159\n",
      "Epoch 191/300\n",
      "5/5 [==============================] - 1s 116ms/step - loss: 0.3462 - acc: 0.8820 - val_loss: 0.7067 - val_acc: 0.8209\n",
      "Epoch 192/300\n",
      "5/5 [==============================] - 1s 116ms/step - loss: 0.3148 - acc: 0.9041 - val_loss: 0.7582 - val_acc: 0.8109\n",
      "Epoch 193/300\n",
      "5/5 [==============================] - 1s 116ms/step - loss: 0.3146 - acc: 0.8923 - val_loss: 0.7729 - val_acc: 0.8109\n",
      "Epoch 194/300\n",
      "5/5 [==============================] - 1s 116ms/step - loss: 0.3631 - acc: 0.8827 - val_loss: 0.7415 - val_acc: 0.8109\n",
      "Epoch 195/300\n",
      "5/5 [==============================] - 1s 114ms/step - loss: 0.3532 - acc: 0.8873 - val_loss: 0.7312 - val_acc: 0.8060\n",
      "Epoch 196/300\n",
      "5/5 [==============================] - 1s 116ms/step - loss: 0.3595 - acc: 0.8762 - val_loss: 0.7851 - val_acc: 0.7811\n",
      "Epoch 197/300\n",
      "5/5 [==============================] - 1s 115ms/step - loss: 0.3257 - acc: 0.9038 - val_loss: 0.8285 - val_acc: 0.7861\n",
      "Epoch 198/300\n",
      "5/5 [==============================] - 1s 115ms/step - loss: 0.3136 - acc: 0.9054 - val_loss: 0.8131 - val_acc: 0.8060\n",
      "Epoch 199/300\n",
      "5/5 [==============================] - 1s 115ms/step - loss: 0.3286 - acc: 0.8977 - val_loss: 0.7267 - val_acc: 0.8109\n",
      "Epoch 200/300\n",
      "5/5 [==============================] - 1s 116ms/step - loss: 0.3292 - acc: 0.8902 - val_loss: 0.7211 - val_acc: 0.8209\n",
      "Epoch 201/300\n",
      "5/5 [==============================] - 1s 115ms/step - loss: 0.3783 - acc: 0.8847 - val_loss: 0.7384 - val_acc: 0.8109\n",
      "Epoch 202/300\n",
      "5/5 [==============================] - 1s 131ms/step - loss: 0.3357 - acc: 0.8915 - val_loss: 0.7706 - val_acc: 0.8109\n",
      "Epoch 203/300\n",
      "5/5 [==============================] - 1s 140ms/step - loss: 0.3346 - acc: 0.8967 - val_loss: 0.7702 - val_acc: 0.8109\n",
      "Epoch 204/300\n",
      "5/5 [==============================] - 1s 129ms/step - loss: 0.3728 - acc: 0.8846 - val_loss: 0.7315 - val_acc: 0.8159\n",
      "Epoch 205/300\n",
      "5/5 [==============================] - 1s 120ms/step - loss: 0.3157 - acc: 0.9076 - val_loss: 0.6961 - val_acc: 0.8259\n",
      "Epoch 206/300\n",
      "5/5 [==============================] - 1s 119ms/step - loss: 0.2757 - acc: 0.9146 - val_loss: 0.7330 - val_acc: 0.8308\n",
      "Epoch 207/300\n",
      "5/5 [==============================] - 1s 116ms/step - loss: 0.2922 - acc: 0.9184 - val_loss: 0.8045 - val_acc: 0.8060\n",
      "Epoch 208/300\n",
      "5/5 [==============================] - 1s 135ms/step - loss: 0.3518 - acc: 0.8917 - val_loss: 0.8552 - val_acc: 0.7861\n",
      "Epoch 209/300\n",
      "5/5 [==============================] - 1s 129ms/step - loss: 0.3177 - acc: 0.8988 - val_loss: 0.7758 - val_acc: 0.7960\n",
      "Epoch 210/300\n",
      "5/5 [==============================] - 1s 116ms/step - loss: 0.3292 - acc: 0.8978 - val_loss: 0.7211 - val_acc: 0.8159\n",
      "Epoch 211/300\n",
      "5/5 [==============================] - 1s 116ms/step - loss: 0.3045 - acc: 0.9147 - val_loss: 0.7532 - val_acc: 0.7960\n",
      "Epoch 212/300\n",
      "5/5 [==============================] - 1s 118ms/step - loss: 0.3476 - acc: 0.8902 - val_loss: 0.7929 - val_acc: 0.7910\n",
      "Epoch 213/300\n",
      "5/5 [==============================] - 1s 118ms/step - loss: 0.4041 - acc: 0.8799 - val_loss: 0.7619 - val_acc: 0.7861\n",
      "Epoch 214/300\n",
      "5/5 [==============================] - 1s 116ms/step - loss: 0.3197 - acc: 0.9055 - val_loss: 0.7072 - val_acc: 0.8010\n",
      "Epoch 215/300\n",
      "5/5 [==============================] - 1s 116ms/step - loss: 0.3274 - acc: 0.9102 - val_loss: 0.7184 - val_acc: 0.7910\n",
      "Epoch 216/300\n",
      "5/5 [==============================] - 1s 116ms/step - loss: 0.2901 - acc: 0.9113 - val_loss: 0.7695 - val_acc: 0.8109\n",
      "Epoch 217/300\n",
      "5/5 [==============================] - 1s 118ms/step - loss: 0.3355 - acc: 0.8958 - val_loss: 0.8136 - val_acc: 0.8109\n",
      "Epoch 218/300\n",
      "5/5 [==============================] - 1s 118ms/step - loss: 0.3788 - acc: 0.8953 - val_loss: 0.7808 - val_acc: 0.8408\n",
      "Epoch 219/300\n",
      "5/5 [==============================] - 1s 119ms/step - loss: 0.2948 - acc: 0.9114 - val_loss: 0.7442 - val_acc: 0.8259\n",
      "Epoch 220/300\n",
      "5/5 [==============================] - 1s 116ms/step - loss: 0.2897 - acc: 0.8984 - val_loss: 0.7342 - val_acc: 0.8259\n",
      "Epoch 221/300\n",
      "5/5 [==============================] - 1s 123ms/step - loss: 0.2922 - acc: 0.9147 - val_loss: 0.7280 - val_acc: 0.8209\n",
      "Epoch 222/300\n",
      "5/5 [==============================] - 1s 119ms/step - loss: 0.3080 - acc: 0.9042 - val_loss: 0.8036 - val_acc: 0.8159\n",
      "Epoch 223/300\n",
      "5/5 [==============================] - 1s 116ms/step - loss: 0.3365 - acc: 0.9062 - val_loss: 0.7706 - val_acc: 0.8209\n",
      "Epoch 224/300\n",
      "5/5 [==============================] - 1s 118ms/step - loss: 0.3430 - acc: 0.8862 - val_loss: 0.7682 - val_acc: 0.8060\n",
      "Epoch 225/300\n",
      "5/5 [==============================] - 1s 116ms/step - loss: 0.3187 - acc: 0.8943 - val_loss: 0.7751 - val_acc: 0.8010\n",
      "Epoch 226/300\n",
      "5/5 [==============================] - 1s 115ms/step - loss: 0.3574 - acc: 0.8914 - val_loss: 0.7605 - val_acc: 0.8159\n",
      "Epoch 227/300\n",
      "5/5 [==============================] - 1s 116ms/step - loss: 0.2927 - acc: 0.8949 - val_loss: 0.7752 - val_acc: 0.8259\n",
      "Epoch 228/300\n",
      "5/5 [==============================] - 1s 117ms/step - loss: 0.3437 - acc: 0.8975 - val_loss: 0.7403 - val_acc: 0.8259\n",
      "Epoch 229/300\n",
      "5/5 [==============================] - 1s 117ms/step - loss: 0.2996 - acc: 0.9120 - val_loss: 0.7227 - val_acc: 0.8159\n",
      "Epoch 230/300\n",
      "5/5 [==============================] - 1s 117ms/step - loss: 0.3107 - acc: 0.9011 - val_loss: 0.7199 - val_acc: 0.8010\n",
      "Epoch 231/300\n",
      "5/5 [==============================] - 1s 115ms/step - loss: 0.2645 - acc: 0.9313 - val_loss: 0.7640 - val_acc: 0.7861\n",
      "Epoch 232/300\n",
      "5/5 [==============================] - 1s 120ms/step - loss: 0.3010 - acc: 0.9165 - val_loss: 0.7774 - val_acc: 0.7861\n",
      "Epoch 233/300\n",
      "5/5 [==============================] - 1s 118ms/step - loss: 0.3486 - acc: 0.8862 - val_loss: 0.7891 - val_acc: 0.8060\n",
      "Epoch 234/300\n",
      "5/5 [==============================] - 1s 120ms/step - loss: 0.2872 - acc: 0.9132 - val_loss: 0.7879 - val_acc: 0.7960\n",
      "Epoch 235/300\n",
      "5/5 [==============================] - 1s 119ms/step - loss: 0.3085 - acc: 0.9089 - val_loss: 0.7421 - val_acc: 0.8109\n",
      "Epoch 236/300\n",
      "5/5 [==============================] - 1s 120ms/step - loss: 0.3261 - acc: 0.9014 - val_loss: 0.7250 - val_acc: 0.8259\n",
      "Epoch 237/300\n",
      "5/5 [==============================] - 1s 117ms/step - loss: 0.3408 - acc: 0.9028 - val_loss: 0.7280 - val_acc: 0.8259\n",
      "Epoch 238/300\n",
      "5/5 [==============================] - 1s 118ms/step - loss: 0.2670 - acc: 0.9199 - val_loss: 0.7761 - val_acc: 0.8259\n",
      "Epoch 239/300\n",
      "5/5 [==============================] - 1s 120ms/step - loss: 0.2698 - acc: 0.9186 - val_loss: 0.8008 - val_acc: 0.8159\n",
      "Epoch 240/300\n",
      "5/5 [==============================] - 1s 127ms/step - loss: 0.2722 - acc: 0.9184 - val_loss: 0.7809 - val_acc: 0.8159\n",
      "Epoch 241/300\n",
      "5/5 [==============================] - 1s 114ms/step - loss: 0.3346 - acc: 0.8936 - val_loss: 0.7631 - val_acc: 0.8109\n",
      "Epoch 242/300\n",
      "5/5 [==============================] - 1s 117ms/step - loss: 0.3222 - acc: 0.9047 - val_loss: 0.7519 - val_acc: 0.8358\n",
      "Epoch 243/300\n",
      "5/5 [==============================] - 1s 115ms/step - loss: 0.3231 - acc: 0.8975 - val_loss: 0.7526 - val_acc: 0.8259\n",
      "Epoch 244/300\n",
      "5/5 [==============================] - 1s 114ms/step - loss: 0.3182 - acc: 0.8955 - val_loss: 0.7925 - val_acc: 0.8109\n",
      "Epoch 245/300\n",
      "5/5 [==============================] - 1s 115ms/step - loss: 0.2900 - acc: 0.9118 - val_loss: 0.8233 - val_acc: 0.8060\n",
      "Epoch 246/300\n",
      "5/5 [==============================] - 1s 115ms/step - loss: 0.3432 - acc: 0.8996 - val_loss: 0.8101 - val_acc: 0.7861\n",
      "Epoch 247/300\n",
      "5/5 [==============================] - 1s 115ms/step - loss: 0.2945 - acc: 0.9092 - val_loss: 0.8047 - val_acc: 0.7910\n",
      "Epoch 248/300\n",
      "5/5 [==============================] - 1s 115ms/step - loss: 0.2824 - acc: 0.9099 - val_loss: 0.8874 - val_acc: 0.7761\n",
      "Epoch 249/300\n",
      "5/5 [==============================] - 1s 115ms/step - loss: 0.2923 - acc: 0.9195 - val_loss: 0.9204 - val_acc: 0.7861\n",
      "Epoch 250/300\n",
      "5/5 [==============================] - 1s 116ms/step - loss: 0.3075 - acc: 0.9000 - val_loss: 0.8835 - val_acc: 0.7910\n",
      "Epoch 251/300\n",
      "5/5 [==============================] - 1s 117ms/step - loss: 0.3682 - acc: 0.8875 - val_loss: 0.8030 - val_acc: 0.8060\n",
      "Epoch 252/300\n",
      "5/5 [==============================] - 1s 118ms/step - loss: 0.2798 - acc: 0.9045 - val_loss: 0.7878 - val_acc: 0.8060\n",
      "Epoch 253/300\n",
      "5/5 [==============================] - 1s 114ms/step - loss: 0.2894 - acc: 0.9008 - val_loss: 0.7807 - val_acc: 0.8109\n",
      "Epoch 254/300\n",
      "5/5 [==============================] - 1s 116ms/step - loss: 0.3582 - acc: 0.8856 - val_loss: 0.7746 - val_acc: 0.8060\n",
      "Epoch 255/300\n",
      "5/5 [==============================] - 1s 112ms/step - loss: 0.2697 - acc: 0.9175 - val_loss: 0.7663 - val_acc: 0.8159\n",
      "Epoch 256/300\n",
      "5/5 [==============================] - 1s 115ms/step - loss: 0.3279 - acc: 0.9072 - val_loss: 0.8185 - val_acc: 0.8060\n",
      "Epoch 257/300\n",
      "5/5 [==============================] - 1s 118ms/step - loss: 0.3151 - acc: 0.9076 - val_loss: 0.7960 - val_acc: 0.8010\n",
      "Epoch 258/300\n",
      "5/5 [==============================] - 1s 117ms/step - loss: 0.2718 - acc: 0.9171 - val_loss: 0.8124 - val_acc: 0.7910\n",
      "Epoch 259/300\n",
      "5/5 [==============================] - 1s 136ms/step - loss: 0.2818 - acc: 0.9100 - val_loss: 0.8811 - val_acc: 0.7910\n",
      "Epoch 260/300\n",
      "5/5 [==============================] - 1s 134ms/step - loss: 0.3497 - acc: 0.8919 - val_loss: 0.9143 - val_acc: 0.7960\n",
      "Epoch 261/300\n",
      "5/5 [==============================] - 1s 116ms/step - loss: 0.2858 - acc: 0.9064 - val_loss: 0.8710 - val_acc: 0.7960\n",
      "Epoch 262/300\n",
      "5/5 [==============================] - 1s 127ms/step - loss: 0.3389 - acc: 0.9049 - val_loss: 0.8113 - val_acc: 0.8109\n",
      "Epoch 263/300\n",
      "5/5 [==============================] - 1s 134ms/step - loss: 0.3085 - acc: 0.9112 - val_loss: 0.8199 - val_acc: 0.8010\n",
      "Epoch 264/300\n",
      "5/5 [==============================] - 1s 117ms/step - loss: 0.2864 - acc: 0.9101 - val_loss: 0.8733 - val_acc: 0.8010\n",
      "Epoch 265/300\n",
      "5/5 [==============================] - 1s 115ms/step - loss: 0.2675 - acc: 0.9105 - val_loss: 0.9062 - val_acc: 0.7910\n",
      "Epoch 266/300\n",
      "5/5 [==============================] - 1s 115ms/step - loss: 0.2880 - acc: 0.9167 - val_loss: 0.8660 - val_acc: 0.8109\n",
      "Epoch 267/300\n",
      "5/5 [==============================] - 1s 115ms/step - loss: 0.2890 - acc: 0.9173 - val_loss: 0.8581 - val_acc: 0.7960\n",
      "Epoch 268/300\n",
      "5/5 [==============================] - 1s 115ms/step - loss: 0.2709 - acc: 0.9111 - val_loss: 0.8946 - val_acc: 0.7910\n"
     ]
    }
   ],
   "source": [
    "x_train = train_data.paper_id.to_numpy()\n",
    "history = run_experiment(gnn_model, x_train, y_train)"
   ]
  },
  {
   "cell_type": "code",
   "execution_count": 27,
   "id": "3b96f907",
   "metadata": {
    "execution": {
     "iopub.execute_input": "2021-07-23T17:45:32.908954Z",
     "iopub.status.busy": "2021-07-23T17:45:32.908260Z",
     "iopub.status.idle": "2021-07-23T17:45:33.217218Z",
     "shell.execute_reply": "2021-07-23T17:45:33.217687Z",
     "shell.execute_reply.started": "2021-07-23T17:39:17.827629Z"
    },
    "papermill": {
     "duration": 1.039089,
     "end_time": "2021-07-23T17:45:33.217870",
     "exception": false,
     "start_time": "2021-07-23T17:45:32.178781",
     "status": "completed"
    },
    "tags": []
   },
   "outputs": [
    {
     "data": {
      "image/png": "[encoded data removed]",
      "text/plain": [
       "<Figure size 1080x360 with 2 Axes>"
      ]
     },
     "metadata": {
      "needs_background": "light"
     },
     "output_type": "display_data"
    }
   ],
   "source": [
    "display_learning_curves(history)"
   ]
  },
  {
   "cell_type": "code",
   "execution_count": 28,
   "id": "18792184",
   "metadata": {
    "execution": {
     "iopub.execute_input": "2021-07-23T17:45:34.666775Z",
     "iopub.status.busy": "2021-07-23T17:45:34.666130Z",
     "iopub.status.idle": "2021-07-23T17:45:35.426024Z",
     "shell.execute_reply": "2021-07-23T17:45:35.425165Z",
     "shell.execute_reply.started": "2021-07-23T17:39:46.778800Z"
    },
    "papermill": {
     "duration": 1.484658,
     "end_time": "2021-07-23T17:45:35.426221",
     "exception": false,
     "start_time": "2021-07-23T17:45:33.941563",
     "status": "completed"
    },
    "tags": []
   },
   "outputs": [
    {
     "name": "stdout",
     "output_type": "stream",
     "text": [
      "Test accuracy: 81.62%\n"
     ]
    }
   ],
   "source": [
    "x_test = test_data.paper_id.to_numpy()\n",
    "_, test_accuracy = gnn_model.evaluate(x=x_test, y=y_test, verbose=0)\n",
    "print(f\"Test accuracy: {round(test_accuracy * 100, 2)}%\")"
   ]
  },
  {
   "cell_type": "markdown",
   "id": "8a6d15f9",
   "metadata": {
    "papermill": {
     "duration": 0.722239,
     "end_time": "2021-07-23T17:45:36.879041",
     "exception": false,
     "start_time": "2021-07-23T17:45:36.156802",
     "status": "completed"
    },
    "tags": []
   },
   "source": [
    "## Examine the GNN model predictions"
   ]
  },
  {
   "cell_type": "code",
   "execution_count": 29,
   "id": "db00a9d4",
   "metadata": {
    "execution": {
     "iopub.execute_input": "2021-07-23T17:45:38.373576Z",
     "iopub.status.busy": "2021-07-23T17:45:38.371968Z",
     "iopub.status.idle": "2021-07-23T17:45:38.399522Z",
     "shell.execute_reply": "2021-07-23T17:45:38.398847Z",
     "shell.execute_reply.started": "2021-07-23T17:40:29.601215Z"
    },
    "papermill": {
     "duration": 0.762486,
     "end_time": "2021-07-23T17:45:38.399678",
     "exception": false,
     "start_time": "2021-07-23T17:45:37.637192",
     "status": "completed"
    },
    "tags": []
   },
   "outputs": [],
   "source": [
    "# First we add the N new_instances as nodes to the graph\n",
    "# by appending the new_instance to node_features.\n",
    "num_nodes = node_features.shape[0]\n",
    "new_node_features = np.concatenate([node_features, new_instances])\n",
    "# Second we add the M edges (citations) from each new node to a set\n",
    "# of existing nodes in a particular subject\n",
    "new_node_indices = [i + num_nodes for i in range(num_classes)]\n",
    "new_citations = []\n",
    "for subject_idx, group in papers.groupby(\"subject\"):\n",
    "    subject_papers = list(group.paper_id)\n",
    "    # Select random x papers specific subject.\n",
    "    selected_paper_indices1 = np.random.choice(subject_papers, 5)\n",
    "    # Select random y papers from any subject (where y < x).\n",
    "    selected_paper_indices2 = np.random.choice(list(papers.paper_id), 2)\n",
    "    # Merge the selected paper indices.\n",
    "    selected_paper_indices = np.concatenate(\n",
    "        [selected_paper_indices1, selected_paper_indices2], axis=0\n",
    "    )\n",
    "    # Create edges between a citing paper idx and the selected cited papers.\n",
    "    citing_paper_indx = new_node_indices[subject_idx]\n",
    "    for cited_paper_idx in selected_paper_indices:\n",
    "        new_citations.append([citing_paper_indx, cited_paper_idx])\n",
    "\n",
    "new_citations = np.array(new_citations).T\n",
    "new_edges = np.concatenate([edges, new_citations], axis=1)"
   ]
  },
  {
   "cell_type": "code",
   "execution_count": 30,
   "id": "1bdcd9c9",
   "metadata": {
    "execution": {
     "iopub.execute_input": "2021-07-23T17:45:39.904274Z",
     "iopub.status.busy": "2021-07-23T17:45:39.903212Z",
     "iopub.status.idle": "2021-07-23T17:45:41.171259Z",
     "shell.execute_reply": "2021-07-23T17:45:41.170257Z",
     "shell.execute_reply.started": "2021-07-23T17:40:44.499990Z"
    },
    "papermill": {
     "duration": 2.046652,
     "end_time": "2021-07-23T17:45:41.171469",
     "exception": false,
     "start_time": "2021-07-23T17:45:39.124817",
     "status": "completed"
    },
    "tags": []
   },
   "outputs": [
    {
     "name": "stdout",
     "output_type": "stream",
     "text": [
      "Original node_features shape: (2708, 1433)\n",
      "Original edges shape: (2, 5429)\n",
      "New node_features shape: (2715, 1433)\n",
      "New edges shape: (2, 5478)\n",
      "Instance 1:\n",
      "- Case_Based: 93.85%\n",
      "- Genetic_Algorithms: 1.45%\n",
      "- Neural_Networks: 0.96%\n",
      "- Probabilistic_Methods: 2.3%\n",
      "- Reinforcement_Learning: 1.12%\n",
      "- Rule_Learning: 0.11%\n",
      "- Theory: 0.21%\n",
      "Instance 2:\n",
      "- Case_Based: 0.68%\n",
      "- Genetic_Algorithms: 96.4%\n",
      "- Neural_Networks: 0.46%\n",
      "- Probabilistic_Methods: 0.2%\n",
      "- Reinforcement_Learning: 2.04%\n",
      "- Rule_Learning: 0.03%\n",
      "- Theory: 0.18%\n",
      "Instance 3:\n",
      "- Case_Based: 0.02%\n",
      "- Genetic_Algorithms: 0.09%\n",
      "- Neural_Networks: 98.76%\n",
      "- Probabilistic_Methods: 0.44%\n",
      "- Reinforcement_Learning: 0.35%\n",
      "- Rule_Learning: 0.09%\n",
      "- Theory: 0.26%\n",
      "Instance 4:\n",
      "- Case_Based: 0.16%\n",
      "- Genetic_Algorithms: 10.6%\n",
      "- Neural_Networks: 7.82%\n",
      "- Probabilistic_Methods: 80.31%\n",
      "- Reinforcement_Learning: 0.21%\n",
      "- Rule_Learning: 0.04%\n",
      "- Theory: 0.85%\n",
      "Instance 5:\n",
      "- Case_Based: 1.21%\n",
      "- Genetic_Algorithms: 1.89%\n",
      "- Neural_Networks: 71.98%\n",
      "- Probabilistic_Methods: 1.69%\n",
      "- Reinforcement_Learning: 22.37%\n",
      "- Rule_Learning: 0.63%\n",
      "- Theory: 0.23%\n",
      "Instance 6:\n",
      "- Case_Based: 15.91%\n",
      "- Genetic_Algorithms: 65.43%\n",
      "- Neural_Networks: 2.69%\n",
      "- Probabilistic_Methods: 1.05%\n",
      "- Reinforcement_Learning: 9.36%\n",
      "- Rule_Learning: 1.23%\n",
      "- Theory: 4.33%\n",
      "Instance 7:\n",
      "- Case_Based: 31.55%\n",
      "- Genetic_Algorithms: 0.44%\n",
      "- Neural_Networks: 7.49%\n",
      "- Probabilistic_Methods: 17.62%\n",
      "- Reinforcement_Learning: 0.37%\n",
      "- Rule_Learning: 12.68%\n",
      "- Theory: 29.84%\n"
     ]
    }
   ],
   "source": [
    "print(\"Original node_features shape:\", gnn_model.node_features.shape)\n",
    "print(\"Original edges shape:\", gnn_model.edges.shape)\n",
    "gnn_model.node_features = new_node_features\n",
    "gnn_model.edges = new_edges\n",
    "gnn_model.edge_weights = tf.ones(shape=new_edges.shape[1])\n",
    "print(\"New node_features shape:\", gnn_model.node_features.shape)\n",
    "print(\"New edges shape:\", gnn_model.edges.shape)\n",
    "\n",
    "logits = gnn_model.predict(tf.convert_to_tensor(new_node_indices))\n",
    "probabilities = keras.activations.softmax(tf.convert_to_tensor(logits)).numpy()\n",
    "display_class_probabilities(probabilities)"
   ]
  },
  {
   "cell_type": "code",
   "execution_count": null,
   "id": "f96f2273",
   "metadata": {
    "papermill": {
     "duration": 0.727837,
     "end_time": "2021-07-23T17:45:42.626442",
     "exception": false,
     "start_time": "2021-07-23T17:45:41.898605",
     "status": "completed"
    },
    "tags": []
   },
   "outputs": [],
   "source": []
  }
 ],
 "metadata": {
  "kernelspec": {
   "display_name": "Python 3",
   "language": "python",
   "name": "python3"
  },
  "language_info": {
   "codemirror_mode": {
    "name": "ipython",
    "version": 3
   },
   "file_extension": ".py",
   "mimetype": "text/x-python",
   "name": "python",
   "nbconvert_exporter": "python",
   "pygments_lexer": "ipython3",
   "version": "3.7.10"
  },
  "papermill": {
   "default_parameters": {},
   "duration": 238.136178,
   "end_time": "2021-07-23T17:45:45.732308",
   "environment_variables": {},
   "exception": null,
   "input_path": "__notebook__.ipynb",
   "output_path": "__notebook__.ipynb",
   "parameters": {},
   "start_time": "2021-07-23T17:41:47.596130",
   "version": "2.3.3"
  }
 },
 "nbformat": 4,
 "nbformat_minor": 5
}
