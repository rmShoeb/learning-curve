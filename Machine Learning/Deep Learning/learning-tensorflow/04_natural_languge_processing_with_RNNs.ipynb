{
  "nbformat": 4,
  "nbformat_minor": 0,
  "metadata": {
    "colab": {
      "name": "setiment-analysis.ipynb",
      "provenance": [],
      "collapsed_sections": []
    },
    "kernelspec": {
      "name": "python3",
      "display_name": "Python 3"
    },
    "language_info": {
      "name": "python"
    },
    "accelerator": "GPU",
    "gpuClass": "standard"
  },
  "cells": [
    {
      "cell_type": "markdown",
      "source": [
        "# Imports"
      ],
      "metadata": {
        "id": "A5SUMjnOTIPY"
      }
    },
    {
      "cell_type": "code",
      "metadata": {
        "id": "dtDcCPVYOH_7"
      },
      "source": [
        "from keras.datasets import imdb\n",
        "from keras.preprocessing import sequence\n",
        "\n",
        "import os\n",
        "import tensorflow as tf\n",
        "import numpy as np"
      ],
      "execution_count": 1,
      "outputs": []
    },
    {
      "cell_type": "markdown",
      "source": [
        "# Data"
      ],
      "metadata": {
        "id": "XklKoVkcTrkP"
      }
    },
    {
      "cell_type": "code",
      "source": [
        "len(imdb.get_word_index())"
      ],
      "metadata": {
        "id": "qF3vJMVGVMZK",
        "outputId": "3f749c11-96ba-4b1f-f070-b9b324a0d63d",
        "colab": {
          "base_uri": "https://localhost:8080/"
        }
      },
      "execution_count": 2,
      "outputs": [
        {
          "output_type": "stream",
          "name": "stdout",
          "text": [
            "Downloading data from https://storage.googleapis.com/tensorflow/tf-keras-datasets/imdb_word_index.json\n",
            "1646592/1641221 [==============================] - 0s 0us/step\n",
            "1654784/1641221 [==============================] - 0s 0us/step\n"
          ]
        },
        {
          "output_type": "execute_result",
          "data": {
            "text/plain": [
              "88584"
            ]
          },
          "metadata": {},
          "execution_count": 2
        }
      ]
    },
    {
      "cell_type": "markdown",
      "source": [
        "So, there are 88,584 unique words in the dataset."
      ],
      "metadata": {
        "id": "n7zlnwp5WM1o"
      }
    },
    {
      "cell_type": "code",
      "metadata": {
        "id": "jYquN53Yd0Jt"
      },
      "source": [
        "VOCAB_SIZE = 88584\n",
        "MAXLEN = 250\n",
        "BATCH_SIZE = 64"
      ],
      "execution_count": 3,
      "outputs": []
    },
    {
      "cell_type": "code",
      "metadata": {
        "colab": {
          "base_uri": "https://localhost:8080/"
        },
        "id": "MFP6ktF5eO0q",
        "outputId": "2faf4c81-0061-45ca-dde8-7f3135f486b6"
      },
      "source": [
        "(train_data, train_label), (test_data, test_label) = imdb.load_data(num_words=VOCAB_SIZE)"
      ],
      "execution_count": 4,
      "outputs": [
        {
          "output_type": "stream",
          "name": "stdout",
          "text": [
            "Downloading data from https://storage.googleapis.com/tensorflow/tf-keras-datasets/imdb.npz\n",
            "17465344/17464789 [==============================] - 0s 0us/step\n",
            "17473536/17464789 [==============================] - 0s 0us/step\n"
          ]
        }
      ]
    },
    {
      "cell_type": "code",
      "metadata": {
        "colab": {
          "base_uri": "https://localhost:8080/"
        },
        "id": "NxLYIL38eny1",
        "outputId": "5e46d2af-b5d8-4c5f-cfcd-e23f4deea296"
      },
      "source": [
        "print(train_data[0])"
      ],
      "execution_count": 5,
      "outputs": [
        {
          "output_type": "stream",
          "name": "stdout",
          "text": [
            "[1, 14, 22, 16, 43, 530, 973, 1622, 1385, 65, 458, 4468, 66, 3941, 4, 173, 36, 256, 5, 25, 100, 43, 838, 112, 50, 670, 22665, 9, 35, 480, 284, 5, 150, 4, 172, 112, 167, 21631, 336, 385, 39, 4, 172, 4536, 1111, 17, 546, 38, 13, 447, 4, 192, 50, 16, 6, 147, 2025, 19, 14, 22, 4, 1920, 4613, 469, 4, 22, 71, 87, 12, 16, 43, 530, 38, 76, 15, 13, 1247, 4, 22, 17, 515, 17, 12, 16, 626, 18, 19193, 5, 62, 386, 12, 8, 316, 8, 106, 5, 4, 2223, 5244, 16, 480, 66, 3785, 33, 4, 130, 12, 16, 38, 619, 5, 25, 124, 51, 36, 135, 48, 25, 1415, 33, 6, 22, 12, 215, 28, 77, 52, 5, 14, 407, 16, 82, 10311, 8, 4, 107, 117, 5952, 15, 256, 4, 31050, 7, 3766, 5, 723, 36, 71, 43, 530, 476, 26, 400, 317, 46, 7, 4, 12118, 1029, 13, 104, 88, 4, 381, 15, 297, 98, 32, 2071, 56, 26, 141, 6, 194, 7486, 18, 4, 226, 22, 21, 134, 476, 26, 480, 5, 144, 30, 5535, 18, 51, 36, 28, 224, 92, 25, 104, 4, 226, 65, 16, 38, 1334, 88, 12, 16, 283, 5, 16, 4472, 113, 103, 32, 15, 16, 5345, 19, 178, 32]\n"
          ]
        }
      ]
    },
    {
      "cell_type": "code",
      "metadata": {
        "colab": {
          "base_uri": "https://localhost:8080/"
        },
        "id": "ORtZB0Jne1cm",
        "outputId": "0a071e1c-2c34-421b-f1bf-57cdf3e09209"
      },
      "source": [
        "np.unique(train_label)"
      ],
      "execution_count": 6,
      "outputs": [
        {
          "output_type": "execute_result",
          "data": {
            "text/plain": [
              "array([0, 1])"
            ]
          },
          "metadata": {},
          "execution_count": 6
        }
      ]
    },
    {
      "cell_type": "markdown",
      "metadata": {
        "id": "KMh-np0lfTND"
      },
      "source": [
        "**Preprocessing**\n",
        "\n",
        "since we cannot pass information of different lengths into the neural networks, we need to trim long sequences and pad short sequences."
      ]
    },
    {
      "cell_type": "code",
      "metadata": {
        "id": "3iVTRElLe7S4"
      },
      "source": [
        "train_data = sequence.pad_sequences(train_data, MAXLEN)\n",
        "test_data = sequence.pad_sequences(test_data, MAXLEN)"
      ],
      "execution_count": 7,
      "outputs": []
    },
    {
      "cell_type": "markdown",
      "source": [
        "# Model"
      ],
      "metadata": {
        "id": "RW0ASY5oXQOe"
      }
    },
    {
      "cell_type": "code",
      "metadata": {
        "id": "hiaNKkq7f1py",
        "outputId": "9b31af00-3a69-49ca-ebed-4529c84ecaea",
        "colab": {
          "base_uri": "https://localhost:8080/"
        }
      },
      "source": [
        "model = tf.keras.Sequential()\n",
        "model.add(tf.keras.layers.Embedding(VOCAB_SIZE, 32))\n",
        "model.add(tf.keras.layers.LSTM(32))\n",
        "model.add(tf.keras.layers.Dense(1, activation='sigmoid'))\n",
        "\n",
        "model.summary()"
      ],
      "execution_count": 8,
      "outputs": [
        {
          "output_type": "stream",
          "name": "stdout",
          "text": [
            "Model: \"sequential\"\n",
            "_________________________________________________________________\n",
            " Layer (type)                Output Shape              Param #   \n",
            "=================================================================\n",
            " embedding (Embedding)       (None, None, 32)          2834688   \n",
            "                                                                 \n",
            " lstm (LSTM)                 (None, 32)                8320      \n",
            "                                                                 \n",
            " dense (Dense)               (None, 1)                 33        \n",
            "                                                                 \n",
            "=================================================================\n",
            "Total params: 2,843,041\n",
            "Trainable params: 2,843,041\n",
            "Non-trainable params: 0\n",
            "_________________________________________________________________\n"
          ]
        }
      ]
    },
    {
      "cell_type": "code",
      "metadata": {
        "id": "Qx_Z2ANwg04c"
      },
      "source": [
        "model.compile(loss='binary_crossentropy',\n",
        "              optimizer='rmsprop',\n",
        "              metrics=['acc']\n",
        "              )"
      ],
      "execution_count": 9,
      "outputs": []
    },
    {
      "cell_type": "code",
      "metadata": {
        "colab": {
          "base_uri": "https://localhost:8080/"
        },
        "id": "ysTMAUGqhFae",
        "outputId": "f162a008-9805-4148-f445-7d507674feb2"
      },
      "source": [
        "history = model.fit(train_data, train_label,\n",
        "                    epochs=5,\n",
        "                    validation_split=0.2\n",
        "                    )"
      ],
      "execution_count": 10,
      "outputs": [
        {
          "output_type": "stream",
          "name": "stdout",
          "text": [
            "Epoch 1/5\n",
            "625/625 [==============================] - 16s 13ms/step - loss: 0.4203 - acc: 0.8109 - val_loss: 0.3059 - val_acc: 0.8732\n",
            "Epoch 2/5\n",
            "625/625 [==============================] - 7s 11ms/step - loss: 0.2396 - acc: 0.9089 - val_loss: 0.3447 - val_acc: 0.8704\n",
            "Epoch 3/5\n",
            "625/625 [==============================] - 8s 12ms/step - loss: 0.1843 - acc: 0.9319 - val_loss: 0.3166 - val_acc: 0.8886\n",
            "Epoch 4/5\n",
            "625/625 [==============================] - 7s 12ms/step - loss: 0.1491 - acc: 0.9469 - val_loss: 0.2800 - val_acc: 0.8982\n",
            "Epoch 5/5\n",
            "625/625 [==============================] - 8s 12ms/step - loss: 0.1273 - acc: 0.9547 - val_loss: 0.2755 - val_acc: 0.8876\n"
          ]
        }
      ]
    },
    {
      "cell_type": "code",
      "source": [
        "import matplotlib.pyplot as plt\n",
        "\n",
        "#=====================================================\n",
        "plt.plot(history.history['acc'])\n",
        "plt.plot(history.history['val_acc'])\n",
        "plt.title('model accuracy')\n",
        "plt.ylabel('accuracy')\n",
        "plt.xlabel('epoch')\n",
        "plt.legend(['train', 'test'], loc='upper left')\n",
        "plt.show()\n",
        "#=====================================================\n",
        "plt.plot(history.history['loss'])\n",
        "plt.plot(history.history['val_loss'])\n",
        "plt.title('model loss')\n",
        "plt.ylabel('loss')\n",
        "plt.xlabel('epoch')\n",
        "plt.legend(['train', 'test'], loc='upper left')\n",
        "plt.show()"
      ],
      "metadata": {
        "id": "MQQuRvjCmMyD",
        "outputId": "21367542-a1f0-4b8c-ab92-a3d425e0251f",
        "colab": {
          "base_uri": "https://localhost:8080/",
          "height": 573
        }
      },
      "execution_count": 13,
      "outputs": [
        {
          "output_type": "display_data",
          "data": {
            "text/plain": [
              "<Figure size 432x288 with 1 Axes>"
            ],
            "image/png": "[encoded data removed]"
          },
          "metadata": {
            "needs_background": "light"
          }
        },
        {
          "output_type": "display_data",
          "data": {
            "text/plain": [
              "<Figure size 432x288 with 1 Axes>"
            ],
            "image/png": "[encoded data removed]"
          },
          "metadata": {
            "needs_background": "light"
          }
        }
      ]
    },
    {
      "cell_type": "code",
      "metadata": {
        "colab": {
          "base_uri": "https://localhost:8080/"
        },
        "id": "YiaZzu2ah8ee",
        "outputId": "78d1fa7a-a308-4f0a-9de9-00e16ad1c94f"
      },
      "source": [
        "print(model.evaluate(test_data, test_label))"
      ],
      "execution_count": 14,
      "outputs": [
        {
          "output_type": "stream",
          "name": "stdout",
          "text": [
            "782/782 [==============================] - 5s 6ms/step - loss: 0.3146 - acc: 0.8699\n",
            "[0.3146347403526306, 0.869920015335083]\n"
          ]
        }
      ]
    },
    {
      "cell_type": "markdown",
      "source": [
        "# Prediction"
      ],
      "metadata": {
        "id": "SdtycFepnqUy"
      }
    },
    {
      "cell_type": "code",
      "source": [
        "predictions = model.predict(test_data)"
      ],
      "metadata": {
        "id": "HVXGryRLnpny"
      },
      "execution_count": 15,
      "outputs": []
    },
    {
      "cell_type": "code",
      "source": [
        "predictions>0.5"
      ],
      "metadata": {
        "id": "2wb-ypZun1R-",
        "outputId": "0a0bb076-0188-4175-9ccf-48e7f5c84cfc",
        "colab": {
          "base_uri": "https://localhost:8080/"
        }
      },
      "execution_count": 17,
      "outputs": [
        {
          "output_type": "execute_result",
          "data": {
            "text/plain": [
              "array([[False],\n",
              "       [ True],\n",
              "       [ True],\n",
              "       ...,\n",
              "       [False],\n",
              "       [False],\n",
              "       [ True]])"
            ]
          },
          "metadata": {},
          "execution_count": 17
        }
      ]
    },
    {
      "cell_type": "markdown",
      "source": [
        "Values greater than 0.5 means \"positive review\", else \"negative review\"."
      ],
      "metadata": {
        "id": "aTaDifw1oJgd"
      }
    },
    {
      "cell_type": "code",
      "metadata": {
        "id": "3nyuAX9AiUc9"
      },
      "source": [
        "word_index = imdb.get_word_index()\n",
        "\n",
        "def encode_text(text):\n",
        "  tokens = tf.keras.preprocessing.text.text_to_word_sequence(text)\n",
        "  tokens = [word_index[word] if word in word_index else 0 for word in tokens]\n",
        "  return sequence.pad_sequences([tokens], MAXLEN)[0]"
      ],
      "execution_count": 18,
      "outputs": []
    },
    {
      "cell_type": "code",
      "metadata": {
        "colab": {
          "base_uri": "https://localhost:8080/"
        },
        "id": "ZGdew-R7jGYQ",
        "outputId": "6388c66a-f185-47a6-9f22-03201bd42bc2"
      },
      "source": [
        "text = input()\n",
        "encoded = encode_text(text)\n",
        "print(encoded)"
      ],
      "execution_count": 19,
      "outputs": [
        {
          "output_type": "stream",
          "name": "stdout",
          "text": [
            "Hello, can you hear me?\n",
            "[   0    0    0    0    0    0    0    0    0    0    0    0    0    0\n",
            "    0    0    0    0    0    0    0    0    0    0    0    0    0    0\n",
            "    0    0    0    0    0    0    0    0    0    0    0    0    0    0\n",
            "    0    0    0    0    0    0    0    0    0    0    0    0    0    0\n",
            "    0    0    0    0    0    0    0    0    0    0    0    0    0    0\n",
            "    0    0    0    0    0    0    0    0    0    0    0    0    0    0\n",
            "    0    0    0    0    0    0    0    0    0    0    0    0    0    0\n",
            "    0    0    0    0    0    0    0    0    0    0    0    0    0    0\n",
            "    0    0    0    0    0    0    0    0    0    0    0    0    0    0\n",
            "    0    0    0    0    0    0    0    0    0    0    0    0    0    0\n",
            "    0    0    0    0    0    0    0    0    0    0    0    0    0    0\n",
            "    0    0    0    0    0    0    0    0    0    0    0    0    0    0\n",
            "    0    0    0    0    0    0    0    0    0    0    0    0    0    0\n",
            "    0    0    0    0    0    0    0    0    0    0    0    0    0    0\n",
            "    0    0    0    0    0    0    0    0    0    0    0    0    0    0\n",
            "    0    0    0    0    0    0    0    0    0    0    0    0    0    0\n",
            "    0    0    0    0    0    0    0    0    0    0    0    0    0    0\n",
            "    0    0    0    0    0    0    0 4822   67   22  839   69]\n"
          ]
        }
      ]
    },
    {
      "cell_type": "code",
      "metadata": {
        "id": "GnBdNeK_jsd6"
      },
      "source": [
        "def predict(text):\n",
        "  encoded_text = encode_text(text)\n",
        "  predict = np.zeros((1,250))\n",
        "  predict[0] = encoded_text\n",
        "  print(model.predict(predict))"
      ],
      "execution_count": 20,
      "outputs": []
    },
    {
      "cell_type": "code",
      "metadata": {
        "colab": {
          "base_uri": "https://localhost:8080/"
        },
        "id": "NY_azeuBlgAb",
        "outputId": "03dfe5b8-4705-47c5-c8cd-d27170f632fd"
      },
      "source": [
        "predict(input())"
      ],
      "execution_count": 21,
      "outputs": [
        {
          "output_type": "stream",
          "name": "stdout",
          "text": [
            "this movie was awesome!\n",
            "[[0.2719724]]\n"
          ]
        }
      ]
    },
    {
      "cell_type": "markdown",
      "metadata": {
        "id": "MZxmdIolmuw2"
      },
      "source": [
        "so, this was classified as a negative review."
      ]
    },
    {
      "cell_type": "code",
      "metadata": {
        "colab": {
          "base_uri": "https://localhost:8080/"
        },
        "id": "aUn31f5Jli-j",
        "outputId": "1e1b31a3-3070-4dd2-d752-62288bffead2"
      },
      "source": [
        "predict(input())"
      ],
      "execution_count": 22,
      "outputs": [
        {
          "output_type": "stream",
          "name": "stdout",
          "text": [
            "this movie was a complete waste of time\n",
            "[[0.47170275]]\n"
          ]
        }
      ]
    },
    {
      "cell_type": "code",
      "metadata": {
        "colab": {
          "base_uri": "https://localhost:8080/"
        },
        "id": "vymtm8GGmCj8",
        "outputId": "88ae309c-de03-471a-cad0-5c7675345dd4"
      },
      "source": [
        "predict(input())"
      ],
      "execution_count": 23,
      "outputs": [
        {
          "output_type": "stream",
          "name": "stdout",
          "text": [
            "I fell asleep during this movie and haven't watched all the way to the end yet because it's so boring\n",
            "[[0.8106103]]\n"
          ]
        }
      ]
    },
    {
      "cell_type": "markdown",
      "metadata": {
        "id": "W8OTt_NYn17o"
      },
      "source": [
        "this is an actual review for \"*Avengers: Endgame*\" on IMDb. Seriously! But my classifier has succesfully misclassified it as a positive review!"
      ]
    },
    {
      "cell_type": "markdown",
      "source": [
        "# Reuters Newswire Classification"
      ],
      "metadata": {
        "id": "LKUrWmfTqZ3z"
      }
    },
    {
      "cell_type": "code",
      "metadata": {
        "id": "w-OZfCtLnhpD",
        "outputId": "1427c119-7afb-4e5a-a616-7a73ebc2d296",
        "colab": {
          "base_uri": "https://localhost:8080/"
        }
      },
      "source": [
        "from keras.datasets import reuters\n",
        "\n",
        "len(reuters.get_word_index())"
      ],
      "execution_count": 27,
      "outputs": [
        {
          "output_type": "stream",
          "name": "stdout",
          "text": [
            "Downloading data from https://storage.googleapis.com/tensorflow/tf-keras-datasets/reuters_word_index.json\n",
            "557056/550378 [==============================] - 0s 0us/step\n",
            "565248/550378 [==============================] - 0s 0us/step\n"
          ]
        },
        {
          "output_type": "execute_result",
          "data": {
            "text/plain": [
              "30979"
            ]
          },
          "metadata": {},
          "execution_count": 27
        }
      ]
    },
    {
      "cell_type": "code",
      "source": [
        "VOCAB_SIZE = 30979\n",
        "\n",
        "(train_data, train_label), (test_data, test_label) = reuters.load_data(num_words=VOCAB_SIZE)\n",
        "\n",
        "np.unique(train_label)"
      ],
      "metadata": {
        "id": "yp3i09-Aq43i",
        "outputId": "0c7b7569-d930-44f9-87f5-59fcedc2bf88",
        "colab": {
          "base_uri": "https://localhost:8080/"
        }
      },
      "execution_count": 28,
      "outputs": [
        {
          "output_type": "stream",
          "name": "stdout",
          "text": [
            "Downloading data from https://storage.googleapis.com/tensorflow/tf-keras-datasets/reuters.npz\n",
            "2113536/2110848 [==============================] - 0s 0us/step\n",
            "2121728/2110848 [==============================] - 0s 0us/step\n"
          ]
        },
        {
          "output_type": "execute_result",
          "data": {
            "text/plain": [
              "array([ 0,  1,  2,  3,  4,  5,  6,  7,  8,  9, 10, 11, 12, 13, 14, 15, 16,\n",
              "       17, 18, 19, 20, 21, 22, 23, 24, 25, 26, 27, 28, 29, 30, 31, 32, 33,\n",
              "       34, 35, 36, 37, 38, 39, 40, 41, 42, 43, 44, 45])"
            ]
          },
          "metadata": {},
          "execution_count": 28
        }
      ]
    },
    {
      "cell_type": "code",
      "source": [
        "print(train_data[0])"
      ],
      "metadata": {
        "id": "tmiNVwMHr_kY",
        "outputId": "81142700-367e-4f5b-a949-b9a7da0308c4",
        "colab": {
          "base_uri": "https://localhost:8080/"
        }
      },
      "execution_count": 29,
      "outputs": [
        {
          "output_type": "stream",
          "name": "stdout",
          "text": [
            "[1, 27595, 28842, 8, 43, 10, 447, 5, 25, 207, 270, 5, 3095, 111, 16, 369, 186, 90, 67, 7, 89, 5, 19, 102, 6, 19, 124, 15, 90, 67, 84, 22, 482, 26, 7, 48, 4, 49, 8, 864, 39, 209, 154, 6, 151, 6, 83, 11, 15, 22, 155, 11, 15, 7, 48, 9, 4579, 1005, 504, 6, 258, 6, 272, 11, 15, 22, 134, 44, 11, 15, 16, 8, 197, 1245, 90, 67, 52, 29, 209, 30, 32, 132, 6, 109, 15, 17, 12]\n"
          ]
        }
      ]
    },
    {
      "cell_type": "code",
      "source": [
        "train_data = sequence.pad_sequences(train_data, MAXLEN)\n",
        "test_data = sequence.pad_sequences(test_data, MAXLEN)\n",
        "\n",
        "model = tf.keras.Sequential()\n",
        "model.add(tf.keras.layers.Embedding(VOCAB_SIZE, 32))\n",
        "model.add(tf.keras.layers.LSTM(32))\n",
        "model.add(tf.keras.layers.Dense(46, activation='softmax'))\n",
        "\n",
        "model.summary()"
      ],
      "metadata": {
        "id": "meaVLbFksJMT",
        "outputId": "1c69799f-7987-4364-cca3-6345883a2bdb",
        "colab": {
          "base_uri": "https://localhost:8080/"
        }
      },
      "execution_count": 30,
      "outputs": [
        {
          "output_type": "stream",
          "name": "stdout",
          "text": [
            "Model: \"sequential_1\"\n",
            "_________________________________________________________________\n",
            " Layer (type)                Output Shape              Param #   \n",
            "=================================================================\n",
            " embedding_1 (Embedding)     (None, None, 32)          991328    \n",
            "                                                                 \n",
            " lstm_1 (LSTM)               (None, 32)                8320      \n",
            "                                                                 \n",
            " dense_1 (Dense)             (None, 46)                1518      \n",
            "                                                                 \n",
            "=================================================================\n",
            "Total params: 1,001,166\n",
            "Trainable params: 1,001,166\n",
            "Non-trainable params: 0\n",
            "_________________________________________________________________\n"
          ]
        }
      ]
    },
    {
      "cell_type": "code",
      "source": [
        "model.compile(loss=tf.keras.losses.SparseCategoricalCrossentropy(),\n",
        "              optimizer=tf.keras.optimizers.Nadam(learning_rate=0.01),\n",
        "              metrics=['acc']\n",
        "              )\n",
        "\n",
        "history = model.fit(train_data, train_label,\n",
        "                    epochs=5,\n",
        "                    validation_split=0.2\n",
        "                    )"
      ],
      "metadata": {
        "id": "BVm-kZbHshTd",
        "outputId": "ed1e95ff-549b-4f0e-b12f-b401be039660",
        "colab": {
          "base_uri": "https://localhost:8080/"
        }
      },
      "execution_count": 31,
      "outputs": [
        {
          "output_type": "stream",
          "name": "stdout",
          "text": [
            "Epoch 1/5\n",
            "225/225 [==============================] - 5s 15ms/step - loss: 2.0348 - acc: 0.4740 - val_loss: 1.7575 - val_acc: 0.5292\n",
            "Epoch 2/5\n",
            "225/225 [==============================] - 3s 13ms/step - loss: 1.5501 - acc: 0.6039 - val_loss: 1.4173 - val_acc: 0.6266\n",
            "Epoch 3/5\n",
            "225/225 [==============================] - 3s 13ms/step - loss: 1.1415 - acc: 0.7113 - val_loss: 1.1650 - val_acc: 0.7201\n",
            "Epoch 4/5\n",
            "225/225 [==============================] - 3s 13ms/step - loss: 0.8330 - acc: 0.7911 - val_loss: 1.0833 - val_acc: 0.7295\n",
            "Epoch 5/5\n",
            "225/225 [==============================] - 3s 13ms/step - loss: 0.6266 - acc: 0.8402 - val_loss: 1.0671 - val_acc: 0.7507\n"
          ]
        }
      ]
    },
    {
      "cell_type": "code",
      "source": [
        "#=====================================================\n",
        "plt.plot(history.history['acc'])\n",
        "plt.plot(history.history['val_acc'])\n",
        "plt.title('model accuracy')\n",
        "plt.ylabel('accuracy')\n",
        "plt.xlabel('epoch')\n",
        "plt.legend(['train', 'test'], loc='upper left')\n",
        "plt.show()\n",
        "#=====================================================\n",
        "plt.plot(history.history['loss'])\n",
        "plt.plot(history.history['val_loss'])\n",
        "plt.title('model loss')\n",
        "plt.ylabel('loss')\n",
        "plt.xlabel('epoch')\n",
        "plt.legend(['train', 'test'], loc='upper left')\n",
        "plt.show()"
      ],
      "metadata": {
        "id": "OCnsgkUxtzl4",
        "outputId": "6ce3c962-2ea2-4767-ef3d-1d30e0ae30ce",
        "colab": {
          "base_uri": "https://localhost:8080/",
          "height": 573
        }
      },
      "execution_count": 32,
      "outputs": [
        {
          "output_type": "display_data",
          "data": {
            "text/plain": [
              "<Figure size 432x288 with 1 Axes>"
            ],
            "image/png": "[encoded data removed]"
          },
          "metadata": {
            "needs_background": "light"
          }
        },
        {
          "output_type": "display_data",
          "data": {
            "text/plain": [
              "<Figure size 432x288 with 1 Axes>"
            ],
            "image/png": "[encoded data removed]"
          },
          "metadata": {
            "needs_background": "light"
          }
        }
      ]
    },
    {
      "cell_type": "code",
      "source": [
        "print(model.evaluate(test_data, test_label))"
      ],
      "metadata": {
        "id": "1P4zjOS4t8QW",
        "outputId": "b63ae87a-d51e-4137-b3a1-8a821c5e5cec",
        "colab": {
          "base_uri": "https://localhost:8080/"
        }
      },
      "execution_count": 33,
      "outputs": [
        {
          "output_type": "stream",
          "name": "stdout",
          "text": [
            "71/71 [==============================] - 1s 10ms/step - loss: 1.1117 - acc: 0.7373\n",
            "[1.111672043800354, 0.7373107671737671]\n"
          ]
        }
      ]
    },
    {
      "cell_type": "markdown",
      "source": [
        "# Text Generation"
      ],
      "metadata": {
        "id": "cUsaLoZJuTNa"
      }
    },
    {
      "cell_type": "code",
      "source": [
        "path_to_file = tf.keras.utils.get_file('shakespeare.txt',\n",
        "                                       'https://raw.githubusercontent.com/karpathy/char-rnn/master/data/tinyshakespeare/input.txt')"
      ],
      "metadata": {
        "id": "1gVVGzNyuzdo",
        "outputId": "485878b5-3f31-416d-e42e-e00e2c0b47cb",
        "colab": {
          "base_uri": "https://localhost:8080/"
        }
      },
      "execution_count": 35,
      "outputs": [
        {
          "output_type": "stream",
          "name": "stdout",
          "text": [
            "Downloading data from https://raw.githubusercontent.com/karpathy/char-rnn/master/data/tinyshakespeare/input.txt\n",
            "1122304/1115394 [==============================] - 0s 0us/step\n",
            "1130496/1115394 [==============================] - 0s 0us/step\n"
          ]
        }
      ]
    },
    {
      "cell_type": "code",
      "source": [
        "text = open(path_to_file, 'rb').read().decode(encoding='utf-8')\n",
        "\n",
        "len(text)"
      ],
      "metadata": {
        "id": "WhwHnBEvvLSr",
        "outputId": "37f5a0fe-c732-46f5-b0e7-dfff6df3fc48",
        "colab": {
          "base_uri": "https://localhost:8080/"
        }
      },
      "execution_count": 36,
      "outputs": [
        {
          "output_type": "execute_result",
          "data": {
            "text/plain": [
              "1115394"
            ]
          },
          "metadata": {},
          "execution_count": 36
        }
      ]
    },
    {
      "cell_type": "code",
      "source": [
        "print(text[:250])"
      ],
      "metadata": {
        "id": "Aj7fZn3kwjsc",
        "outputId": "d6ab52ed-58cd-4996-9a7d-1d5c25b1478e",
        "colab": {
          "base_uri": "https://localhost:8080/"
        }
      },
      "execution_count": 38,
      "outputs": [
        {
          "output_type": "stream",
          "name": "stdout",
          "text": [
            "First Citizen:\n",
            "Before we proceed any further, hear me speak.\n",
            "\n",
            "All:\n",
            "Speak, speak.\n",
            "\n",
            "First Citizen:\n",
            "You are all resolved rather to die than to famish?\n",
            "\n",
            "All:\n",
            "Resolved. resolved.\n",
            "\n",
            "First Citizen:\n",
            "First, you know Caius Marcius is chief enemy to the people.\n",
            "\n"
          ]
        }
      ]
    },
    {
      "cell_type": "code",
      "source": [
        "vocab = sorted(set(text))\n",
        "\n",
        "char2idx = {u:i for i, u in enumerate(vocab)}\n",
        "idx2char = np.array(vocab)\n",
        "\n",
        "def text2int(text):\n",
        "  return np.array([char2idx[c] for c in text])\n",
        "\n",
        "text_as_int = text2int(text)\n",
        "\n",
        "print(text[:20])\n",
        "print(text_as_int[:20])"
      ],
      "metadata": {
        "id": "kcSOkcTRwoiT",
        "outputId": "60c1809d-c9c9-4720-af41-8f5be1f4a1b4",
        "colab": {
          "base_uri": "https://localhost:8080/"
        }
      },
      "execution_count": 39,
      "outputs": [
        {
          "output_type": "stream",
          "name": "stdout",
          "text": [
            "First Citizen:\n",
            "Befor\n",
            "[18 47 56 57 58  1 15 47 58 47 64 43 52 10  0 14 43 44 53 56]\n"
          ]
        }
      ]
    },
    {
      "cell_type": "code",
      "source": [
        "def int2text(ints):\n",
        "  try:\n",
        "    ints = ints.numpy()\n",
        "  except:\n",
        "    pass\n",
        "  return ''.join(idx2char[ints])\n",
        "\n",
        "print(int2text(text_as_int[:20]))"
      ],
      "metadata": {
        "id": "CcUQHDADyF-x",
        "outputId": "60702e61-a3c6-4619-9184-5cab88b04ba9",
        "colab": {
          "base_uri": "https://localhost:8080/"
        }
      },
      "execution_count": 40,
      "outputs": [
        {
          "output_type": "stream",
          "name": "stdout",
          "text": [
            "First Citizen:\n",
            "Befor\n"
          ]
        }
      ]
    },
    {
      "cell_type": "code",
      "source": [
        "seq_length = 100\n",
        "examples_per_epoch = len(text)//(seq_length+1)\n",
        "\n",
        "char_dataset = tf.data.Dataset.from_tensor_slices(text_as_int)\n",
        "sequences = char_dataset.batch(seq_length+1, drop_remainder=True)"
      ],
      "metadata": {
        "id": "4zKyZX-X14H-"
      },
      "execution_count": 42,
      "outputs": []
    },
    {
      "cell_type": "code",
      "source": [
        "def split_input_target(chunk):\n",
        "  # chunk = Hello\n",
        "  input_text = chunk[:-1]  # Hell\n",
        "  target_text = chunk[1:]  # ello\n",
        "  return input_text, target_text"
      ],
      "metadata": {
        "id": "uKJEcTkQ25jS"
      },
      "execution_count": 43,
      "outputs": []
    },
    {
      "cell_type": "code",
      "source": [
        "dataset = sequences.map(split_input_target)\n",
        "\n",
        "for x, y in dataset.take(2):\n",
        "  print(f\"INPUT:\\n{int2text(x)}\\n\\nOOUTPUT:\\n{int2text(y)}\")"
      ],
      "metadata": {
        "id": "pj2wyGr132Nz",
        "outputId": "62a1c9bf-04fd-4006-8bae-785bf9fd211e",
        "colab": {
          "base_uri": "https://localhost:8080/"
        }
      },
      "execution_count": 45,
      "outputs": [
        {
          "output_type": "stream",
          "name": "stdout",
          "text": [
            "INPUT:\n",
            "First Citizen:\n",
            "Before we proceed any further, hear me speak.\n",
            "\n",
            "All:\n",
            "Speak, speak.\n",
            "\n",
            "First Citizen:\n",
            "You\n",
            "\n",
            "OOUTPUT:\n",
            "irst Citizen:\n",
            "Before we proceed any further, hear me speak.\n",
            "\n",
            "All:\n",
            "Speak, speak.\n",
            "\n",
            "First Citizen:\n",
            "You \n",
            "INPUT:\n",
            "are all resolved rather to die than to famish?\n",
            "\n",
            "All:\n",
            "Resolved. resolved.\n",
            "\n",
            "First Citizen:\n",
            "First, you \n",
            "\n",
            "OOUTPUT:\n",
            "re all resolved rather to die than to famish?\n",
            "\n",
            "All:\n",
            "Resolved. resolved.\n",
            "\n",
            "First Citizen:\n",
            "First, you k\n"
          ]
        }
      ]
    },
    {
      "cell_type": "code",
      "source": [
        "BATCH_SIZE = 64\n",
        "VOCAB_SIZE = len(vocab)\n",
        "EMBEDDING_DIM = 256\n",
        "RNN_UNITS = 1024\n",
        "BUFFER_SIZE = 10000"
      ],
      "metadata": {
        "id": "rrtXL5UH4WN6"
      },
      "execution_count": 46,
      "outputs": []
    },
    {
      "cell_type": "code",
      "source": [
        "data = dataset.shuffle(BUFFER_SIZE).batch(BATCH_SIZE, drop_remainder=True)"
      ],
      "metadata": {
        "id": "IQZI7Ag35bSc"
      },
      "execution_count": 47,
      "outputs": []
    },
    {
      "cell_type": "code",
      "source": [
        "def build_model(vocab_size, embedding_dim, rnn_units, batch_size):\n",
        "  model = tf.keras.Sequential([tf.keras.layers.Embedding(vocab_size, embedding_dim,\n",
        "                                                         batch_input_shape=[batch_size, None]),\n",
        "                               tf.keras.layers.LSTM(rnn_units,\n",
        "                                                    return_sequences=True,\n",
        "                                                    stateful=True,\n",
        "                                                    recurrent_initializer='glorot_uniform'),\n",
        "                               tf.keras.layers.Dense(vocab_size)\n",
        "                               ])\n",
        "  return model"
      ],
      "metadata": {
        "id": "ynBhRIlE5o63"
      },
      "execution_count": 53,
      "outputs": []
    },
    {
      "cell_type": "code",
      "source": [
        "model = build_model(VOCAB_SIZE, EMBEDDING_DIM, RNN_UNITS, BATCH_SIZE)\n",
        "model.summary()"
      ],
      "metadata": {
        "id": "iXctuZz9638O",
        "outputId": "342835d2-31ee-43a0-a70b-2bfc3b6902bd",
        "colab": {
          "base_uri": "https://localhost:8080/"
        }
      },
      "execution_count": 54,
      "outputs": [
        {
          "output_type": "stream",
          "name": "stdout",
          "text": [
            "Model: \"sequential_3\"\n",
            "_________________________________________________________________\n",
            " Layer (type)                Output Shape              Param #   \n",
            "=================================================================\n",
            " embedding_3 (Embedding)     (64, None, 256)           16640     \n",
            "                                                                 \n",
            " lstm_3 (LSTM)               (64, None, 1024)          5246976   \n",
            "                                                                 \n",
            " dense_3 (Dense)             (64, None, 65)            66625     \n",
            "                                                                 \n",
            "=================================================================\n",
            "Total params: 5,330,241\n",
            "Trainable params: 5,330,241\n",
            "Non-trainable params: 0\n",
            "_________________________________________________________________\n"
          ]
        }
      ]
    },
    {
      "cell_type": "code",
      "source": [
        "def loss(labels, logits):\n",
        "  return tf.keras.losses.SparseCategoricalCrossentropy(labels, logits,\n",
        "                                                       from_logits=True)\n",
        "model.compile(loss=tf.keras.losses.SparseCategoricalCrossentropy(from_logits=True),\n",
        "              optimizer=tf.keras.optimizers.Adam(learning_rate=0.01),\n",
        "              )"
      ],
      "metadata": {
        "id": "HntB7tiw7G77"
      },
      "execution_count": 57,
      "outputs": []
    },
    {
      "cell_type": "code",
      "source": [
        "checkpoint_dir = './train_checkpoints'\n",
        "checkpoint_prefix = os.path.join(checkpoint_dir, 'ckpt_{epoch}')\n",
        "checkpoint_callback = tf.keras.callbacks.ModelCheckpoint(filepath=checkpoint_prefix,\n",
        "                                                         save_weights_only=True\n",
        "                                                         )"
      ],
      "metadata": {
        "id": "MFte8roW-d72"
      },
      "execution_count": 51,
      "outputs": []
    },
    {
      "cell_type": "code",
      "source": [
        "history = model.fit(data, epochs=25,\n",
        "                    callbacks=[checkpoint_callback])"
      ],
      "metadata": {
        "id": "cduc93we_My-",
        "outputId": "e49bacbc-f664-4f8d-ce29-d80b4ba4e002",
        "colab": {
          "base_uri": "https://localhost:8080/"
        }
      },
      "execution_count": 58,
      "outputs": [
        {
          "output_type": "stream",
          "name": "stdout",
          "text": [
            "Epoch 1/25\n",
            "172/172 [==============================] - 13s 62ms/step - loss: 2.8871\n",
            "Epoch 2/25\n",
            "172/172 [==============================] - 12s 63ms/step - loss: 1.9004\n",
            "Epoch 3/25\n",
            "172/172 [==============================] - 12s 63ms/step - loss: 1.7252\n",
            "Epoch 4/25\n",
            "172/172 [==============================] - 12s 64ms/step - loss: 1.6410\n",
            "Epoch 5/25\n",
            "172/172 [==============================] - 12s 64ms/step - loss: 1.5832\n",
            "Epoch 6/25\n",
            "172/172 [==============================] - 12s 65ms/step - loss: 1.5446\n",
            "Epoch 7/25\n",
            "172/172 [==============================] - 14s 68ms/step - loss: 1.5146\n",
            "Epoch 8/25\n",
            "172/172 [==============================] - 14s 66ms/step - loss: 1.4934\n",
            "Epoch 9/25\n",
            "172/172 [==============================] - 14s 68ms/step - loss: 1.4737\n",
            "Epoch 10/25\n",
            "172/172 [==============================] - 14s 68ms/step - loss: 1.4601\n",
            "Epoch 11/25\n",
            "172/172 [==============================] - 14s 69ms/step - loss: 1.4447\n",
            "Epoch 12/25\n",
            "172/172 [==============================] - 13s 67ms/step - loss: 1.4352\n",
            "Epoch 13/25\n",
            "172/172 [==============================] - 14s 68ms/step - loss: 1.4247\n",
            "Epoch 14/25\n",
            "172/172 [==============================] - 13s 68ms/step - loss: 1.4162\n",
            "Epoch 15/25\n",
            "172/172 [==============================] - 13s 68ms/step - loss: 1.4089\n",
            "Epoch 16/25\n",
            "172/172 [==============================] - 13s 68ms/step - loss: 1.4015\n",
            "Epoch 17/25\n",
            "172/172 [==============================] - 13s 67ms/step - loss: 1.3954\n",
            "Epoch 18/25\n",
            "172/172 [==============================] - 13s 67ms/step - loss: 1.3897\n",
            "Epoch 19/25\n",
            "172/172 [==============================] - 13s 68ms/step - loss: 1.3855\n",
            "Epoch 20/25\n",
            "172/172 [==============================] - 13s 67ms/step - loss: 1.3799\n",
            "Epoch 21/25\n",
            "172/172 [==============================] - 13s 67ms/step - loss: 1.3751\n",
            "Epoch 22/25\n",
            "172/172 [==============================] - 13s 67ms/step - loss: 1.3707\n",
            "Epoch 23/25\n",
            "172/172 [==============================] - 13s 69ms/step - loss: 1.3682\n",
            "Epoch 24/25\n",
            "172/172 [==============================] - 14s 68ms/step - loss: 1.3640\n",
            "Epoch 25/25\n",
            "172/172 [==============================] - 13s 68ms/step - loss: 1.3602\n"
          ]
        }
      ]
    },
    {
      "cell_type": "code",
      "source": [
        "model = build_model(VOCAB_SIZE, EMBEDDING_DIM, RNN_UNITS, batch_size=1)\n",
        "model.load_weights(tf.train.latest_checkpoint(checkpoint_dir))\n",
        "model.build(tf.TensorShape([1, None]))"
      ],
      "metadata": {
        "id": "9OZLBs-K_ae6"
      },
      "execution_count": 59,
      "outputs": []
    },
    {
      "cell_type": "code",
      "source": [
        "def generate_text(model, start_string):\n",
        "  num_generate = 800\n",
        "  input_eval = [char2idx[s] for s in start_string]\n",
        "  input_eval = tf.expand_dims(input_eval, 0)\n",
        "  text_generated = []\n",
        "  temperature = 1.0\n",
        "  model.reset_states()\n",
        "  for i in range(num_generate):\n",
        "      predictions = model(input_eval)\n",
        "      predictions = tf.squeeze(predictions, 0)\n",
        "      predictions = predictions / temperature\n",
        "      predicted_id = tf.random.categorical(predictions, num_samples=1)[-1,0].numpy()\n",
        "      input_eval = tf.expand_dims([predicted_id], 0)\n",
        "      text_generated.append(idx2char[predicted_id])\n",
        "  return (start_string + ''.join(text_generated))"
      ],
      "metadata": {
        "id": "iCBliYX_C0A0"
      },
      "execution_count": 60,
      "outputs": []
    },
    {
      "cell_type": "code",
      "source": [
        "inp = input(\"Type a starting string: \")\n",
        "print(generate_text(model, inp))"
      ],
      "metadata": {
        "id": "qRWHESTmEGY_",
        "outputId": "bac3427a-5056-4db6-e444-9722e0e48d91",
        "colab": {
          "base_uri": "https://localhost:8080/"
        }
      },
      "execution_count": 61,
      "outputs": [
        {
          "output_type": "stream",
          "name": "stdout",
          "text": [
            "Type a starting string: Soldier, on your left. But donot turn left. You are not an avenger, not yet.\n",
            "Soldier, on your left. But donot turn left. You are not an avenger, not yet.\n",
            "\n",
            "HASTINGS:\n",
            "Friar lies a foot oak revokes!\n",
            "Would so. or never good?\n",
            "When the king death, and speak them for Captably,\n",
            "The horse will not advertise.\n",
            "\n",
            "First CHIsilil: so hareavier pair r hus we'll live in a man.\n",
            "\n",
            "CORIOLANUS:\n",
            "One than my worsay with neach.\n",
            "\n",
            "CORIOLANUS:\n",
            "O, pance your wrong\n",
            "I have look did shunts, here is alouding-which ome.\n",
            "\n",
            "LUCIO:\n",
            "A plain staw down your fight stin-bold:\n",
            "No, no? go do it Cauban up me them set you,\n",
            "To the mercy, good man-shain son, not death's senate' doubled ruled in that Easl' came crossed:\n",
            "My solemn my greaterous father passade\n",
            "That you make me thy unwill answer's.\n",
            "\n",
            "Third Master I may\n",
            "How thou seen upon thee, thou shamember'd shall get thee;\n",
            "Both Compers of Hortens rest.\n",
            "Had it is to him in a sin,\n",
            "And movers, which raise it person'd'st the fire, he\n",
            "goatous m\n"
          ]
        }
      ]
    },
    {
      "cell_type": "markdown",
      "source": [
        "Thank you freecodecamp and Tech with tim [https://colab.research.google.com/drive/1ysEKrw_LE2jMndo1snrZUh5w87LQsCxk#forceEdit=true&sandboxMode=true&scrollTo=cAJqhD9AA5mF](https://colab.research.google.com/drive/1ysEKrw_LE2jMndo1snrZUh5w87LQsCxk#forceEdit=true&sandboxMode=true&scrollTo=cAJqhD9AA5mF)"
      ],
      "metadata": {
        "id": "tLWIJ9EsEexi"
      }
    },
    {
      "cell_type": "code",
      "source": [
        ""
      ],
      "metadata": {
        "id": "6ey3g9vJEJvw"
      },
      "execution_count": null,
      "outputs": []
    }
  ]
}