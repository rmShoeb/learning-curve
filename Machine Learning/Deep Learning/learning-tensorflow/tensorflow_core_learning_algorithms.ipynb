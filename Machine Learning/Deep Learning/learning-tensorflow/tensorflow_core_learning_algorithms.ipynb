{
  "nbformat": 4,
  "nbformat_minor": 0,
  "metadata": {
    "colab": {
      "name": "tensorflow-core-learning-algorithms.ipynb",
      "provenance": [],
      "collapsed_sections": [
        "MqxRsrAGa4xg",
        "CvMZK4e6fRf-",
        "Gi6w73o_mEg3",
        "ZUqrrtjsBSWG",
        "YLpQVfATHHOx",
        "famhhCdnHM9z",
        "oAyIUEaiLNNF",
        "FgNIyqbXO1FC",
        "LGo0heG2O6Bb",
        "LrsoMA7oi17V",
        "XkH7m1uii_Ru"
      ]
    },
    "kernelspec": {
      "name": "python3",
      "display_name": "Python 3"
    }
  },
  "cells": [
    {
      "cell_type": "markdown",
      "metadata": {
        "id": "FurROk66C0Qi"
      },
      "source": [
        "# Imports"
      ]
    },
    {
      "cell_type": "code",
      "metadata": {
        "id": "MMde4WuA5v_j"
      },
      "source": [
        "import numpy as np\n",
        "import pandas as pd\n",
        "import matplotlib.pyplot as plt\n",
        "import sklearn\n",
        "# from sklearn.model_selection import train_test_split\n",
        "import tensorflow as tf\n",
        "# import tensorflow.compat.v2.feature_column as fc\n",
        "\n",
        "from __future__ import absolute_import, division, print_function, unicode_literals\n",
        "from IPython.display import clear_output\n",
        "from six.moves import urllib"
      ],
      "execution_count": 1,
      "outputs": []
    },
    {
      "cell_type": "markdown",
      "metadata": {
        "id": "G1ENxNaAC7ll"
      },
      "source": [
        "**Checking tensorflow version**"
      ]
    },
    {
      "cell_type": "code",
      "metadata": {
        "id": "uykEcoiiFo0I",
        "colab": {
          "base_uri": "https://localhost:8080/",
          "height": 36
        },
        "outputId": "a8d9e761-650b-45d6-df26-27cb1f1ec26a"
      },
      "source": [
        "tf.__version__"
      ],
      "execution_count": 2,
      "outputs": [
        {
          "output_type": "execute_result",
          "data": {
            "text/plain": [
              "'2.8.2'"
            ],
            "application/vnd.google.colaboratory.intrinsic+json": {
              "type": "string"
            }
          },
          "metadata": {},
          "execution_count": 2
        }
      ]
    },
    {
      "cell_type": "markdown",
      "metadata": {
        "id": "MqxRsrAGa4xg"
      },
      "source": [
        "# Linear Regression"
      ]
    },
    {
      "cell_type": "markdown",
      "metadata": {
        "id": "CvMZK4e6fRf-"
      },
      "source": [
        "## Data"
      ]
    },
    {
      "cell_type": "code",
      "metadata": {
        "id": "RSdBrsDraIKo"
      },
      "source": [
        "train = pd.read_csv('https://storage.googleapis.com/tf-datasets/titanic/train.csv')\n",
        "eval = pd.read_csv('https://storage.googleapis.com/tf-datasets/titanic/eval.csv')\n",
        "y_train = train.pop('survived')\n",
        "y_eval = eval.pop('survived')"
      ],
      "execution_count": 3,
      "outputs": []
    },
    {
      "cell_type": "code",
      "metadata": {
        "colab": {
          "base_uri": "https://localhost:8080/"
        },
        "id": "Kij9HY0Alq8G",
        "outputId": "d73e0fae-efbf-4f81-89f9-868ba4c39977"
      },
      "source": [
        "print(train.head())\n",
        "print(y_train.head())"
      ],
      "execution_count": 4,
      "outputs": [
        {
          "output_type": "stream",
          "name": "stdout",
          "text": [
            "      sex   age  n_siblings_spouses  parch     fare  class     deck  \\\n",
            "0    male  22.0                   1      0   7.2500  Third  unknown   \n",
            "1  female  38.0                   1      0  71.2833  First        C   \n",
            "2  female  26.0                   0      0   7.9250  Third  unknown   \n",
            "3  female  35.0                   1      0  53.1000  First        C   \n",
            "4    male  28.0                   0      0   8.4583  Third  unknown   \n",
            "\n",
            "   embark_town alone  \n",
            "0  Southampton     n  \n",
            "1    Cherbourg     n  \n",
            "2  Southampton     y  \n",
            "3  Southampton     n  \n",
            "4   Queenstown     y  \n",
            "0    0\n",
            "1    1\n",
            "2    1\n",
            "3    1\n",
            "4    0\n",
            "Name: survived, dtype: int64\n"
          ]
        }
      ]
    },
    {
      "cell_type": "code",
      "metadata": {
        "colab": {
          "base_uri": "https://localhost:8080/"
        },
        "id": "taWfFFB3lxjb",
        "outputId": "f9b96e47-e7a1-40d1-d730-8c0eca023b11"
      },
      "source": [
        "train.describe(), train.info()"
      ],
      "execution_count": 5,
      "outputs": [
        {
          "output_type": "stream",
          "name": "stdout",
          "text": [
            "<class 'pandas.core.frame.DataFrame'>\n",
            "RangeIndex: 627 entries, 0 to 626\n",
            "Data columns (total 9 columns):\n",
            " #   Column              Non-Null Count  Dtype  \n",
            "---  ------              --------------  -----  \n",
            " 0   sex                 627 non-null    object \n",
            " 1   age                 627 non-null    float64\n",
            " 2   n_siblings_spouses  627 non-null    int64  \n",
            " 3   parch               627 non-null    int64  \n",
            " 4   fare                627 non-null    float64\n",
            " 5   class               627 non-null    object \n",
            " 6   deck                627 non-null    object \n",
            " 7   embark_town         627 non-null    object \n",
            " 8   alone               627 non-null    object \n",
            "dtypes: float64(2), int64(2), object(5)\n",
            "memory usage: 44.2+ KB\n"
          ]
        },
        {
          "output_type": "execute_result",
          "data": {
            "text/plain": [
              "(              age  n_siblings_spouses       parch        fare\n",
              " count  627.000000          627.000000  627.000000  627.000000\n",
              " mean    29.631308            0.545455    0.379585   34.385399\n",
              " std     12.511818            1.151090    0.792999   54.597730\n",
              " min      0.750000            0.000000    0.000000    0.000000\n",
              " 25%     23.000000            0.000000    0.000000    7.895800\n",
              " 50%     28.000000            0.000000    0.000000   15.045800\n",
              " 75%     35.000000            1.000000    0.000000   31.387500\n",
              " max     80.000000            8.000000    5.000000  512.329200, None)"
            ]
          },
          "metadata": {},
          "execution_count": 5
        }
      ]
    },
    {
      "cell_type": "code",
      "metadata": {
        "colab": {
          "base_uri": "https://localhost:8080/",
          "height": 1000
        },
        "id": "vgG2eAfQnFIM",
        "outputId": "5bdcdd5c-cdbd-4614-b935-972634078edd"
      },
      "source": [
        "figure, axes = plt.subplots(3, 2, figsize=(10, 15))\n",
        "\n",
        "train['sex'].hist(ax=axes[0,0], legend=True)\n",
        "train['alone'].hist(ax=axes[0,1], legend=True)\n",
        "train['embark_town'].hist(ax=axes[1,0], legend=True)\n",
        "train['class'].hist(ax=axes[1,1], legend=True)\n",
        "train['deck'].hist(ax=axes[2,0], legend=True)\n",
        "\n",
        "plt.tight_layout()\n",
        "plt.show()"
      ],
      "execution_count": 6,
      "outputs": [
        {
          "output_type": "display_data",
          "data": {
            "text/plain": [
              "<Figure size 720x1080 with 6 Axes>"
            ],
            "image/png": "[encoded data removed]"
          },
          "metadata": {
            "needs_background": "light"
          }
        }
      ]
    },
    {
      "cell_type": "markdown",
      "metadata": {
        "id": "ZUqrrtjsBSWG"
      },
      "source": [
        "## Create feature columns"
      ]
    },
    {
      "cell_type": "code",
      "metadata": {
        "id": "cEOwjzcc8iRE"
      },
      "source": [
        "CATEGORICAL_COLUMNS = ['sex', 'n_siblings_spouses', 'parch', 'class', 'deck', 'embark_town', 'alone']\n",
        "NUMERIC_COLUMNS = ['age', 'fare']"
      ],
      "execution_count": 7,
      "outputs": []
    },
    {
      "cell_type": "code",
      "metadata": {
        "id": "zRlnSqzY-n6B"
      },
      "source": [
        "feature_columns = []\n",
        "\n",
        "for feature_name in CATEGORICAL_COLUMNS:\n",
        "  vocabulary = train[feature_name].unique()\n",
        "  feature_columns.append(tf.feature_column.categorical_column_with_vocabulary_list(feature_name, vocabulary))\n",
        "\n",
        "for feature_name in NUMERIC_COLUMNS:\n",
        "  feature_columns.append(tf.feature_column.numeric_column(feature_name))"
      ],
      "execution_count": 8,
      "outputs": []
    },
    {
      "cell_type": "code",
      "metadata": {
        "colab": {
          "base_uri": "https://localhost:8080/"
        },
        "id": "SOO4CSNjFgaK",
        "outputId": "fd2b107b-666a-49c3-9a63-a2b7ff12c7cb"
      },
      "source": [
        "feature_columns"
      ],
      "execution_count": 9,
      "outputs": [
        {
          "output_type": "execute_result",
          "data": {
            "text/plain": [
              "[VocabularyListCategoricalColumn(key='sex', vocabulary_list=('male', 'female'), dtype=tf.string, default_value=-1, num_oov_buckets=0),\n",
              " VocabularyListCategoricalColumn(key='n_siblings_spouses', vocabulary_list=(1, 0, 3, 4, 2, 5, 8), dtype=tf.int64, default_value=-1, num_oov_buckets=0),\n",
              " VocabularyListCategoricalColumn(key='parch', vocabulary_list=(0, 1, 2, 5, 3, 4), dtype=tf.int64, default_value=-1, num_oov_buckets=0),\n",
              " VocabularyListCategoricalColumn(key='class', vocabulary_list=('Third', 'First', 'Second'), dtype=tf.string, default_value=-1, num_oov_buckets=0),\n",
              " VocabularyListCategoricalColumn(key='deck', vocabulary_list=('unknown', 'C', 'G', 'A', 'B', 'D', 'F', 'E'), dtype=tf.string, default_value=-1, num_oov_buckets=0),\n",
              " VocabularyListCategoricalColumn(key='embark_town', vocabulary_list=('Southampton', 'Cherbourg', 'Queenstown', 'unknown'), dtype=tf.string, default_value=-1, num_oov_buckets=0),\n",
              " VocabularyListCategoricalColumn(key='alone', vocabulary_list=('n', 'y'), dtype=tf.string, default_value=-1, num_oov_buckets=0),\n",
              " NumericColumn(key='age', shape=(1,), default_value=None, dtype=tf.float32, normalizer_fn=None),\n",
              " NumericColumn(key='fare', shape=(1,), default_value=None, dtype=tf.float32, normalizer_fn=None)]"
            ]
          },
          "metadata": {},
          "execution_count": 9
        }
      ]
    },
    {
      "cell_type": "markdown",
      "metadata": {
        "id": "YLpQVfATHHOx"
      },
      "source": [
        "## The Training Process"
      ]
    },
    {
      "cell_type": "markdown",
      "metadata": {
        "id": "famhhCdnHM9z"
      },
      "source": [
        "**Input function**"
      ]
    },
    {
      "cell_type": "code",
      "metadata": {
        "id": "YmdMeJ-FFhxt"
      },
      "source": [
        "def make_input_fn(data, label, num_epochs=10, shuffle=True, batch_size=32):\n",
        "  '''\n",
        "  data:   input data (pandas dataframe)\n",
        "  label:  label of the data (pandas dataframe)\n",
        "  rest of the parameters are pretty much self-explanatory\n",
        "  '''\n",
        "  def input_function():\n",
        "    ds = tf.data.Dataset.from_tensor_slices((dict(data), label))\n",
        "    if shuffle:\n",
        "      ds = ds.shuffle(1000)\n",
        "    ds = ds.batch(batch_size).repeat(num_epochs)\n",
        "    return ds\n",
        "  return input_function"
      ],
      "execution_count": 10,
      "outputs": []
    },
    {
      "cell_type": "code",
      "metadata": {
        "id": "og0aLECxJ8Yd"
      },
      "source": [
        "train_input_fn = make_input_fn(train, y_train, num_epochs=20, batch_size=64)\n",
        "eval_input_fn = make_input_fn(eval, y_eval, num_epochs=1, shuffle=False)"
      ],
      "execution_count": 11,
      "outputs": []
    },
    {
      "cell_type": "markdown",
      "metadata": {
        "id": "oAyIUEaiLNNF"
      },
      "source": [
        "**Creating the model**"
      ]
    },
    {
      "cell_type": "code",
      "metadata": {
        "colab": {
          "base_uri": "https://localhost:8080/"
        },
        "id": "aqG9juEjK3Yx",
        "outputId": "4d3fc90a-bd41-492b-c9f1-29856aba7bb6"
      },
      "source": [
        "linear_est = tf.estimator.LinearClassifier(feature_columns=feature_columns)"
      ],
      "execution_count": 12,
      "outputs": [
        {
          "output_type": "stream",
          "name": "stdout",
          "text": [
            "INFO:tensorflow:Using default config.\n",
            "WARNING:tensorflow:Using temporary folder as model directory: /tmp/tmp4phico9a\n",
            "INFO:tensorflow:Using config: {'_model_dir': '/tmp/tmp4phico9a', '_tf_random_seed': None, '_save_summary_steps': 100, '_save_checkpoints_steps': None, '_save_checkpoints_secs': 600, '_session_config': allow_soft_placement: true\n",
            "graph_options {\n",
            "  rewrite_options {\n",
            "    meta_optimizer_iterations: ONE\n",
            "  }\n",
            "}\n",
            ", '_keep_checkpoint_max': 5, '_keep_checkpoint_every_n_hours': 10000, '_log_step_count_steps': 100, '_train_distribute': None, '_device_fn': None, '_protocol': None, '_eval_distribute': None, '_experimental_distribute': None, '_experimental_max_worker_delay_secs': None, '_session_creation_timeout_secs': 7200, '_checkpoint_save_graph_def': True, '_service': None, '_cluster_spec': ClusterSpec({}), '_task_type': 'worker', '_task_id': 0, '_global_id_in_cluster': 0, '_master': '', '_evaluation_master': '', '_is_chief': True, '_num_ps_replicas': 0, '_num_worker_replicas': 1}\n"
          ]
        }
      ]
    },
    {
      "cell_type": "markdown",
      "metadata": {
        "id": "UOL3r5dgL3-u"
      },
      "source": [
        "**Training the model**"
      ]
    },
    {
      "cell_type": "code",
      "metadata": {
        "colab": {
          "base_uri": "https://localhost:8080/"
        },
        "id": "s6anbkpALZg8",
        "outputId": "6da5f23b-8d6b-4908-f433-4b3cae21fa5c"
      },
      "source": [
        "linear_est.train(train_input_fn)"
      ],
      "execution_count": 13,
      "outputs": [
        {
          "output_type": "stream",
          "name": "stdout",
          "text": [
            "WARNING:tensorflow:From /usr/local/lib/python3.7/dist-packages/tensorflow/python/training/training_util.py:397: Variable.initialized_value (from tensorflow.python.ops.variables) is deprecated and will be removed in a future version.\n",
            "Instructions for updating:\n",
            "Use Variable.read_value. Variables in 2.X are initialized automatically both in eager and graph (inside tf.defun) contexts.\n",
            "INFO:tensorflow:Calling model_fn.\n"
          ]
        },
        {
          "output_type": "stream",
          "name": "stderr",
          "text": [
            "/usr/local/lib/python3.7/dist-packages/tensorflow_estimator/python/estimator/canned/linear.py:1478: UserWarning: `layer.add_variable` is deprecated and will be removed in a future version. Please use `layer.add_weight` method instead.\n",
            "  getter=tf.compat.v1.get_variable)\n"
          ]
        },
        {
          "output_type": "stream",
          "name": "stdout",
          "text": [
            "WARNING:tensorflow:From /usr/local/lib/python3.7/dist-packages/keras/optimizer_v2/ftrl.py:149: calling Constant.__init__ (from tensorflow.python.ops.init_ops) with dtype is deprecated and will be removed in a future version.\n",
            "Instructions for updating:\n",
            "Call initializer instance with the dtype argument instead of passing it to the constructor\n",
            "INFO:tensorflow:Done calling model_fn.\n",
            "INFO:tensorflow:Create CheckpointSaverHook.\n",
            "INFO:tensorflow:Graph was finalized.\n",
            "INFO:tensorflow:Running local_init_op.\n",
            "INFO:tensorflow:Done running local_init_op.\n",
            "INFO:tensorflow:Calling checkpoint listeners before saving checkpoint 0...\n",
            "INFO:tensorflow:Saving checkpoints for 0 into /tmp/tmp4phico9a/model.ckpt.\n",
            "INFO:tensorflow:Calling checkpoint listeners after saving checkpoint 0...\n",
            "INFO:tensorflow:loss = 0.6931472, step = 0\n",
            "INFO:tensorflow:global_step/sec: 295.925\n",
            "INFO:tensorflow:loss = 0.41675717, step = 100 (0.342 sec)\n",
            "INFO:tensorflow:Calling checkpoint listeners before saving checkpoint 200...\n",
            "INFO:tensorflow:Saving checkpoints for 200 into /tmp/tmp4phico9a/model.ckpt.\n",
            "INFO:tensorflow:Calling checkpoint listeners after saving checkpoint 200...\n",
            "INFO:tensorflow:Loss for final step: 0.5896701.\n"
          ]
        },
        {
          "output_type": "execute_result",
          "data": {
            "text/plain": [
              "<tensorflow_estimator.python.estimator.canned.linear.LinearClassifierV2 at 0x7fef67efae90>"
            ]
          },
          "metadata": {},
          "execution_count": 13
        }
      ]
    },
    {
      "cell_type": "markdown",
      "metadata": {
        "id": "GMJLmuQOhoUV"
      },
      "source": [
        "## Evaluation and Prediction"
      ]
    },
    {
      "cell_type": "markdown",
      "metadata": {
        "id": "FgNIyqbXO1FC"
      },
      "source": [
        "**Evaluating the model**"
      ]
    },
    {
      "cell_type": "code",
      "metadata": {
        "colab": {
          "base_uri": "https://localhost:8080/"
        },
        "id": "_HbPybAeMK1J",
        "outputId": "aaf335fb-b08c-4014-dd85-30c0d9c31ae7"
      },
      "source": [
        "result = linear_est.evaluate(eval_input_fn)"
      ],
      "execution_count": 14,
      "outputs": [
        {
          "output_type": "stream",
          "name": "stdout",
          "text": [
            "INFO:tensorflow:Calling model_fn.\n"
          ]
        },
        {
          "output_type": "stream",
          "name": "stderr",
          "text": [
            "/usr/local/lib/python3.7/dist-packages/tensorflow_estimator/python/estimator/canned/linear.py:1478: UserWarning: `layer.add_variable` is deprecated and will be removed in a future version. Please use `layer.add_weight` method instead.\n",
            "  getter=tf.compat.v1.get_variable)\n"
          ]
        },
        {
          "output_type": "stream",
          "name": "stdout",
          "text": [
            "INFO:tensorflow:Done calling model_fn.\n",
            "INFO:tensorflow:Starting evaluation at 2022-06-26T18:24:26\n",
            "INFO:tensorflow:Graph was finalized.\n",
            "INFO:tensorflow:Restoring parameters from /tmp/tmp4phico9a/model.ckpt-200\n",
            "INFO:tensorflow:Running local_init_op.\n",
            "INFO:tensorflow:Done running local_init_op.\n",
            "INFO:tensorflow:Inference Time : 0.62906s\n",
            "INFO:tensorflow:Finished evaluation at 2022-06-26-18:24:26\n",
            "INFO:tensorflow:Saving dict for global step 200: accuracy = 0.75757575, accuracy_baseline = 0.625, auc = 0.83336395, auc_precision_recall = 0.79091585, average_loss = 0.47301415, global_step = 200, label/mean = 0.375, loss = 0.46448913, precision = 0.68817204, prediction/mean = 0.3685578, recall = 0.64646465\n",
            "INFO:tensorflow:Saving 'checkpoint_path' summary for global step 200: /tmp/tmp4phico9a/model.ckpt-200\n"
          ]
        }
      ]
    },
    {
      "cell_type": "code",
      "metadata": {
        "colab": {
          "base_uri": "https://localhost:8080/"
        },
        "id": "O0WQzWaHNPDm",
        "outputId": "94e3fc9b-5ab3-4e2a-ed75-c660107ffcd7"
      },
      "source": [
        "result"
      ],
      "execution_count": 15,
      "outputs": [
        {
          "output_type": "execute_result",
          "data": {
            "text/plain": [
              "{'accuracy': 0.75757575,\n",
              " 'accuracy_baseline': 0.625,\n",
              " 'auc': 0.83336395,\n",
              " 'auc_precision_recall': 0.79091585,\n",
              " 'average_loss': 0.47301415,\n",
              " 'global_step': 200,\n",
              " 'label/mean': 0.375,\n",
              " 'loss': 0.46448913,\n",
              " 'precision': 0.68817204,\n",
              " 'prediction/mean': 0.3685578,\n",
              " 'recall': 0.64646465}"
            ]
          },
          "metadata": {},
          "execution_count": 15
        }
      ]
    },
    {
      "cell_type": "markdown",
      "metadata": {
        "id": "LGo0heG2O6Bb"
      },
      "source": [
        "**Make predictions**"
      ]
    },
    {
      "cell_type": "code",
      "metadata": {
        "colab": {
          "base_uri": "https://localhost:8080/"
        },
        "id": "uh8yq4M_NUkc",
        "outputId": "0e2455ce-a7f8-4fbb-d33d-7512ab0274e1"
      },
      "source": [
        "predictions = list(linear_est.predict(eval_input_fn))"
      ],
      "execution_count": 16,
      "outputs": [
        {
          "output_type": "stream",
          "name": "stdout",
          "text": [
            "INFO:tensorflow:Calling model_fn.\n"
          ]
        },
        {
          "output_type": "stream",
          "name": "stderr",
          "text": [
            "/usr/local/lib/python3.7/dist-packages/tensorflow_estimator/python/estimator/canned/linear.py:1478: UserWarning: `layer.add_variable` is deprecated and will be removed in a future version. Please use `layer.add_weight` method instead.\n",
            "  getter=tf.compat.v1.get_variable)\n"
          ]
        },
        {
          "output_type": "stream",
          "name": "stdout",
          "text": [
            "INFO:tensorflow:Done calling model_fn.\n",
            "INFO:tensorflow:Graph was finalized.\n",
            "INFO:tensorflow:Restoring parameters from /tmp/tmp4phico9a/model.ckpt-200\n",
            "INFO:tensorflow:Running local_init_op.\n",
            "INFO:tensorflow:Done running local_init_op.\n"
          ]
        }
      ]
    },
    {
      "cell_type": "code",
      "metadata": {
        "colab": {
          "base_uri": "https://localhost:8080/"
        },
        "id": "e-LIeTL4Oufm",
        "outputId": "da310ea3-d6df-451a-9d9b-a355b6ca6fbf"
      },
      "source": [
        "predictions[0]"
      ],
      "execution_count": 17,
      "outputs": [
        {
          "output_type": "execute_result",
          "data": {
            "text/plain": [
              "{'all_class_ids': array([0, 1], dtype=int32),\n",
              " 'all_classes': array([b'0', b'1'], dtype=object),\n",
              " 'class_ids': array([0]),\n",
              " 'classes': array([b'0'], dtype=object),\n",
              " 'logistic': array([0.07217544], dtype=float32),\n",
              " 'logits': array([-2.5537424], dtype=float32),\n",
              " 'probabilities': array([0.9278245 , 0.07217547], dtype=float32)}"
            ]
          },
          "metadata": {},
          "execution_count": 17
        }
      ]
    },
    {
      "cell_type": "code",
      "metadata": {
        "colab": {
          "base_uri": "https://localhost:8080/"
        },
        "id": "Q34wsUT7Psm8",
        "outputId": "994bfbdc-71a1-47ec-92b2-77346848a1e5"
      },
      "source": [
        "print(eval.iloc[15])\n",
        "print(y_eval.iloc[15])\n",
        "print(predictions[15]['probabilities']) # the second item in the output list denotes the probability that the person survived"
      ],
      "execution_count": 18,
      "outputs": [
        {
          "output_type": "stream",
          "name": "stdout",
          "text": [
            "sex                        female\n",
            "age                          16.0\n",
            "n_siblings_spouses              5\n",
            "parch                           2\n",
            "fare                         46.9\n",
            "class                       Third\n",
            "deck                      unknown\n",
            "embark_town           Southampton\n",
            "alone                           n\n",
            "Name: 15, dtype: object\n",
            "0\n",
            "[0.4817449 0.5182551]\n"
          ]
        }
      ]
    },
    {
      "cell_type": "markdown",
      "metadata": {
        "id": "vGxYgzulh6c2"
      },
      "source": [
        "# Classification"
      ]
    },
    {
      "cell_type": "markdown",
      "metadata": {
        "id": "J79HmC-LiwO1"
      },
      "source": [
        "## Data"
      ]
    },
    {
      "cell_type": "markdown",
      "metadata": {
        "id": "LrsoMA7oi17V"
      },
      "source": [
        "### load the data"
      ]
    },
    {
      "cell_type": "code",
      "metadata": {
        "id": "8iSCruGwQfBd"
      },
      "source": [
        "data = pd.read_csv('https://gist.githubusercontent.com/curran/a08a1080b88344b0c8a7/raw/0e7a9b0a5d22642a06d3d5b9bcbad9890c8ee534/iris.csv')"
      ],
      "execution_count": null,
      "outputs": []
    },
    {
      "cell_type": "markdown",
      "metadata": {
        "id": "XkH7m1uii_Ru"
      },
      "source": [
        "### take a look into the data"
      ]
    },
    {
      "cell_type": "code",
      "metadata": {
        "colab": {
          "base_uri": "https://localhost:8080/"
        },
        "id": "Qne6DnNxi-DH",
        "outputId": "f03aeb51-3b5a-464c-bfe6-4f4e2670a414"
      },
      "source": [
        "data.head()"
      ],
      "execution_count": null,
      "outputs": [
        {
          "output_type": "execute_result",
          "data": {
            "text/html": [
              "<div>\n",
              "<style scoped>\n",
              "    .dataframe tbody tr th:only-of-type {\n",
              "        vertical-align: middle;\n",
              "    }\n",
              "\n",
              "    .dataframe tbody tr th {\n",
              "        vertical-align: top;\n",
              "    }\n",
              "\n",
              "    .dataframe thead th {\n",
              "        text-align: right;\n",
              "    }\n",
              "</style>\n",
              "<table border=\"1\" class=\"dataframe\">\n",
              "  <thead>\n",
              "    <tr style=\"text-align: right;\">\n",
              "      <th></th>\n",
              "      <th>sepal_length</th>\n",
              "      <th>sepal_width</th>\n",
              "      <th>petal_length</th>\n",
              "      <th>petal_width</th>\n",
              "      <th>species</th>\n",
              "    </tr>\n",
              "  </thead>\n",
              "  <tbody>\n",
              "    <tr>\n",
              "      <th>0</th>\n",
              "      <td>5.1</td>\n",
              "      <td>3.5</td>\n",
              "      <td>1.4</td>\n",
              "      <td>0.2</td>\n",
              "      <td>setosa</td>\n",
              "    </tr>\n",
              "    <tr>\n",
              "      <th>1</th>\n",
              "      <td>4.9</td>\n",
              "      <td>3.0</td>\n",
              "      <td>1.4</td>\n",
              "      <td>0.2</td>\n",
              "      <td>setosa</td>\n",
              "    </tr>\n",
              "    <tr>\n",
              "      <th>2</th>\n",
              "      <td>4.7</td>\n",
              "      <td>3.2</td>\n",
              "      <td>1.3</td>\n",
              "      <td>0.2</td>\n",
              "      <td>setosa</td>\n",
              "    </tr>\n",
              "    <tr>\n",
              "      <th>3</th>\n",
              "      <td>4.6</td>\n",
              "      <td>3.1</td>\n",
              "      <td>1.5</td>\n",
              "      <td>0.2</td>\n",
              "      <td>setosa</td>\n",
              "    </tr>\n",
              "    <tr>\n",
              "      <th>4</th>\n",
              "      <td>5.0</td>\n",
              "      <td>3.6</td>\n",
              "      <td>1.4</td>\n",
              "      <td>0.2</td>\n",
              "      <td>setosa</td>\n",
              "    </tr>\n",
              "  </tbody>\n",
              "</table>\n",
              "</div>"
            ],
            "text/plain": [
              "   sepal_length  sepal_width  petal_length  petal_width species\n",
              "0           5.1          3.5           1.4          0.2  setosa\n",
              "1           4.9          3.0           1.4          0.2  setosa\n",
              "2           4.7          3.2           1.3          0.2  setosa\n",
              "3           4.6          3.1           1.5          0.2  setosa\n",
              "4           5.0          3.6           1.4          0.2  setosa"
            ]
          },
          "metadata": {
            "tags": []
          },
          "execution_count": 31
        }
      ]
    },
    {
      "cell_type": "code",
      "metadata": {
        "colab": {
          "base_uri": "https://localhost:8080/"
        },
        "id": "So5j2yXpjHK3",
        "outputId": "be6ab5c3-d869-4bba-d7a3-4a53a7383a11"
      },
      "source": [
        "data.describe()"
      ],
      "execution_count": null,
      "outputs": [
        {
          "output_type": "execute_result",
          "data": {
            "text/html": [
              "<div>\n",
              "<style scoped>\n",
              "    .dataframe tbody tr th:only-of-type {\n",
              "        vertical-align: middle;\n",
              "    }\n",
              "\n",
              "    .dataframe tbody tr th {\n",
              "        vertical-align: top;\n",
              "    }\n",
              "\n",
              "    .dataframe thead th {\n",
              "        text-align: right;\n",
              "    }\n",
              "</style>\n",
              "<table border=\"1\" class=\"dataframe\">\n",
              "  <thead>\n",
              "    <tr style=\"text-align: right;\">\n",
              "      <th></th>\n",
              "      <th>sepal_length</th>\n",
              "      <th>sepal_width</th>\n",
              "      <th>petal_length</th>\n",
              "      <th>petal_width</th>\n",
              "    </tr>\n",
              "  </thead>\n",
              "  <tbody>\n",
              "    <tr>\n",
              "      <th>count</th>\n",
              "      <td>150.000000</td>\n",
              "      <td>150.000000</td>\n",
              "      <td>150.000000</td>\n",
              "      <td>150.000000</td>\n",
              "    </tr>\n",
              "    <tr>\n",
              "      <th>mean</th>\n",
              "      <td>5.843333</td>\n",
              "      <td>3.054000</td>\n",
              "      <td>3.758667</td>\n",
              "      <td>1.198667</td>\n",
              "    </tr>\n",
              "    <tr>\n",
              "      <th>std</th>\n",
              "      <td>0.828066</td>\n",
              "      <td>0.433594</td>\n",
              "      <td>1.764420</td>\n",
              "      <td>0.763161</td>\n",
              "    </tr>\n",
              "    <tr>\n",
              "      <th>min</th>\n",
              "      <td>4.300000</td>\n",
              "      <td>2.000000</td>\n",
              "      <td>1.000000</td>\n",
              "      <td>0.100000</td>\n",
              "    </tr>\n",
              "    <tr>\n",
              "      <th>25%</th>\n",
              "      <td>5.100000</td>\n",
              "      <td>2.800000</td>\n",
              "      <td>1.600000</td>\n",
              "      <td>0.300000</td>\n",
              "    </tr>\n",
              "    <tr>\n",
              "      <th>50%</th>\n",
              "      <td>5.800000</td>\n",
              "      <td>3.000000</td>\n",
              "      <td>4.350000</td>\n",
              "      <td>1.300000</td>\n",
              "    </tr>\n",
              "    <tr>\n",
              "      <th>75%</th>\n",
              "      <td>6.400000</td>\n",
              "      <td>3.300000</td>\n",
              "      <td>5.100000</td>\n",
              "      <td>1.800000</td>\n",
              "    </tr>\n",
              "    <tr>\n",
              "      <th>max</th>\n",
              "      <td>7.900000</td>\n",
              "      <td>4.400000</td>\n",
              "      <td>6.900000</td>\n",
              "      <td>2.500000</td>\n",
              "    </tr>\n",
              "  </tbody>\n",
              "</table>\n",
              "</div>"
            ],
            "text/plain": [
              "       sepal_length  sepal_width  petal_length  petal_width\n",
              "count    150.000000   150.000000    150.000000   150.000000\n",
              "mean       5.843333     3.054000      3.758667     1.198667\n",
              "std        0.828066     0.433594      1.764420     0.763161\n",
              "min        4.300000     2.000000      1.000000     0.100000\n",
              "25%        5.100000     2.800000      1.600000     0.300000\n",
              "50%        5.800000     3.000000      4.350000     1.300000\n",
              "75%        6.400000     3.300000      5.100000     1.800000\n",
              "max        7.900000     4.400000      6.900000     2.500000"
            ]
          },
          "metadata": {
            "tags": []
          },
          "execution_count": 32
        }
      ]
    },
    {
      "cell_type": "code",
      "metadata": {
        "colab": {
          "base_uri": "https://localhost:8080/"
        },
        "id": "G5Y7oJaMkc_W",
        "outputId": "ad247232-a6d7-44da-bb15-0ad1de248a55"
      },
      "source": [
        "data.hist(figsize=(10,10))"
      ],
      "execution_count": null,
      "outputs": [
        {
          "output_type": "execute_result",
          "data": {
            "text/plain": [
              "array([[<matplotlib.axes._subplots.AxesSubplot object at 0x7f9ef71c9b10>,\n",
              "        <matplotlib.axes._subplots.AxesSubplot object at 0x7f9ef6954e10>],\n",
              "       [<matplotlib.axes._subplots.AxesSubplot object at 0x7f9ef6917510>,\n",
              "        <matplotlib.axes._subplots.AxesSubplot object at 0x7f9ef68ccb90>]],\n",
              "      dtype=object)"
            ]
          },
          "metadata": {
            "tags": []
          },
          "execution_count": 33
        },
        {
          "output_type": "display_data",
          "data": {
            "image/png": "[encoded data removed]",
            "text/plain": [
              "<Figure size 720x720 with 4 Axes>"
            ]
          },
          "metadata": {
            "tags": [],
            "needs_background": "light"
          }
        }
      ]
    },
    {
      "cell_type": "markdown",
      "metadata": {
        "id": "qv7q3LSQkrPu"
      },
      "source": [
        "### split the data"
      ]
    },
    {
      "cell_type": "code",
      "metadata": {
        "id": "yiQ3dzL1kfMv"
      },
      "source": [
        "labels = data.pop('species')"
      ],
      "execution_count": null,
      "outputs": []
    },
    {
      "cell_type": "code",
      "metadata": {
        "colab": {
          "base_uri": "https://localhost:8080/"
        },
        "id": "77ekqOgJti9w",
        "outputId": "359d74ba-55d5-4954-8bd5-33e717fec7e2"
      },
      "source": [
        "temp = list(labels.unique())\n",
        "c = 0\n",
        "mapper = {}\n",
        "\n",
        "for flower_class in temp:\n",
        "  mapper[flower_class] = c\n",
        "  c += 1\n",
        "\n",
        "labels.replace(mapper, inplace=True)\n",
        "labels.head()"
      ],
      "execution_count": null,
      "outputs": [
        {
          "output_type": "execute_result",
          "data": {
            "text/plain": [
              "0    0\n",
              "1    0\n",
              "2    0\n",
              "3    0\n",
              "4    0\n",
              "Name: species, dtype: int64"
            ]
          },
          "metadata": {
            "tags": []
          },
          "execution_count": 35
        }
      ]
    },
    {
      "cell_type": "code",
      "metadata": {
        "id": "TrT0HjVllBHT"
      },
      "source": [
        "x_train, x_test, y_train, y_test = train_test_split(data, labels, test_size=0.2)"
      ],
      "execution_count": null,
      "outputs": []
    },
    {
      "cell_type": "code",
      "metadata": {
        "colab": {
          "base_uri": "https://localhost:8080/"
        },
        "id": "SAbnXLRLlblS",
        "outputId": "eae9e147-7310-4b21-a704-4bf74b09dd86"
      },
      "source": [
        "y_test.head()"
      ],
      "execution_count": null,
      "outputs": [
        {
          "output_type": "execute_result",
          "data": {
            "text/plain": [
              "8      0\n",
              "39     0\n",
              "148    2\n",
              "132    2\n",
              "124    2\n",
              "Name: species, dtype: int64"
            ]
          },
          "metadata": {
            "tags": []
          },
          "execution_count": 37
        }
      ]
    },
    {
      "cell_type": "markdown",
      "metadata": {
        "id": "LnIRSLYCm6JT"
      },
      "source": [
        "## Input function"
      ]
    },
    {
      "cell_type": "code",
      "metadata": {
        "id": "NH4zi_ZKl3DE"
      },
      "source": [
        "def input_fn(features, labels, shuffle=True, batch_size=256):\n",
        "  dataset = tf.data.Dataset.from_tensor_slices((dict(features), labels))\n",
        "  if shuffle:\n",
        "    dataset = dataset.shuffle(1000).repeat()\n",
        "  return dataset.batch(batch_size)"
      ],
      "execution_count": null,
      "outputs": []
    },
    {
      "cell_type": "markdown",
      "metadata": {
        "id": "tqvlfoC9oFI-"
      },
      "source": [
        "## Feature Columns"
      ]
    },
    {
      "cell_type": "code",
      "metadata": {
        "id": "2bntb96un_Q9"
      },
      "source": [
        "feature_columns = []\n",
        "\n",
        "for feature_column in x_train.keys():\n",
        "  feature_columns.append(tf.feature_column.numeric_column(key=feature_column))"
      ],
      "execution_count": null,
      "outputs": []
    },
    {
      "cell_type": "code",
      "metadata": {
        "colab": {
          "base_uri": "https://localhost:8080/"
        },
        "id": "Sizr7s_DoY2A",
        "outputId": "b684799d-3198-42b4-b358-0c74138ad61c"
      },
      "source": [
        "feature_columns"
      ],
      "execution_count": null,
      "outputs": [
        {
          "output_type": "execute_result",
          "data": {
            "text/plain": [
              "[NumericColumn(key='sepal_length', shape=(1,), default_value=None, dtype=tf.float32, normalizer_fn=None),\n",
              " NumericColumn(key='sepal_width', shape=(1,), default_value=None, dtype=tf.float32, normalizer_fn=None),\n",
              " NumericColumn(key='petal_length', shape=(1,), default_value=None, dtype=tf.float32, normalizer_fn=None),\n",
              " NumericColumn(key='petal_width', shape=(1,), default_value=None, dtype=tf.float32, normalizer_fn=None)]"
            ]
          },
          "metadata": {
            "tags": []
          },
          "execution_count": 40
        }
      ]
    },
    {
      "cell_type": "markdown",
      "metadata": {
        "id": "Mqyn15NdokD3"
      },
      "source": [
        "## Building the model"
      ]
    },
    {
      "cell_type": "code",
      "metadata": {
        "colab": {
          "base_uri": "https://localhost:8080/"
        },
        "id": "rzyvt6j6ove9",
        "outputId": "03a69b34-4fe7-405d-95c1-ce8157adb2d2"
      },
      "source": [
        "classifier = tf.estimator.DNNClassifier(\n",
        "    feature_columns = feature_columns,\n",
        "    hidden_units = [16, 32, 16, 8],\n",
        "    n_classes = len(labels.unique())\n",
        ")"
      ],
      "execution_count": null,
      "outputs": [
        {
          "output_type": "stream",
          "text": [
            "INFO:tensorflow:Using default config.\n",
            "WARNING:tensorflow:Using temporary folder as model directory: /tmp/tmp4lvo4t3f\n",
            "INFO:tensorflow:Using config: {'_model_dir': '/tmp/tmp4lvo4t3f', '_tf_random_seed': None, '_save_summary_steps': 100, '_save_checkpoints_steps': None, '_save_checkpoints_secs': 600, '_session_config': allow_soft_placement: true\n",
            "graph_options {\n",
            "  rewrite_options {\n",
            "    meta_optimizer_iterations: ONE\n",
            "  }\n",
            "}\n",
            ", '_keep_checkpoint_max': 5, '_keep_checkpoint_every_n_hours': 10000, '_log_step_count_steps': 100, '_train_distribute': None, '_device_fn': None, '_protocol': None, '_eval_distribute': None, '_experimental_distribute': None, '_experimental_max_worker_delay_secs': None, '_session_creation_timeout_secs': 7200, '_checkpoint_save_graph_def': True, '_service': None, '_cluster_spec': ClusterSpec({}), '_task_type': 'worker', '_task_id': 0, '_global_id_in_cluster': 0, '_master': '', '_evaluation_master': '', '_is_chief': True, '_num_ps_replicas': 0, '_num_worker_replicas': 1}\n"
          ],
          "name": "stdout"
        }
      ]
    },
    {
      "cell_type": "markdown",
      "metadata": {
        "id": "VLIdSxR3onMY"
      },
      "source": [
        "## Training the  model"
      ]
    },
    {
      "cell_type": "code",
      "metadata": {
        "colab": {
          "base_uri": "https://localhost:8080/"
        },
        "id": "ZOR3pSOWqvqr",
        "outputId": "a6c80f81-58d2-4f6e-a77a-b88606bbd654"
      },
      "source": [
        "classifier.train(input_fn=lambda: input_fn(x_train, y_train),\n",
        "                 steps=5000)"
      ],
      "execution_count": null,
      "outputs": [
        {
          "output_type": "stream",
          "text": [
            "INFO:tensorflow:Calling model_fn.\n",
            "INFO:tensorflow:Done calling model_fn.\n",
            "INFO:tensorflow:Create CheckpointSaverHook.\n",
            "INFO:tensorflow:Graph was finalized.\n",
            "INFO:tensorflow:Running local_init_op.\n",
            "INFO:tensorflow:Done running local_init_op.\n",
            "INFO:tensorflow:Calling checkpoint listeners before saving checkpoint 0...\n",
            "INFO:tensorflow:Saving checkpoints for 0 into /tmp/tmp4lvo4t3f/model.ckpt.\n",
            "INFO:tensorflow:Calling checkpoint listeners after saving checkpoint 0...\n",
            "INFO:tensorflow:loss = 1.1201873, step = 0\n",
            "INFO:tensorflow:global_step/sec: 410.364\n",
            "INFO:tensorflow:loss = 1.0613103, step = 100 (0.245 sec)\n",
            "INFO:tensorflow:global_step/sec: 530.745\n",
            "INFO:tensorflow:loss = 1.0332694, step = 200 (0.188 sec)\n",
            "INFO:tensorflow:global_step/sec: 558.57\n",
            "INFO:tensorflow:loss = 0.9913945, step = 300 (0.182 sec)\n",
            "INFO:tensorflow:global_step/sec: 541.537\n",
            "INFO:tensorflow:loss = 0.97874856, step = 400 (0.187 sec)\n",
            "INFO:tensorflow:global_step/sec: 519.531\n",
            "INFO:tensorflow:loss = 0.9597773, step = 500 (0.188 sec)\n",
            "INFO:tensorflow:global_step/sec: 512.964\n",
            "INFO:tensorflow:loss = 0.93472147, step = 600 (0.198 sec)\n",
            "INFO:tensorflow:global_step/sec: 557.975\n",
            "INFO:tensorflow:loss = 0.9350562, step = 700 (0.179 sec)\n",
            "INFO:tensorflow:global_step/sec: 530.429\n",
            "INFO:tensorflow:loss = 0.9115268, step = 800 (0.185 sec)\n",
            "INFO:tensorflow:global_step/sec: 510.737\n",
            "INFO:tensorflow:loss = 0.8693863, step = 900 (0.199 sec)\n",
            "INFO:tensorflow:global_step/sec: 537.541\n",
            "INFO:tensorflow:loss = 0.8483155, step = 1000 (0.187 sec)\n",
            "INFO:tensorflow:global_step/sec: 538.163\n",
            "INFO:tensorflow:loss = 0.83600545, step = 1100 (0.185 sec)\n",
            "INFO:tensorflow:global_step/sec: 550.076\n",
            "INFO:tensorflow:loss = 0.8114166, step = 1200 (0.182 sec)\n",
            "INFO:tensorflow:global_step/sec: 541.954\n",
            "INFO:tensorflow:loss = 0.8056448, step = 1300 (0.185 sec)\n",
            "INFO:tensorflow:global_step/sec: 537.131\n",
            "INFO:tensorflow:loss = 0.7857742, step = 1400 (0.183 sec)\n",
            "INFO:tensorflow:global_step/sec: 527.577\n",
            "INFO:tensorflow:loss = 0.76907074, step = 1500 (0.192 sec)\n",
            "INFO:tensorflow:global_step/sec: 545.085\n",
            "INFO:tensorflow:loss = 0.75247425, step = 1600 (0.185 sec)\n",
            "INFO:tensorflow:global_step/sec: 543.373\n",
            "INFO:tensorflow:loss = 0.73817664, step = 1700 (0.181 sec)\n",
            "INFO:tensorflow:global_step/sec: 550.174\n",
            "INFO:tensorflow:loss = 0.72536886, step = 1800 (0.182 sec)\n",
            "INFO:tensorflow:global_step/sec: 527.43\n",
            "INFO:tensorflow:loss = 0.7097279, step = 1900 (0.190 sec)\n",
            "INFO:tensorflow:global_step/sec: 544.049\n",
            "INFO:tensorflow:loss = 0.7021355, step = 2000 (0.183 sec)\n",
            "INFO:tensorflow:global_step/sec: 523.876\n",
            "INFO:tensorflow:loss = 0.69371563, step = 2100 (0.191 sec)\n",
            "INFO:tensorflow:global_step/sec: 515.147\n",
            "INFO:tensorflow:loss = 0.67340213, step = 2200 (0.198 sec)\n",
            "INFO:tensorflow:global_step/sec: 558.802\n",
            "INFO:tensorflow:loss = 0.6644827, step = 2300 (0.178 sec)\n",
            "INFO:tensorflow:global_step/sec: 563.16\n",
            "INFO:tensorflow:loss = 0.6452873, step = 2400 (0.176 sec)\n",
            "INFO:tensorflow:global_step/sec: 553.344\n",
            "INFO:tensorflow:loss = 0.63316715, step = 2500 (0.183 sec)\n",
            "INFO:tensorflow:global_step/sec: 535.583\n",
            "INFO:tensorflow:loss = 0.6171179, step = 2600 (0.187 sec)\n",
            "INFO:tensorflow:global_step/sec: 528.896\n",
            "INFO:tensorflow:loss = 0.6107205, step = 2700 (0.187 sec)\n",
            "INFO:tensorflow:global_step/sec: 566.947\n",
            "INFO:tensorflow:loss = 0.6097133, step = 2800 (0.176 sec)\n",
            "INFO:tensorflow:global_step/sec: 589.803\n",
            "INFO:tensorflow:loss = 0.59079206, step = 2900 (0.169 sec)\n",
            "INFO:tensorflow:global_step/sec: 578.322\n",
            "INFO:tensorflow:loss = 0.58622473, step = 3000 (0.174 sec)\n",
            "INFO:tensorflow:global_step/sec: 519.402\n",
            "INFO:tensorflow:loss = 0.5768707, step = 3100 (0.191 sec)\n",
            "INFO:tensorflow:global_step/sec: 550.237\n",
            "INFO:tensorflow:loss = 0.56620777, step = 3200 (0.182 sec)\n",
            "INFO:tensorflow:global_step/sec: 540.463\n",
            "INFO:tensorflow:loss = 0.5530697, step = 3300 (0.185 sec)\n",
            "INFO:tensorflow:global_step/sec: 565.672\n",
            "INFO:tensorflow:loss = 0.53474844, step = 3400 (0.178 sec)\n",
            "INFO:tensorflow:global_step/sec: 578.61\n",
            "INFO:tensorflow:loss = 0.5268533, step = 3500 (0.174 sec)\n",
            "INFO:tensorflow:global_step/sec: 546.729\n",
            "INFO:tensorflow:loss = 0.5125292, step = 3600 (0.180 sec)\n",
            "INFO:tensorflow:global_step/sec: 553.609\n",
            "INFO:tensorflow:loss = 0.4961658, step = 3700 (0.181 sec)\n",
            "INFO:tensorflow:global_step/sec: 572.914\n",
            "INFO:tensorflow:loss = 0.48903352, step = 3800 (0.177 sec)\n",
            "INFO:tensorflow:global_step/sec: 553.973\n",
            "INFO:tensorflow:loss = 0.48834386, step = 3900 (0.181 sec)\n",
            "INFO:tensorflow:global_step/sec: 578.137\n",
            "INFO:tensorflow:loss = 0.46177265, step = 4000 (0.172 sec)\n",
            "INFO:tensorflow:global_step/sec: 599.292\n",
            "INFO:tensorflow:loss = 0.45202574, step = 4100 (0.164 sec)\n",
            "INFO:tensorflow:global_step/sec: 609.806\n",
            "INFO:tensorflow:loss = 0.44477776, step = 4200 (0.167 sec)\n",
            "INFO:tensorflow:global_step/sec: 536.644\n",
            "INFO:tensorflow:loss = 0.42870313, step = 4300 (0.184 sec)\n",
            "INFO:tensorflow:global_step/sec: 539.327\n",
            "INFO:tensorflow:loss = 0.42473498, step = 4400 (0.187 sec)\n",
            "INFO:tensorflow:global_step/sec: 546.608\n",
            "INFO:tensorflow:loss = 0.40614796, step = 4500 (0.182 sec)\n",
            "INFO:tensorflow:global_step/sec: 589.847\n",
            "INFO:tensorflow:loss = 0.4049492, step = 4600 (0.172 sec)\n",
            "INFO:tensorflow:global_step/sec: 574.632\n",
            "INFO:tensorflow:loss = 0.37954542, step = 4700 (0.170 sec)\n",
            "INFO:tensorflow:global_step/sec: 589.574\n",
            "INFO:tensorflow:loss = 0.37923443, step = 4800 (0.173 sec)\n",
            "INFO:tensorflow:global_step/sec: 540.753\n",
            "INFO:tensorflow:loss = 0.3685608, step = 4900 (0.181 sec)\n",
            "INFO:tensorflow:Calling checkpoint listeners before saving checkpoint 5000...\n",
            "INFO:tensorflow:Saving checkpoints for 5000 into /tmp/tmp4lvo4t3f/model.ckpt.\n",
            "INFO:tensorflow:Calling checkpoint listeners after saving checkpoint 5000...\n",
            "INFO:tensorflow:Loss for final step: 0.36217126.\n"
          ],
          "name": "stdout"
        },
        {
          "output_type": "execute_result",
          "data": {
            "text/plain": [
              "<tensorflow_estimator.python.estimator.canned.dnn.DNNClassifierV2 at 0x7f9ef6763350>"
            ]
          },
          "metadata": {
            "tags": []
          },
          "execution_count": 42
        }
      ]
    },
    {
      "cell_type": "markdown",
      "metadata": {
        "id": "IC2A-0zOopz7"
      },
      "source": [
        "## Evaluation and Prediction"
      ]
    },
    {
      "cell_type": "code",
      "metadata": {
        "colab": {
          "base_uri": "https://localhost:8080/"
        },
        "id": "pKQXHTHcoapC",
        "outputId": "b4248efe-cc94-4700-bdeb-1ef5424b2e76"
      },
      "source": [
        "classifier.evaluate(input_fn=lambda: input_fn(x_test, y_test, shuffle=False))"
      ],
      "execution_count": null,
      "outputs": [
        {
          "output_type": "stream",
          "text": [
            "INFO:tensorflow:Calling model_fn.\n",
            "INFO:tensorflow:Done calling model_fn.\n",
            "INFO:tensorflow:Starting evaluation at 2021-03-01T17:43:36Z\n",
            "INFO:tensorflow:Graph was finalized.\n",
            "INFO:tensorflow:Restoring parameters from /tmp/tmp4lvo4t3f/model.ckpt-5000\n",
            "INFO:tensorflow:Running local_init_op.\n",
            "INFO:tensorflow:Done running local_init_op.\n",
            "INFO:tensorflow:Inference Time : 0.24869s\n",
            "INFO:tensorflow:Finished evaluation at 2021-03-01-17:43:36\n",
            "INFO:tensorflow:Saving dict for global step 5000: accuracy = 0.9, average_loss = 0.48955262, global_step = 5000, loss = 0.48955262\n",
            "INFO:tensorflow:Saving 'checkpoint_path' summary for global step 5000: /tmp/tmp4lvo4t3f/model.ckpt-5000\n"
          ],
          "name": "stdout"
        },
        {
          "output_type": "execute_result",
          "data": {
            "text/plain": [
              "{'accuracy': 0.9,\n",
              " 'average_loss': 0.48955262,\n",
              " 'global_step': 5000,\n",
              " 'loss': 0.48955262}"
            ]
          },
          "metadata": {
            "tags": []
          },
          "execution_count": 43
        }
      ]
    },
    {
      "cell_type": "code",
      "metadata": {
        "id": "i9HYiyQm2plI"
      },
      "source": [
        "def test_input_fn(features, batch_size=128):\n",
        "  return tf.data.Dataset.from_tensor_slices(dict(features)).batch(batch_size)"
      ],
      "execution_count": null,
      "outputs": []
    },
    {
      "cell_type": "code",
      "metadata": {
        "id": "hHwYlaIXwtEP"
      },
      "source": [
        "predictions = classifier.predict(input_fn=lambda: test_input_fn(x_test))"
      ],
      "execution_count": null,
      "outputs": []
    },
    {
      "cell_type": "code",
      "metadata": {
        "colab": {
          "base_uri": "https://localhost:8080/"
        },
        "id": "1jIXgaAFxRPL",
        "outputId": "878e28ca-2261-4c05-a502-51015c011f57"
      },
      "source": [
        "for prediction in predictions:\n",
        "  print(prediction['probabilities'])\n",
        "  # print(type(prediction))"
      ],
      "execution_count": null,
      "outputs": [
        {
          "output_type": "stream",
          "text": [
            "INFO:tensorflow:Calling model_fn.\n",
            "INFO:tensorflow:Done calling model_fn.\n",
            "INFO:tensorflow:Graph was finalized.\n",
            "INFO:tensorflow:Restoring parameters from /tmp/tmp4lvo4t3f/model.ckpt-5000\n",
            "INFO:tensorflow:Running local_init_op.\n",
            "INFO:tensorflow:Done running local_init_op.\n",
            "[0.57081807 0.21898304 0.2101989 ]\n",
            "[0.5931269  0.20752043 0.19935273]\n",
            "[0.00500547 0.11491055 0.88008404]\n",
            "[0.0019654  0.07739491 0.92063963]\n",
            "[0.00393311 0.13796665 0.8581003 ]\n",
            "[0.0394733  0.7040787  0.25644806]\n",
            "[0.00505297 0.28030193 0.714645  ]\n",
            "[0.02166763 0.557258   0.42107433]\n",
            "[0.02896002 0.67152745 0.2995125 ]\n",
            "[0.03004596 0.7559327  0.21402135]\n",
            "[0.59430796 0.20721523 0.19847682]\n",
            "[0.5893245  0.20470865 0.20596689]\n",
            "[0.59335506 0.20468965 0.20195521]\n",
            "[0.01654278 0.3293008  0.6541563 ]\n",
            "[0.00920888 0.5342777  0.45651352]\n",
            "[0.02081959 0.599248   0.37993237]\n",
            "[0.5985033  0.20206288 0.1994338 ]\n",
            "[0.58324516 0.20007098 0.21668386]\n",
            "[0.56715506 0.23274438 0.20010053]\n",
            "[0.58870804 0.19830781 0.21298419]\n",
            "[0.56733805 0.23781    0.19485193]\n",
            "[0.00760422 0.25736612 0.7350297 ]\n",
            "[0.00315704 0.08840623 0.9084367 ]\n",
            "[0.57739013 0.20854907 0.21406075]\n",
            "[0.01374114 0.74573576 0.24052307]\n",
            "[0.60065603 0.1930099  0.20633411]\n",
            "[0.00903071 0.29756263 0.6934067 ]\n",
            "[0.6039117  0.19181736 0.204271  ]\n",
            "[0.00892683 0.7454357  0.24563748]\n",
            "[0.02502001 0.45675316 0.51822686]\n"
          ],
          "name": "stdout"
        }
      ]
    },
    {
      "cell_type": "markdown",
      "metadata": {
        "id": "fUe18YcL707K"
      },
      "source": [
        "# Hidden Markov Model"
      ]
    },
    {
      "cell_type": "code",
      "metadata": {
        "id": "8TofQ6a-9w7s"
      },
      "source": [
        "import tensorflow_probability as tfp"
      ],
      "execution_count": null,
      "outputs": []
    },
    {
      "cell_type": "markdown",
      "metadata": {
        "id": "Wk6jDwXg9lIt"
      },
      "source": [
        "## Weather Model"
      ]
    },
    {
      "cell_type": "code",
      "metadata": {
        "id": "t1iYCgxK-Pyo"
      },
      "source": [
        "tfd = tfp.distributions"
      ],
      "execution_count": null,
      "outputs": []
    },
    {
      "cell_type": "code",
      "metadata": {
        "id": "nAIpd5iK-XaM"
      },
      "source": [
        "initial_distribution = tfd.Categorical(probs=[0.8, 0.2])\n",
        "transition_distribution = tfd.Categorical(probs=[[0.7, 0.3],\n",
        "                                                 [0.2, 0.8]])\n",
        "observation_distribution = tfd.Normal(loc=[0., 15.],\n",
        "                                      scale=[5., 10.])"
      ],
      "execution_count": null,
      "outputs": []
    },
    {
      "cell_type": "code",
      "metadata": {
        "id": "Irqln-LT-6pN"
      },
      "source": [
        "model = tfd.HiddenMarkovModel(\n",
        "    initial_distribution = initial_distribution,\n",
        "    transition_distribution = transition_distribution,\n",
        "    observation_distribution=observation_distribution,\n",
        "    num_steps=7\n",
        ")"
      ],
      "execution_count": null,
      "outputs": []
    },
    {
      "cell_type": "code",
      "metadata": {
        "id": "coL8yFS4AEMs"
      },
      "source": [
        "mean = model.mean()"
      ],
      "execution_count": null,
      "outputs": []
    },
    {
      "cell_type": "code",
      "metadata": {
        "colab": {
          "base_uri": "https://localhost:8080/"
        },
        "id": "cLUb5Rv9AToZ",
        "outputId": "230f7099-0f32-484f-bcd2-9d0a957feda3"
      },
      "source": [
        "with tf.compat.v1.Session() as session:\n",
        "  print(mean.numpy())"
      ],
      "execution_count": null,
      "outputs": [
        {
          "output_type": "stream",
          "text": [
            "[2.9999998 5.9999995 7.4999995 8.25      8.625001  8.812501  8.90625  ]\n"
          ],
          "name": "stdout"
        }
      ]
    },
    {
      "cell_type": "code",
      "metadata": {
        "id": "e1McSA-iAepF"
      },
      "source": [
        ""
      ],
      "execution_count": null,
      "outputs": []
    }
  ]
}