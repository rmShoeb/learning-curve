{
  "nbformat": 4,
  "nbformat_minor": 0,
  "metadata": {
    "colab": {
      "name": "neural-networks.ipynb",
      "provenance": []
    },
    "kernelspec": {
      "name": "python3",
      "display_name": "Python 3"
    }
  },
  "cells": [
    {
      "cell_type": "markdown",
      "metadata": {
        "id": "unlYF6XLTGAv"
      },
      "source": [
        "# Imports"
      ]
    },
    {
      "cell_type": "code",
      "metadata": {
        "id": "6HmIuOHBVtxd"
      },
      "source": [
        "import numpy as np\n",
        "import pandas as pd\n",
        "import tensorflow as tf\n",
        "import matplotlib.pyplot as plt\n",
        "\n",
        "from tensorflow import keras"
      ],
      "execution_count": 1,
      "outputs": []
    },
    {
      "cell_type": "markdown",
      "metadata": {
        "id": "DSPBVy79WPJd"
      },
      "source": [
        "# Dataset"
      ]
    },
    {
      "cell_type": "markdown",
      "source": [
        "**Load Data**"
      ],
      "metadata": {
        "id": "hE6MICLfEBai"
      }
    },
    {
      "cell_type": "code",
      "metadata": {
        "id": "CA0m3ZAiV8Zw"
      },
      "source": [
        "(x_train, y_train), (x_test, y_test) = keras.datasets.fashion_mnist.load_data()"
      ],
      "execution_count": 2,
      "outputs": []
    },
    {
      "cell_type": "markdown",
      "metadata": {
        "id": "kxZivmYeXSnx"
      },
      "source": [
        "**Sneak-peek**"
      ]
    },
    {
      "cell_type": "code",
      "metadata": {
        "colab": {
          "base_uri": "https://localhost:8080/"
        },
        "id": "8dQTfsXLW3hx",
        "outputId": "a7e6bbe5-8b81-4904-8872-485452b2faca"
      },
      "source": [
        "print(x_train.shape, y_train.shape)\n",
        "print(x_test.shape, y_test.shape)"
      ],
      "execution_count": 3,
      "outputs": [
        {
          "output_type": "stream",
          "name": "stdout",
          "text": [
            "(60000, 28, 28) (60000,)\n",
            "(10000, 28, 28) (10000,)\n"
          ]
        }
      ]
    },
    {
      "cell_type": "code",
      "metadata": {
        "colab": {
          "base_uri": "https://localhost:8080/"
        },
        "id": "zQSYkwUCW9pQ",
        "outputId": "674c86ab-b21d-4a36-83e7-34f5d53f22a7"
      },
      "source": [
        "type(x_train), type(y_train)"
      ],
      "execution_count": 4,
      "outputs": [
        {
          "output_type": "execute_result",
          "data": {
            "text/plain": [
              "(numpy.ndarray, numpy.ndarray)"
            ]
          },
          "metadata": {},
          "execution_count": 4
        }
      ]
    },
    {
      "cell_type": "markdown",
      "metadata": {
        "id": "dvyrVTRmY7MF"
      },
      "source": [
        "It is image data in a numpy array. So to see the image, we will have to use ```matplotlib```'s image visualization method (```pyplot.imshow```)."
      ]
    },
    {
      "cell_type": "code",
      "metadata": {
        "colab": {
          "base_uri": "https://localhost:8080/",
          "height": 281
        },
        "id": "WfZ3AIxRXF1F",
        "outputId": "60dce6f2-ab96-4eaa-eb85-976d4c4e3512"
      },
      "source": [
        "class_names = ['T-shirt', 'Trouser', 'Pullover', 'Dress', 'Coat', 'Sandal',\n",
        "               'Shirt', 'Sneaker', 'Bag', 'Ankle boot']\n",
        "\n",
        "plt.figure()\n",
        "plt.imshow(x_train[321])\n",
        "plt.title(class_names[y_train[321]])\n",
        "plt.show()"
      ],
      "execution_count": 5,
      "outputs": [
        {
          "output_type": "display_data",
          "data": {
            "text/plain": [
              "<Figure size 432x288 with 1 Axes>"
            ],
            "image/png": "[encoded data removed]"
          },
          "metadata": {
            "needs_background": "light"
          }
        }
      ]
    },
    {
      "cell_type": "markdown",
      "metadata": {
        "id": "W_ZDy2G7bedV"
      },
      "source": [
        "# Data Preprocessing"
      ]
    },
    {
      "cell_type": "markdown",
      "metadata": {
        "id": "gb5x7M7bb9Pq"
      },
      "source": [
        "Let's see an example of what the actual data look like."
      ]
    },
    {
      "cell_type": "code",
      "metadata": {
        "colab": {
          "base_uri": "https://localhost:8080/"
        },
        "id": "WFCAAaRNcFch",
        "outputId": "bdcc661a-eab9-49de-91f5-f0bc6ab5e45a"
      },
      "source": [
        "print(x_train[69])"
      ],
      "execution_count": 6,
      "outputs": [
        {
          "output_type": "stream",
          "name": "stdout",
          "text": [
            "[[  0   0   0   0   0   0   0   0   0   0 105 170 170 170 158 146 143  86\n",
            "    0   0   0   0   0   0   0   0   0   0]\n",
            " [  0   0   0   0   0   0   0   0   0  11 185 181 193 206 178 181 186 188\n",
            "    0   0   0   0   0   0   0   0   0   0]\n",
            " [  0   0   0   0   0   0   0   0   0  33 195 153 160 173 160 160 155 196\n",
            "   45   0   0   0   0   0   0   0   0   0]\n",
            " [  0   0   0   0   0   0   0   0   0  81 188 158 181 196 178 180 160 188\n",
            "   85   0   0   0   0   0   0   0   0   0]\n",
            " [  0   0   0   0   0   0   0   0   0 116 183 168 180 213 186 176 180 190\n",
            "  105   0   0   0   0   0   0   0   0   0]\n",
            " [  0   0   0   0   0   0   0   0   0 120 171 155 165 191 173 165 165 193\n",
            "  110   0   0   0   0   0   0   0   0   0]\n",
            " [  0   0   0   0   0   0   0   0   0 106 181 155 156 243 238 156 156 181\n",
            "  110   0   0   0   0   0   0   0   0   0]\n",
            " [  0   0   0   0   0   0   0   0   0  76 193 146 176 141 163 198 155 195\n",
            "   83   0   0   0   0   0   0   0   0   0]\n",
            " [  0   0   0   0   0   0   0   0   0  46 201 145 208  78 101 210 156 201\n",
            "   40   0   0   0   0   0   0   0   0   0]\n",
            " [  0   0   0   0   0   0   0   0   0  38 208 160 221  76 110 225 166 206\n",
            "   35   0   0   0   0   0   0   0   0   0]\n",
            " [  0   0   0   0   0   0   0   0   0  33 211 158 226  51  86 231 165 200\n",
            "   25   0   0   0   0   0   0   0   0   0]\n",
            " [  0   0   0   0   0   0   0   0   0  20 210 158 235  41  68 235 163 196\n",
            "   11   0   0   0   0   0   0   0   0   0]\n",
            " [  0   0   0   0   0   0   0   0   0   0 211 173 228  26  46 245 171 191\n",
            "    0   0   0   0   0   0   0   0   0   0]\n",
            " [  0   0   0   0   0   0   0   0   0   0 205 173 231   8  33 250 170 176\n",
            "    0   0   0   0   0   0   0   0   0   0]\n",
            " [  0   0   0   0   0   0   0   0   0   0 198 171 226   0   8 251 173 165\n",
            "    0   0   0   0   0   0   0   0   0   0]\n",
            " [  0   0   0   0   0   0   0   0   0   0 191 173 228   0   0 255 180 161\n",
            "    0   0   0   0   0   0   0   0   0   0]\n",
            " [  0   0   0   0   0   0   0   0   0   0 173 175 238   0   0 255 188 168\n",
            "    0   0   0   0   0   0   0   0   0   0]\n",
            " [  0   0   0   0   0   0   0   0   0   0 168 176 235   0   0 250 191 171\n",
            "    0   0   0   0   0   0   0   0   0   0]\n",
            " [  0   0   0   0   0   0   0   0   0   0 165 180 226   0   0 246 190 171\n",
            "    0   0   0   0   0   0   0   0   0   0]\n",
            " [  0   0   0   0   0   0   0   0   0   0 165 186 220   0   0 238 183 166\n",
            "    0   0   0   0   0   0   0   0   0   0]\n",
            " [  0   0   0   0   0   0   0   0   0   0 151 195 218   0   0 233 195 171\n",
            "    0   0   0   0   0   0   0   0   0   0]\n",
            " [  0   0   0   0   0   0   0   0   0   0 148 193 211   0   0 228 200 178\n",
            "    0   0   0   0   0   0   0   0   0   0]\n",
            " [  0   0   0   0   0   0   0   0   0   0 145 196 205   0   0 221 206 186\n",
            "    0   0   0   0   0   0   0   0   0   0]\n",
            " [  0   0   0   0   0   0   0   0   0   0 146 201 206   0   0 215 211 191\n",
            "    0   0   0   0   0   0   0   0   0   0]\n",
            " [  0   0   0   0   0   0   0   0   0   0 140 200 208   0   0 208 218 203\n",
            "    0   0   0   0   0   0   0   0   0   0]\n",
            " [  0   0   0   0   0   0   0   0   0   0 145 206 200   0   0 211 226 188\n",
            "    0   0   0   0   0   0   0   0   0   0]\n",
            " [  0   0   0   0   0   0   0   0   0   0 148 213 211   0   0 206 235 181\n",
            "    0   0   0   0   0   0   0   0   0   0]\n",
            " [  0   0   0   0   0   0   0   0   0   0 130 196 180   0   0 176 218 156\n",
            "    0   0   0   0   0   0   0   0   0   0]]\n"
          ]
        }
      ]
    },
    {
      "cell_type": "markdown",
      "metadata": {
        "id": "-wb3FYQFcMEp"
      },
      "source": [
        "It's a 28*28 numpy array"
      ]
    },
    {
      "cell_type": "code",
      "metadata": {
        "id": "iVIlYsn0ZZAF"
      },
      "source": [
        "x_train = x_train.astype('float32')/255\n",
        "x_test = x_test.astype('float32')/255"
      ],
      "execution_count": 7,
      "outputs": []
    },
    {
      "cell_type": "code",
      "metadata": {
        "colab": {
          "base_uri": "https://localhost:8080/"
        },
        "id": "r2vzWjJ2b63A",
        "outputId": "6aa036aa-67a9-4799-a7f3-96d9f78c993f"
      },
      "source": [
        "print(x_train[69])"
      ],
      "execution_count": 8,
      "outputs": [
        {
          "output_type": "stream",
          "name": "stdout",
          "text": [
            "[[0.         0.         0.         0.         0.         0.\n",
            "  0.         0.         0.         0.         0.4117647  0.6666667\n",
            "  0.6666667  0.6666667  0.61960787 0.57254905 0.56078434 0.3372549\n",
            "  0.         0.         0.         0.         0.         0.\n",
            "  0.         0.         0.         0.        ]\n",
            " [0.         0.         0.         0.         0.         0.\n",
            "  0.         0.         0.         0.04313726 0.7254902  0.70980394\n",
            "  0.75686276 0.80784315 0.69803923 0.70980394 0.7294118  0.7372549\n",
            "  0.         0.         0.         0.         0.         0.\n",
            "  0.         0.         0.         0.        ]\n",
            " [0.         0.         0.         0.         0.         0.\n",
            "  0.         0.         0.         0.12941177 0.7647059  0.6\n",
            "  0.627451   0.6784314  0.627451   0.627451   0.60784316 0.76862746\n",
            "  0.1764706  0.         0.         0.         0.         0.\n",
            "  0.         0.         0.         0.        ]\n",
            " [0.         0.         0.         0.         0.         0.\n",
            "  0.         0.         0.         0.31764707 0.7372549  0.61960787\n",
            "  0.70980394 0.76862746 0.69803923 0.7058824  0.627451   0.7372549\n",
            "  0.33333334 0.         0.         0.         0.         0.\n",
            "  0.         0.         0.         0.        ]\n",
            " [0.         0.         0.         0.         0.         0.\n",
            "  0.         0.         0.         0.45490196 0.7176471  0.65882355\n",
            "  0.7058824  0.8352941  0.7294118  0.6901961  0.7058824  0.74509805\n",
            "  0.4117647  0.         0.         0.         0.         0.\n",
            "  0.         0.         0.         0.        ]\n",
            " [0.         0.         0.         0.         0.         0.\n",
            "  0.         0.         0.         0.47058824 0.67058825 0.60784316\n",
            "  0.64705884 0.7490196  0.6784314  0.64705884 0.64705884 0.75686276\n",
            "  0.43137255 0.         0.         0.         0.         0.\n",
            "  0.         0.         0.         0.        ]\n",
            " [0.         0.         0.         0.         0.         0.\n",
            "  0.         0.         0.         0.41568628 0.70980394 0.60784316\n",
            "  0.6117647  0.9529412  0.93333334 0.6117647  0.6117647  0.70980394\n",
            "  0.43137255 0.         0.         0.         0.         0.\n",
            "  0.         0.         0.         0.        ]\n",
            " [0.         0.         0.         0.         0.         0.\n",
            "  0.         0.         0.         0.29803923 0.75686276 0.57254905\n",
            "  0.6901961  0.5529412  0.6392157  0.7764706  0.60784316 0.7647059\n",
            "  0.3254902  0.         0.         0.         0.         0.\n",
            "  0.         0.         0.         0.        ]\n",
            " [0.         0.         0.         0.         0.         0.\n",
            "  0.         0.         0.         0.18039216 0.7882353  0.5686275\n",
            "  0.8156863  0.30588236 0.39607844 0.8235294  0.6117647  0.7882353\n",
            "  0.15686275 0.         0.         0.         0.         0.\n",
            "  0.         0.         0.         0.        ]\n",
            " [0.         0.         0.         0.         0.         0.\n",
            "  0.         0.         0.         0.14901961 0.8156863  0.627451\n",
            "  0.8666667  0.29803923 0.43137255 0.88235295 0.6509804  0.80784315\n",
            "  0.13725491 0.         0.         0.         0.         0.\n",
            "  0.         0.         0.         0.        ]\n",
            " [0.         0.         0.         0.         0.         0.\n",
            "  0.         0.         0.         0.12941177 0.827451   0.61960787\n",
            "  0.8862745  0.2        0.3372549  0.90588236 0.64705884 0.78431374\n",
            "  0.09803922 0.         0.         0.         0.         0.\n",
            "  0.         0.         0.         0.        ]\n",
            " [0.         0.         0.         0.         0.         0.\n",
            "  0.         0.         0.         0.07843138 0.8235294  0.61960787\n",
            "  0.92156863 0.16078432 0.26666668 0.92156863 0.6392157  0.76862746\n",
            "  0.04313726 0.         0.         0.         0.         0.\n",
            "  0.         0.         0.         0.        ]\n",
            " [0.         0.         0.         0.         0.         0.\n",
            "  0.         0.         0.         0.         0.827451   0.6784314\n",
            "  0.89411765 0.10196079 0.18039216 0.9607843  0.67058825 0.7490196\n",
            "  0.         0.         0.         0.         0.         0.\n",
            "  0.         0.         0.         0.        ]\n",
            " [0.         0.         0.         0.         0.         0.\n",
            "  0.         0.         0.         0.         0.8039216  0.6784314\n",
            "  0.90588236 0.03137255 0.12941177 0.98039216 0.6666667  0.6901961\n",
            "  0.         0.         0.         0.         0.         0.\n",
            "  0.         0.         0.         0.        ]\n",
            " [0.         0.         0.         0.         0.         0.\n",
            "  0.         0.         0.         0.         0.7764706  0.67058825\n",
            "  0.8862745  0.         0.03137255 0.9843137  0.6784314  0.64705884\n",
            "  0.         0.         0.         0.         0.         0.\n",
            "  0.         0.         0.         0.        ]\n",
            " [0.         0.         0.         0.         0.         0.\n",
            "  0.         0.         0.         0.         0.7490196  0.6784314\n",
            "  0.89411765 0.         0.         1.         0.7058824  0.6313726\n",
            "  0.         0.         0.         0.         0.         0.\n",
            "  0.         0.         0.         0.        ]\n",
            " [0.         0.         0.         0.         0.         0.\n",
            "  0.         0.         0.         0.         0.6784314  0.6862745\n",
            "  0.93333334 0.         0.         1.         0.7372549  0.65882355\n",
            "  0.         0.         0.         0.         0.         0.\n",
            "  0.         0.         0.         0.        ]\n",
            " [0.         0.         0.         0.         0.         0.\n",
            "  0.         0.         0.         0.         0.65882355 0.6901961\n",
            "  0.92156863 0.         0.         0.98039216 0.7490196  0.67058825\n",
            "  0.         0.         0.         0.         0.         0.\n",
            "  0.         0.         0.         0.        ]\n",
            " [0.         0.         0.         0.         0.         0.\n",
            "  0.         0.         0.         0.         0.64705884 0.7058824\n",
            "  0.8862745  0.         0.         0.9647059  0.74509805 0.67058825\n",
            "  0.         0.         0.         0.         0.         0.\n",
            "  0.         0.         0.         0.        ]\n",
            " [0.         0.         0.         0.         0.         0.\n",
            "  0.         0.         0.         0.         0.64705884 0.7294118\n",
            "  0.8627451  0.         0.         0.93333334 0.7176471  0.6509804\n",
            "  0.         0.         0.         0.         0.         0.\n",
            "  0.         0.         0.         0.        ]\n",
            " [0.         0.         0.         0.         0.         0.\n",
            "  0.         0.         0.         0.         0.5921569  0.7647059\n",
            "  0.85490197 0.         0.         0.9137255  0.7647059  0.67058825\n",
            "  0.         0.         0.         0.         0.         0.\n",
            "  0.         0.         0.         0.        ]\n",
            " [0.         0.         0.         0.         0.         0.\n",
            "  0.         0.         0.         0.         0.5803922  0.75686276\n",
            "  0.827451   0.         0.         0.89411765 0.78431374 0.69803923\n",
            "  0.         0.         0.         0.         0.         0.\n",
            "  0.         0.         0.         0.        ]\n",
            " [0.         0.         0.         0.         0.         0.\n",
            "  0.         0.         0.         0.         0.5686275  0.76862746\n",
            "  0.8039216  0.         0.         0.8666667  0.80784315 0.7294118\n",
            "  0.         0.         0.         0.         0.         0.\n",
            "  0.         0.         0.         0.        ]\n",
            " [0.         0.         0.         0.         0.         0.\n",
            "  0.         0.         0.         0.         0.57254905 0.7882353\n",
            "  0.80784315 0.         0.         0.84313726 0.827451   0.7490196\n",
            "  0.         0.         0.         0.         0.         0.\n",
            "  0.         0.         0.         0.        ]\n",
            " [0.         0.         0.         0.         0.         0.\n",
            "  0.         0.         0.         0.         0.54901963 0.78431374\n",
            "  0.8156863  0.         0.         0.8156863  0.85490197 0.79607844\n",
            "  0.         0.         0.         0.         0.         0.\n",
            "  0.         0.         0.         0.        ]\n",
            " [0.         0.         0.         0.         0.         0.\n",
            "  0.         0.         0.         0.         0.5686275  0.80784315\n",
            "  0.78431374 0.         0.         0.827451   0.8862745  0.7372549\n",
            "  0.         0.         0.         0.         0.         0.\n",
            "  0.         0.         0.         0.        ]\n",
            " [0.         0.         0.         0.         0.         0.\n",
            "  0.         0.         0.         0.         0.5803922  0.8352941\n",
            "  0.827451   0.         0.         0.80784315 0.92156863 0.70980394\n",
            "  0.         0.         0.         0.         0.         0.\n",
            "  0.         0.         0.         0.        ]\n",
            " [0.         0.         0.         0.         0.         0.\n",
            "  0.         0.         0.         0.         0.50980395 0.76862746\n",
            "  0.7058824  0.         0.         0.6901961  0.85490197 0.6117647\n",
            "  0.         0.         0.         0.         0.         0.\n",
            "  0.         0.         0.         0.        ]]\n"
          ]
        }
      ]
    },
    {
      "cell_type": "markdown",
      "metadata": {
        "id": "bklvT9u4d71D"
      },
      "source": [
        "# Model"
      ]
    },
    {
      "cell_type": "code",
      "metadata": {
        "id": "WnRumm7Sd5UW",
        "outputId": "56ff5420-c53b-4f64-ca3c-644e4e02fbcb",
        "colab": {
          "base_uri": "https://localhost:8080/"
        }
      },
      "source": [
        "model = keras.Sequential()                              # model is now a list\n",
        "model.add(keras.layers.Flatten(input_shape=(28, 28)))   # input layer\n",
        "model.add(keras.layers.Dense(64, activation='relu'))    # hidden unit, 64 means there will be 64 units in this layer\n",
        "model.add(keras.layers.Dense(128, activation='tanh'))\n",
        "model.add(keras.layers.Dense(10, activation='softmax')) # output layer, 10 means there are 10 output classes, so there should be 10 units in the output layer\n",
        "\n",
        "# we could also do do this in this way\n",
        "# model = keras.Sequential([keras.layer.Flatten(input_shape=(28, 28)),\n",
        "#                           keras.layers.Dense(64, activation='relu'),\n",
        "#                           keras.layers.Dense(10, activation='softmax')\n",
        "# ])\n",
        "\n",
        "model.summary()"
      ],
      "execution_count": 9,
      "outputs": [
        {
          "output_type": "stream",
          "name": "stdout",
          "text": [
            "Model: \"sequential\"\n",
            "_________________________________________________________________\n",
            " Layer (type)                Output Shape              Param #   \n",
            "=================================================================\n",
            " flatten (Flatten)           (None, 784)               0         \n",
            "                                                                 \n",
            " dense (Dense)               (None, 64)                50240     \n",
            "                                                                 \n",
            " dense_1 (Dense)             (None, 128)               8320      \n",
            "                                                                 \n",
            " dense_2 (Dense)             (None, 10)                1290      \n",
            "                                                                 \n",
            "=================================================================\n",
            "Total params: 59,850\n",
            "Trainable params: 59,850\n",
            "Non-trainable params: 0\n",
            "_________________________________________________________________\n"
          ]
        }
      ]
    },
    {
      "cell_type": "code",
      "metadata": {
        "id": "qnWN3oMugIAf"
      },
      "source": [
        "model.compile(optimizer='adam',\n",
        "              loss='sparse_categorical_crossentropy',\n",
        "              metrics=['accuracy'])"
      ],
      "execution_count": 10,
      "outputs": []
    },
    {
      "cell_type": "code",
      "metadata": {
        "colab": {
          "base_uri": "https://localhost:8080/"
        },
        "id": "Tj5Wm1-Rgut3",
        "outputId": "df65e394-272a-4572-80d5-0cda45f5fe2a"
      },
      "source": [
        "model.fit(x_train, y_train, epochs=10, batch_size=64)"
      ],
      "execution_count": 11,
      "outputs": [
        {
          "output_type": "stream",
          "name": "stdout",
          "text": [
            "Epoch 1/10\n",
            "938/938 [==============================] - 4s 4ms/step - loss: 0.5035 - accuracy: 0.8181\n",
            "Epoch 2/10\n",
            "938/938 [==============================] - 4s 4ms/step - loss: 0.3721 - accuracy: 0.8649\n",
            "Epoch 3/10\n",
            "938/938 [==============================] - 4s 4ms/step - loss: 0.3347 - accuracy: 0.8764\n",
            "Epoch 4/10\n",
            "938/938 [==============================] - 3s 3ms/step - loss: 0.3128 - accuracy: 0.8848\n",
            "Epoch 5/10\n",
            "938/938 [==============================] - 2s 2ms/step - loss: 0.2969 - accuracy: 0.8895\n",
            "Epoch 6/10\n",
            "938/938 [==============================] - 2s 2ms/step - loss: 0.2849 - accuracy: 0.8942\n",
            "Epoch 7/10\n",
            "938/938 [==============================] - 2s 2ms/step - loss: 0.2723 - accuracy: 0.8977\n",
            "Epoch 8/10\n",
            "938/938 [==============================] - 2s 2ms/step - loss: 0.2616 - accuracy: 0.9026\n",
            "Epoch 9/10\n",
            "938/938 [==============================] - 2s 2ms/step - loss: 0.2531 - accuracy: 0.9048\n",
            "Epoch 10/10\n",
            "938/938 [==============================] - 2s 2ms/step - loss: 0.2468 - accuracy: 0.9064\n"
          ]
        },
        {
          "output_type": "execute_result",
          "data": {
            "text/plain": [
              "<keras.callbacks.History at 0x7f096f96ed10>"
            ]
          },
          "metadata": {},
          "execution_count": 11
        }
      ]
    },
    {
      "cell_type": "markdown",
      "metadata": {
        "id": "oaa5C1kAkoj0"
      },
      "source": [
        "# Evaluation and Prediction"
      ]
    },
    {
      "cell_type": "code",
      "metadata": {
        "colab": {
          "base_uri": "https://localhost:8080/"
        },
        "id": "qy1tgeQMhC4Y",
        "outputId": "65fd7130-d8ab-4dfc-d375-514187f6f339"
      },
      "source": [
        "print(model.evaluate(x_test, y_test))"
      ],
      "execution_count": 12,
      "outputs": [
        {
          "output_type": "stream",
          "name": "stdout",
          "text": [
            "313/313 [==============================] - 1s 1ms/step - loss: 0.3180 - accuracy: 0.8852\n",
            "[0.31795772910118103, 0.885200023651123]\n"
          ]
        }
      ]
    },
    {
      "cell_type": "code",
      "metadata": {
        "id": "SurOonuYh8jK"
      },
      "source": [
        "predictions = model.predict(x_test)"
      ],
      "execution_count": 13,
      "outputs": []
    },
    {
      "cell_type": "code",
      "metadata": {
        "colab": {
          "base_uri": "https://localhost:8080/"
        },
        "id": "9mtto4RpjiyW",
        "outputId": "99dbb419-2085-4346-961a-be83b18a8924"
      },
      "source": [
        "print(predictions[69])\n",
        "print(class_names[np.argmax(predictions[69])])"
      ],
      "execution_count": 14,
      "outputs": [
        {
          "output_type": "stream",
          "name": "stdout",
          "text": [
            "[7.5574508e-07 3.9864659e-10 1.7724075e-07 7.5083676e-08 3.4564653e-07\n",
            " 8.2163098e-08 1.0306367e-07 1.7012328e-08 9.9999845e-01 3.9237129e-09]\n",
            "Bag\n"
          ]
        }
      ]
    },
    {
      "cell_type": "code",
      "metadata": {
        "colab": {
          "base_uri": "https://localhost:8080/",
          "height": 265
        },
        "id": "YOFXbxq9jknG",
        "outputId": "c4eb3224-6141-4e30-cef2-c15f104d5c9f"
      },
      "source": [
        "plt.imshow(x_test[69])\n",
        "plt.show()"
      ],
      "execution_count": 15,
      "outputs": [
        {
          "output_type": "display_data",
          "data": {
            "text/plain": [
              "<Figure size 432x288 with 1 Axes>"
            ],
            "image/png": "[encoded data removed]"
          },
          "metadata": {
            "needs_background": "light"
          }
        }
      ]
    },
    {
      "cell_type": "code",
      "metadata": {
        "id": "n-EA5yUFj127"
      },
      "source": [
        ""
      ],
      "execution_count": 15,
      "outputs": []
    }
  ]
}