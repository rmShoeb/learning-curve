{
  "nbformat": 4,
  "nbformat_minor": 0,
  "metadata": {
    "colab": {
      "name": "neural-networks.ipynb",
      "provenance": []
    },
    "kernelspec": {
      "name": "python3",
      "display_name": "Python 3"
    }
  },
  "cells": [
    {
      "cell_type": "markdown",
      "metadata": {
        "id": "unlYF6XLTGAv"
      },
      "source": [
        "# Imports"
      ]
    },
    {
      "cell_type": "code",
      "metadata": {
        "id": "lPi6bx9AQB4Y"
      },
      "source": [
        "from tensorflow import keras"
      ],
      "execution_count": null,
      "outputs": []
    },
    {
      "cell_type": "code",
      "metadata": {
        "id": "6HmIuOHBVtxd"
      },
      "source": [
        "import numpy as np\n",
        "import pandas as pd\n",
        "import tensorflow as tf\n",
        "import matplotlib.pyplot as plt"
      ],
      "execution_count": null,
      "outputs": []
    },
    {
      "cell_type": "markdown",
      "metadata": {
        "id": "DSPBVy79WPJd"
      },
      "source": [
        "# Dataset"
      ]
    },
    {
      "cell_type": "markdown",
      "metadata": {
        "id": "rtN_R4vCXP-0"
      },
      "source": [
        "## load data"
      ]
    },
    {
      "cell_type": "code",
      "metadata": {
        "id": "CA0m3ZAiV8Zw"
      },
      "source": [
        "(x_train, y_train), (x_test, y_test) = keras.datasets.fashion_mnist.load_data()"
      ],
      "execution_count": null,
      "outputs": []
    },
    {
      "cell_type": "markdown",
      "metadata": {
        "id": "kxZivmYeXSnx"
      },
      "source": [
        "## take a look of the data"
      ]
    },
    {
      "cell_type": "markdown",
      "metadata": {
        "id": "TAdTFt8gYGad"
      },
      "source": [
        "**data shape**"
      ]
    },
    {
      "cell_type": "code",
      "metadata": {
        "colab": {
          "base_uri": "https://localhost:8080/"
        },
        "id": "8dQTfsXLW3hx",
        "outputId": "4aeb1b5d-2898-439c-848c-05f3f75e863c"
      },
      "source": [
        "print(x_train.shape, y_train.shape)\n",
        "print(x_test.shape, y_test.shape)"
      ],
      "execution_count": null,
      "outputs": [
        {
          "output_type": "stream",
          "text": [
            "(60000, 28, 28) (60000,)\n",
            "(10000, 28, 28) (10000,)\n"
          ],
          "name": "stdout"
        }
      ]
    },
    {
      "cell_type": "markdown",
      "metadata": {
        "id": "N0F-sj8jYIse"
      },
      "source": [
        "**data type**"
      ]
    },
    {
      "cell_type": "code",
      "metadata": {
        "colab": {
          "base_uri": "https://localhost:8080/"
        },
        "id": "zQSYkwUCW9pQ",
        "outputId": "c27e8a36-f7f8-490c-8cc8-a692529be9b1"
      },
      "source": [
        "print(type(x_train))\n",
        "print(type(y_train))"
      ],
      "execution_count": null,
      "outputs": [
        {
          "output_type": "stream",
          "text": [
            "<class 'numpy.ndarray'>\n",
            "<class 'numpy.ndarray'>\n"
          ],
          "name": "stdout"
        }
      ]
    },
    {
      "cell_type": "markdown",
      "metadata": {
        "id": "R63LcyXqY2_k"
      },
      "source": [
        "**let's see one data**"
      ]
    },
    {
      "cell_type": "markdown",
      "metadata": {
        "id": "dvyrVTRmY7MF"
      },
      "source": [
        "It is image data in a numpy array. So to see the image, we will have to use ```matplotlib```'s image visualization method (```pyplot.imshow```)."
      ]
    },
    {
      "cell_type": "code",
      "metadata": {
        "colab": {
          "base_uri": "https://localhost:8080/"
        },
        "id": "WfZ3AIxRXF1F",
        "outputId": "ba1ea2d0-f573-4911-cfbe-55c579032b17"
      },
      "source": [
        "plt.imshow(x_train[5])"
      ],
      "execution_count": null,
      "outputs": [
        {
          "output_type": "execute_result",
          "data": {
            "text/plain": [
              "<matplotlib.image.AxesImage at 0x7f483b2f7910>"
            ]
          },
          "metadata": {
            "tags": []
          },
          "execution_count": 6
        },
        {
          "output_type": "display_data",
          "data": {
            "image/png": "[encoded data removed]",
            "text/plain": [
              "<Figure size 432x288 with 1 Axes>"
            ]
          },
          "metadata": {
            "tags": [],
            "needs_background": "light"
          }
        }
      ]
    },
    {
      "cell_type": "code",
      "metadata": {
        "colab": {
          "base_uri": "https://localhost:8080/"
        },
        "id": "eMZjmAcGYW5-",
        "outputId": "984ecf20-668e-448a-eb0d-68c4242a6dad"
      },
      "source": [
        "class_names = np.unique(y_train)\n",
        "print(class_names)"
      ],
      "execution_count": null,
      "outputs": [
        {
          "output_type": "stream",
          "text": [
            "[0 1 2 3 4 5 6 7 8 9]\n"
          ],
          "name": "stdout"
        }
      ]
    },
    {
      "cell_type": "markdown",
      "metadata": {
        "id": "W_ZDy2G7bedV"
      },
      "source": [
        "# Data Preprocessing"
      ]
    },
    {
      "cell_type": "markdown",
      "metadata": {
        "id": "gb5x7M7bb9Pq"
      },
      "source": [
        "Let's see an example of what the actual data look like."
      ]
    },
    {
      "cell_type": "code",
      "metadata": {
        "colab": {
          "base_uri": "https://localhost:8080/"
        },
        "id": "WFCAAaRNcFch",
        "outputId": "7211d3f6-1131-45b5-9b14-2fc05c7527aa"
      },
      "source": [
        "x_train[69]"
      ],
      "execution_count": null,
      "outputs": [
        {
          "output_type": "execute_result",
          "data": {
            "text/plain": [
              "array([[  0,   0,   0,   0,   0,   0,   0,   0,   0,   0, 105, 170, 170,\n",
              "        170, 158, 146, 143,  86,   0,   0,   0,   0,   0,   0,   0,   0,\n",
              "          0,   0],\n",
              "       [  0,   0,   0,   0,   0,   0,   0,   0,   0,  11, 185, 181, 193,\n",
              "        206, 178, 181, 186, 188,   0,   0,   0,   0,   0,   0,   0,   0,\n",
              "          0,   0],\n",
              "       [  0,   0,   0,   0,   0,   0,   0,   0,   0,  33, 195, 153, 160,\n",
              "        173, 160, 160, 155, 196,  45,   0,   0,   0,   0,   0,   0,   0,\n",
              "          0,   0],\n",
              "       [  0,   0,   0,   0,   0,   0,   0,   0,   0,  81, 188, 158, 181,\n",
              "        196, 178, 180, 160, 188,  85,   0,   0,   0,   0,   0,   0,   0,\n",
              "          0,   0],\n",
              "       [  0,   0,   0,   0,   0,   0,   0,   0,   0, 116, 183, 168, 180,\n",
              "        213, 186, 176, 180, 190, 105,   0,   0,   0,   0,   0,   0,   0,\n",
              "          0,   0],\n",
              "       [  0,   0,   0,   0,   0,   0,   0,   0,   0, 120, 171, 155, 165,\n",
              "        191, 173, 165, 165, 193, 110,   0,   0,   0,   0,   0,   0,   0,\n",
              "          0,   0],\n",
              "       [  0,   0,   0,   0,   0,   0,   0,   0,   0, 106, 181, 155, 156,\n",
              "        243, 238, 156, 156, 181, 110,   0,   0,   0,   0,   0,   0,   0,\n",
              "          0,   0],\n",
              "       [  0,   0,   0,   0,   0,   0,   0,   0,   0,  76, 193, 146, 176,\n",
              "        141, 163, 198, 155, 195,  83,   0,   0,   0,   0,   0,   0,   0,\n",
              "          0,   0],\n",
              "       [  0,   0,   0,   0,   0,   0,   0,   0,   0,  46, 201, 145, 208,\n",
              "         78, 101, 210, 156, 201,  40,   0,   0,   0,   0,   0,   0,   0,\n",
              "          0,   0],\n",
              "       [  0,   0,   0,   0,   0,   0,   0,   0,   0,  38, 208, 160, 221,\n",
              "         76, 110, 225, 166, 206,  35,   0,   0,   0,   0,   0,   0,   0,\n",
              "          0,   0],\n",
              "       [  0,   0,   0,   0,   0,   0,   0,   0,   0,  33, 211, 158, 226,\n",
              "         51,  86, 231, 165, 200,  25,   0,   0,   0,   0,   0,   0,   0,\n",
              "          0,   0],\n",
              "       [  0,   0,   0,   0,   0,   0,   0,   0,   0,  20, 210, 158, 235,\n",
              "         41,  68, 235, 163, 196,  11,   0,   0,   0,   0,   0,   0,   0,\n",
              "          0,   0],\n",
              "       [  0,   0,   0,   0,   0,   0,   0,   0,   0,   0, 211, 173, 228,\n",
              "         26,  46, 245, 171, 191,   0,   0,   0,   0,   0,   0,   0,   0,\n",
              "          0,   0],\n",
              "       [  0,   0,   0,   0,   0,   0,   0,   0,   0,   0, 205, 173, 231,\n",
              "          8,  33, 250, 170, 176,   0,   0,   0,   0,   0,   0,   0,   0,\n",
              "          0,   0],\n",
              "       [  0,   0,   0,   0,   0,   0,   0,   0,   0,   0, 198, 171, 226,\n",
              "          0,   8, 251, 173, 165,   0,   0,   0,   0,   0,   0,   0,   0,\n",
              "          0,   0],\n",
              "       [  0,   0,   0,   0,   0,   0,   0,   0,   0,   0, 191, 173, 228,\n",
              "          0,   0, 255, 180, 161,   0,   0,   0,   0,   0,   0,   0,   0,\n",
              "          0,   0],\n",
              "       [  0,   0,   0,   0,   0,   0,   0,   0,   0,   0, 173, 175, 238,\n",
              "          0,   0, 255, 188, 168,   0,   0,   0,   0,   0,   0,   0,   0,\n",
              "          0,   0],\n",
              "       [  0,   0,   0,   0,   0,   0,   0,   0,   0,   0, 168, 176, 235,\n",
              "          0,   0, 250, 191, 171,   0,   0,   0,   0,   0,   0,   0,   0,\n",
              "          0,   0],\n",
              "       [  0,   0,   0,   0,   0,   0,   0,   0,   0,   0, 165, 180, 226,\n",
              "          0,   0, 246, 190, 171,   0,   0,   0,   0,   0,   0,   0,   0,\n",
              "          0,   0],\n",
              "       [  0,   0,   0,   0,   0,   0,   0,   0,   0,   0, 165, 186, 220,\n",
              "          0,   0, 238, 183, 166,   0,   0,   0,   0,   0,   0,   0,   0,\n",
              "          0,   0],\n",
              "       [  0,   0,   0,   0,   0,   0,   0,   0,   0,   0, 151, 195, 218,\n",
              "          0,   0, 233, 195, 171,   0,   0,   0,   0,   0,   0,   0,   0,\n",
              "          0,   0],\n",
              "       [  0,   0,   0,   0,   0,   0,   0,   0,   0,   0, 148, 193, 211,\n",
              "          0,   0, 228, 200, 178,   0,   0,   0,   0,   0,   0,   0,   0,\n",
              "          0,   0],\n",
              "       [  0,   0,   0,   0,   0,   0,   0,   0,   0,   0, 145, 196, 205,\n",
              "          0,   0, 221, 206, 186,   0,   0,   0,   0,   0,   0,   0,   0,\n",
              "          0,   0],\n",
              "       [  0,   0,   0,   0,   0,   0,   0,   0,   0,   0, 146, 201, 206,\n",
              "          0,   0, 215, 211, 191,   0,   0,   0,   0,   0,   0,   0,   0,\n",
              "          0,   0],\n",
              "       [  0,   0,   0,   0,   0,   0,   0,   0,   0,   0, 140, 200, 208,\n",
              "          0,   0, 208, 218, 203,   0,   0,   0,   0,   0,   0,   0,   0,\n",
              "          0,   0],\n",
              "       [  0,   0,   0,   0,   0,   0,   0,   0,   0,   0, 145, 206, 200,\n",
              "          0,   0, 211, 226, 188,   0,   0,   0,   0,   0,   0,   0,   0,\n",
              "          0,   0],\n",
              "       [  0,   0,   0,   0,   0,   0,   0,   0,   0,   0, 148, 213, 211,\n",
              "          0,   0, 206, 235, 181,   0,   0,   0,   0,   0,   0,   0,   0,\n",
              "          0,   0],\n",
              "       [  0,   0,   0,   0,   0,   0,   0,   0,   0,   0, 130, 196, 180,\n",
              "          0,   0, 176, 218, 156,   0,   0,   0,   0,   0,   0,   0,   0,\n",
              "          0,   0]], dtype=uint8)"
            ]
          },
          "metadata": {
            "tags": []
          },
          "execution_count": 8
        }
      ]
    },
    {
      "cell_type": "markdown",
      "metadata": {
        "id": "-wb3FYQFcMEp"
      },
      "source": [
        "It's a 28*28 numpy array"
      ]
    },
    {
      "cell_type": "code",
      "metadata": {
        "id": "iVIlYsn0ZZAF"
      },
      "source": [
        "x_train = x_train.astype('float32')/255\n",
        "x_test = x_test.astype('float32')/255"
      ],
      "execution_count": null,
      "outputs": []
    },
    {
      "cell_type": "code",
      "metadata": {
        "colab": {
          "base_uri": "https://localhost:8080/"
        },
        "id": "r2vzWjJ2b63A",
        "outputId": "edf05cb5-328f-4cc0-937e-bf4ee216972b"
      },
      "source": [
        "print(x_train[69])"
      ],
      "execution_count": null,
      "outputs": [
        {
          "output_type": "stream",
          "text": [
            "[[0.         0.         0.         0.         0.         0.\n",
            "  0.         0.         0.         0.         0.4117647  0.6666667\n",
            "  0.6666667  0.6666667  0.61960787 0.57254905 0.56078434 0.3372549\n",
            "  0.         0.         0.         0.         0.         0.\n",
            "  0.         0.         0.         0.        ]\n",
            " [0.         0.         0.         0.         0.         0.\n",
            "  0.         0.         0.         0.04313726 0.7254902  0.70980394\n",
            "  0.75686276 0.80784315 0.69803923 0.70980394 0.7294118  0.7372549\n",
            "  0.         0.         0.         0.         0.         0.\n",
            "  0.         0.         0.         0.        ]\n",
            " [0.         0.         0.         0.         0.         0.\n",
            "  0.         0.         0.         0.12941177 0.7647059  0.6\n",
            "  0.627451   0.6784314  0.627451   0.627451   0.60784316 0.76862746\n",
            "  0.1764706  0.         0.         0.         0.         0.\n",
            "  0.         0.         0.         0.        ]\n",
            " [0.         0.         0.         0.         0.         0.\n",
            "  0.         0.         0.         0.31764707 0.7372549  0.61960787\n",
            "  0.70980394 0.76862746 0.69803923 0.7058824  0.627451   0.7372549\n",
            "  0.33333334 0.         0.         0.         0.         0.\n",
            "  0.         0.         0.         0.        ]\n",
            " [0.         0.         0.         0.         0.         0.\n",
            "  0.         0.         0.         0.45490196 0.7176471  0.65882355\n",
            "  0.7058824  0.8352941  0.7294118  0.6901961  0.7058824  0.74509805\n",
            "  0.4117647  0.         0.         0.         0.         0.\n",
            "  0.         0.         0.         0.        ]\n",
            " [0.         0.         0.         0.         0.         0.\n",
            "  0.         0.         0.         0.47058824 0.67058825 0.60784316\n",
            "  0.64705884 0.7490196  0.6784314  0.64705884 0.64705884 0.75686276\n",
            "  0.43137255 0.         0.         0.         0.         0.\n",
            "  0.         0.         0.         0.        ]\n",
            " [0.         0.         0.         0.         0.         0.\n",
            "  0.         0.         0.         0.41568628 0.70980394 0.60784316\n",
            "  0.6117647  0.9529412  0.93333334 0.6117647  0.6117647  0.70980394\n",
            "  0.43137255 0.         0.         0.         0.         0.\n",
            "  0.         0.         0.         0.        ]\n",
            " [0.         0.         0.         0.         0.         0.\n",
            "  0.         0.         0.         0.29803923 0.75686276 0.57254905\n",
            "  0.6901961  0.5529412  0.6392157  0.7764706  0.60784316 0.7647059\n",
            "  0.3254902  0.         0.         0.         0.         0.\n",
            "  0.         0.         0.         0.        ]\n",
            " [0.         0.         0.         0.         0.         0.\n",
            "  0.         0.         0.         0.18039216 0.7882353  0.5686275\n",
            "  0.8156863  0.30588236 0.39607844 0.8235294  0.6117647  0.7882353\n",
            "  0.15686275 0.         0.         0.         0.         0.\n",
            "  0.         0.         0.         0.        ]\n",
            " [0.         0.         0.         0.         0.         0.\n",
            "  0.         0.         0.         0.14901961 0.8156863  0.627451\n",
            "  0.8666667  0.29803923 0.43137255 0.88235295 0.6509804  0.80784315\n",
            "  0.13725491 0.         0.         0.         0.         0.\n",
            "  0.         0.         0.         0.        ]\n",
            " [0.         0.         0.         0.         0.         0.\n",
            "  0.         0.         0.         0.12941177 0.827451   0.61960787\n",
            "  0.8862745  0.2        0.3372549  0.90588236 0.64705884 0.78431374\n",
            "  0.09803922 0.         0.         0.         0.         0.\n",
            "  0.         0.         0.         0.        ]\n",
            " [0.         0.         0.         0.         0.         0.\n",
            "  0.         0.         0.         0.07843138 0.8235294  0.61960787\n",
            "  0.92156863 0.16078432 0.26666668 0.92156863 0.6392157  0.76862746\n",
            "  0.04313726 0.         0.         0.         0.         0.\n",
            "  0.         0.         0.         0.        ]\n",
            " [0.         0.         0.         0.         0.         0.\n",
            "  0.         0.         0.         0.         0.827451   0.6784314\n",
            "  0.89411765 0.10196079 0.18039216 0.9607843  0.67058825 0.7490196\n",
            "  0.         0.         0.         0.         0.         0.\n",
            "  0.         0.         0.         0.        ]\n",
            " [0.         0.         0.         0.         0.         0.\n",
            "  0.         0.         0.         0.         0.8039216  0.6784314\n",
            "  0.90588236 0.03137255 0.12941177 0.98039216 0.6666667  0.6901961\n",
            "  0.         0.         0.         0.         0.         0.\n",
            "  0.         0.         0.         0.        ]\n",
            " [0.         0.         0.         0.         0.         0.\n",
            "  0.         0.         0.         0.         0.7764706  0.67058825\n",
            "  0.8862745  0.         0.03137255 0.9843137  0.6784314  0.64705884\n",
            "  0.         0.         0.         0.         0.         0.\n",
            "  0.         0.         0.         0.        ]\n",
            " [0.         0.         0.         0.         0.         0.\n",
            "  0.         0.         0.         0.         0.7490196  0.6784314\n",
            "  0.89411765 0.         0.         1.         0.7058824  0.6313726\n",
            "  0.         0.         0.         0.         0.         0.\n",
            "  0.         0.         0.         0.        ]\n",
            " [0.         0.         0.         0.         0.         0.\n",
            "  0.         0.         0.         0.         0.6784314  0.6862745\n",
            "  0.93333334 0.         0.         1.         0.7372549  0.65882355\n",
            "  0.         0.         0.         0.         0.         0.\n",
            "  0.         0.         0.         0.        ]\n",
            " [0.         0.         0.         0.         0.         0.\n",
            "  0.         0.         0.         0.         0.65882355 0.6901961\n",
            "  0.92156863 0.         0.         0.98039216 0.7490196  0.67058825\n",
            "  0.         0.         0.         0.         0.         0.\n",
            "  0.         0.         0.         0.        ]\n",
            " [0.         0.         0.         0.         0.         0.\n",
            "  0.         0.         0.         0.         0.64705884 0.7058824\n",
            "  0.8862745  0.         0.         0.9647059  0.74509805 0.67058825\n",
            "  0.         0.         0.         0.         0.         0.\n",
            "  0.         0.         0.         0.        ]\n",
            " [0.         0.         0.         0.         0.         0.\n",
            "  0.         0.         0.         0.         0.64705884 0.7294118\n",
            "  0.8627451  0.         0.         0.93333334 0.7176471  0.6509804\n",
            "  0.         0.         0.         0.         0.         0.\n",
            "  0.         0.         0.         0.        ]\n",
            " [0.         0.         0.         0.         0.         0.\n",
            "  0.         0.         0.         0.         0.5921569  0.7647059\n",
            "  0.85490197 0.         0.         0.9137255  0.7647059  0.67058825\n",
            "  0.         0.         0.         0.         0.         0.\n",
            "  0.         0.         0.         0.        ]\n",
            " [0.         0.         0.         0.         0.         0.\n",
            "  0.         0.         0.         0.         0.5803922  0.75686276\n",
            "  0.827451   0.         0.         0.89411765 0.78431374 0.69803923\n",
            "  0.         0.         0.         0.         0.         0.\n",
            "  0.         0.         0.         0.        ]\n",
            " [0.         0.         0.         0.         0.         0.\n",
            "  0.         0.         0.         0.         0.5686275  0.76862746\n",
            "  0.8039216  0.         0.         0.8666667  0.80784315 0.7294118\n",
            "  0.         0.         0.         0.         0.         0.\n",
            "  0.         0.         0.         0.        ]\n",
            " [0.         0.         0.         0.         0.         0.\n",
            "  0.         0.         0.         0.         0.57254905 0.7882353\n",
            "  0.80784315 0.         0.         0.84313726 0.827451   0.7490196\n",
            "  0.         0.         0.         0.         0.         0.\n",
            "  0.         0.         0.         0.        ]\n",
            " [0.         0.         0.         0.         0.         0.\n",
            "  0.         0.         0.         0.         0.54901963 0.78431374\n",
            "  0.8156863  0.         0.         0.8156863  0.85490197 0.79607844\n",
            "  0.         0.         0.         0.         0.         0.\n",
            "  0.         0.         0.         0.        ]\n",
            " [0.         0.         0.         0.         0.         0.\n",
            "  0.         0.         0.         0.         0.5686275  0.80784315\n",
            "  0.78431374 0.         0.         0.827451   0.8862745  0.7372549\n",
            "  0.         0.         0.         0.         0.         0.\n",
            "  0.         0.         0.         0.        ]\n",
            " [0.         0.         0.         0.         0.         0.\n",
            "  0.         0.         0.         0.         0.5803922  0.8352941\n",
            "  0.827451   0.         0.         0.80784315 0.92156863 0.70980394\n",
            "  0.         0.         0.         0.         0.         0.\n",
            "  0.         0.         0.         0.        ]\n",
            " [0.         0.         0.         0.         0.         0.\n",
            "  0.         0.         0.         0.         0.50980395 0.76862746\n",
            "  0.7058824  0.         0.         0.6901961  0.85490197 0.6117647\n",
            "  0.         0.         0.         0.         0.         0.\n",
            "  0.         0.         0.         0.        ]]\n"
          ],
          "name": "stdout"
        }
      ]
    },
    {
      "cell_type": "markdown",
      "metadata": {
        "id": "bklvT9u4d71D"
      },
      "source": [
        "# Creating the model"
      ]
    },
    {
      "cell_type": "code",
      "metadata": {
        "id": "WnRumm7Sd5UW"
      },
      "source": [
        "model = keras.Sequential()                              # model is now a list\n",
        "model.add(keras.layers.Flatten(input_shape=(28, 28)))   # input layer\n",
        "model.add(keras.layers.Dense(64, activation='relu'))    # hidden unit, 64 means there will be 64 units in this layer\n",
        "model.add(keras.layers.Dense(128, activation='tanh'))\n",
        "model.add(keras.layers.Dense(10, activation='softmax')) # output layer, 10 means there are 10 output classes, so there should be 10 units in the output layer\n",
        "\n",
        "# we could also do do this in this way\n",
        "# model = keras.Sequential([keras.layer.Flatten(input_shape=(28, 28)),\n",
        "#                           keras.layers.Dense(64, activation='relu'),\n",
        "#                           keras.layers.Dense(10, activation='softmax')\n",
        "# ])"
      ],
      "execution_count": null,
      "outputs": []
    },
    {
      "cell_type": "code",
      "metadata": {
        "colab": {
          "base_uri": "https://localhost:8080/"
        },
        "id": "m7n5j0c8e31z",
        "outputId": "8abe3fcb-bb2f-4d8b-e42a-a65f7bf38e23"
      },
      "source": [
        "model.summary()"
      ],
      "execution_count": null,
      "outputs": [
        {
          "output_type": "stream",
          "text": [
            "Model: \"sequential_2\"\n",
            "_________________________________________________________________\n",
            "Layer (type)                 Output Shape              Param #   \n",
            "=================================================================\n",
            "flatten_3 (Flatten)          (None, 784)               0         \n",
            "_________________________________________________________________\n",
            "dense_6 (Dense)              (None, 64)                50240     \n",
            "_________________________________________________________________\n",
            "dense_7 (Dense)              (None, 128)               8320      \n",
            "_________________________________________________________________\n",
            "dense_8 (Dense)              (None, 10)                1290      \n",
            "=================================================================\n",
            "Total params: 59,850\n",
            "Trainable params: 59,850\n",
            "Non-trainable params: 0\n",
            "_________________________________________________________________\n"
          ],
          "name": "stdout"
        }
      ]
    },
    {
      "cell_type": "markdown",
      "metadata": {
        "id": "vg8pwDlgkZIH"
      },
      "source": [
        "# Compile the model"
      ]
    },
    {
      "cell_type": "code",
      "metadata": {
        "id": "qnWN3oMugIAf"
      },
      "source": [
        "# model.compile(loss='sparse_categorical_crossentropy',\n",
        "              # metrics=['accuracy'])\n",
        "model.compile(optimizer='adam',\n",
        "              loss='sparse_categorical_crossentropy',\n",
        "              metrics=['accuracy'])"
      ],
      "execution_count": null,
      "outputs": []
    },
    {
      "cell_type": "markdown",
      "metadata": {
        "id": "smKiTCopkdfd"
      },
      "source": [
        "# Fit/Train the model"
      ]
    },
    {
      "cell_type": "code",
      "metadata": {
        "colab": {
          "base_uri": "https://localhost:8080/"
        },
        "id": "Tj5Wm1-Rgut3",
        "outputId": "609bb2d8-6aea-4d2e-f5a1-64aa3f65220a"
      },
      "source": [
        "model.fit(x_train, y_train, epochs=10, batch_size=64)"
      ],
      "execution_count": null,
      "outputs": [
        {
          "output_type": "stream",
          "text": [
            "Epoch 1/10\n",
            "938/938 [==============================] - 2s 2ms/step - loss: 0.2400 - accuracy: 0.9103\n",
            "Epoch 2/10\n",
            "938/938 [==============================] - 2s 2ms/step - loss: 0.2340 - accuracy: 0.9131\n",
            "Epoch 3/10\n",
            "938/938 [==============================] - 2s 2ms/step - loss: 0.2261 - accuracy: 0.9141\n",
            "Epoch 4/10\n",
            "938/938 [==============================] - 2s 2ms/step - loss: 0.2172 - accuracy: 0.9183\n",
            "Epoch 5/10\n",
            "938/938 [==============================] - 2s 2ms/step - loss: 0.2049 - accuracy: 0.9225\n",
            "Epoch 6/10\n",
            "938/938 [==============================] - 2s 2ms/step - loss: 0.2070 - accuracy: 0.9230\n",
            "Epoch 7/10\n",
            "938/938 [==============================] - 2s 2ms/step - loss: 0.1941 - accuracy: 0.9264\n",
            "Epoch 8/10\n",
            "938/938 [==============================] - 2s 2ms/step - loss: 0.1974 - accuracy: 0.9257\n",
            "Epoch 9/10\n",
            "938/938 [==============================] - 2s 2ms/step - loss: 0.1864 - accuracy: 0.9283\n",
            "Epoch 10/10\n",
            "938/938 [==============================] - 2s 2ms/step - loss: 0.1881 - accuracy: 0.9293\n"
          ],
          "name": "stdout"
        },
        {
          "output_type": "execute_result",
          "data": {
            "text/plain": [
              "<tensorflow.python.keras.callbacks.History at 0x7f482eb58590>"
            ]
          },
          "metadata": {
            "tags": []
          },
          "execution_count": 35
        }
      ]
    },
    {
      "cell_type": "markdown",
      "metadata": {
        "id": "oaa5C1kAkoj0"
      },
      "source": [
        "# Evaluate the model"
      ]
    },
    {
      "cell_type": "code",
      "metadata": {
        "colab": {
          "base_uri": "https://localhost:8080/"
        },
        "id": "qy1tgeQMhC4Y",
        "outputId": "1c9b0443-da01-462a-8288-86f94641488a"
      },
      "source": [
        "print(model.evaluate(x_test, y_test))"
      ],
      "execution_count": null,
      "outputs": [
        {
          "output_type": "stream",
          "text": [
            "313/313 [==============================] - 0s 1ms/step - loss: 0.3337 - accuracy: 0.8875\n",
            "[0.33374345302581787, 0.887499988079071]\n"
          ],
          "name": "stdout"
        }
      ]
    },
    {
      "cell_type": "markdown",
      "metadata": {
        "id": "HvJk1lVvkp7c"
      },
      "source": [
        "# Make predictions"
      ]
    },
    {
      "cell_type": "code",
      "metadata": {
        "id": "SurOonuYh8jK"
      },
      "source": [
        "predictions = model.predict(x_test)"
      ],
      "execution_count": null,
      "outputs": []
    },
    {
      "cell_type": "code",
      "metadata": {
        "colab": {
          "base_uri": "https://localhost:8080/"
        },
        "id": "9mtto4RpjiyW",
        "outputId": "f9653704-642d-4089-a8b2-3d40e90daf51"
      },
      "source": [
        "predictions[69]"
      ],
      "execution_count": null,
      "outputs": [
        {
          "output_type": "execute_result",
          "data": {
            "text/plain": [
              "array([4.9517079e-09, 6.9657500e-12, 6.3508560e-10, 9.5509316e-09,\n",
              "       2.5723004e-09, 1.0245588e-10, 3.6653997e-10, 1.1935539e-07,\n",
              "       9.9999988e-01, 2.3315058e-10], dtype=float32)"
            ]
          },
          "metadata": {
            "tags": []
          },
          "execution_count": 38
        }
      ]
    },
    {
      "cell_type": "code",
      "metadata": {
        "colab": {
          "base_uri": "https://localhost:8080/"
        },
        "id": "oHm6O8s9kBhN",
        "outputId": "0430b3e6-2108-4aef-d810-da26239e9d7c"
      },
      "source": [
        "np.argmax(predictions[69])"
      ],
      "execution_count": null,
      "outputs": [
        {
          "output_type": "execute_result",
          "data": {
            "text/plain": [
              "8"
            ]
          },
          "metadata": {
            "tags": []
          },
          "execution_count": 40
        }
      ]
    },
    {
      "cell_type": "markdown",
      "metadata": {
        "id": "ocsccSPVkF80"
      },
      "source": [
        "and 8 means bag!"
      ]
    },
    {
      "cell_type": "code",
      "metadata": {
        "colab": {
          "base_uri": "https://localhost:8080/",
          "height": 281
        },
        "id": "YOFXbxq9jknG",
        "outputId": "e375304b-f588-44b7-db9e-ab76456ee047"
      },
      "source": [
        "plt.imshow(x_test[69])"
      ],
      "execution_count": null,
      "outputs": [
        {
          "output_type": "execute_result",
          "data": {
            "text/plain": [
              "<matplotlib.image.AxesImage at 0x7f483061b490>"
            ]
          },
          "metadata": {
            "tags": []
          },
          "execution_count": 39
        },
        {
          "output_type": "display_data",
          "data": {
            "image/png": "[encoded data removed]",
            "text/plain": [
              "<Figure size 432x288 with 1 Axes>"
            ]
          },
          "metadata": {
            "tags": [],
            "needs_background": "light"
          }
        }
      ]
    },
    {
      "cell_type": "code",
      "metadata": {
        "id": "n-EA5yUFj127"
      },
      "source": [
        ""
      ],
      "execution_count": null,
      "outputs": []
    }
  ]
}