{
  "nbformat": 4,
  "nbformat_minor": 0,
  "metadata": {
    "colab": {
      "name": "NoActualClassifierVersion1.2.ipynb",
      "provenance": []
    },
    "kernelspec": {
      "name": "python3",
      "display_name": "Python 3"
    }
  },
  "cells": [
    {
      "cell_type": "markdown",
      "metadata": {
        "id": "a2o0dW44Qvew",
        "colab_type": "text"
      },
      "source": [
        "In the previous model, I tried to classify the iris dataset (using one feature) creating range of the features and use that to find the class. This idea worked on some feaures, while failed on others, because there were overlaps in classes.And while classifying, I checked if the data fell into any range. But this was not always correct. Why? Well, due to the overlaps, some data might show up in more than one class range (might be outliers, but inputs can always be unpredictable). In this case, the classifier is most likely to give wrong answer.\\\n",
        "So here, I am going to use the average/mean feature value (since the features are numerical) or median and then when classifying, I will compute the distance of the given data from the mean or median value of all classes. The class closest to the point, will be considered as its class.\\\n",
        "Hopefully this will work better than the last model, but then again, there are overlaps and outliers. So there will be errors."
      ]
    },
    {
      "cell_type": "code",
      "metadata": {
        "id": "jU1W3esIj_b3",
        "colab_type": "code",
        "colab": {}
      },
      "source": [
        "import numpy as np\n",
        "import pandas as pd\n",
        "import matplotlib.pyplot as plt\n",
        "from sklearn.model_selection import train_test_split\n",
        "import random\n",
        "%matplotlib inline"
      ],
      "execution_count": 1,
      "outputs": []
    },
    {
      "cell_type": "markdown",
      "metadata": {
        "id": "WYe3BqJslT3-",
        "colab_type": "text"
      },
      "source": [
        "#**Fetching Data**\n",
        "---"
      ]
    },
    {
      "cell_type": "code",
      "metadata": {
        "id": "5_KuNBajlXmz",
        "colab_type": "code",
        "colab": {}
      },
      "source": [
        "def fetchData(linkToFile):\n",
        "  return pd.read_csv(linkToFile)"
      ],
      "execution_count": 2,
      "outputs": []
    },
    {
      "cell_type": "code",
      "metadata": {
        "id": "0arpr12mlfBw",
        "colab_type": "code",
        "colab": {}
      },
      "source": [
        "dataset = fetchData(\"https://gist.githubusercontent.com/curran/a08a1080b88344b0c8a7/raw/639388c2cbc2120a14dcf466e85730eb8be498bb/iris.csv\")"
      ],
      "execution_count": 3,
      "outputs": []
    },
    {
      "cell_type": "markdown",
      "metadata": {
        "id": "ONj6D9HIlis7",
        "colab_type": "text"
      },
      "source": [
        "#**A very basic classification, version-1.2**\n",
        "---"
      ]
    },
    {
      "cell_type": "code",
      "metadata": {
        "id": "IG5iuXdPlttD",
        "colab_type": "code",
        "colab": {
          "base_uri": "https://localhost:8080/",
          "height": 36
        },
        "outputId": "dc94c09f-c589-40bb-9061-083e6ca9beff"
      },
      "source": [
        "column_names = list(dataset.columns)\n",
        "print(column_names)"
      ],
      "execution_count": 4,
      "outputs": [
        {
          "output_type": "stream",
          "text": [
            "['sepal_length', 'sepal_width', 'petal_length', 'petal_width', 'species']\n"
          ],
          "name": "stdout"
        }
      ]
    },
    {
      "cell_type": "code",
      "metadata": {
        "id": "XbeOXeUKtUQE",
        "colab_type": "code",
        "colab": {}
      },
      "source": [
        "class_names = dataset[column_names[4]].unique()"
      ],
      "execution_count": 5,
      "outputs": []
    },
    {
      "cell_type": "code",
      "metadata": {
        "id": "LGFJXGy7ldV5",
        "colab_type": "code",
        "colab": {}
      },
      "source": [
        "def median_model_trainer(train_set):\n",
        "  classifier = {}\n",
        "\n",
        "  for flower in train_set:\n",
        "    if flower[1] in classifier:\n",
        "      classifier[flower[1]].append(flower[0])\n",
        "    else:\n",
        "      classifier[flower[1]]=[flower[0]]\n",
        "  \n",
        "  for each_class in classifier:\n",
        "    classifier[each_class].sort()\n",
        "    classifier[each_class] = classifier[each_class][int(len(classifier[each_class])/2)]\n",
        "  \n",
        "  return classifier"
      ],
      "execution_count": 6,
      "outputs": []
    },
    {
      "cell_type": "code",
      "metadata": {
        "id": "5Ivl7z87t8re",
        "colab_type": "code",
        "colab": {}
      },
      "source": [
        "def model_trainer(train_set):\n",
        "  '''\n",
        "  Input:\n",
        "  train_set   : a numpy array, on which the model is to be created\n",
        "\n",
        "  Output:\n",
        "  classifier: a dictionary that contains the average feture value for each class.\n",
        "\n",
        "  Process:\n",
        "  '''\n",
        "  \n",
        "  classifier = {}\n",
        "  for flower in train_set:\n",
        "    #flower[0] is feature value\n",
        "    #flower[1] is class of that data\n",
        "    if flower[1] in classifier:\n",
        "      classifier[flower[1]]['total_feature_value'] += flower[0]\n",
        "      classifier[flower[1]]['data_in_this_class'] += 1\n",
        "    else:\n",
        "      classifier[flower[1]] = {'total_feature_value':flower[0], 'data_in_this_class':1}\n",
        "    \n",
        "  for each_class in classifier:\n",
        "    classifier[each_class] = classifier[each_class]['total_feature_value']/classifier[each_class]['data_in_this_class']\n",
        "\n",
        "  return classifier"
      ],
      "execution_count": 7,
      "outputs": []
    },
    {
      "cell_type": "code",
      "metadata": {
        "id": "ZSdSH2naglno",
        "colab_type": "code",
        "colab": {}
      },
      "source": [
        "def distance(point_from_class, point_from_feature):\n",
        "  return abs(point_from_class - point_from_feature)"
      ],
      "execution_count": 8,
      "outputs": []
    },
    {
      "cell_type": "code",
      "metadata": {
        "id": "6nMZw8TouK-Q",
        "colab_type": "code",
        "colab": {}
      },
      "source": [
        "def predict_class(classifier, flower_feature):\n",
        "  smallest_distance = 10\n",
        "  for class_name, mean in classifier.items():\n",
        "    if distance(mean, flower_feature) < smallest_distance:\n",
        "      smallest_distance = distance(mean, flower_feature)\n",
        "      probable_class = class_name\n",
        "  return probable_class"
      ],
      "execution_count": 9,
      "outputs": []
    },
    {
      "cell_type": "code",
      "metadata": {
        "id": "wfVUBFHjuQ2F",
        "colab_type": "code",
        "colab": {}
      },
      "source": [
        "def calculate_accuracy(validation_set, classifier):\n",
        "  '''\n",
        "  Input:\n",
        "  validation_set: a numpy array, which will be used to find classification accuracy\n",
        "  classifier    : a dictionary of classification info\n",
        "\n",
        "  Output:\n",
        "  accuracy: a floating point number (denoting percentage)\n",
        "\n",
        "  Process:\n",
        "  A loop will iterate through the validation_set, predict the class from class_gen (using the predict_class() function) and match it with the given class.\n",
        "  Count if the prediction was correct.\n",
        "  At the end ofthe loop, just calculate the percentage and return.\n",
        "  '''\n",
        "  correct_prediction = 0\n",
        "  for flower in validation_set:\n",
        "    # flower[0] is the feature\n",
        "    # flower[1] is the class\n",
        "    if (flower[1] == predict_class(classifier, flower[0])):\n",
        "      correct_prediction += 1\n",
        "    accuracy = (correct_prediction/len(validation_set))*100\n",
        "\n",
        "  return accuracy"
      ],
      "execution_count": 10,
      "outputs": []
    },
    {
      "cell_type": "code",
      "metadata": {
        "id": "HeBA8hd2mh3p",
        "colab_type": "code",
        "colab": {}
      },
      "source": [
        "def simulate(dataset, classify_on = 'MEAN'):\n",
        "  for feature in column_names[:4]:\n",
        "    print(\"Working feature: {}\".format(feature))\n",
        "  \n",
        "    numpy_dataset = dataset[[feature, \"species\"]].to_numpy()\n",
        "    train_set, validation_set = train_test_split(numpy_dataset, test_size=0.2, random_state=42)\n",
        "    train_set, test_set = train_test_split(train_set, test_size=0.2, random_state=42)\n",
        "\n",
        "    if classify_on == 'MEDIAN':\n",
        "      classifier = median_model_trainer(train_set)\n",
        "    else:\n",
        "      classifier = model_trainer(train_set)\n",
        "    print(classifier)\n",
        "\n",
        "    print(\"Accuracy on validation set: {}\".format(calculate_accuracy(validation_set, classifier)))\n",
        "    print(\"Accuracy on test set: {}\".format(calculate_accuracy(test_set, classifier)))\n",
        "\n",
        "    # checking a random data\n",
        "    feature_value = test_set[random.randint(0,len(test_set)-1)][0]\n",
        "    print(\"Flower of {} {} is {}\".format(feature, feature_value,predict_class(classifier, feature_value)))\n",
        "    print(\"\\n---------------------------------------------------------------------------------\\n\")"
      ],
      "execution_count": 14,
      "outputs": []
    },
    {
      "cell_type": "code",
      "metadata": {
        "id": "7byT7ncukDHA",
        "colab_type": "code",
        "colab": {
          "base_uri": "https://localhost:8080/",
          "height": 613
        },
        "outputId": "8fb744d2-9a1a-4406-8f8b-212831a5dc13"
      },
      "source": [
        "simulate(dataset)"
      ],
      "execution_count": 15,
      "outputs": [
        {
          "output_type": "stream",
          "text": [
            "Working feature: sepal_length\n",
            "{'virginica': 6.552941176470587, 'versicolor': 5.959999999999999, 'setosa': 5.053125}\n",
            "Accuracy on validation set: 86.66666666666667\n",
            "Accuracy on test set: 66.66666666666666\n",
            "Flower of sepal_length 6.6 is virginica\n",
            "\n",
            "---------------------------------------------------------------------------------\n",
            "\n",
            "Working feature: sepal_width\n",
            "{'virginica': 2.988235294117647, 'versicolor': 2.7900000000000005, 'setosa': 3.5156250000000004}\n",
            "Accuracy on validation set: 56.666666666666664\n",
            "Accuracy on test set: 54.166666666666664\n",
            "Flower of sepal_width 2.5 is versicolor\n",
            "\n",
            "---------------------------------------------------------------------------------\n",
            "\n",
            "Working feature: petal_length\n",
            "{'virginica': 5.529411764705881, 'versicolor': 4.23, 'setosa': 1.4625000000000001}\n",
            "Accuracy on validation set: 100.0\n",
            "Accuracy on test set: 91.66666666666666\n",
            "Flower of petal_length 5.0 is virginica\n",
            "\n",
            "---------------------------------------------------------------------------------\n",
            "\n",
            "Working feature: petal_width\n",
            "{'virginica': 2.005882352941176, 'versicolor': 1.3133333333333332, 'setosa': 0.25312500000000004}\n",
            "Accuracy on validation set: 100.0\n",
            "Accuracy on test set: 100.0\n",
            "Flower of petal_width 1.9 is virginica\n",
            "\n",
            "---------------------------------------------------------------------------------\n",
            "\n"
          ],
          "name": "stdout"
        }
      ]
    },
    {
      "cell_type": "markdown",
      "metadata": {
        "id": "r6na45sFi52_",
        "colab_type": "text"
      },
      "source": [
        "It looks like the accuracy for validation set have increased for all features, but the same cannot be said for the test data.\\\n",
        "May be we can improve further using **median** instead of **mean**, *may be*.\\\n",
        "Let's see."
      ]
    },
    {
      "cell_type": "code",
      "metadata": {
        "id": "dZ3wHPT6x6RE",
        "colab_type": "code",
        "colab": {
          "base_uri": "https://localhost:8080/",
          "height": 613
        },
        "outputId": "f2d03c20-dfc0-4279-e482-cba0628be707"
      },
      "source": [
        "simulate(dataset, classify_on='MEDIAN')"
      ],
      "execution_count": 16,
      "outputs": [
        {
          "output_type": "stream",
          "text": [
            "Working feature: sepal_length\n",
            "{'virginica': 6.4, 'versicolor': 5.9, 'setosa': 5.1}\n",
            "Accuracy on validation set: 80.0\n",
            "Accuracy on test set: 75.0\n",
            "Flower of sepal_length 6.6 is virginica\n",
            "\n",
            "---------------------------------------------------------------------------------\n",
            "\n",
            "Working feature: sepal_width\n",
            "{'virginica': 3.0, 'versicolor': 2.9, 'setosa': 3.5}\n",
            "Accuracy on validation set: 63.33333333333333\n",
            "Accuracy on test set: 50.0\n",
            "Flower of sepal_width 2.7 is versicolor\n",
            "\n",
            "---------------------------------------------------------------------------------\n",
            "\n",
            "Working feature: petal_length\n",
            "{'virginica': 5.5, 'versicolor': 4.3, 'setosa': 1.5}\n",
            "Accuracy on validation set: 100.0\n",
            "Accuracy on test set: 91.66666666666666\n",
            "Flower of petal_length 4.5 is versicolor\n",
            "\n",
            "---------------------------------------------------------------------------------\n",
            "\n",
            "Working feature: petal_width\n",
            "{'virginica': 2.0, 'versicolor': 1.3, 'setosa': 0.2}\n",
            "Accuracy on validation set: 100.0\n",
            "Accuracy on test set: 100.0\n",
            "Flower of petal_width 0.1 is setosa\n",
            "\n",
            "---------------------------------------------------------------------------------\n",
            "\n"
          ],
          "name": "stdout"
        }
      ]
    },
    {
      "cell_type": "markdown",
      "metadata": {
        "id": "G8pwYb8IoA5Q",
        "colab_type": "text"
      },
      "source": [
        "Well, it seems like both mean and median are working well."
      ]
    }
  ]
}