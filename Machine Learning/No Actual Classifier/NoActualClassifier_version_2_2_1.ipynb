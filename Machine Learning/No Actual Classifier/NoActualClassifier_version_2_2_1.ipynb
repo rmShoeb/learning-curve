{
  "nbformat": 4,
  "nbformat_minor": 0,
  "metadata": {
    "colab": {
      "name": "NoActualClassifier-version-2.2.1.ipynb",
      "provenance": []
    },
    "kernelspec": {
      "name": "python3",
      "display_name": "Python 3"
    }
  },
  "cells": [
    {
      "cell_type": "markdown",
      "metadata": {
        "id": "d2NqibFmOYBp",
        "colab_type": "text"
      },
      "source": [
        "In the previous version of this notebook, I faced a problem where I could not generate a real rectangle that can contain all the points of a class. But then I realised, it is almost never possible to contain some random points inside a rectangle. Instead, I need an algorithm that will create a convex hull around the class points (*e.g. Graham Scan*). I have not implemented the idea because that would be a **too complex** solution. My intension is to create easy solutions.\\\n",
        "So, I am thinking about the latest approach I had while classifying the dataset using one feature, finding the **mean or mode** of the train data and calculating the distance from all class to a given point and finding out which is class is closer.\\\n",
        "This method worked very well while classifying with one feature. Let's see if it works the same for two features or not."
      ]
    },
    {
      "cell_type": "code",
      "metadata": {
        "id": "yH6SjidgzI1c",
        "colab_type": "code",
        "colab": {}
      },
      "source": [
        "import numpy as np\n",
        "import pandas as pd\n",
        "import matplotlib.pyplot as plt\n",
        "import math\n",
        "from sklearn.model_selection import train_test_split\n",
        "import random\n",
        "import pprint\n",
        "%matplotlib inline"
      ],
      "execution_count": 1,
      "outputs": []
    },
    {
      "cell_type": "markdown",
      "metadata": {
        "id": "Queo-nDI0ABq",
        "colab_type": "text"
      },
      "source": [
        "#**Fetching Data**\n",
        "---"
      ]
    },
    {
      "cell_type": "code",
      "metadata": {
        "id": "slbXEkYLz-vl",
        "colab_type": "code",
        "colab": {}
      },
      "source": [
        "def fetchData(linkToFile):\n",
        "  return pd.read_csv(linkToFile)"
      ],
      "execution_count": 2,
      "outputs": []
    },
    {
      "cell_type": "code",
      "metadata": {
        "id": "whTglbFT0Fiw",
        "colab_type": "code",
        "colab": {}
      },
      "source": [
        "dataset = fetchData(\"https://gist.githubusercontent.com/curran/a08a1080b88344b0c8a7/raw/639388c2cbc2120a14dcf466e85730eb8be498bb/iris.csv\")"
      ],
      "execution_count": 3,
      "outputs": []
    },
    {
      "cell_type": "markdown",
      "metadata": {
        "id": "nxxSXG--0JSc",
        "colab_type": "text"
      },
      "source": [
        "#**A very basic classification, version-2.2.1**\n",
        "---"
      ]
    },
    {
      "cell_type": "code",
      "metadata": {
        "id": "JDoo7viQ0Hom",
        "colab_type": "code",
        "colab": {
          "base_uri": "https://localhost:8080/",
          "height": 36
        },
        "outputId": "3a06fb65-409b-4a15-f628-b95fabadb255"
      },
      "source": [
        "column_names = list(dataset.columns)\n",
        "print(column_names)"
      ],
      "execution_count": 4,
      "outputs": [
        {
          "output_type": "stream",
          "text": [
            "['sepal_length', 'sepal_width', 'petal_length', 'petal_width', 'species']\n"
          ],
          "name": "stdout"
        }
      ]
    },
    {
      "cell_type": "code",
      "metadata": {
        "id": "WXz3M0L-D7rI",
        "colab_type": "code",
        "colab": {}
      },
      "source": [
        "# Get unique names of species\n",
        "class_names = dataset['species'].unique()"
      ],
      "execution_count": 5,
      "outputs": []
    },
    {
      "cell_type": "markdown",
      "metadata": {
        "id": "95UDCwD3a9bl",
        "colab_type": "text"
      },
      "source": [
        "**Let's build our classifier**\n",
        "---"
      ]
    },
    {
      "cell_type": "code",
      "metadata": {
        "id": "lx7klQMtfOk4",
        "colab_type": "code",
        "colab": {}
      },
      "source": [
        "def two_feature_classifier(train_data, mode=\"MEAN\"):\n",
        "  '''\n",
        "  Input:\n",
        "  train_data  - a two dimentional numpy array, that contains two features and its corresponding class on each row\n",
        "\n",
        "  Output:\n",
        "  classifier  - a dictionary that contains centroids(mean/median) for each class\n",
        "  '''\n",
        "  classifier = {}\n",
        "\n",
        "  for flower in train_data:\n",
        "    #flower[0] and flower[1] are features\n",
        "    #flower[2] is class of that flower\n",
        "    if flower[2] in classifier:\n",
        "      classifier[flower[2]].append((flower[0], flower[1]))\n",
        "    else:\n",
        "      classifier[flower[2]] = [(flower[0], flower[1])]\n",
        "  \n",
        "  #create the actual classifier\n",
        "  #based on mode (mean/median)\n",
        "  if mode==\"MEAN\":\n",
        "    for class_name, points in classifier.items():\n",
        "      x_co_ordinates = [x[0] for x in points]\n",
        "      y_co_ordinates = [y[1] for y in points]\n",
        "      try:\n",
        "        classifier[class_name] = (sum(x_co_ordinates)/len(x_co_ordinates), sum(y_co_ordinates)/len(y_co_ordinates))\n",
        "      except:\n",
        "        pass\n",
        "  elif mode==\"MEDIAN\":\n",
        "    for this_class in classifier:\n",
        "      classifier[this_class].sort()\n",
        "      classifier[this_class] = classifier[this_class][int(len(classifier[this_class])/2)]\n",
        "\n",
        "  return classifier"
      ],
      "execution_count": 6,
      "outputs": []
    },
    {
      "cell_type": "code",
      "metadata": {
        "id": "mYP9nCBp6Zet",
        "colab_type": "code",
        "colab": {}
      },
      "source": [
        "def distance(centroid, point):\n",
        "  '''\n",
        "  Input:\n",
        "  centroid  - a tuple that represents a point in a 2D plane and is the center of a class.\n",
        "  point     - a tuple that represents a point in a 2D plane and feature of a test data.\n",
        "\n",
        "  Output:\n",
        "  distance  - the distance between the two given points\n",
        "\n",
        "  Method:\n",
        "  Euclidean distance\n",
        "  '''\n",
        "  return math.sqrt((centroid[0]-point[0])**2 + (centroid[1]-point[1])**2)"
      ],
      "execution_count": 7,
      "outputs": []
    },
    {
      "cell_type": "code",
      "metadata": {
        "id": "P5ge6pcsrbNz",
        "colab_type": "code",
        "colab": {}
      },
      "source": [
        "def predict_class(feature_value, classifier):\n",
        "  closest = 100\n",
        "  for class_name, centroid in classifier.items():\n",
        "    if distance(centroid, feature_value)<closest:\n",
        "      closest = distance(centroid, feature_value)\n",
        "      feature_class = class_name\n",
        "  \n",
        "  return feature_class"
      ],
      "execution_count": 8,
      "outputs": []
    },
    {
      "cell_type": "code",
      "metadata": {
        "id": "bIi1C_mGtf9b",
        "colab_type": "code",
        "colab": {}
      },
      "source": [
        "def calculate_accuracy(test_data_with_class, classifier):\n",
        "  correct_prediction = 0\n",
        "  for flower in test_data_with_class:\n",
        "    # flower[0] and flower[1] are features\n",
        "    # flower[1] is the class\n",
        "    if (flower[2] == predict_class((flower[0], flower[1]), classifier)):\n",
        "      correct_prediction += 1\n",
        "    accuracy = (correct_prediction/len(test_data_with_class))*100\n",
        "\n",
        "  return accuracy"
      ],
      "execution_count": 9,
      "outputs": []
    },
    {
      "cell_type": "code",
      "metadata": {
        "id": "mB5OdfuYtwdO",
        "colab_type": "code",
        "colab": {}
      },
      "source": [
        "def simulate(dataset, mode='MEAN'):\n",
        "  for x_cor_feature_index in range(4):\n",
        "    for y_cor_feature_index in range(x_cor_feature_index+1, 4):\n",
        "      print(\"Showing results for {} and {}\\n\".format(column_names[x_cor_feature_index], column_names[y_cor_feature_index]))\n",
        "      numpy_dataset = dataset[[column_names[x_cor_feature_index], column_names[y_cor_feature_index], \"species\"]].to_numpy()\n",
        "    \n",
        "      train_set, validation_set = train_test_split(numpy_dataset, test_size=0.2, random_state=42)\n",
        "      train_set, test_set = train_test_split(train_set, test_size=0.2, random_state=42)\n",
        "\n",
        "      classifier = two_feature_classifier(train_set, mode)\n",
        "      pprint.pprint(classifier)\n",
        "\n",
        "      print(\"Accuracy on validation set: {}\".format(calculate_accuracy(validation_set, classifier)))\n",
        "      print(\"Accuracy on test set: {}\".format(calculate_accuracy(test_set, classifier)))\n",
        "    \n",
        "      # checking a random data\n",
        "      feature_value = test_set[random.randint(0,len(test_set)-1)][:2]\n",
        "      print(\"Flower of {feature1} {feature1_value} and {feature2} {feature2_value} is {class_name}\".format(feature1=column_names[x_cor_feature_index], feature1_value=feature_value[0], feature2=column_names[y_cor_feature_index], feature2_value=feature_value[1], class_name=predict_class((feature_value[0],feature_value[1]), classifier)))\n",
        "      print(\"\\n---------------------------------------------------------------------------------\\n\")"
      ],
      "execution_count": 10,
      "outputs": []
    },
    {
      "cell_type": "code",
      "metadata": {
        "id": "SQ5Ajqw5AhyD",
        "colab_type": "code",
        "colab": {
          "base_uri": "https://localhost:8080/",
          "height": 1000
        },
        "outputId": "1356423e-4693-4d47-bac2-17cf7e0c050e"
      },
      "source": [
        "simulate(dataset)"
      ],
      "execution_count": 11,
      "outputs": [
        {
          "output_type": "stream",
          "text": [
            "Showing results for sepal_length and sepal_width\n",
            "\n",
            "{'setosa': (5.053125, 3.5156250000000004),\n",
            " 'versicolor': (5.959999999999999, 2.7900000000000005),\n",
            " 'virginica': (6.552941176470587, 2.988235294117647)}\n",
            "Accuracy on validation set: 90.0\n",
            "Accuracy on test set: 87.5\n",
            "Flower of sepal_length 4.9 and sepal_width 3.1 is setosa\n",
            "\n",
            "---------------------------------------------------------------------------------\n",
            "\n",
            "Showing results for sepal_length and petal_length\n",
            "\n",
            "{'setosa': (5.053125, 1.4625000000000001),\n",
            " 'versicolor': (5.959999999999999, 4.23),\n",
            " 'virginica': (6.552941176470587, 5.529411764705881)}\n",
            "Accuracy on validation set: 93.33333333333333\n",
            "Accuracy on test set: 87.5\n",
            "Flower of sepal_length 6.0 and petal_length 4.0 is versicolor\n",
            "\n",
            "---------------------------------------------------------------------------------\n",
            "\n",
            "Showing results for sepal_length and petal_width\n",
            "\n",
            "{'setosa': (5.053125, 0.25312500000000004),\n",
            " 'versicolor': (5.959999999999999, 1.3133333333333332),\n",
            " 'virginica': (6.552941176470587, 2.005882352941176)}\n",
            "Accuracy on validation set: 96.66666666666667\n",
            "Accuracy on test set: 87.5\n",
            "Flower of sepal_length 6.3 and petal_width 1.5 is versicolor\n",
            "\n",
            "---------------------------------------------------------------------------------\n",
            "\n",
            "Showing results for sepal_width and petal_length\n",
            "\n",
            "{'setosa': (3.5156250000000004, 1.4625000000000001),\n",
            " 'versicolor': (2.7900000000000005, 4.23),\n",
            " 'virginica': (2.988235294117647, 5.529411764705881)}\n",
            "Accuracy on validation set: 100.0\n",
            "Accuracy on test set: 95.83333333333334\n",
            "Flower of sepal_width 3.4 and petal_length 1.9 is setosa\n",
            "\n",
            "---------------------------------------------------------------------------------\n",
            "\n",
            "Showing results for sepal_width and petal_width\n",
            "\n",
            "{'setosa': (3.5156250000000004, 0.25312500000000004),\n",
            " 'versicolor': (2.7900000000000005, 1.3133333333333332),\n",
            " 'virginica': (2.988235294117647, 2.005882352941176)}\n",
            "Accuracy on validation set: 96.66666666666667\n",
            "Accuracy on test set: 91.66666666666666\n",
            "Flower of sepal_width 2.5 and petal_width 2.0 is virginica\n",
            "\n",
            "---------------------------------------------------------------------------------\n",
            "\n",
            "Showing results for petal_length and petal_width\n",
            "\n",
            "{'setosa': (1.4625000000000001, 0.25312500000000004),\n",
            " 'versicolor': (4.23, 1.3133333333333332),\n",
            " 'virginica': (5.529411764705881, 2.005882352941176)}\n",
            "Accuracy on validation set: 100.0\n",
            "Accuracy on test set: 95.83333333333334\n",
            "Flower of petal_length 4.5 and petal_width 1.6 is versicolor\n",
            "\n",
            "---------------------------------------------------------------------------------\n",
            "\n"
          ],
          "name": "stdout"
        }
      ]
    },
    {
      "cell_type": "code",
      "metadata": {
        "id": "vfL_6vhaBdDO",
        "colab_type": "code",
        "colab": {
          "base_uri": "https://localhost:8080/",
          "height": 1000
        },
        "outputId": "9c276c3a-49ac-41a4-b9e2-9d11e50d6a33"
      },
      "source": [
        "simulate(dataset, mode='MEDIAN')"
      ],
      "execution_count": 12,
      "outputs": [
        {
          "output_type": "stream",
          "text": [
            "Showing results for sepal_length and sepal_width\n",
            "\n",
            "{'setosa': (5.1, 3.4), 'versicolor': (5.9, 3.2), 'virginica': (6.4, 3.2)}\n",
            "Accuracy on validation set: 83.33333333333334\n",
            "Accuracy on test set: 75.0\n",
            "Flower of sepal_length 4.9 and sepal_width 3.1 is setosa\n",
            "\n",
            "---------------------------------------------------------------------------------\n",
            "\n",
            "Showing results for sepal_length and petal_length\n",
            "\n",
            "{'setosa': (5.1, 1.4), 'versicolor': (5.9, 4.8), 'virginica': (6.4, 5.5)}\n",
            "Accuracy on validation set: 93.33333333333333\n",
            "Accuracy on test set: 91.66666666666666\n",
            "Flower of sepal_length 4.9 and petal_length 1.5 is setosa\n",
            "\n",
            "---------------------------------------------------------------------------------\n",
            "\n",
            "Showing results for sepal_length and petal_width\n",
            "\n",
            "{'setosa': (5.1, 0.2), 'versicolor': (5.9, 1.8), 'virginica': (6.4, 2.3)}\n",
            "Accuracy on validation set: 96.66666666666667\n",
            "Accuracy on test set: 87.5\n",
            "Flower of sepal_length 6.3 and petal_width 1.8 is versicolor\n",
            "\n",
            "---------------------------------------------------------------------------------\n",
            "\n",
            "Showing results for sepal_width and petal_length\n",
            "\n",
            "{'setosa': (3.5, 1.4), 'versicolor': (2.9, 4.3), 'virginica': (3.0, 5.5)}\n",
            "Accuracy on validation set: 100.0\n",
            "Accuracy on test set: 95.83333333333334\n",
            "Flower of sepal_width 3.4 and petal_length 1.9 is setosa\n",
            "\n",
            "---------------------------------------------------------------------------------\n",
            "\n",
            "Showing results for sepal_width and petal_width\n",
            "\n",
            "{'setosa': (3.5, 0.2), 'versicolor': (2.9, 1.3), 'virginica': (3.0, 2.0)}\n",
            "Accuracy on validation set: 96.66666666666667\n",
            "Accuracy on test set: 91.66666666666666\n",
            "Flower of sepal_width 2.7 and petal_width 1.6 is versicolor\n",
            "\n",
            "---------------------------------------------------------------------------------\n",
            "\n",
            "Showing results for petal_length and petal_width\n",
            "\n",
            "{'setosa': (1.5, 0.1), 'versicolor': (4.3, 1.3), 'virginica': (5.5, 2.1)}\n",
            "Accuracy on validation set: 100.0\n",
            "Accuracy on test set: 95.83333333333334\n",
            "Flower of petal_length 1.5 and petal_width 0.1 is setosa\n",
            "\n",
            "---------------------------------------------------------------------------------\n",
            "\n"
          ],
          "name": "stdout"
        }
      ]
    },
    {
      "cell_type": "markdown",
      "metadata": {
        "id": "0mOn1o1_xx8i",
        "colab_type": "text"
      },
      "source": [
        "#**Discussion**\n",
        "---"
      ]
    },
    {
      "cell_type": "markdown",
      "metadata": {
        "id": "zepdQk_9Bz8B",
        "colab_type": "text"
      },
      "source": [
        "This model seems to work suprisingly well, both using **mean** and **median**.\n",
        "\n",
        "Is it possible to improve overall performance by changing the algorithm that computes the distance? Will have to look into that.\n",
        "\n",
        "When we move further and work with three or more features at a time, it will not be possible to get an idea of dataset's behavior by looking at data plots. So, I need to come up with a new idea when working with more feautres."
      ]
    }
  ]
}