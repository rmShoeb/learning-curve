{
  "nbformat": 4,
  "nbformat_minor": 0,
  "metadata": {
    "colab": {
      "name": "NoActualClassifierVersion1.1.1.ipynb",
      "provenance": []
    },
    "kernelspec": {
      "name": "python3",
      "display_name": "Python 3"
    }
  },
  "cells": [
    {
      "cell_type": "code",
      "metadata": {
        "id": "jU1W3esIj_b3",
        "colab_type": "code",
        "colab": {}
      },
      "source": [
        "import numpy as np\n",
        "import pandas as pd\n",
        "import matplotlib.pyplot as plt\n",
        "from sklearn.model_selection import train_test_split\n",
        "import random\n",
        "%matplotlib inline"
      ],
      "execution_count": 1,
      "outputs": []
    },
    {
      "cell_type": "markdown",
      "metadata": {
        "id": "WYe3BqJslT3-",
        "colab_type": "text"
      },
      "source": [
        "#**Fetching Data**\n",
        "---"
      ]
    },
    {
      "cell_type": "code",
      "metadata": {
        "id": "5_KuNBajlXmz",
        "colab_type": "code",
        "colab": {}
      },
      "source": [
        "def fetchData(linkToFile):\n",
        "  return pd.read_csv(linkToFile)"
      ],
      "execution_count": 2,
      "outputs": []
    },
    {
      "cell_type": "code",
      "metadata": {
        "id": "0arpr12mlfBw",
        "colab_type": "code",
        "colab": {}
      },
      "source": [
        "dataset = fetchData(\"https://gist.githubusercontent.com/curran/a08a1080b88344b0c8a7/raw/639388c2cbc2120a14dcf466e85730eb8be498bb/iris.csv\")"
      ],
      "execution_count": 3,
      "outputs": []
    },
    {
      "cell_type": "markdown",
      "metadata": {
        "id": "ONj6D9HIlis7",
        "colab_type": "text"
      },
      "source": [
        "#**A very basic classification, version-1.1.1**\n",
        "---"
      ]
    },
    {
      "cell_type": "code",
      "metadata": {
        "id": "IG5iuXdPlttD",
        "colab_type": "code",
        "colab": {
          "base_uri": "https://localhost:8080/",
          "height": 36
        },
        "outputId": "a762cdc1-46d9-4599-f8c0-9ecff079afe3"
      },
      "source": [
        "column_names = list(dataset.columns)\n",
        "print(column_names)"
      ],
      "execution_count": 4,
      "outputs": [
        {
          "output_type": "stream",
          "text": [
            "['sepal_length', 'sepal_width', 'petal_length', 'petal_width', 'species']\n"
          ],
          "name": "stdout"
        }
      ]
    },
    {
      "cell_type": "code",
      "metadata": {
        "id": "5Ivl7z87t8re",
        "colab_type": "code",
        "colab": {}
      },
      "source": [
        "def model_trainer(train_set, class_gen):\n",
        "  '''\n",
        "  Input:\n",
        "  train_set: a numpy array, on which the model is to be created\n",
        "  class_gen: a dicionary which intially has the class names and random number for their maximum and minimum value\n",
        "\n",
        "  Output:\n",
        "  class_gen: a dictionary that contains the limits for each class\n",
        "\n",
        "  Process:\n",
        "  a loop will iterate through the given numpy array. For each entry, it will match with its corresponding class in the dictionary and compare the length/width ranges and update accordingly.\n",
        "  '''\n",
        "  for flower in train_set:\n",
        "    if (flower[0] > class_gen[flower[1]][\"max\"]):\n",
        "      class_gen[flower[1]][\"max\"] = flower[0]\n",
        "    elif (flower[0] < class_gen[flower[1]][\"min\"]):\n",
        "      class_gen[flower[1]][\"min\"] = flower[0]\n",
        "\n",
        "  return class_gen"
      ],
      "execution_count": 5,
      "outputs": []
    },
    {
      "cell_type": "code",
      "metadata": {
        "id": "6nMZw8TouK-Q",
        "colab_type": "code",
        "colab": {}
      },
      "source": [
        "def predict_class(class_gen, flower_feature):\n",
        "  for probable_class, class_info in class_gen.items():\n",
        "    if (flower_feature >= class_info[\"min\"]) and (flower_feature <= class_info[\"max\"]):\n",
        "      return probable_class\n",
        "  return \"Nothing found\""
      ],
      "execution_count": 6,
      "outputs": []
    },
    {
      "cell_type": "code",
      "metadata": {
        "id": "wfVUBFHjuQ2F",
        "colab_type": "code",
        "colab": {}
      },
      "source": [
        "def calculate_accuracy(validation_set, class_gen):\n",
        "  '''\n",
        "  Input:\n",
        "  validation_set: a numpy array, which will be used to find classification accuracy\n",
        "  class_gen: a dictionary of classification info\n",
        "\n",
        "  Output:\n",
        "  accuracy: a floating point number (denoting percentage)\n",
        "\n",
        "  Process:\n",
        "  A loop will iterate through the validation_set, predict the class from class_gen (using the predict_class() function) and match it with the given class.\n",
        "  Count if the prediction was correct.\n",
        "  At the end ofthe loop, just calculate the percentage and return.\n",
        "  '''\n",
        "  correct_prediction = 0\n",
        "  for flower in validation_set:\n",
        "    # flower[0] is the feature\n",
        "    # flower[1] is the class\n",
        "    if (flower[1] == predict_class(class_gen, flower[0])):\n",
        "      correct_prediction += 1\n",
        "    accuracy = (correct_prediction/len(validation_set))*100\n",
        "\n",
        "  return accuracy"
      ],
      "execution_count": 7,
      "outputs": []
    },
    {
      "cell_type": "code",
      "metadata": {
        "id": "XbeOXeUKtUQE",
        "colab_type": "code",
        "colab": {}
      },
      "source": [
        "class_names = dataset[column_names[4]].unique()"
      ],
      "execution_count": 8,
      "outputs": []
    },
    {
      "cell_type": "markdown",
      "metadata": {
        "id": "IUaPALKQscNB",
        "colab_type": "text"
      },
      "source": [
        "Now, instead of running the same code for every feature, I am going to create a loop that will iterate through all the features and train, validate and test the data."
      ]
    },
    {
      "cell_type": "code",
      "metadata": {
        "id": "HeBA8hd2mh3p",
        "colab_type": "code",
        "colab": {
          "base_uri": "https://localhost:8080/",
          "height": 613
        },
        "outputId": "88c6b262-007b-47d6-ae3c-98153ecfe823"
      },
      "source": [
        "for feature in column_names[:4]:\n",
        "  print(\"Working feature: {}\".format(feature))\n",
        "  class_gen = {}\n",
        "  for class_name in class_names:\n",
        "    class_gen[class_name] = {\"min\":10, \"max\":0.1}\n",
        "  \n",
        "  numpy_dataset = dataset[[feature, \"species\"]].to_numpy()\n",
        "  train_set, validation_set = train_test_split(numpy_dataset, test_size=0.2, random_state=42)\n",
        "  train_set, test_set = train_test_split(train_set, test_size=0.2, random_state=42)\n",
        "\n",
        "  class_gen = model_trainer(train_set, class_gen)\n",
        "  print(class_gen)\n",
        "\n",
        "  print(\"Accuracy on validation set: {}\".format(calculate_accuracy(validation_set, class_gen)))\n",
        "  print(\"Accuracy on test set: {}\".format(calculate_accuracy(test_set, class_gen)))\n",
        "\n",
        "  # checking a random data\n",
        "  feature_value = test_set[random.randint(0,len(test_set)-1)][0]\n",
        "  print(\"Flower of petal length {} is {}\".format(feature_value,predict_class(class_gen, feature_value)))\n",
        "  print(\"\\n---------------------------------------------------------------------------------\\n\")"
      ],
      "execution_count": 10,
      "outputs": [
        {
          "output_type": "stream",
          "text": [
            "Working feature: sepal_length\n",
            "{'setosa': {'min': 4.3, 'max': 5.8}, 'versicolor': {'min': 4.9, 'max': 7.0}, 'virginica': {'min': 4.9, 'max': 7.7}}\n",
            "Accuracy on validation set: 53.333333333333336\n",
            "Accuracy on test set: 58.333333333333336\n",
            "Flower of petal length 5.7 is setosa\n",
            "\n",
            "---------------------------------------------------------------------------------\n",
            "\n",
            "Working feature: sepal_width\n",
            "{'setosa': {'min': 2.9, 'max': 4.4}, 'versicolor': {'min': 2.0, 'max': 3.2}, 'virginica': {'min': 2.2, 'max': 3.8}}\n",
            "Accuracy on validation set: 53.333333333333336\n",
            "Accuracy on test set: 58.333333333333336\n",
            "Flower of petal length 3.4 is setosa\n",
            "\n",
            "---------------------------------------------------------------------------------\n",
            "\n",
            "Working feature: petal_length\n",
            "{'setosa': {'min': 1.1, 'max': 1.9}, 'versicolor': {'min': 3.0, 'max': 5.0}, 'virginica': {'min': 4.5, 'max': 6.7}}\n",
            "Accuracy on validation set: 93.33333333333333\n",
            "Accuracy on test set: 87.5\n",
            "Flower of petal length 1.3 is setosa\n",
            "\n",
            "---------------------------------------------------------------------------------\n",
            "\n",
            "Working feature: petal_width\n",
            "{'setosa': {'min': 0.1, 'max': 0.6}, 'versicolor': {'min': 1.0, 'max': 1.8}, 'virginica': {'min': 1.4, 'max': 2.5}}\n",
            "Accuracy on validation set: 93.33333333333333\n",
            "Accuracy on test set: 91.66666666666666\n",
            "Flower of petal length 2.0 is virginica\n",
            "\n",
            "---------------------------------------------------------------------------------\n",
            "\n"
          ],
          "name": "stdout"
        }
      ]
    },
    {
      "cell_type": "code",
      "metadata": {
        "id": "dZ3wHPT6x6RE",
        "colab_type": "code",
        "colab": {}
      },
      "source": [
        ""
      ],
      "execution_count": null,
      "outputs": []
    }
  ]
}