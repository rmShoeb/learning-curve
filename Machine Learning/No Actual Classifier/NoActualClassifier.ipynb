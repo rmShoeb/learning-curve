{
  "nbformat": 4,
  "nbformat_minor": 0,
  "metadata": {
    "colab": {
      "name": "NoActualClassifier.ipynb",
      "provenance": []
    },
    "kernelspec": {
      "name": "python3",
      "display_name": "Python 3"
    }
  },
  "cells": [
    {
      "cell_type": "code",
      "metadata": {
        "id": "M89yyssHdmKv",
        "colab_type": "code",
        "colab": {}
      },
      "source": [
        "import numpy as np\n",
        "import pandas as pd\n",
        "import matplotlib.pyplot as plt\n",
        "%matplotlib inline"
      ],
      "execution_count": 1,
      "outputs": []
    },
    {
      "cell_type": "markdown",
      "metadata": {
        "id": "GNIhbPkOvmbS",
        "colab_type": "text"
      },
      "source": [
        "#**Fetching the data**\n",
        "---"
      ]
    },
    {
      "cell_type": "code",
      "metadata": {
        "id": "qXqzUf4BgdXY",
        "colab_type": "code",
        "colab": {}
      },
      "source": [
        "def fetchData(linkToFile):\n",
        "  return pd.read_csv(linkToFile)"
      ],
      "execution_count": 2,
      "outputs": []
    },
    {
      "cell_type": "code",
      "metadata": {
        "id": "YC4VGP0Ag3bY",
        "colab_type": "code",
        "colab": {}
      },
      "source": [
        "dataset = fetchData(\"https://gist.githubusercontent.com/curran/a08a1080b88344b0c8a7/raw/639388c2cbc2120a14dcf466e85730eb8be498bb/iris.csv\")"
      ],
      "execution_count": 3,
      "outputs": []
    },
    {
      "cell_type": "markdown",
      "metadata": {
        "id": "SySyR9ORvtZ4",
        "colab_type": "text"
      },
      "source": [
        "#**Looking at the data and its characteristics**\n",
        "---"
      ]
    },
    {
      "cell_type": "code",
      "metadata": {
        "id": "eNAjW2klhAWg",
        "colab_type": "code",
        "colab": {
          "base_uri": "https://localhost:8080/",
          "height": 0
        },
        "outputId": "8fbd34fb-8a2f-4e26-f29e-44b6017372ab"
      },
      "source": [
        "dataset.head()"
      ],
      "execution_count": 4,
      "outputs": [
        {
          "output_type": "execute_result",
          "data": {
            "text/html": [
              "<div>\n",
              "<style scoped>\n",
              "    .dataframe tbody tr th:only-of-type {\n",
              "        vertical-align: middle;\n",
              "    }\n",
              "\n",
              "    .dataframe tbody tr th {\n",
              "        vertical-align: top;\n",
              "    }\n",
              "\n",
              "    .dataframe thead th {\n",
              "        text-align: right;\n",
              "    }\n",
              "</style>\n",
              "<table border=\"1\" class=\"dataframe\">\n",
              "  <thead>\n",
              "    <tr style=\"text-align: right;\">\n",
              "      <th></th>\n",
              "      <th>sepal_length</th>\n",
              "      <th>sepal_width</th>\n",
              "      <th>petal_length</th>\n",
              "      <th>petal_width</th>\n",
              "      <th>species</th>\n",
              "    </tr>\n",
              "  </thead>\n",
              "  <tbody>\n",
              "    <tr>\n",
              "      <th>0</th>\n",
              "      <td>5.1</td>\n",
              "      <td>3.5</td>\n",
              "      <td>1.4</td>\n",
              "      <td>0.2</td>\n",
              "      <td>setosa</td>\n",
              "    </tr>\n",
              "    <tr>\n",
              "      <th>1</th>\n",
              "      <td>4.9</td>\n",
              "      <td>3.0</td>\n",
              "      <td>1.4</td>\n",
              "      <td>0.2</td>\n",
              "      <td>setosa</td>\n",
              "    </tr>\n",
              "    <tr>\n",
              "      <th>2</th>\n",
              "      <td>4.7</td>\n",
              "      <td>3.2</td>\n",
              "      <td>1.3</td>\n",
              "      <td>0.2</td>\n",
              "      <td>setosa</td>\n",
              "    </tr>\n",
              "    <tr>\n",
              "      <th>3</th>\n",
              "      <td>4.6</td>\n",
              "      <td>3.1</td>\n",
              "      <td>1.5</td>\n",
              "      <td>0.2</td>\n",
              "      <td>setosa</td>\n",
              "    </tr>\n",
              "    <tr>\n",
              "      <th>4</th>\n",
              "      <td>5.0</td>\n",
              "      <td>3.6</td>\n",
              "      <td>1.4</td>\n",
              "      <td>0.2</td>\n",
              "      <td>setosa</td>\n",
              "    </tr>\n",
              "  </tbody>\n",
              "</table>\n",
              "</div>"
            ],
            "text/plain": [
              "   sepal_length  sepal_width  petal_length  petal_width species\n",
              "0           5.1          3.5           1.4          0.2  setosa\n",
              "1           4.9          3.0           1.4          0.2  setosa\n",
              "2           4.7          3.2           1.3          0.2  setosa\n",
              "3           4.6          3.1           1.5          0.2  setosa\n",
              "4           5.0          3.6           1.4          0.2  setosa"
            ]
          },
          "metadata": {
            "tags": []
          },
          "execution_count": 4
        }
      ]
    },
    {
      "cell_type": "code",
      "metadata": {
        "id": "L1qwhOy4hCmD",
        "colab_type": "code",
        "colab": {
          "base_uri": "https://localhost:8080/",
          "height": 0
        },
        "outputId": "0abc6c95-b0b7-43ea-dbd2-d191bd6dae60"
      },
      "source": [
        "dataset.describe()"
      ],
      "execution_count": 5,
      "outputs": [
        {
          "output_type": "execute_result",
          "data": {
            "text/html": [
              "<div>\n",
              "<style scoped>\n",
              "    .dataframe tbody tr th:only-of-type {\n",
              "        vertical-align: middle;\n",
              "    }\n",
              "\n",
              "    .dataframe tbody tr th {\n",
              "        vertical-align: top;\n",
              "    }\n",
              "\n",
              "    .dataframe thead th {\n",
              "        text-align: right;\n",
              "    }\n",
              "</style>\n",
              "<table border=\"1\" class=\"dataframe\">\n",
              "  <thead>\n",
              "    <tr style=\"text-align: right;\">\n",
              "      <th></th>\n",
              "      <th>sepal_length</th>\n",
              "      <th>sepal_width</th>\n",
              "      <th>petal_length</th>\n",
              "      <th>petal_width</th>\n",
              "    </tr>\n",
              "  </thead>\n",
              "  <tbody>\n",
              "    <tr>\n",
              "      <th>count</th>\n",
              "      <td>150.000000</td>\n",
              "      <td>150.000000</td>\n",
              "      <td>150.000000</td>\n",
              "      <td>150.000000</td>\n",
              "    </tr>\n",
              "    <tr>\n",
              "      <th>mean</th>\n",
              "      <td>5.843333</td>\n",
              "      <td>3.054000</td>\n",
              "      <td>3.758667</td>\n",
              "      <td>1.198667</td>\n",
              "    </tr>\n",
              "    <tr>\n",
              "      <th>std</th>\n",
              "      <td>0.828066</td>\n",
              "      <td>0.433594</td>\n",
              "      <td>1.764420</td>\n",
              "      <td>0.763161</td>\n",
              "    </tr>\n",
              "    <tr>\n",
              "      <th>min</th>\n",
              "      <td>4.300000</td>\n",
              "      <td>2.000000</td>\n",
              "      <td>1.000000</td>\n",
              "      <td>0.100000</td>\n",
              "    </tr>\n",
              "    <tr>\n",
              "      <th>25%</th>\n",
              "      <td>5.100000</td>\n",
              "      <td>2.800000</td>\n",
              "      <td>1.600000</td>\n",
              "      <td>0.300000</td>\n",
              "    </tr>\n",
              "    <tr>\n",
              "      <th>50%</th>\n",
              "      <td>5.800000</td>\n",
              "      <td>3.000000</td>\n",
              "      <td>4.350000</td>\n",
              "      <td>1.300000</td>\n",
              "    </tr>\n",
              "    <tr>\n",
              "      <th>75%</th>\n",
              "      <td>6.400000</td>\n",
              "      <td>3.300000</td>\n",
              "      <td>5.100000</td>\n",
              "      <td>1.800000</td>\n",
              "    </tr>\n",
              "    <tr>\n",
              "      <th>max</th>\n",
              "      <td>7.900000</td>\n",
              "      <td>4.400000</td>\n",
              "      <td>6.900000</td>\n",
              "      <td>2.500000</td>\n",
              "    </tr>\n",
              "  </tbody>\n",
              "</table>\n",
              "</div>"
            ],
            "text/plain": [
              "       sepal_length  sepal_width  petal_length  petal_width\n",
              "count    150.000000   150.000000    150.000000   150.000000\n",
              "mean       5.843333     3.054000      3.758667     1.198667\n",
              "std        0.828066     0.433594      1.764420     0.763161\n",
              "min        4.300000     2.000000      1.000000     0.100000\n",
              "25%        5.100000     2.800000      1.600000     0.300000\n",
              "50%        5.800000     3.000000      4.350000     1.300000\n",
              "75%        6.400000     3.300000      5.100000     1.800000\n",
              "max        7.900000     4.400000      6.900000     2.500000"
            ]
          },
          "metadata": {
            "tags": []
          },
          "execution_count": 5
        }
      ]
    },
    {
      "cell_type": "code",
      "metadata": {
        "id": "Jys7CbQghG4T",
        "colab_type": "code",
        "colab": {
          "base_uri": "https://localhost:8080/",
          "height": 0
        },
        "outputId": "0bbd2307-e57a-4410-e62b-95d8edaf6019"
      },
      "source": [
        "dataset.info()"
      ],
      "execution_count": 6,
      "outputs": [
        {
          "output_type": "stream",
          "text": [
            "<class 'pandas.core.frame.DataFrame'>\n",
            "RangeIndex: 150 entries, 0 to 149\n",
            "Data columns (total 5 columns):\n",
            " #   Column        Non-Null Count  Dtype  \n",
            "---  ------        --------------  -----  \n",
            " 0   sepal_length  150 non-null    float64\n",
            " 1   sepal_width   150 non-null    float64\n",
            " 2   petal_length  150 non-null    float64\n",
            " 3   petal_width   150 non-null    float64\n",
            " 4   species       150 non-null    object \n",
            "dtypes: float64(4), object(1)\n",
            "memory usage: 6.0+ KB\n"
          ],
          "name": "stdout"
        }
      ]
    },
    {
      "cell_type": "code",
      "metadata": {
        "id": "XeLw1akjhPXS",
        "colab_type": "code",
        "colab": {
          "base_uri": "https://localhost:8080/",
          "height": 0
        },
        "outputId": "ed31f715-d23c-48f1-efcf-6b29706be49f"
      },
      "source": [
        "dataset.hist(figsize=(15,12))\n",
        "plt.show()"
      ],
      "execution_count": 7,
      "outputs": [
        {
          "output_type": "display_data",
          "data": {
            "image/png": "[encoded data removed]",
            "text/plain": [
              "<Figure size 1080x864 with 4 Axes>"
            ]
          },
          "metadata": {
            "tags": [],
            "needs_background": "light"
          }
        }
      ]
    },
    {
      "cell_type": "code",
      "metadata": {
        "id": "zFbRRVvljzFf",
        "colab_type": "code",
        "colab": {
          "base_uri": "https://localhost:8080/",
          "height": 0
        },
        "outputId": "f4b849d8-3226-4673-bba3-7a2372acbb8e"
      },
      "source": [
        "dataset.corr()"
      ],
      "execution_count": 8,
      "outputs": [
        {
          "output_type": "execute_result",
          "data": {
            "text/html": [
              "<div>\n",
              "<style scoped>\n",
              "    .dataframe tbody tr th:only-of-type {\n",
              "        vertical-align: middle;\n",
              "    }\n",
              "\n",
              "    .dataframe tbody tr th {\n",
              "        vertical-align: top;\n",
              "    }\n",
              "\n",
              "    .dataframe thead th {\n",
              "        text-align: right;\n",
              "    }\n",
              "</style>\n",
              "<table border=\"1\" class=\"dataframe\">\n",
              "  <thead>\n",
              "    <tr style=\"text-align: right;\">\n",
              "      <th></th>\n",
              "      <th>sepal_length</th>\n",
              "      <th>sepal_width</th>\n",
              "      <th>petal_length</th>\n",
              "      <th>petal_width</th>\n",
              "    </tr>\n",
              "  </thead>\n",
              "  <tbody>\n",
              "    <tr>\n",
              "      <th>sepal_length</th>\n",
              "      <td>1.000000</td>\n",
              "      <td>-0.109369</td>\n",
              "      <td>0.871754</td>\n",
              "      <td>0.817954</td>\n",
              "    </tr>\n",
              "    <tr>\n",
              "      <th>sepal_width</th>\n",
              "      <td>-0.109369</td>\n",
              "      <td>1.000000</td>\n",
              "      <td>-0.420516</td>\n",
              "      <td>-0.356544</td>\n",
              "    </tr>\n",
              "    <tr>\n",
              "      <th>petal_length</th>\n",
              "      <td>0.871754</td>\n",
              "      <td>-0.420516</td>\n",
              "      <td>1.000000</td>\n",
              "      <td>0.962757</td>\n",
              "    </tr>\n",
              "    <tr>\n",
              "      <th>petal_width</th>\n",
              "      <td>0.817954</td>\n",
              "      <td>-0.356544</td>\n",
              "      <td>0.962757</td>\n",
              "      <td>1.000000</td>\n",
              "    </tr>\n",
              "  </tbody>\n",
              "</table>\n",
              "</div>"
            ],
            "text/plain": [
              "              sepal_length  sepal_width  petal_length  petal_width\n",
              "sepal_length      1.000000    -0.109369      0.871754     0.817954\n",
              "sepal_width      -0.109369     1.000000     -0.420516    -0.356544\n",
              "petal_length      0.871754    -0.420516      1.000000     0.962757\n",
              "petal_width       0.817954    -0.356544      0.962757     1.000000"
            ]
          },
          "metadata": {
            "tags": []
          },
          "execution_count": 8
        }
      ]
    },
    {
      "cell_type": "markdown",
      "metadata": {
        "id": "gnatvAcqGzMn",
        "colab_type": "text"
      },
      "source": [
        "#**A very basic classification**\n",
        "---"
      ]
    },
    {
      "cell_type": "markdown",
      "metadata": {
        "id": "hl_zmr5uIVfk",
        "colab_type": "text"
      },
      "source": [
        "As seen in the correlation table above, the features **sepal_length**, **petal_length** and **petal_width** are highly correlated; whereas the feature **sepal_width** stands out from them."
      ]
    },
    {
      "cell_type": "code",
      "metadata": {
        "id": "GKZl1Jp1KvBb",
        "colab_type": "code",
        "colab": {}
      },
      "source": [
        "column_names = list(dataset.columns)"
      ],
      "execution_count": 9,
      "outputs": []
    },
    {
      "cell_type": "markdown",
      "metadata": {
        "id": "FF4VY7bjIF3v",
        "colab_type": "text"
      },
      "source": [
        "**Trying to find out which feature will be good for classification**\n",
        "---"
      ]
    },
    {
      "cell_type": "markdown",
      "metadata": {
        "id": "lYcw9HdYJXis",
        "colab_type": "text"
      },
      "source": [
        "Since **sepal_lenght**, **petal_length** and **petal_width** are highly correlated, I am going to see which one of them can classify the dataset *best*."
      ]
    },
    {
      "cell_type": "code",
      "metadata": {
        "id": "2HF9VjDqENLt",
        "colab_type": "code",
        "colab": {
          "base_uri": "https://localhost:8080/",
          "height": 0
        },
        "outputId": "e2f57e58-635c-420b-db74-2def566c3f40"
      },
      "source": [
        "dataset.plot.scatter(x=column_names[0], y=column_names[4], figsize=(15,3))   #sepal_length\n",
        "plt.show()"
      ],
      "execution_count": 10,
      "outputs": [
        {
          "output_type": "display_data",
          "data": {
            "image/png": "[encoded data removed]",
            "text/plain": [
              "<Figure size 1080x216 with 1 Axes>"
            ]
          },
          "metadata": {
            "tags": [],
            "needs_background": "light"
          }
        }
      ]
    },
    {
      "cell_type": "markdown",
      "metadata": {
        "id": "TVwJKWZ-Qw0v",
        "colab_type": "text"
      },
      "source": [
        "From what I see in the plot above, it will be quite impossible to classify from the feature **sepal_length** alone. Let us look into its correlated features and see if they can meet out need."
      ]
    },
    {
      "cell_type": "code",
      "metadata": {
        "id": "yC8GjiapPuaf",
        "colab_type": "code",
        "colab": {
          "base_uri": "https://localhost:8080/",
          "height": 0
        },
        "outputId": "ab02ae0b-6a18-417b-ef41-0deb3cca7e41"
      },
      "source": [
        "dataset.plot.scatter(x=column_names[2], y=column_names[4], figsize=(15,3))   #petal_length\n",
        "plt.show()"
      ],
      "execution_count": 11,
      "outputs": [
        {
          "output_type": "display_data",
          "data": {
            "image/png": "[encoded data removed]",
            "text/plain": [
              "<Figure size 1080x216 with 1 Axes>"
            ]
          },
          "metadata": {
            "tags": [],
            "needs_background": "light"
          }
        }
      ]
    },
    {
      "cell_type": "markdown",
      "metadata": {
        "id": "fVILv24vSEYX",
        "colab_type": "text"
      },
      "source": [
        "Well, this looks promising. This feature's characteristic is very close to what we need to classify our data."
      ]
    },
    {
      "cell_type": "code",
      "metadata": {
        "id": "uAqwu68PR6eH",
        "colab_type": "code",
        "colab": {
          "base_uri": "https://localhost:8080/",
          "height": 0
        },
        "outputId": "f9cecc7e-9ad5-4df7-b5c5-1ed0f580bff1"
      },
      "source": [
        "dataset.plot.scatter(x=column_names[3], y=column_names[4], figsize=(15,3))   #petal_width\n",
        "plt.show()"
      ],
      "execution_count": 12,
      "outputs": [
        {
          "output_type": "display_data",
          "data": {
            "image/png": "[encoded data removed]",
            "text/plain": [
              "<Figure size 1080x216 with 1 Axes>"
            ]
          },
          "metadata": {
            "tags": [],
            "needs_background": "light"
          }
        }
      ]
    },
    {
      "cell_type": "markdown",
      "metadata": {
        "id": "q4w0pW1KSzSq",
        "colab_type": "text"
      },
      "source": [
        "This feature seems good too, although the previous feature seems better to use for classifiaation."
      ]
    },
    {
      "cell_type": "markdown",
      "metadata": {
        "id": "Nl4fAloxkoEc",
        "colab_type": "text"
      },
      "source": [
        "**Using only one feature to classify data**\n",
        "---"
      ]
    },
    {
      "cell_type": "markdown",
      "metadata": {
        "id": "xDQBLWm5k7zQ",
        "colab_type": "text"
      },
      "source": [
        "I'll use the feature **petal_length** first to see how it performs. For that, I'll need a dictionary to store the information."
      ]
    },
    {
      "cell_type": "code",
      "metadata": {
        "id": "cnMlHLxZl1PM",
        "colab_type": "code",
        "colab": {}
      },
      "source": [
        "class_names = dataset[column_names[4]].unique()"
      ],
      "execution_count": 13,
      "outputs": []
    },
    {
      "cell_type": "code",
      "metadata": {
        "id": "EZI_kkHeSs7v",
        "colab_type": "code",
        "colab": {}
      },
      "source": [
        "class_gen = {}\n",
        "for class_name in class_names:\n",
        "  class_gen[class_name] = {\"min\":10, \"max\":0.1}"
      ],
      "execution_count": 14,
      "outputs": []
    },
    {
      "cell_type": "code",
      "metadata": {
        "id": "ihgIYvRXmzel",
        "colab_type": "code",
        "colab": {
          "base_uri": "https://localhost:8080/",
          "height": 73
        },
        "outputId": "f71a2c45-d25e-4e95-838c-a3fa849ce653"
      },
      "source": [
        "class_gen"
      ],
      "execution_count": 15,
      "outputs": [
        {
          "output_type": "execute_result",
          "data": {
            "text/plain": [
              "{'setosa': {'max': 0.1, 'min': 10},\n",
              " 'versicolor': {'max': 0.1, 'min': 10},\n",
              " 'virginica': {'max': 0.1, 'min': 10}}"
            ]
          },
          "metadata": {
            "tags": []
          },
          "execution_count": 15
        }
      ]
    },
    {
      "cell_type": "markdown",
      "metadata": {
        "id": "mms2hin5nNiH",
        "colab_type": "text"
      },
      "source": [
        "Since the minimum petal lenth is 1 and maximum petal length is 6.9, there is no need to take larger initial value to start comparison."
      ]
    },
    {
      "cell_type": "markdown",
      "metadata": {
        "id": "OcTqmzY2oEAg",
        "colab_type": "text"
      },
      "source": [
        "Now, I'll iterate through the dataset to update the dictionary and then use it to classify the test data.\n",
        "\n",
        "To train, validate and test this, I'll split the original dataset into three sets."
      ]
    },
    {
      "cell_type": "code",
      "metadata": {
        "id": "yeF2UtEupRM_",
        "colab_type": "code",
        "colab": {}
      },
      "source": [
        "numpy_dataset = dataset[[\"petal_length\",\"species\"]].to_numpy()"
      ],
      "execution_count": 16,
      "outputs": []
    },
    {
      "cell_type": "code",
      "metadata": {
        "id": "hUUzsTbxm2IY",
        "colab_type": "code",
        "colab": {}
      },
      "source": [
        "from sklearn.model_selection import train_test_split\n",
        "train_set, validation_set = train_test_split(numpy_dataset, test_size=0.2, random_state=42)\n",
        "train_set, test_set = train_test_split(train_set, test_size=0.2, random_state=42)"
      ],
      "execution_count": 17,
      "outputs": []
    },
    {
      "cell_type": "code",
      "metadata": {
        "id": "M4eYuJ2TpgtW",
        "colab_type": "code",
        "colab": {}
      },
      "source": [
        "def model_trainer(train_set, class_gen):\n",
        "  '''\n",
        "  Input:\n",
        "  train_set: a numpy array, on which the model is to be created\n",
        "  class_gen: a dicionary which intially has the class names and random number for their maximum and minimum value\n",
        "\n",
        "  Output:\n",
        "  class_gen: a dictionary that contains the limits for each class\n",
        "\n",
        "  Process:\n",
        "  a loop will iterate through the given numpy array. For each entry, it will match with its corresponding class in the dictionary and compare the length/width ranges and update accordingly.\n",
        "  '''\n",
        "  for flower in train_set:\n",
        "    if (flower[0] > class_gen[flower[1]][\"max\"]):\n",
        "      class_gen[flower[1]][\"max\"] = flower[0]\n",
        "    elif (flower[0] < class_gen[flower[1]][\"min\"]):\n",
        "      class_gen[flower[1]][\"min\"] = flower[0]\n",
        "\n",
        "  return class_gen"
      ],
      "execution_count": 18,
      "outputs": []
    },
    {
      "cell_type": "code",
      "metadata": {
        "id": "V_7AeduayEKI",
        "colab_type": "code",
        "colab": {}
      },
      "source": [
        "class_gen = model_trainer(train_set, class_gen)"
      ],
      "execution_count": 19,
      "outputs": []
    },
    {
      "cell_type": "markdown",
      "metadata": {
        "id": "y0p0rKc_0wnB",
        "colab_type": "text"
      },
      "source": [
        "Let's see what our trainer has generated."
      ]
    },
    {
      "cell_type": "code",
      "metadata": {
        "id": "9Vfd5hrV0fnJ",
        "colab_type": "code",
        "colab": {
          "base_uri": "https://localhost:8080/",
          "height": 73
        },
        "outputId": "57eb5520-4dc4-4c16-e871-abc6bd2f4919"
      },
      "source": [
        "class_gen"
      ],
      "execution_count": 20,
      "outputs": [
        {
          "output_type": "execute_result",
          "data": {
            "text/plain": [
              "{'setosa': {'max': 1.9, 'min': 1.1},\n",
              " 'versicolor': {'max': 5.0, 'min': 3.0},\n",
              " 'virginica': {'max': 6.7, 'min': 4.5}}"
            ]
          },
          "metadata": {
            "tags": []
          },
          "execution_count": 20
        }
      ]
    },
    {
      "cell_type": "markdown",
      "metadata": {
        "id": "KO8hjfOH1wcw",
        "colab_type": "text"
      },
      "source": [
        "Let's create a function that will measure our classifier's accuracy."
      ]
    },
    {
      "cell_type": "code",
      "metadata": {
        "id": "rnJHVDx83IKv",
        "colab_type": "code",
        "colab": {}
      },
      "source": [
        "def predict_class(class_gen, flower_feature):\n",
        "  for probable_class, class_info in class_gen.items():\n",
        "    if (flower_feature >= class_info[\"min\"]) and (flower_feature <= class_info[\"max\"]):\n",
        "      return probable_class\n",
        "  return \"Nothing found\"  # the function will return this only if it hasn't been able to locate the given feature in the class boundaries"
      ],
      "execution_count": 21,
      "outputs": []
    },
    {
      "cell_type": "code",
      "metadata": {
        "id": "28ZoXLqJ0qiN",
        "colab_type": "code",
        "colab": {}
      },
      "source": [
        "def calculate_accuracy(validation_set, class_gen):\n",
        "  '''\n",
        "  Input:\n",
        "  validation_set: a numpy array, which will be used to find classification accuracy\n",
        "  class_gen: a dictionary of classification info\n",
        "\n",
        "  Output:\n",
        "  accuracy: a floating point number (denoting percentage)\n",
        "\n",
        "  Process:\n",
        "  A loop will iterate through the validation_set, predict the class from class_gen (using the predict_class() function) and match it with the given class.\n",
        "  Count if the prediction was correct.\n",
        "  At the end ofthe loop, just calculate the percentage and return.\n",
        "  '''\n",
        "  correct_prediction = 0\n",
        "  for flower in validation_set:\n",
        "    # flower[0] is the feature\n",
        "    # flower[1] is the class\n",
        "    if (flower[1] == predict_class(class_gen, flower[0])):\n",
        "      correct_prediction += 1\n",
        "    accuracy = (correct_prediction/len(validation_set))*100\n",
        "\n",
        "  return accuracy"
      ],
      "execution_count": 22,
      "outputs": []
    },
    {
      "cell_type": "code",
      "metadata": {
        "id": "07vD2Gzd8OUV",
        "colab_type": "code",
        "colab": {
          "base_uri": "https://localhost:8080/",
          "height": 36
        },
        "outputId": "f225c680-da0e-4895-91a5-ddb427335c7b"
      },
      "source": [
        "calculate_accuracy(validation_set, class_gen)"
      ],
      "execution_count": 23,
      "outputs": [
        {
          "output_type": "execute_result",
          "data": {
            "text/plain": [
              "93.33333333333333"
            ]
          },
          "metadata": {
            "tags": []
          },
          "execution_count": 23
        }
      ]
    },
    {
      "cell_type": "markdown",
      "metadata": {
        "id": "x5BA8N40_0X3",
        "colab_type": "text"
      },
      "source": [
        "That seems really good for such a simple classification!"
      ]
    },
    {
      "cell_type": "markdown",
      "metadata": {
        "id": "NGIJp788AH7P",
        "colab_type": "text"
      },
      "source": [
        "Let's see how well it performs on test data."
      ]
    },
    {
      "cell_type": "code",
      "metadata": {
        "id": "3JgH7dr38VLl",
        "colab_type": "code",
        "colab": {
          "base_uri": "https://localhost:8080/",
          "height": 36
        },
        "outputId": "ddabc7a2-b524-4045-d51c-21020dbbd701"
      },
      "source": [
        "calculate_accuracy(test_set, class_gen)"
      ],
      "execution_count": 24,
      "outputs": [
        {
          "output_type": "execute_result",
          "data": {
            "text/plain": [
              "87.5"
            ]
          },
          "metadata": {
            "tags": []
          },
          "execution_count": 24
        }
      ]
    },
    {
      "cell_type": "markdown",
      "metadata": {
        "id": "EYXisqQsAVkp",
        "colab_type": "text"
      },
      "source": [
        "Not bad!"
      ]
    },
    {
      "cell_type": "markdown",
      "metadata": {
        "id": "dRfeWJYD2_jl",
        "colab_type": "text"
      },
      "source": [
        "Let's see some of the outputs from test data."
      ]
    },
    {
      "cell_type": "code",
      "metadata": {
        "id": "D2qH8kJlARp_",
        "colab_type": "code",
        "colab": {}
      },
      "source": [
        "import random"
      ],
      "execution_count": 25,
      "outputs": []
    },
    {
      "cell_type": "code",
      "metadata": {
        "id": "0JOptTfJ63Vy",
        "colab_type": "code",
        "colab": {
          "base_uri": "https://localhost:8080/",
          "height": 36
        },
        "outputId": "64f87a83-f773-4fae-c653-de199929444c"
      },
      "source": [
        "feature_value = test_set[random.randint(0,len(test_set)-1)][0]\n",
        "print(\"Flower of petal length {} is {}\".format(feature_value,predict_class(class_gen, feature_value)))\n",
        "# pick an index from test_set randomly and check its class"
      ],
      "execution_count": 26,
      "outputs": [
        {
          "output_type": "stream",
          "text": [
            "Flower of petal length 1.4 is setosa\n"
          ],
          "name": "stdout"
        }
      ]
    },
    {
      "cell_type": "markdown",
      "metadata": {
        "id": "qCbDScHA8EqK",
        "colab_type": "text"
      },
      "source": [
        "**Other feature's performance on the same model**\n",
        "---"
      ]
    },
    {
      "cell_type": "markdown",
      "metadata": {
        "id": "QCOiWrwY8lrS",
        "colab_type": "text"
      },
      "source": [
        "**Sepal length**"
      ]
    },
    {
      "cell_type": "code",
      "metadata": {
        "id": "eS42O0yx7IGP",
        "colab_type": "code",
        "colab": {}
      },
      "source": [
        "class_gen = {}\n",
        "for class_name in class_names:\n",
        "  class_gen[class_name] = {\"min\":10, \"max\":0.1}"
      ],
      "execution_count": 27,
      "outputs": []
    },
    {
      "cell_type": "code",
      "metadata": {
        "id": "qtGlwBvT8j1B",
        "colab_type": "code",
        "colab": {}
      },
      "source": [
        "numpy_dataset = dataset[[\"sepal_length\",\"species\"]].to_numpy()\n",
        "from sklearn.model_selection import train_test_split\n",
        "train_set, validation_set = train_test_split(numpy_dataset, test_size=0.2, random_state=42)\n",
        "train_set, test_set = train_test_split(train_set, test_size=0.2, random_state=42)"
      ],
      "execution_count": 28,
      "outputs": []
    },
    {
      "cell_type": "code",
      "metadata": {
        "id": "Egk6idO79PPt",
        "colab_type": "code",
        "colab": {}
      },
      "source": [
        "class_gen = model_trainer(train_set, class_gen)"
      ],
      "execution_count": 29,
      "outputs": []
    },
    {
      "cell_type": "code",
      "metadata": {
        "id": "DSNFF-ds_8uT",
        "colab_type": "code",
        "colab": {
          "base_uri": "https://localhost:8080/",
          "height": 73
        },
        "outputId": "ad597303-929a-4182-ca2c-866752a8fa7c"
      },
      "source": [
        "class_gen"
      ],
      "execution_count": 30,
      "outputs": [
        {
          "output_type": "execute_result",
          "data": {
            "text/plain": [
              "{'setosa': {'max': 5.8, 'min': 4.3},\n",
              " 'versicolor': {'max': 7.0, 'min': 4.9},\n",
              " 'virginica': {'max': 7.7, 'min': 4.9}}"
            ]
          },
          "metadata": {
            "tags": []
          },
          "execution_count": 30
        }
      ]
    },
    {
      "cell_type": "markdown",
      "metadata": {
        "id": "kUPYafIZAFjx",
        "colab_type": "text"
      },
      "source": [
        "The limits do not look good. Let's see its performance."
      ]
    },
    {
      "cell_type": "code",
      "metadata": {
        "id": "I0rWWHBj_-og",
        "colab_type": "code",
        "colab": {
          "base_uri": "https://localhost:8080/",
          "height": 36
        },
        "outputId": "e2df9717-3de8-4ce1-b802-3cc01a0e2946"
      },
      "source": [
        "calculate_accuracy(validation_set, class_gen)"
      ],
      "execution_count": 31,
      "outputs": [
        {
          "output_type": "execute_result",
          "data": {
            "text/plain": [
              "53.333333333333336"
            ]
          },
          "metadata": {
            "tags": []
          },
          "execution_count": 31
        }
      ]
    },
    {
      "cell_type": "markdown",
      "metadata": {
        "id": "HcuNDcSLAcJi",
        "colab_type": "text"
      },
      "source": [
        "That is nowhere near good."
      ]
    },
    {
      "cell_type": "code",
      "metadata": {
        "id": "tLzSYCuVAZrC",
        "colab_type": "code",
        "colab": {
          "base_uri": "https://localhost:8080/",
          "height": 36
        },
        "outputId": "2c2b368c-e75c-44fb-91be-6aa5f9309c66"
      },
      "source": [
        "calculate_accuracy(test_set, class_gen)"
      ],
      "execution_count": 32,
      "outputs": [
        {
          "output_type": "execute_result",
          "data": {
            "text/plain": [
              "58.333333333333336"
            ]
          },
          "metadata": {
            "tags": []
          },
          "execution_count": 32
        }
      ]
    },
    {
      "cell_type": "code",
      "metadata": {
        "id": "uDkpPyF7BLFI",
        "colab_type": "code",
        "colab": {
          "base_uri": "https://localhost:8080/",
          "height": 36
        },
        "outputId": "c3f3ba31-eea7-4048-8c35-0fe1f1965d87"
      },
      "source": [
        "feature_value = test_set[random.randint(0,len(test_set)-1)][0]\n",
        "print(\"Flower of Sepal length {} is {}\".format(feature_value,predict_class(class_gen, feature_value)))"
      ],
      "execution_count": 33,
      "outputs": [
        {
          "output_type": "stream",
          "text": [
            "Flower of Sepal length 4.4 is setosa\n"
          ],
          "name": "stdout"
        }
      ]
    },
    {
      "cell_type": "markdown",
      "metadata": {
        "id": "0YkAjQsyBmGt",
        "colab_type": "text"
      },
      "source": [
        "But with an accuracy so low, we can't really trust this model.\\\n",
        "Let's check about other features."
      ]
    },
    {
      "cell_type": "markdown",
      "metadata": {
        "id": "eoBSlU1rB3Ql",
        "colab_type": "text"
      },
      "source": [
        "**Sepal width**"
      ]
    },
    {
      "cell_type": "code",
      "metadata": {
        "id": "VA9L8c5NBYKG",
        "colab_type": "code",
        "colab": {
          "base_uri": "https://localhost:8080/",
          "height": 73
        },
        "outputId": "09eeebc8-9fe8-43bb-c2cb-4c967e05d797"
      },
      "source": [
        "class_gen = {}\n",
        "for class_name in class_names:\n",
        "  class_gen[class_name] = {\"min\":10, \"max\":0.1}\n",
        "\n",
        "numpy_dataset = dataset[[\"sepal_width\",\"species\"]].to_numpy()\n",
        "from sklearn.model_selection import train_test_split\n",
        "train_set, validation_set = train_test_split(numpy_dataset, test_size=0.2, random_state=42)\n",
        "train_set, test_set = train_test_split(train_set, test_size=0.2, random_state=42)\n",
        "\n",
        "class_gen = model_trainer(train_set, class_gen)\n",
        "class_gen"
      ],
      "execution_count": 34,
      "outputs": [
        {
          "output_type": "execute_result",
          "data": {
            "text/plain": [
              "{'setosa': {'max': 4.4, 'min': 2.9},\n",
              " 'versicolor': {'max': 3.2, 'min': 2.0},\n",
              " 'virginica': {'max': 3.8, 'min': 2.2}}"
            ]
          },
          "metadata": {
            "tags": []
          },
          "execution_count": 34
        }
      ]
    },
    {
      "cell_type": "code",
      "metadata": {
        "id": "KuLzDm1RCGrz",
        "colab_type": "code",
        "colab": {
          "base_uri": "https://localhost:8080/",
          "height": 36
        },
        "outputId": "3335b659-149a-41aa-c18a-5a348ebec95e"
      },
      "source": [
        "calculate_accuracy(validation_set, class_gen)"
      ],
      "execution_count": 35,
      "outputs": [
        {
          "output_type": "execute_result",
          "data": {
            "text/plain": [
              "53.333333333333336"
            ]
          },
          "metadata": {
            "tags": []
          },
          "execution_count": 35
        }
      ]
    },
    {
      "cell_type": "code",
      "metadata": {
        "id": "trww9PMTCWd3",
        "colab_type": "code",
        "colab": {
          "base_uri": "https://localhost:8080/",
          "height": 36
        },
        "outputId": "1e637302-3aa2-4465-e882-382dba676e8a"
      },
      "source": [
        "calculate_accuracy(test_set, class_gen)"
      ],
      "execution_count": 36,
      "outputs": [
        {
          "output_type": "execute_result",
          "data": {
            "text/plain": [
              "58.333333333333336"
            ]
          },
          "metadata": {
            "tags": []
          },
          "execution_count": 36
        }
      ]
    },
    {
      "cell_type": "code",
      "metadata": {
        "id": "nqTQRlIzCaFM",
        "colab_type": "code",
        "colab": {
          "base_uri": "https://localhost:8080/",
          "height": 36
        },
        "outputId": "5f431e35-e877-4964-b5bf-8769bf19d4b3"
      },
      "source": [
        "feature_value = test_set[random.randint(0,len(test_set)-1)][0]\n",
        "print(\"Flower of Sepal width {} is {}\".format(feature_value,predict_class(class_gen, feature_value)))"
      ],
      "execution_count": 37,
      "outputs": [
        {
          "output_type": "stream",
          "text": [
            "Flower of Sepal width 2.3 is versicolor\n"
          ],
          "name": "stdout"
        }
      ]
    },
    {
      "cell_type": "markdown",
      "metadata": {
        "id": "ZhJqfkMpCzqW",
        "colab_type": "text"
      },
      "source": [
        "**Petal Width**"
      ]
    },
    {
      "cell_type": "code",
      "metadata": {
        "id": "Wye9fQkuCiXw",
        "colab_type": "code",
        "colab": {
          "base_uri": "https://localhost:8080/",
          "height": 73
        },
        "outputId": "c91d5db6-3e2b-45d1-b2d9-7e5a91a16ce8"
      },
      "source": [
        "class_gen = {}\n",
        "for class_name in class_names:\n",
        "  class_gen[class_name] = {\"min\":10, \"max\":0.1}\n",
        "\n",
        "numpy_dataset = dataset[[\"petal_width\",\"species\"]].to_numpy()\n",
        "from sklearn.model_selection import train_test_split\n",
        "train_set, validation_set = train_test_split(numpy_dataset, test_size=0.2, random_state=42)\n",
        "train_set, test_set = train_test_split(train_set, test_size=0.2, random_state=42)\n",
        "\n",
        "class_gen = model_trainer(train_set, class_gen)\n",
        "class_gen"
      ],
      "execution_count": 38,
      "outputs": [
        {
          "output_type": "execute_result",
          "data": {
            "text/plain": [
              "{'setosa': {'max': 0.6, 'min': 0.1},\n",
              " 'versicolor': {'max': 1.8, 'min': 1.0},\n",
              " 'virginica': {'max': 2.5, 'min': 1.4}}"
            ]
          },
          "metadata": {
            "tags": []
          },
          "execution_count": 38
        }
      ]
    },
    {
      "cell_type": "code",
      "metadata": {
        "id": "8hI_YH9TC5oi",
        "colab_type": "code",
        "colab": {
          "base_uri": "https://localhost:8080/",
          "height": 36
        },
        "outputId": "a7c00950-df6a-423b-9256-77de3948ef64"
      },
      "source": [
        "calculate_accuracy(validation_set, class_gen)"
      ],
      "execution_count": 39,
      "outputs": [
        {
          "output_type": "execute_result",
          "data": {
            "text/plain": [
              "93.33333333333333"
            ]
          },
          "metadata": {
            "tags": []
          },
          "execution_count": 39
        }
      ]
    },
    {
      "cell_type": "code",
      "metadata": {
        "id": "G6CEW2DPC_Vz",
        "colab_type": "code",
        "colab": {
          "base_uri": "https://localhost:8080/",
          "height": 36
        },
        "outputId": "655cef41-3bc8-4639-bb71-00b5a86e40e4"
      },
      "source": [
        "calculate_accuracy(test_set, class_gen)"
      ],
      "execution_count": 40,
      "outputs": [
        {
          "output_type": "execute_result",
          "data": {
            "text/plain": [
              "91.66666666666666"
            ]
          },
          "metadata": {
            "tags": []
          },
          "execution_count": 40
        }
      ]
    },
    {
      "cell_type": "code",
      "metadata": {
        "id": "PtAzuiV_DCRl",
        "colab_type": "code",
        "colab": {
          "base_uri": "https://localhost:8080/",
          "height": 36
        },
        "outputId": "0ba0fd47-37c9-4c9a-f9bc-905e4c19334d"
      },
      "source": [
        "feature_value = test_set[random.randint(0,len(test_set)-1)][0]\n",
        "print(\"Flower of Petal width {} is {}\".format(feature_value,predict_class(class_gen, feature_value)))"
      ],
      "execution_count": 41,
      "outputs": [
        {
          "output_type": "stream",
          "text": [
            "Flower of Petal width 1.3 is versicolor\n"
          ],
          "name": "stdout"
        }
      ]
    },
    {
      "cell_type": "markdown",
      "metadata": {
        "id": "6EvJE5ogEUQ2",
        "colab_type": "text"
      },
      "source": [
        "# **Discussion**"
      ]
    },
    {
      "cell_type": "markdown",
      "metadata": {
        "id": "maJXgTZOFS_I",
        "colab_type": "text"
      },
      "source": [
        "So, from the observation above, it is pretty clear that the features **petal_length** and **petal_width** are self-sufficient to classify the iris dataset, though using **petal_width** resulted in higher accuracy on test data."
      ]
    },
    {
      "cell_type": "code",
      "metadata": {
        "id": "KsrndzqwDM7G",
        "colab_type": "code",
        "colab": {}
      },
      "source": [
        ""
      ],
      "execution_count": 41,
      "outputs": []
    }
  ]
}
